{
 "cells": [
  {
   "cell_type": "code",
   "execution_count": 1,
   "metadata": {},
   "outputs": [
    {
     "name": "stdout",
     "output_type": "stream",
     "text": [
      "/Users/Tom/Documents/projects/pinging/spiking_visnet/scripts\n",
      "/Users/Tom/Documents/projects/pinging/spiking_visnet\n"
     ]
    }
   ],
   "source": [
    "# The script should operate from the repository's parent directory.\n",
    "import os\n",
    "print(os.getcwd())\n",
    "os.chdir('..')\n",
    "print(os.getcwd())"
   ]
  },
  {
   "cell_type": "code",
   "execution_count": null,
   "metadata": {
    "collapsed": true
   },
   "outputs": [],
   "source": [
    "import spiking_visnet.plot as pl\n",
    "from spiking_visnet.utils.sparsify import save_as_sparse\n",
    "from spiking_visnet.analysis import utils as an_utils\n",
    "from spiking_visnet.analysis import input_encoding as an_inp\n",
    "from spiking_visnet.analysis import activity as an_activity\n",
    "from spiking_visnet import save"
   ]
  },
  {
   "cell_type": "code",
   "execution_count": null,
   "metadata": {
    "collapsed": true
   },
   "outputs": [],
   "source": [
    "output_dir = 'output/default'"
   ]
  },
  {
   "cell_type": "markdown",
   "metadata": {},
   "source": [
    "# Run:\n",
    "\n",
    "```\n",
    "python -m spiking_visnet scripts/tests_stdp/params/default.yml -i scripts/tests_stdp/input -o scripts/tests_stdp/output\n",
    "```"
   ]
  },
  {
   "cell_type": "markdown",
   "metadata": {},
   "source": [
    "# Plot results"
   ]
  },
  {
   "cell_type": "markdown",
   "metadata": {},
   "source": [
    "### Activity movies"
   ]
  },
  {
   "cell_type": "code",
   "execution_count": null,
   "metadata": {
    "collapsed": true
   },
   "outputs": [],
   "source": [
    "#Plot stim\n",
    "session_name = 'learning'\n",
    "\n",
    "# Load first filter of full_stim\n",
    "stim = save.load_session_stim(output_dir, session_name)\n",
    "stim = stim[:,0,:,:]\n",
    "p = pl.init()\n",
    "pl.animate(p, stim, fps=100)"
   ]
  },
  {
   "cell_type": "code",
   "execution_count": null,
   "metadata": {
    "collapsed": true
   },
   "outputs": [],
   "source": [
    "#plot input layer\n",
    "layer = 'input_layer'\n",
    "pop = 'parrot_neuron'\n",
    "\n",
    "arr = save.load_activity(output_dir, layer, pop)\n",
    "p = pl.init()\n",
    "pl.animate(p, arr, fps=100)"
   ]
  },
  {
   "cell_type": "code",
   "execution_count": null,
   "metadata": {
    "collapsed": true
   },
   "outputs": [],
   "source": [
    "#plot exc layer\n",
    "layer = 'l1'\n",
    "pop = 'l1_exc'\n",
    "variable = 'spikes'\n",
    "arr = save.load_activity(output_dir, layer, pop)\n",
    "p = pl.init()\n",
    "pl.animate(p, arr, fps=100)"
   ]
  },
  {
   "cell_type": "code",
   "execution_count": null,
   "metadata": {
    "collapsed": true
   },
   "outputs": [],
   "source": [
    "#plot inh layer\n",
    "layer = 'l1'\n",
    "pop = 'l1_inh'\n",
    "variable = 'spikes'\n",
    "arr = save.load_activity(output_dir, layer, pop)\n",
    "p = pl.init()\n",
    "pl.animate(p, arr, fps=100)"
   ]
  },
  {
   "cell_type": "markdown",
   "metadata": {},
   "source": [
    "### Plot mean activity"
   ]
  },
  {
   "cell_type": "code",
   "execution_count": null,
   "metadata": {
    "collapsed": true
   },
   "outputs": [],
   "source": [
    "# Define which variable we plot and analyse\n",
    "variable = 'spikes'\n",
    "# Define which session we plot and analyse.\n",
    "# The data considered is the data from the start of the earliest session to the end of the latest\n",
    "plot_sessions = ['warmup', 'learning']\n",
    "rate_sessions = ['learning']\n",
    "cv_sessions = ['learning']"
   ]
  },
  {
   "cell_type": "code",
   "execution_count": null,
   "metadata": {
    "collapsed": true
   },
   "outputs": [],
   "source": [
    "# Get times\n",
    "session_times = save.load_session_times(output_dir)\n",
    "def union_session_times(sessions):\n",
    "    \"\"\"Return range between earliest and latest time of the sessions in the list\"\"\"\n",
    "    session_range_list = [session_times[session] for session in sessions]\n",
    "    return range(min([min(times) for times in session_range_list]),\n",
    "                 max([max(times) for times in session_range_list]) + 1)\n",
    "\n",
    "plot_period = union_session_times(plot_sessions)\n",
    "rate_period = union_session_times(rate_sessions)\n",
    "cv_period = union_session_times(cv_sessions)"
   ]
  },
  {
   "cell_type": "code",
   "execution_count": null,
   "metadata": {
    "collapsed": true
   },
   "outputs": [],
   "source": [
    "# Input layer\n",
    "\n",
    "inp = an_utils.load_activity('input_layer', 'parrot_neuron', output_dir)\n",
    "\n",
    "print('Activity raster-plot:')\n",
    "pl.show_activity_raster(inp[plot_period], plot_cols=[0,1])\n",
    "\n",
    "print('Firing rate:')\n",
    "rates = an_activity.firing_rate(inp[rate_period])\n",
    "pl.show_mean_min_max(rates)\n",
    "\n",
    "print('CV distribution:')\n",
    "pl.show_distribution(an_activity.all_cv(inp))"
   ]
  },
  {
   "cell_type": "code",
   "execution_count": null,
   "metadata": {
    "collapsed": true
   },
   "outputs": [],
   "source": [
    "# l1_exc\n",
    "\n",
    "l1_exc = an_utils.load_activity('l1', 'l1_exc', output_dir)\n",
    "\n",
    "print('Activity raster-plot:')\n",
    "pl.show_activity_raster(l1_exc[plot_period])\n",
    "\n",
    "print('Firing rate:')\n",
    "rates = an_activity.firing_rate(l1_exc[rate_period])\n",
    "pl.show_mean_min_max(rates)\n",
    "\n",
    "print('CV distribution:')\n",
    "pl.show_distribution(an_activity.all_cv(l1_exc))"
   ]
  },
  {
   "cell_type": "code",
   "execution_count": null,
   "metadata": {
    "collapsed": true,
    "scrolled": true
   },
   "outputs": [],
   "source": [
    "l1_inh = an_utils.load_activity('l1', 'l1_inh', output_dir, variable=plot_variable)\n",
    "\n",
    "print('Activity raster-plot:')\n",
    "pl.show_activity_raster(l1_inh[plot_period])\n",
    "\n",
    "print('Firing rate:')\n",
    "rates = an_activity.firing_rate(l1_inh[rate_period])\n",
    "pl.show_mean_min_max(rates)\n",
    "\n",
    "print('CV distribution:')\n",
    "# pl.show_distribution(np.ones((2,2)))\n",
    "pl.show_distribution(an_activity.all_cv(l1_inh[cv_period]))"
   ]
  },
  {
   "cell_type": "markdown",
   "metadata": {},
   "source": [
    "### Plot synapses "
   ]
  },
  {
   "cell_type": "code",
   "execution_count": null,
   "metadata": {
    "collapsed": true
   },
   "outputs": [],
   "source": [
    "#Load input connections\n",
    "synapses_filename = 'synapses_from_input_layer_parrot_neuron_to_l1_l1_exc_weight.npy'\n",
    "synapses = np.load(join(output_dir, synapses_filename))"
   ]
  },
  {
   "cell_type": "code",
   "execution_count": null,
   "metadata": {
    "collapsed": true
   },
   "outputs": [],
   "source": [
    "print('All input synapses, by units of target layer:')\n",
    "pl.show_array_of_images(synapses, plot_rows=range(5), plot_cols=range(5))"
   ]
  },
  {
   "cell_type": "code",
   "execution_count": null,
   "metadata": {
    "collapsed": true
   },
   "outputs": [],
   "source": [
    "print('All synapses to all units: ')\n",
    "pl.show_distribution(synapses, min_value=0)"
   ]
  },
  {
   "cell_type": "markdown",
   "metadata": {},
   "source": [
    "## Train/test accuracy: predict using mean activity of a pool of neurons"
   ]
  },
  {
   "cell_type": "code",
   "execution_count": null,
   "metadata": {
    "collapsed": true
   },
   "outputs": [],
   "source": [
    "pretest_session_name = 'warmup'\n",
    "test_session_name = 'learning'\n",
    "activity_filename = 'l1_l1_exc_spikes.npy'\n",
    "time_per_movie = 10\n",
    "\n",
    "# Load labels\n",
    "labels_pretest = save.load_labels(output_dir, pretest_session_name)\n",
    "labels_test = save.load_labels(output_dir, test_session_name)\n",
    "\n",
    "# Load full activity\n",
    "activity = np.load(join(output_dir, activity_filename))\n",
    "# Load session times to get session activity\n",
    "session_times = save.load_session_times(output_dir)\n",
    "activity_pretest = activity[session_times[pretest_session_name]]\n",
    "activity_test = activity[session_times[test_session_name]]"
   ]
  },
  {
   "cell_type": "code",
   "execution_count": null,
   "metadata": {
    "collapsed": true
   },
   "outputs": [],
   "source": [
    "# Get the preferred label of each unit\n",
    "best_label = an.get_best_label(activity_pretest, labels_pretest)\n",
    "\n",
    "# How many units prefer each label?\n",
    "unique_bests, count = np.unique(best_label, return_counts=True)\n",
    "print('is this balanced? ', count)"
   ]
  },
  {
   "cell_type": "code",
   "execution_count": null,
   "metadata": {
    "collapsed": true
   },
   "outputs": [],
   "source": [
    "acc = an.test_network_predictions(activity_test, labels_test, best_label, time_per_movie)\n",
    "print(acc)"
   ]
  }
 ],
 "metadata": {
  "kernelspec": {
   "display_name": "Python 3",
   "language": "python",
   "name": "python3"
  },
  "language_info": {
   "codemirror_mode": {
    "name": "ipython",
    "version": 3
   },
   "file_extension": ".py",
   "mimetype": "text/x-python",
   "name": "python",
   "nbconvert_exporter": "python",
   "pygments_lexer": "ipython3",
   "version": "3.6.1"
  }
 },
 "nbformat": 4,
 "nbformat_minor": 2
}
