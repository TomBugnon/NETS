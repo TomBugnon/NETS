{
 "cells": [
  {
   "cell_type": "markdown",
   "metadata": {},
   "source": [
    "# Change the network's state\n",
    "\n",
    "deNEST provides a convenient way of modifying the state of some units within a network with the `Layer.set_state` and `Network.set_state` methods\n",
    "\n",
    "- `Network.set_state` and `Layer.set_state` support __constant__, __multiplicative__ or __additive__ changes (`change_type` parameter)\n",
    "- We can apply the same change for all units of the layer/population, or provide an array the same shape as the population to perform specific changes for each unit (`from_array` parameter). The array can be directly provided or loaded from file\n",
    "\n",
    "In this tutorial we:\n",
    "1. Change the state of units within a single population with the `Layer.set_state` method\n",
    "    1. Option 1 (`'from_array' == False`): provide a single value , used to change the state of all units of a layer or population\n",
    "        1. 'constant' changes\n",
    "        2. 'multiplicative' changes\n",
    "        3. 'additive' changes\n",
    "    1. Option 2 (`'from_array' == True`): provide an array of values, mapped to units in the population\n",
    "        1. User can provide an np-array directly\n",
    "        2. ..Or  the path to a np-array\n",
    "\n",
    "1. Change the state of multiple populations at once with the `Network.set_state` method"
   ]
  },
  {
   "cell_type": "code",
   "execution_count": 1,
   "metadata": {},
   "outputs": [
    {
     "name": "stdout",
     "output_type": "stream",
     "text": [
      "The autoreload extension is already loaded. To reload it, use:\n",
      "  %reload_ext autoreload\n"
     ]
    }
   ],
   "source": [
    "%load_ext autoreload\n",
    "%autoreload 2\n",
    "\n",
    "import nest\n",
    "import yaml\n",
    "from pathlib import Path\n",
    "from pprint import pprint\n",
    "\n",
    "from denest import *\n",
    "import denest\n",
    "\n",
    "PARAMS_DIR = Path('./data_tuto/params')\n",
    "OUTPUT_DIR = Path('./data_tuto/output')"
   ]
  },
  {
   "cell_type": "code",
   "execution_count": 2,
   "metadata": {},
   "outputs": [],
   "source": [
    "# net.set_state??"
   ]
  },
  {
   "cell_type": "markdown",
   "metadata": {},
   "source": [
    "# 1- Change the state of units within a population: `Layer.set_state`"
   ]
  },
  {
   "cell_type": "code",
   "execution_count": 3,
   "metadata": {},
   "outputs": [
    {
     "name": "stderr",
     "output_type": "stream",
     "text": [
      "2020-06-21 21:59:29,670 [denest.network] INFO: Build N=2 ``Model`` objects\n",
      "2020-06-21 21:59:29,671 [denest.network] INFO: Build N=2 ``SynapseModel`` objects\n",
      "2020-06-21 21:59:29,673 [denest.network] INFO: Build N=3 ``Model`` objects\n",
      "2020-06-21 21:59:29,674 [denest.network] INFO: Build N=2 ``Layer`` or ``InputLayer`` objects.\n",
      "2020-06-21 21:59:29,682 [denest.utils.validation] INFO: Object `conn_1_AMPA`: params: using default value for optional parameters:\n",
      "{'type': 'topological'}\n",
      "2020-06-21 21:59:29,685 [denest.utils.validation] INFO: Object `conn_2_GABAA`: params: using default value for optional parameters:\n",
      "{'type': 'topological'}\n",
      "2020-06-21 21:59:29,686 [denest.network] INFO: Build N=2 ``ConnectionModel`` objects\n",
      "2020-06-21 21:59:29,691 [denest.network] INFO: Build N=3 ``TopoConnection`` objects\n",
      "2020-06-21 21:59:29,694 [denest.network] INFO: Build N=2 population recorders.\n",
      "2020-06-21 21:59:29,697 [denest.network] INFO: Build N=1 connection recorders.\n",
      "2020-06-21 21:59:29,701 [denest.network] INFO: Build N=3 ``TopoConnection`` objects\n",
      "2020-06-21 21:59:29,713 [denest.network] INFO: Build N=2 population recorders.\n",
      "2020-06-21 21:59:29,722 [denest.network] INFO: Build N=1 connection recorders.\n",
      "2020-06-21 21:59:29,726 [denest.network] INFO: Creating neuron models...\n",
      "100%|██████████| 2/2 [00:00<00:00, 409.60it/s]\n",
      "2020-06-21 21:59:29,818 [denest.network] INFO: Creating synapse models...\n",
      "100%|██████████| 2/2 [00:00<00:00, 1908.24it/s]\n",
      "2020-06-21 21:59:29,925 [denest.network] INFO: Creating recorder models...\n",
      "100%|██████████| 3/3 [00:00<00:00, 1601.69it/s]\n",
      "2020-06-21 21:59:29,931 [denest.network] INFO: Creating layers...\n",
      "  0%|          | 0/2 [00:00<?, ?it/s]/Users/tom/nest/nest-simulator-2.20.0/lib/python3.7/site-packages/nest/lib/hl_api_helper.py:127: UserWarning:\n",
      "GetNodes is deprecated and will be removed in NEST 3.0. Use             GIDCollection instead.\n",
      "100%|██████████| 2/2 [00:00<00:00, 10.10it/s]\n",
      "2020-06-21 21:59:30,138 [denest.network] INFO: Creating population recorders...\n",
      "100%|██████████| 2/2 [00:00<00:00, 59.52it/s]\n",
      "2020-06-21 21:59:30,177 [denest.network] INFO: Creating connection recorders...\n",
      "100%|██████████| 1/1 [00:00<00:00, 382.83it/s]\n",
      "2020-06-21 21:59:30,212 [denest.network] INFO: Connecting layers...\n",
      "100%|██████████| 3/3 [00:00<00:00, 524.20it/s]\n",
      "2020-06-21 21:59:30,231 [denest.network] INFO: Network size (including recorders and parrot neurons):\n",
      "Number of nodes: 206\n",
      "Number of connections: 6650\n"
     ]
    }
   ],
   "source": [
    "nest.ResetKernel()\n",
    "net = Network(ParamsTree.read(PARAMS_DIR/'network_tree.yml'))\n",
    "net.create()"
   ]
  },
  {
   "cell_type": "code",
   "execution_count": 4,
   "metadata": {},
   "outputs": [
    {
     "name": "stdout",
     "output_type": "stream",
     "text": [
      "layer shape:  (5, 5)\n",
      "population shapes:  {'l1_exc': (5, 5, 4), 'l1_inh': (5, 5, 2)}\n"
     ]
    }
   ],
   "source": [
    "layer_name = 'l1'\n",
    "population_name = 'l1_exc'\n",
    "\n",
    "layer = net.layers['l1']\n",
    "\n",
    "print('layer shape: ', layer.shape)\n",
    "print('population shapes: ', layer.population_shape)"
   ]
  },
  {
   "cell_type": "markdown",
   "metadata": {},
   "source": [
    "## Option 1: provide a single value, used to change the state of all units of a layer or population\n",
    "\n",
    "`'from_array'==False` in in `Layer.set_state`"
   ]
  },
  {
   "cell_type": "markdown",
   "metadata": {},
   "source": [
    "### \"constant\" change type"
   ]
  },
  {
   "cell_type": "code",
   "execution_count": 5,
   "metadata": {},
   "outputs": [],
   "source": [
    "nest_params = {\n",
    "    'V_m': -69.0,\n",
    "    'g_peak_AMPA': 0.2,\n",
    "}"
   ]
  },
  {
   "cell_type": "code",
   "execution_count": 6,
   "metadata": {},
   "outputs": [
    {
     "name": "stdout",
     "output_type": "stream",
     "text": [
      "Unique values for l1_exc:  {'V_m': {-44.0}, 'g_peak_AMPA': {0.1}}\n",
      "Unique values for l1_inh:  {'V_m': {-55.0}, 'g_peak_AMPA': {0.1}}\n"
     ]
    }
   ],
   "source": [
    "print('Unique values for l1_exc: ', { param: set(nest.GetStatus(layer.gids(population='l1_exc'), param)) for param in nest_params.keys()} )\n",
    "print('Unique values for l1_inh: ', { param: set(nest.GetStatus(layer.gids(population='l1_inh'), param)) for param in nest_params.keys()} )"
   ]
  },
  {
   "cell_type": "code",
   "execution_count": 7,
   "metadata": {},
   "outputs": [
    {
     "name": "stderr",
     "output_type": "stream",
     "text": [
      "2020-06-21 21:59:30,491 [denest.network.layers] INFO: Layer='l1', pop='l1_exc': Applying 'constant' change, param='V_m', from single value')\n",
      "2020-06-21 21:59:30,493 [denest.network.layers] INFO: Layer='l1', pop='l1_exc': Applying 'constant' change, param='g_peak_AMPA', from single value')\n"
     ]
    }
   ],
   "source": [
    "# Change param for a single population\n",
    "\n",
    "layer.set_state(\n",
    "    nest_params=nest_params,\n",
    "    population_name='l1_exc',\n",
    "    change_type='constant',\n",
    "    from_array=False,\n",
    ")"
   ]
  },
  {
   "cell_type": "code",
   "execution_count": 8,
   "metadata": {},
   "outputs": [
    {
     "name": "stdout",
     "output_type": "stream",
     "text": [
      "Unique values for l1_exc:  {'V_m': {-69.0}, 'g_peak_AMPA': {0.2}}\n",
      "Unique values for l1_inh:  {'V_m': {-55.0}, 'g_peak_AMPA': {0.1}}\n"
     ]
    }
   ],
   "source": [
    "print('Unique values for l1_exc: ', { param: set(nest.GetStatus(layer.gids(population='l1_exc'), param)) for param in nest_params.keys()} )\n",
    "print('Unique values for l1_inh: ', { param: set(nest.GetStatus(layer.gids(population='l1_inh'), param)) for param in nest_params.keys()} )"
   ]
  },
  {
   "cell_type": "code",
   "execution_count": 9,
   "metadata": {},
   "outputs": [
    {
     "name": "stderr",
     "output_type": "stream",
     "text": [
      "2020-06-21 21:59:31,536 [denest.network.layers] INFO: Layer='l1', pop='l1_exc': Applying 'constant' change, param='V_m', from single value')\n",
      "2020-06-21 21:59:31,538 [denest.network.layers] INFO: Layer='l1', pop='l1_exc': Applying 'constant' change, param='g_peak_AMPA', from single value')\n",
      "2020-06-21 21:59:32,444 [denest.network.layers] INFO: Layer='l1', pop='l1_inh': Applying 'constant' change, param='V_m', from single value')\n",
      "2020-06-21 21:59:32,445 [denest.network.layers] INFO: Layer='l1', pop='l1_inh': Applying 'constant' change, param='g_peak_AMPA', from single value')\n"
     ]
    }
   ],
   "source": [
    "# Change param for  all populations\n",
    "\n",
    "layer.set_state(\n",
    "    nest_params=nest_params,\n",
    "    population_name=None,\n",
    "#     population_name='l1_inh',\n",
    "    change_type='constant',\n",
    "    from_array=False,\n",
    ")"
   ]
  },
  {
   "cell_type": "code",
   "execution_count": 10,
   "metadata": {},
   "outputs": [
    {
     "name": "stdout",
     "output_type": "stream",
     "text": [
      "Unique values for l1_exc:  {'V_m': {-69.0}, 'g_peak_AMPA': {0.2}}\n",
      "Unique values for l1_inh:  {'V_m': {-69.0}, 'g_peak_AMPA': {0.2}}\n"
     ]
    }
   ],
   "source": [
    "print('Unique values for l1_exc: ', { param: set(nest.GetStatus(layer.gids(population='l1_exc'), param)) for param in nest_params.keys()} )\n",
    "print('Unique values for l1_inh: ', { param: set(nest.GetStatus(layer.gids(population='l1_inh'), param)) for param in nest_params.keys()} )"
   ]
  },
  {
   "cell_type": "markdown",
   "metadata": {},
   "source": [
    "### \"multiplicative\" change "
   ]
  },
  {
   "cell_type": "code",
   "execution_count": 11,
   "metadata": {},
   "outputs": [],
   "source": [
    "# Double the value\n",
    "nest_params = {\n",
    "    'g_peak_AMPA': 2.0,\n",
    "}"
   ]
  },
  {
   "cell_type": "code",
   "execution_count": 12,
   "metadata": {},
   "outputs": [
    {
     "name": "stdout",
     "output_type": "stream",
     "text": [
      "Unique values for l1_exc:  {'g_peak_AMPA': {0.2}}\n",
      "Unique values for l1_inh:  {'g_peak_AMPA': {0.2}}\n"
     ]
    }
   ],
   "source": [
    "print('Unique values for l1_exc: ', { param: set(nest.GetStatus(layer.gids(population='l1_exc'), param)) for param in nest_params.keys()} )\n",
    "print('Unique values for l1_inh: ', { param: set(nest.GetStatus(layer.gids(population='l1_inh'), param)) for param in nest_params.keys()} )"
   ]
  },
  {
   "cell_type": "code",
   "execution_count": 13,
   "metadata": {},
   "outputs": [
    {
     "name": "stderr",
     "output_type": "stream",
     "text": [
      "2020-06-21 21:59:33,329 [denest.network.layers] INFO: Layer='l1', pop='l1_exc': Applying 'multiplicative' change, param='g_peak_AMPA', from single value')\n",
      "2020-06-21 21:59:34,216 [denest.network.layers] INFO: Layer='l1', pop='l1_inh': Applying 'multiplicative' change, param='g_peak_AMPA', from single value')\n"
     ]
    }
   ],
   "source": [
    "# Change param for a single population\n",
    "\n",
    "layer.set_state(\n",
    "    nest_params=nest_params,\n",
    "    population_name=None,\n",
    "    change_type='multiplicative',\n",
    "    from_array=False,\n",
    ")"
   ]
  },
  {
   "cell_type": "code",
   "execution_count": 14,
   "metadata": {},
   "outputs": [
    {
     "name": "stdout",
     "output_type": "stream",
     "text": [
      "Unique values for l1_exc:  {'g_peak_AMPA': {0.4}}\n",
      "Unique values for l1_inh:  {'g_peak_AMPA': {0.4}}\n"
     ]
    }
   ],
   "source": [
    "print('Unique values for l1_exc: ', { param: set(nest.GetStatus(layer.gids(population='l1_exc'), param)) for param in nest_params.keys()} )\n",
    "print('Unique values for l1_inh: ', { param: set(nest.GetStatus(layer.gids(population='l1_inh'), param)) for param in nest_params.keys()} )"
   ]
  },
  {
   "cell_type": "markdown",
   "metadata": {},
   "source": [
    "### \"additive\" change "
   ]
  },
  {
   "cell_type": "code",
   "execution_count": 15,
   "metadata": {},
   "outputs": [],
   "source": [
    "# Double the value\n",
    "nest_params = {\n",
    "    'V_m': 5.0,\n",
    "}"
   ]
  },
  {
   "cell_type": "code",
   "execution_count": 16,
   "metadata": {},
   "outputs": [
    {
     "name": "stdout",
     "output_type": "stream",
     "text": [
      "Unique values for l1_exc:  {'V_m': {-69.0}}\n",
      "Unique values for l1_inh:  {'V_m': {-69.0}}\n"
     ]
    }
   ],
   "source": [
    "print('Unique values for l1_exc: ', { param: set(nest.GetStatus(layer.gids(population='l1_exc'), param)) for param in nest_params.keys()} )\n",
    "print('Unique values for l1_inh: ', { param: set(nest.GetStatus(layer.gids(population='l1_inh'), param)) for param in nest_params.keys()} )"
   ]
  },
  {
   "cell_type": "code",
   "execution_count": 17,
   "metadata": {},
   "outputs": [
    {
     "name": "stderr",
     "output_type": "stream",
     "text": [
      "2020-06-21 21:59:35,145 [denest.network.layers] INFO: Layer='l1', pop='l1_exc': Applying 'additive' change, param='V_m', from single value')\n",
      "2020-06-21 21:59:36,042 [denest.network.layers] INFO: Layer='l1', pop='l1_inh': Applying 'additive' change, param='V_m', from single value')\n"
     ]
    }
   ],
   "source": [
    "# Change param for a single population\n",
    "\n",
    "layer.set_state(\n",
    "    nest_params=nest_params,\n",
    "    population_name=None,\n",
    "    change_type='additive',\n",
    "    from_array=False,\n",
    ")"
   ]
  },
  {
   "cell_type": "code",
   "execution_count": 18,
   "metadata": {},
   "outputs": [
    {
     "name": "stdout",
     "output_type": "stream",
     "text": [
      "Unique values for l1_exc:  {'V_m': {-64.0}}\n",
      "Unique values for l1_inh:  {'V_m': {-64.0}}\n"
     ]
    }
   ],
   "source": [
    "print('Unique values for l1_exc: ', { param: set(nest.GetStatus(layer.gids(population='l1_exc'), param)) for param in nest_params.keys()} )\n",
    "print('Unique values for l1_inh: ', { param: set(nest.GetStatus(layer.gids(population='l1_inh'), param)) for param in nest_params.keys()} )"
   ]
  },
  {
   "cell_type": "markdown",
   "metadata": {},
   "source": [
    "## Option 2: provide an array the same shape as the population\n",
    "... for flexible setting of units state\n",
    "\n",
    "`'from_array'==True` in in `Layer.set_state`\n",
    "\n",
    "\n",
    "This can be used to set stimulator state arbitrarily (eg \"spike_times\" of a spike generator)"
   ]
  },
  {
   "cell_type": "markdown",
   "metadata": {},
   "source": [
    "### We can provide the array directly"
   ]
  },
  {
   "cell_type": "code",
   "execution_count": 19,
   "metadata": {},
   "outputs": [],
   "source": [
    "# Set V_m=-70 for all units except those at location [0, 0]\n",
    "\n",
    "pop_shape = layer.population_shapes['l1_exc']\n",
    "V_m_array = -70.0 * np.ones(pop_shape)\n",
    "V_m_array[0, 0, :] = -60"
   ]
  },
  {
   "cell_type": "markdown",
   "metadata": {},
   "source": [
    "### or loading the array from file\n",
    "\n",
    "The 'input_dir' kwarg sets the directory from which arrays are loaded"
   ]
  },
  {
   "cell_type": "code",
   "execution_count": 20,
   "metadata": {},
   "outputs": [
    {
     "data": {
      "text/plain": [
       "(5, 5, 4)"
      ]
     },
     "execution_count": 20,
     "metadata": {},
     "output_type": "execute_result"
    }
   ],
   "source": [
    "# Set g_peak_AMPA=0.33 for all units except those at location [0, 0]\n",
    "g_peak_AMPA_array = 0.33 * np.ones(pop_shape)\n",
    "g_peak_AMPA_array[0, 0, :] = 1.0\n",
    "\n",
    "#  save the array to file\n",
    "INPUT_DIR = Path('./data_tuto/input')\n",
    "os.makedirs(INPUT_DIR, exist_ok=True)\n",
    "array_path = INPUT_DIR/'g_peak_AMPA_array'\n",
    "np.save(INPUT_DIR/'g_peak_AMPA_array', g_peak_AMPA_array)\n",
    "\n",
    "np.load(INPUT_DIR/'g_peak_AMPA_array.npy').shape"
   ]
  },
  {
   "cell_type": "code",
   "execution_count": 21,
   "metadata": {},
   "outputs": [],
   "source": [
    "# We provide either the array or the path to an array, relative to the 'input_dir' directory\n",
    "\n",
    "nest_params = {\n",
    "    'V_m': V_m_array,\n",
    "    'g_peak_AMPA': Path('./g_peak_AMPA_array.npy'),\n",
    "}"
   ]
  },
  {
   "cell_type": "code",
   "execution_count": 22,
   "metadata": {},
   "outputs": [
    {
     "name": "stdout",
     "output_type": "stream",
     "text": [
      "Unique values for l1_exc:  {'V_m': {-64.0}, 'g_peak_AMPA': {0.4}}\n"
     ]
    }
   ],
   "source": [
    "print('Unique values for l1_exc: ', { param: set(nest.GetStatus(layer.gids(population='l1_exc'), param)) for param in nest_params.keys()} )"
   ]
  },
  {
   "cell_type": "code",
   "execution_count": 23,
   "metadata": {},
   "outputs": [
    {
     "name": "stderr",
     "output_type": "stream",
     "text": [
      "2020-06-21 21:59:37,026 [denest.network.layers] INFO: Layer='l1', pop='l1_exc': Applying 'constant' change, param='V_m', from array')\n",
      "2020-06-21 21:59:37,028 [denest.network.layers] INFO: Layer='l1', pop='l1_exc': Applying 'constant' change, param='g_peak_AMPA', from array')\n"
     ]
    }
   ],
   "source": [
    "# Change param for a single population\n",
    "\n",
    "layer.set_state(\n",
    "    nest_params=nest_params,\n",
    "    input_dir=INPUT_DIR,\n",
    "    population_name='l1_exc',\n",
    "    change_type='constant',\n",
    "    from_array=True,\n",
    ")"
   ]
  },
  {
   "cell_type": "code",
   "execution_count": 24,
   "metadata": {},
   "outputs": [
    {
     "name": "stdout",
     "output_type": "stream",
     "text": [
      "Unique values for l1_exc at location [0, 0]:  {'V_m': {-60.0}, 'g_peak_AMPA': {1.0}}\n",
      "Unique values for l1_exc at all locations:  {'V_m': {-70.0, -60.0}, 'g_peak_AMPA': {0.33, 1.0}}\n"
     ]
    }
   ],
   "source": [
    "print('Unique values for l1_exc at location [0, 0]: ', { param: set(nest.GetStatus(layer.gids(population='l1_exc', location=(0, 0)), param)) for param in nest_params.keys()} )\n",
    "print('Unique values for l1_exc at all locations: ', { param: set(nest.GetStatus(layer.gids(population='l1_exc'), param)) for param in nest_params.keys()} )"
   ]
  },
  {
   "cell_type": "markdown",
   "metadata": {},
   "source": [
    "# 2- Change the state of units throughout the Network: `Network.set_state`\n",
    "\n",
    "We can specify modifications for multiple populations at once."
   ]
  },
  {
   "cell_type": "code",
   "execution_count": 25,
   "metadata": {},
   "outputs": [
    {
     "name": "stdout",
     "output_type": "stream",
     "text": [
      "[[list([5.0]) list([1.0, 10.0]) list([1.0, 10.0]) list([1.0, 10.0])\n",
      "  list([1.0, 10.0])]\n",
      " [list([1.0, 10.0]) list([1.0, 10.0]) list([1.0, 10.0]) list([1.0, 10.0])\n",
      "  list([1.0, 10.0])]\n",
      " [list([1.0, 10.0]) list([1.0, 10.0]) list([1.0, 10.0]) list([1.0, 10.0])\n",
      "  list([1.0, 10.0])]\n",
      " [list([1.0, 10.0]) list([1.0, 10.0]) list([1.0, 10.0]) list([1.0, 10.0])\n",
      "  list([1.0, 10.0])]\n",
      " [list([1.0, 10.0]) list([1.0, 10.0]) list([1.0, 10.0]) list([1.0, 10.0])\n",
      "  list([1.0, 10.0])]]\n"
     ]
    }
   ],
   "source": [
    "# Set the input layer rates:\n",
    "\n",
    "input_layer = net.layers['input_layer']\n",
    "input_layer_shape = input_layer.population_shapes[\n",
    "    input_layer.stimulator_model\n",
    "]\n",
    "\n",
    "# Build the spike times for each unit\n",
    "\n",
    "spike_times = np.empty(input_layer_shape, dtype=np.object)\n",
    "\n",
    "# Set the same spike times for all units...\n",
    "for idx, _ in np.ndenumerate(spike_times):\n",
    "    spike_times[idx] = [1.0, 10.0]\n",
    "\n",
    "# Except one unit\n",
    "idx = (0, 0, 0)\n",
    "spike_times[idx] = [5.0]\n",
    "\n",
    "print(spike_times[:,:,0])"
   ]
  },
  {
   "cell_type": "code",
   "execution_count": 26,
   "metadata": {},
   "outputs": [
    {
     "name": "stderr",
     "output_type": "stream",
     "text": [
      "2020-06-21 21:59:38,150 [denest.network.layers] INFO: Layer='input_layer', pop='spike_generator': Applying 'constant' change, param='spike_times', from array')\n",
      "2020-06-21 21:59:38,217 [denest.network.layers] INFO: Layer='l1', pop='l1_exc': Applying 'constant' change, param='V_m', from single value')\n",
      "2020-06-21 21:59:39,137 [denest.network.layers] INFO: Layer='l1', pop='l1_inh': Applying 'constant' change, param='V_m', from single value')\n"
     ]
    }
   ],
   "source": [
    "net.set_state(\n",
    "    [\n",
    "        {\n",
    "            'layers': ['l1'],\n",
    "            'population_name': None,\n",
    "            'change_type': 'constant',\n",
    "            'from_array': False,\n",
    "            'nest_params': {\n",
    "                'V_m': -69.9\n",
    "            }\n",
    "            \n",
    "        },\n",
    "        {\n",
    "            'layers': ['input_layer'],\n",
    "            'population_name': 'spike_generator',\n",
    "            'change_type': 'constant',\n",
    "            'from_array': True,\n",
    "            'nest_params': {\n",
    "                'spike_times': spike_times,\n",
    "            }\n",
    "            \n",
    "        },\n",
    "        \n",
    "    ]\n",
    ")"
   ]
  },
  {
   "cell_type": "code",
   "execution_count": 27,
   "metadata": {},
   "outputs": [
    {
     "name": "stdout",
     "output_type": "stream",
     "text": [
      "(array([5.]), array([ 1., 10.]), array([ 1., 10.]), array([ 1., 10.]), array([ 1., 10.]), array([ 1., 10.]), array([ 1., 10.]), array([ 1., 10.]), array([ 1., 10.]), array([ 1., 10.]), array([ 1., 10.]), array([ 1., 10.]), array([ 1., 10.]), array([ 1., 10.]), array([ 1., 10.]), array([ 1., 10.]), array([ 1., 10.]), array([ 1., 10.]), array([ 1., 10.]), array([ 1., 10.]), array([ 1., 10.]), array([ 1., 10.]), array([ 1., 10.]), array([ 1., 10.]), array([ 1., 10.]))\n"
     ]
    }
   ],
   "source": [
    "# Get status of spike generators\n",
    "print(\n",
    "    nest.GetStatus(net.layers['input_layer'].gids(population='spike_generator'), 'spike_times')\n",
    ")"
   ]
  },
  {
   "cell_type": "code",
   "execution_count": 28,
   "metadata": {},
   "outputs": [
    {
     "name": "stdout",
     "output_type": "stream",
     "text": [
      "(-69.9, -69.9, -69.9, -69.9, -69.9, -69.9, -69.9, -69.9, -69.9, -69.9, -69.9, -69.9, -69.9, -69.9, -69.9, -69.9, -69.9, -69.9, -69.9, -69.9, -69.9, -69.9, -69.9, -69.9, -69.9, -69.9, -69.9, -69.9, -69.9, -69.9, -69.9, -69.9, -69.9, -69.9, -69.9, -69.9, -69.9, -69.9, -69.9, -69.9, -69.9, -69.9, -69.9, -69.9, -69.9, -69.9, -69.9, -69.9, -69.9, -69.9, -69.9, -69.9, -69.9, -69.9, -69.9, -69.9, -69.9, -69.9, -69.9, -69.9, -69.9, -69.9, -69.9, -69.9, -69.9, -69.9, -69.9, -69.9, -69.9, -69.9, -69.9, -69.9, -69.9, -69.9, -69.9, -69.9, -69.9, -69.9, -69.9, -69.9, -69.9, -69.9, -69.9, -69.9, -69.9, -69.9, -69.9, -69.9, -69.9, -69.9, -69.9, -69.9, -69.9, -69.9, -69.9, -69.9, -69.9, -69.9, -69.9, -69.9, -69.9, -69.9, -69.9, -69.9, -69.9, -69.9, -69.9, -69.9, -69.9, -69.9, -69.9, -69.9, -69.9, -69.9, -69.9, -69.9, -69.9, -69.9, -69.9, -69.9, -69.9, -69.9, -69.9, -69.9, -69.9, -69.9, -69.9, -69.9, -69.9, -69.9, -69.9, -69.9, -69.9, -69.9, -69.9, -69.9, -69.9, -69.9, -69.9, -69.9, -69.9, -69.9, -69.9, -69.9, -69.9, -69.9, -69.9, -69.9, -69.9, -69.9)\n"
     ]
    }
   ],
   "source": [
    "# Get status of l1 units\n",
    "print(\n",
    "    nest.GetStatus(net.layers['l1'].gids(), 'V_m')\n",
    ")"
   ]
  }
 ],
 "metadata": {
  "kernelspec": {
   "display_name": "nets",
   "language": "python",
   "name": "nets"
  },
  "language_info": {
   "codemirror_mode": {
    "name": "ipython",
    "version": 3
   },
   "file_extension": ".py",
   "mimetype": "text/x-python",
   "name": "python",
   "nbconvert_exporter": "python",
   "pygments_lexer": "ipython3",
   "version": "3.7.5"
  }
 },
 "nbformat": 4,
 "nbformat_minor": 4
}
