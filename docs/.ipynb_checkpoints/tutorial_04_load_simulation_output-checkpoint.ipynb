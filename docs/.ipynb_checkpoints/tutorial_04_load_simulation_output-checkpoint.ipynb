{
 "cells": [
  {
   "cell_type": "markdown",
   "metadata": {},
   "source": [
    "# Load simulation outputs"
   ]
  },
  {
   "cell_type": "code",
   "execution_count": 1,
   "metadata": {},
   "outputs": [
    {
     "name": "stdout",
     "output_type": "stream",
     "text": [
      "The autoreload extension is already loaded. To reload it, use:\n",
      "  %reload_ext autoreload\n"
     ]
    }
   ],
   "source": [
    "%load_ext autoreload\n",
    "%autoreload 2\n",
    "\n",
    "from pathlib import Path\n",
    "\n",
    "import denest.io.load"
   ]
  },
  {
   "cell_type": "code",
   "execution_count": 2,
   "metadata": {},
   "outputs": [],
   "source": [
    "OUTPUT_DIR = Path('./data_tuto/output')"
   ]
  },
  {
   "cell_type": "markdown",
   "metadata": {},
   "source": [
    "### start and end time for each session"
   ]
  },
  {
   "cell_type": "code",
   "execution_count": 3,
   "metadata": {},
   "outputs": [
    {
     "name": "stdout",
     "output_type": "stream",
     "text": [
      "{'00_warmup': (0.0, 100.0), '01_3_spikes': (100.0, 200.0), '02_2_spikes': (200.0, 300.0), '03_3_spikes': (300.0, 400.0)}\n"
     ]
    }
   ],
   "source": [
    "# Load the start and end time for each session\n",
    "session_times = denest.io.load.load_session_times(OUTPUT_DIR) \n",
    "print(session_times)  # {<session_name>: (<session_start>, <session_end>)}"
   ]
  },
  {
   "cell_type": "markdown",
   "metadata": {},
   "source": [
    "### Load data from a specific recorder."
   ]
  },
  {
   "cell_type": "markdown",
   "metadata": {},
   "source": [
    "__All relevant information about this recorder and the population it's\n",
    "connected to are contained in its metadata file__\n",
    "\n"
   ]
  },
  {
   "cell_type": "code",
   "execution_count": 4,
   "metadata": {},
   "outputs": [
    {
     "name": "stdout",
     "output_type": "stream",
     "text": [
      "Metadata : {'colnames': ['gid', 'time', 'V_m'], 'filenames': ['my_multimeter_l1_l1_exc-203-0.dat'], 'gids': [53, 54, 55, 56, 57, 58, 59, 60, 61, 62, 63, 64, 65, 66, 67, 68, 69, 70, 71, 72, 73, 74, 75, 76, 77, 78, 79, 80, 81, 82, 83, 84, 85, 86, 87, 88, 89, 90, 91, 92, 93, 94, 95, 96, 97, 98, 99, 100, 101, 102, 103, 104, 105, 106, 107, 108, 109, 110, 111, 112, 113, 114, 115, 116, 117, 118, 119, 120, 121, 122, 123, 124, 125, 126, 127, 128, 129, 130, 131, 132, 133, 134, 135, 136, 137, 138, 139, 140, 141, 142, 143, 144, 145, 146, 147, 148, 149, 150, 151, 152], 'interval': 1.0, 'label': 'my_multimeter_l1_l1_exc', 'layer_name': 'l1', 'layer_shape': (5, 5), 'locations': None, 'population_name': 'l1_exc', 'population_shape': (5, 5, 4), 'record_from': ['V_m'], 'type': 'multimeter', 'units_number': 4}\n"
     ]
    }
   ],
   "source": [
    "recorder_metadata_path = OUTPUT_DIR/'data/my_multimeter_l1_l1_exc.yml'\n",
    "\n",
    "recorder_metadata = denest.io.load.load_yaml(recorder_metadata_path)\n",
    "print(f'Metadata : {recorder_metadata}')"
   ]
  },
  {
   "cell_type": "markdown",
   "metadata": {},
   "source": [
    "#### We can load a recorder's  data as pandas dataframe by providing the path to its metadata file"
   ]
  },
  {
   "cell_type": "code",
   "execution_count": 5,
   "metadata": {},
   "outputs": [
    {
     "name": "stderr",
     "output_type": "stream",
     "text": [
      "2020-06-25 16:01:59,899 [denest.io.load] INFO: Loading metadata from data_tuto/output/data/my_multimeter_l1_l1_exc.yml\n"
     ]
    },
    {
     "name": "stdout",
     "output_type": "stream",
     "text": [
      "   gid   time     V_m\n",
      "0   53  101.0 -53.927\n",
      "1   54  101.0 -53.927\n",
      "2   55  101.0 -53.927\n",
      "3   56  101.0 -53.927\n",
      "4   57  101.0 -53.927\n"
     ]
    }
   ],
   "source": [
    "df = denest.io.load.load(recorder_metadata_path)\n",
    "print(df[0:5])"
   ]
  },
  {
   "cell_type": "markdown",
   "metadata": {},
   "source": [
    "#### We can get all the recorders' metadata\n",
    "\n",
    "__`denest.io.load.metadata_paths`__"
   ]
  },
  {
   "cell_type": "code",
   "execution_count": 6,
   "metadata": {},
   "outputs": [
    {
     "name": "stdout",
     "output_type": "stream",
     "text": [
      "[PosixPath('data_tuto/output/data/my_multimeter_l1_l1_exc.yml'), PosixPath('data_tuto/output/data/my_spike_detector_input_layer_parrot_neuron.yml'), PosixPath('data_tuto/output/data/weight_recorder_conn_1_AMPA-l1-l1_exc-l1-l1_inh.yml')]\n"
     ]
    }
   ],
   "source": [
    "all_recorder_metadata_paths = denest.io.load.metadata_paths(OUTPUT_DIR)\n",
    "print(all_recorder_metadata_paths)"
   ]
  },
  {
   "cell_type": "code",
   "execution_count": 7,
   "metadata": {},
   "outputs": [
    {
     "name": "stderr",
     "output_type": "stream",
     "text": [
      "2020-06-25 16:02:00,063 [denest.io.load] INFO: Loading metadata from data_tuto/output/data/my_multimeter_l1_l1_exc.yml\n",
      "2020-06-25 16:02:00,119 [denest.io.load] INFO: Loading metadata from data_tuto/output/data/my_spike_detector_input_layer_parrot_neuron.yml\n",
      "2020-06-25 16:02:00,143 [denest.io.load] INFO: Loading metadata from data_tuto/output/data/weight_recorder_conn_1_AMPA-l1-l1_exc-l1-l1_inh.yml\n"
     ]
    },
    {
     "name": "stdout",
     "output_type": "stream",
     "text": [
      "Recorder: my_multimeter_l1_l1_exc.yml\n",
      "   gid   time     V_m\n",
      "0   53  101.0 -53.927\n",
      "1   54  101.0 -53.927\n",
      "2   55  101.0 -53.927\n",
      "3   56  101.0 -53.927\n",
      "4   57  101.0 -53.927\n",
      "\n",
      "Recorder: my_spike_detector_input_layer_parrot_neuron.yml\n",
      "   gid   time\n",
      "0   27  102.0\n",
      "1   28  102.0\n",
      "2   29  102.0\n",
      "3   30  102.0\n",
      "4   31  102.0\n",
      "\n",
      "Recorder: weight_recorder_conn_1_AMPA-l1-l1_exc-l1-l1_inh.yml\n",
      "    0    1      2      3   4\n",
      "0  53  187  104.5  0.898 NaN\n",
      "1  53  159  104.5  0.898 NaN\n",
      "2  53  184  104.5  0.898 NaN\n",
      "3  53  199  104.5  0.898 NaN\n",
      "4  53  153  104.5  0.898 NaN\n",
      "\n"
     ]
    }
   ],
   "source": [
    "for metadata_path in all_recorder_metadata_paths:\n",
    "  print(f'Recorder: {metadata_path.name}')\n",
    "  print(f'{denest.io.load.load(metadata_path)[0:5]}\\n')"
   ]
  }
 ],
 "metadata": {
  "kernelspec": {
   "display_name": "nets",
   "language": "python",
   "name": "nets"
  },
  "language_info": {
   "codemirror_mode": {
    "name": "ipython",
    "version": 3
   },
   "file_extension": ".py",
   "mimetype": "text/x-python",
   "name": "python",
   "nbconvert_exporter": "python",
   "pygments_lexer": "ipython3",
   "version": "3.7.5"
  }
 },
 "nbformat": 4,
 "nbformat_minor": 4
}
