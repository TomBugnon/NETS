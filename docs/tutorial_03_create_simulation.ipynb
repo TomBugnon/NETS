{
 "cells": [
  {
   "cell_type": "markdown",
   "metadata": {},
   "source": [
    "# Let's familiarize ourselves with the ``Simulation`` object\n",
    "\n",
    "In this tutorial we:\n",
    "\n",
    "1. __Initialize an empty `Simulation` object__\n",
    "2. __Initialize the NEST kernel__ (`Simulation.init__kernel`)\n",
    "2. __Create a network__ (`Simulation.create__network`)\n",
    "2. Create sessions:\n",
    "    1. __Build session models__ (`Simulation.build__session__models`)\n",
    "    1. __Build the list of sessions__ from session models (`Simulation.build__sessions`)\n",
    "3. __Run__ the simulation\n",
    "5. __Replicate__ the simulation"
   ]
  },
  {
   "cell_type": "code",
   "execution_count": 1,
   "metadata": {},
   "outputs": [
    {
     "name": "stdout",
     "output_type": "stream",
     "text": [
      "The autoreload extension is already loaded. To reload it, use:\n",
      "  %reload_ext autoreload\n"
     ]
    }
   ],
   "source": [
    "%load_ext autoreload\n",
    "%autoreload 2\n",
    "\n",
    "import nest\n",
    "import yaml\n",
    "from pathlib import Path\n",
    "from pprint import pprint\n",
    "\n",
    "from denest import *\n",
    "import denest\n",
    "\n",
    "PARAMS_DIR = Path('./data_tuto/params')\n",
    "OUTPUT_DIR = Path('./data_tuto/output')"
   ]
  },
  {
   "cell_type": "markdown",
   "metadata": {},
   "source": [
    "# 1- Initialize an empty Simulation object\n",
    "\n",
    "Empty network, no kernel initialization, etc..."
   ]
  },
  {
   "cell_type": "code",
   "execution_count": 2,
   "metadata": {},
   "outputs": [
    {
     "name": "stderr",
     "output_type": "stream",
     "text": [
      "2020-06-26 16:17:27,203 [denest.utils.validation] INFO: 'None' tree: adding empty child kernel\n",
      "2020-06-26 16:17:27,215 [denest.utils.validation] INFO: 'None' tree: adding empty child simulation\n",
      "2020-06-26 16:17:27,217 [denest.utils.validation] INFO: 'None' tree: adding empty child session_models\n",
      "2020-06-26 16:17:27,218 [denest.utils.validation] INFO: 'None' tree: adding empty child network\n",
      "2020-06-26 16:17:27,220 [denest.utils.validation] INFO: Object `simulation`: params: using default value for optional parameters:\n",
      "{'input_dir': 'input', 'output_dir': 'output', 'sessions': []}\n",
      "2020-06-26 16:17:27,222 [denest.utils.validation] INFO: Object `kernel`: params: using default value for optional parameters:\n",
      "{'extension_modules': [], 'nest_seed': 1}\n",
      "2020-06-26 16:17:27,228 [denest.simulation] INFO: Initializing NEST kernel and seeds...\n",
      "2020-06-26 16:17:27,230 [denest.simulation] INFO:   Resetting NEST kernel...\n",
      "2020-06-26 16:17:27,242 [denest.simulation] INFO:   Setting NEST kernel status...\n",
      "2020-06-26 16:17:27,243 [denest.simulation] INFO:     Calling `nest.SetKernelStatus({})`\n",
      "2020-06-26 16:17:27,249 [denest.simulation] INFO:     Calling `nest.SetKernelStatus({'data_path': 'data_tuto/output/data', 'grng_seed': 2, 'rng_seeds': range(3, 4)})\n",
      "2020-06-26 16:17:27,251 [denest.simulation] INFO:   Finished setting NEST kernel status\n",
      "2020-06-26 16:17:27,257 [denest.simulation] INFO:   Installing external modules...\n",
      "2020-06-26 16:17:27,260 [denest.simulation] INFO:   Finished installing external modules\n",
      "2020-06-26 16:17:27,270 [denest.simulation] INFO: Finished initializing kernel\n",
      "2020-06-26 16:17:27,277 [denest.simulation] INFO: Build N=0 session models\n",
      "2020-06-26 16:17:27,279 [denest.simulation] INFO: Build N=0 sessions\n",
      "2020-06-26 16:17:27,290 [denest.simulation] INFO: Sessions: []\n",
      "2020-06-26 16:17:27,300 [denest.simulation] INFO: Building network.\n",
      "2020-06-26 16:17:27,309 [denest.utils.validation] INFO: 'None' tree: adding empty child neuron_models\n",
      "2020-06-26 16:17:27,310 [denest.utils.validation] INFO: 'None' tree: adding empty child synapse_models\n",
      "2020-06-26 16:17:27,318 [denest.utils.validation] INFO: 'None' tree: adding empty child layers\n",
      "2020-06-26 16:17:27,328 [denest.utils.validation] INFO: 'None' tree: adding empty child projection_models\n",
      "2020-06-26 16:17:27,330 [denest.utils.validation] INFO: 'None' tree: adding empty child topology\n",
      "2020-06-26 16:17:27,333 [denest.utils.validation] INFO: 'None' tree: adding empty child recorder_models\n",
      "2020-06-26 16:17:27,357 [denest.utils.validation] INFO: 'None' tree: adding empty child recorders\n",
      "2020-06-26 16:17:27,373 [denest.network] INFO: Build N=0 ``Model`` objects\n",
      "2020-06-26 16:17:27,381 [denest.network] INFO: Build N=0 ``SynapseModel`` objects\n",
      "2020-06-26 16:17:27,384 [denest.network] INFO: Build N=0 ``Model`` objects\n",
      "2020-06-26 16:17:27,390 [denest.network] INFO: Build N=0 ``Layer`` or ``InputLayer`` objects.\n",
      "2020-06-26 16:17:27,397 [denest.network] INFO: Build N=0 ``ProjectionModel`` objects\n",
      "2020-06-26 16:17:27,401 [denest.utils.validation] INFO: Object `topology`: params: using default value for optional parameters:\n",
      "{'projections': []}\n",
      "2020-06-26 16:17:27,415 [denest.network] INFO: Build N=0 ``TopoProjection`` objects\n",
      "2020-06-26 16:17:27,418 [denest.utils.validation] INFO: Object `recorders`: params: using default value for optional parameters:\n",
      "{'population_recorders': [], 'projection_recorders': []}\n",
      "2020-06-26 16:17:27,432 [denest.network] INFO: Build N=0 population recorders.\n",
      "2020-06-26 16:17:27,440 [denest.network] INFO: Build N=0 projection recorders.\n",
      "2020-06-26 16:17:27,442 [denest.simulation] INFO: Creating network.\n",
      "2020-06-26 16:17:27,445 [denest.network] INFO: Creating neuron models...\n",
      "0it [00:00, ?it/s]\n",
      "2020-06-26 16:17:27,489 [denest.network] INFO: Creating synapse models...\n",
      "0it [00:00, ?it/s]\n",
      "2020-06-26 16:17:27,503 [denest.network] INFO: Creating recorder models...\n",
      "0it [00:00, ?it/s]\n",
      "2020-06-26 16:17:27,522 [denest.network] INFO: Creating layers...\n",
      "0it [00:00, ?it/s]\n",
      "2020-06-26 16:17:27,549 [denest.network] INFO: Creating population recorders...\n",
      "0it [00:00, ?it/s]\n",
      "2020-06-26 16:17:27,562 [denest.network] INFO: Creating projection recorders...\n",
      "0it [00:00, ?it/s]\n",
      "2020-06-26 16:17:27,572 [denest.network] INFO: Connecting layers...\n",
      "0it [00:00, ?it/s]\n",
      "2020-06-26 16:17:27,580 [denest.network] INFO: Network size (including recorders and parrot neurons):\n",
      "Number of nodes: 1\n",
      "Number of projections: 0\n",
      "2020-06-26 16:17:27,583 [denest.simulation] INFO: Finished creating network\n",
      "2020-06-26 16:17:27,589 [denest.simulation] INFO: Saving simulation metadata...\n",
      "2020-06-26 16:17:27,591 [denest.simulation] INFO: Creating output directory: data_tuto/output\n",
      "2020-06-26 16:17:27,668 [denest.simulation] INFO: Finished saving simulation metadata\n"
     ]
    }
   ],
   "source": [
    "sim = Simulation(output_dir=OUTPUT_DIR)"
   ]
  },
  {
   "cell_type": "markdown",
   "metadata": {},
   "source": [
    "# 2- Initialize the NEST kernel\n",
    "\n",
    "``Simulation.init_kernel??`` for doc"
   ]
  },
  {
   "cell_type": "code",
   "execution_count": 3,
   "metadata": {},
   "outputs": [],
   "source": [
    "kernel_tree = {\n",
    "    'params':\n",
    "        {\n",
    "            'nest_seed': 10,\n",
    "            'extension_modules': [],\n",
    "        },\n",
    "    'nest_params':\n",
    "        {\n",
    "            'resolution': 0.5,\n",
    "            'overwrite_files': True\n",
    "        },\n",
    "}"
   ]
  },
  {
   "cell_type": "code",
   "execution_count": 4,
   "metadata": {},
   "outputs": [
    {
     "name": "stderr",
     "output_type": "stream",
     "text": [
      "2020-06-26 16:17:27,850 [denest.simulation] INFO: Initializing NEST kernel and seeds...\n",
      "2020-06-26 16:17:27,852 [denest.simulation] INFO:   Resetting NEST kernel...\n",
      "2020-06-26 16:17:27,866 [denest.simulation] INFO:   Setting NEST kernel status...\n",
      "2020-06-26 16:17:27,870 [denest.simulation] INFO:     Calling `nest.SetKernelStatus({'resolution': 0.5, 'overwrite_files': True})`\n",
      "2020-06-26 16:17:27,872 [denest.simulation] INFO:     Calling `nest.SetKernelStatus({'data_path': 'data_tuto/output/data', 'grng_seed': 11, 'rng_seeds': range(12, 13)})\n",
      "2020-06-26 16:17:27,875 [denest.simulation] INFO:   Finished setting NEST kernel status\n",
      "2020-06-26 16:17:27,887 [denest.simulation] INFO:   Installing external modules...\n",
      "2020-06-26 16:17:27,893 [denest.simulation] INFO:   Finished installing external modules\n",
      "2020-06-26 16:17:27,900 [denest.simulation] INFO: Finished initializing kernel\n"
     ]
    }
   ],
   "source": [
    "sim.init_kernel(kernel_tree)"
   ]
  },
  {
   "cell_type": "code",
   "execution_count": 5,
   "metadata": {},
   "outputs": [
    {
     "name": "stdout",
     "output_type": "stream",
     "text": [
      "0.5\n",
      "0.0\n"
     ]
    }
   ],
   "source": [
    "# nest_params have been passed to nest.SetKernelStatus\n",
    "print(nest.GetKernelStatus('resolution'))\n",
    "print(nest.GetKernelStatus('time'))"
   ]
  },
  {
   "cell_type": "code",
   "execution_count": 6,
   "metadata": {},
   "outputs": [
    {
     "data": {
      "text/plain": [
       "'data_tuto/output/data'"
      ]
     },
     "execution_count": 6,
     "metadata": {},
     "output_type": "execute_result"
    }
   ],
   "source": [
    "# The raw data will be saved in the output directory\n",
    "nest.GetKernelStatus('data_path')"
   ]
  },
  {
   "cell_type": "code",
   "execution_count": 7,
   "metadata": {},
   "outputs": [
    {
     "data": {
      "text/plain": [
       "ParamsTree(name='None', parent=None)\n",
       "  params: {}\n",
       "  nest_params: {}\n",
       "  kernel:\n",
       "    params:\n",
       "      nest_seed: 10\n",
       "      extension_modules: []\n",
       "    nest_params:\n",
       "      resolution: 0.5\n",
       "      overwrite_files: true\n",
       "  simulation:\n",
       "    params:\n",
       "      output_dir: data_tuto/output\n",
       "      sessions: []\n",
       "    nest_params: {}\n",
       "  session_models:\n",
       "    params: {}\n",
       "    nest_params: {}\n",
       "  network:\n",
       "    params: {}\n",
       "    nest_params: {}\n",
       "  "
      ]
     },
     "execution_count": 7,
     "metadata": {},
     "output_type": "execute_result"
    }
   ],
   "source": [
    "# The kernel params are saved in the simulation's tree\n",
    "sim.tree"
   ]
  },
  {
   "cell_type": "markdown",
   "metadata": {},
   "source": [
    "# 3- Create a network\n",
    "\n",
    "We build and create the same network by passing the network tree,\n",
    "using the ``Simulation.create_network`` method"
   ]
  },
  {
   "cell_type": "code",
   "execution_count": 8,
   "metadata": {},
   "outputs": [],
   "source": [
    "net_tree = ParamsTree.read(PARAMS_DIR/'network/network_tree.yml')"
   ]
  },
  {
   "cell_type": "code",
   "execution_count": 9,
   "metadata": {},
   "outputs": [
    {
     "name": "stderr",
     "output_type": "stream",
     "text": [
      "2020-06-26 16:17:28,250 [denest.simulation] INFO: Building network.\n",
      "2020-06-26 16:17:28,263 [denest.network] INFO: Build N=2 ``Model`` objects\n",
      "2020-06-26 16:17:28,265 [denest.network] INFO: Build N=2 ``SynapseModel`` objects\n",
      "2020-06-26 16:17:28,280 [denest.network] INFO: Build N=3 ``Model`` objects\n",
      "2020-06-26 16:17:28,286 [denest.network] INFO: Build N=2 ``Layer`` or ``InputLayer`` objects.\n",
      "2020-06-26 16:17:28,288 [denest.utils.validation] INFO: Object `proj_1_AMPA`: params: using default value for optional parameters:\n",
      "{'type': 'topological'}\n",
      "2020-06-26 16:17:28,291 [denest.utils.validation] INFO: Object `proj_2_GABAA`: params: using default value for optional parameters:\n",
      "{'type': 'topological'}\n",
      "2020-06-26 16:17:28,331 [denest.network] INFO: Build N=2 ``ProjectionModel`` objects\n",
      "2020-06-26 16:17:28,346 [denest.network] INFO: Build N=3 ``TopoProjection`` objects\n",
      "2020-06-26 16:17:28,350 [denest.network] INFO: Build N=2 population recorders.\n",
      "2020-06-26 16:17:28,357 [denest.network] INFO: Build N=1 projection recorders.\n",
      "2020-06-26 16:17:28,366 [denest.simulation] INFO: Creating network.\n",
      "2020-06-26 16:17:28,369 [denest.network] INFO: Creating neuron models...\n",
      "100%|██████████| 2/2 [00:00<00:00, 2192.53it/s]\n",
      "2020-06-26 16:17:28,408 [denest.network] INFO: Creating synapse models...\n",
      "100%|██████████| 2/2 [00:00<00:00, 949.69it/s]\n",
      "2020-06-26 16:17:28,423 [denest.network] INFO: Creating recorder models...\n",
      "100%|██████████| 3/3 [00:00<00:00, 2347.56it/s]\n",
      "2020-06-26 16:17:28,454 [denest.network] INFO: Creating layers...\n",
      "  0%|          | 0/2 [00:00<?, ?it/s]/Users/tom/nest/nest-simulator-2.20.0/lib/python3.7/site-packages/nest/lib/hl_api_helper.py:127: UserWarning:\n",
      "GetNodes is deprecated and will be removed in NEST 3.0. Use             GIDCollection instead.\n",
      "100%|██████████| 2/2 [00:00<00:00, 10.10it/s]\n",
      "2020-06-26 16:17:28,656 [denest.network] INFO: Creating population recorders...\n",
      "100%|██████████| 2/2 [00:00<00:00, 94.32it/s]\n",
      "2020-06-26 16:17:28,682 [denest.network] INFO: Creating projection recorders...\n",
      "100%|██████████| 1/1 [00:00<00:00, 221.73it/s]\n",
      "2020-06-26 16:17:28,698 [denest.network] INFO: Connecting layers...\n",
      "100%|██████████| 3/3 [00:00<00:00, 395.04it/s]\n",
      "2020-06-26 16:17:28,713 [denest.network] INFO: Network size (including recorders and parrot neurons):\n",
      "Number of nodes: 206\n",
      "Number of projections: 6650\n",
      "2020-06-26 16:17:28,715 [denest.simulation] INFO: Finished creating network\n"
     ]
    }
   ],
   "source": [
    "sim.create_network(net_tree)"
   ]
  },
  {
   "cell_type": "code",
   "execution_count": 10,
   "metadata": {},
   "outputs": [
    {
     "data": {
      "text/plain": [
       "(52,)"
      ]
     },
     "execution_count": 10,
     "metadata": {},
     "output_type": "execute_result"
    }
   ],
   "source": [
    "# Network object was created and can be accessed as we learnt\n",
    "sim.network.layers['l1'].gid"
   ]
  },
  {
   "cell_type": "code",
   "execution_count": 11,
   "metadata": {},
   "outputs": [
    {
     "data": {
      "text/plain": [
       "ParamsTree(name='None', parent=None)\n",
       "  params: {}\n",
       "  nest_params: {}\n",
       "  kernel:\n",
       "    params:\n",
       "      nest_seed: 10\n",
       "      extension_modules: []\n",
       "    nest_params:\n",
       "      resolution: 0.5\n",
       "      overwrite_files: true\n",
       "  simulation:\n",
       "    params:\n",
       "      output_dir: data_tuto/output\n",
       "      sessions: []\n",
       "    nest_params: {}\n",
       "  session_models:\n",
       "  \n",
       "  ... [134 lines] ...\n",
       "\n",
       "        - layers:\n",
       "          - input_layer\n",
       "          populations: null\n",
       "          model: my_spike_detector\n",
       "        projection_recorders:\n",
       "        - source_layers:\n",
       "          - l1\n",
       "          source_population: l1_exc\n",
       "          target_layers:\n",
       "          - l1\n",
       "          target_population: l1_inh\n",
       "          projection_model: proj_1_AMPA\n",
       "          model: weight_recorder\n",
       "      nest_params: {}\n",
       "  "
      ]
     },
     "execution_count": 11,
     "metadata": {},
     "output_type": "execute_result"
    }
   ],
   "source": [
    "# network tree was saved and can be re-used\n",
    "sim.tree"
   ]
  },
  {
   "cell_type": "markdown",
   "metadata": {},
   "source": [
    "# 4- Create some sessions\n",
    "\n",
    "### so we can run the network in specific conditions\n",
    "\n",
    "\n",
    "Session parameters:\n",
    "\n",
    "- ``simulation_time`` (float): Duration of the session in ms.\n",
    "    (mandatory)\n",
    "- ``reset_network`` (bool): If true, ``nest.ResetNetwork()`` is\n",
    "    called during session initialization (default ``False``)\n",
    "- ``record`` (bool): If false, the ``start_time`` field of\n",
    "    recorder nodes in NEST is set to the end time of the\n",
    "    session, so that no data is recorded during the session\n",
    "    (default ``True``)\n",
    "- ``shift_origin`` (bool): If True, the ``origin`` flag of the\n",
    "    stimulation devices of all the network's ``InputLayer``\n",
    "    layers is set to the start of the session during\n",
    "    initialization. Useful to repeat sessions when the\n",
    "    stimulators are eg spike generators.\n",
    "- ``unit_changes`` (list): List describing the changes applied\n",
    "    to certain units before the start of the session.\n",
    "    Passed to ``Network.set_state``.\n",
    "- ``synapse_changes`` (list): List describing the changes\n",
    "    applied to certain synapses before the start of the session.\n",
    "    Passed to ``Network.set_state``. Refer to that\n",
    "    method for a description of how ``synapse_changes`` is\n",
    "    formatted and interpreted. No changes happen if empty.\n",
    "    (default [])\n"
   ]
  },
  {
   "cell_type": "markdown",
   "metadata": {},
   "source": [
    "## Build session models from a tree"
   ]
  },
  {
   "cell_type": "code",
   "execution_count": 12,
   "metadata": {},
   "outputs": [
    {
     "name": "stdout",
     "output_type": "stream",
     "text": [
      "params:\n",
      "  record: true\n",
      "  shift_origin: true\n",
      "  simulation_time: 100.0\n",
      "nest_params: {}\n",
      "warmup:\n",
      "  params:\n",
      "    record: false\n",
      "  nest_params: {}\n",
      "2_spikes:\n",
      "  params:\n",
      "    unit_changes:\n",
      "    - layers:\n",
      "      - input_layer\n",
      "      population_name: spike_generator\n",
      "      nest_params:\n",
      "        spike_times:\n",
      "        - 1.0\n",
      "        - 10.0\n",
      "  nest_params: {}\n",
      "3_spikes:\n",
      "  params:\n",
      "    unit_changes:\n",
      "    - layers:\n",
      "      - input_layer\n",
      "      population_name: spike_generator\n",
      "      nest_params:\n",
      "        spike_times:\n",
      "        - 1.0\n",
      "        - 10.0\n",
      "        - 20.0\n",
      "  nest_params: {}\n",
      "\n"
     ]
    }
   ],
   "source": [
    "# Notice the hierarchical inheritance as before\n",
    "session_models_tree = ParamsTree.read(PARAMS_DIR/'session_models.yml').children['session_models']\n",
    "print(session_models_tree)"
   ]
  },
  {
   "cell_type": "code",
   "execution_count": 13,
   "metadata": {},
   "outputs": [
    {
     "name": "stderr",
     "output_type": "stream",
     "text": [
      "2020-06-26 16:17:29,002 [denest.simulation] INFO: Build N=3 session models\n"
     ]
    }
   ],
   "source": [
    "sim.build_session_models(session_models_tree)"
   ]
  },
  {
   "cell_type": "code",
   "execution_count": 14,
   "metadata": {},
   "outputs": [
    {
     "data": {
      "text/plain": [
       "ParamsTree(name='session_models', parent='None')\n",
       "  params:\n",
       "    record: true\n",
       "    shift_origin: true\n",
       "    simulation_time: 100.0\n",
       "  nest_params: {}\n",
       "  warmup:\n",
       "    params:\n",
       "      record: false\n",
       "    nest_params: {}\n",
       "  2_spikes:\n",
       "    params:\n",
       "      unit_changes:\n",
       "      - layers:\n",
       "        - input_layer\n",
       "        population_name: spike_generator\n",
       "  \n",
       "  ... [3 lines] ...\n",
       "\n",
       "          - 10.0\n",
       "    nest_params: {}\n",
       "  3_spikes:\n",
       "    params:\n",
       "      unit_changes:\n",
       "      - layers:\n",
       "        - input_layer\n",
       "        population_name: spike_generator\n",
       "        nest_params:\n",
       "          spike_times:\n",
       "          - 1.0\n",
       "          - 10.0\n",
       "          - 20.0\n",
       "    nest_params: {}\n",
       "  "
      ]
     },
     "execution_count": 14,
     "metadata": {},
     "output_type": "execute_result"
    }
   ],
   "source": [
    "sim.tree.children['session_models']"
   ]
  },
  {
   "cell_type": "markdown",
   "metadata": {},
   "source": [
    "## Build a list of sessions from the ``session_models`` templates"
   ]
  },
  {
   "cell_type": "code",
   "execution_count": 15,
   "metadata": {},
   "outputs": [],
   "source": [
    "sessions_order =  ['warmup', '3_spikes', '2_spikes', '3_spikes']\n"
   ]
  },
  {
   "cell_type": "code",
   "execution_count": 16,
   "metadata": {},
   "outputs": [
    {
     "name": "stderr",
     "output_type": "stream",
     "text": [
      "2020-06-26 16:17:29,219 [denest.simulation] INFO: Build N=4 sessions\n",
      "2020-06-26 16:17:29,221 [denest.session] INFO: Creating session \"00_warmup\"\n",
      "2020-06-26 16:17:29,223 [denest.utils.validation] INFO: Object `00_warmup`: params: using default value for optional parameters:\n",
      "{'reset_network': False, 'synapse_changes': [], 'unit_changes': []}\n",
      "2020-06-26 16:17:29,224 [denest.session] INFO: Creating session \"01_3_spikes\"\n",
      "2020-06-26 16:17:29,232 [denest.utils.validation] INFO: Object `01_3_spikes`: params: using default value for optional parameters:\n",
      "{'reset_network': False, 'synapse_changes': []}\n",
      "2020-06-26 16:17:29,234 [denest.session] INFO: Creating session \"02_2_spikes\"\n",
      "2020-06-26 16:17:29,235 [denest.utils.validation] INFO: Object `02_2_spikes`: params: using default value for optional parameters:\n",
      "{'reset_network': False, 'synapse_changes': []}\n",
      "2020-06-26 16:17:29,240 [denest.session] INFO: Creating session \"03_3_spikes\"\n",
      "2020-06-26 16:17:29,241 [denest.utils.validation] INFO: Object `03_3_spikes`: params: using default value for optional parameters:\n",
      "{'reset_network': False, 'synapse_changes': []}\n",
      "2020-06-26 16:17:29,242 [denest.simulation] INFO: Sessions: ['00_warmup', '01_3_spikes', '02_2_spikes', '03_3_spikes']\n"
     ]
    }
   ],
   "source": [
    "sim.build_sessions(sessions_order)"
   ]
  },
  {
   "cell_type": "code",
   "execution_count": 17,
   "metadata": {},
   "outputs": [
    {
     "data": {
      "text/plain": [
       "[Session(00_warmup, {'record': False,\n",
       "  'reset_network': False,\n",
       "  'shift_origin': True,\n",
       "  'simulation_time': 100.0,\n",
       "  'synapse_changes': [],\n",
       "  'unit_changes': []}),\n",
       " Session(01_3_spikes, {'record': True,\n",
       "  'reset_network': False,\n",
       "  'shift_origin': True,\n",
       "  'simulation_time': 100.0,\n",
       "  'synapse_changes': [],\n",
       "  'unit_changes': [{'layers': ['input_layer'],\n",
       "                    'nest_params': {'spike_times': [1.0, 10.0, 20.0]},\n",
       "                    'population_name': 'spike_generator'}]}),\n",
       " Session(02_2_spikes, {'record': True,\n",
       "  'reset_network': False,\n",
       "  'shift_origin': True,\n",
       "  'simulation_time': 100.0,\n",
       "  'synapse_changes': [],\n",
       "  'unit_changes': [{'layers': ['input_layer'],\n",
       "                    'nest_params': {'spike_times': [1.0, 10.0]},\n",
       "                    'population_name': 'spike_generator'}]}),\n",
       " Session(03_3_spikes, {'record': True,\n",
       "  'reset_network': False,\n",
       "  'shift_origin': True,\n",
       "  'simulation_time': 100.0,\n",
       "  'synapse_changes': [],\n",
       "  'unit_changes': [{'layers': ['input_layer'],\n",
       "                    'nest_params': {'spike_times': [1.0, 10.0, 20.0]},\n",
       "                    'population_name': 'spike_generator'}]})]"
      ]
     },
     "execution_count": 17,
     "metadata": {},
     "output_type": "execute_result"
    }
   ],
   "source": [
    "# Notice the session names\n",
    "sim.sessions"
   ]
  },
  {
   "cell_type": "code",
   "execution_count": 18,
   "metadata": {},
   "outputs": [
    {
     "data": {
      "text/plain": [
       "ParamsTree(name='simulation', parent='None')\n",
       "  params:\n",
       "    output_dir: data_tuto/output\n",
       "    sessions:\n",
       "    - warmup\n",
       "    - 3_spikes\n",
       "    - 2_spikes\n",
       "    - 3_spikes\n",
       "  nest_params: {}\n",
       "  "
      ]
     },
     "execution_count": 18,
     "metadata": {},
     "output_type": "execute_result"
    }
   ],
   "source": [
    "# The session order is saved in the simulation parameters\n",
    "\n",
    "sim.tree.children['simulation']"
   ]
  },
  {
   "cell_type": "markdown",
   "metadata": {},
   "source": [
    "# 5- Run the simulation"
   ]
  },
  {
   "cell_type": "code",
   "execution_count": 19,
   "metadata": {},
   "outputs": [
    {
     "name": "stdout",
     "output_type": "stream",
     "text": [
      "kernel time:  0.0\n"
     ]
    }
   ],
   "source": [
    "print('kernel time: ', nest.GetKernelStatus('time'))"
   ]
  },
  {
   "cell_type": "code",
   "execution_count": 20,
   "metadata": {},
   "outputs": [
    {
     "name": "stderr",
     "output_type": "stream",
     "text": [
      "2020-06-26 16:17:29,483 [denest.simulation] INFO: Running 4 sessions...\n",
      "2020-06-26 16:17:29,488 [denest.simulation] INFO: Running session: '00_warmup'...\n",
      "2020-06-26 16:17:29,492 [denest.session] INFO: Initializing session...\n",
      "2020-06-26 16:17:29,498 [denest.network.recorders] INFO:   Setting status for recorder my_multimeter_l1_l1_exc: {'start': 100.0}\n",
      "2020-06-26 16:17:29,500 [denest.network.recorders] INFO:   Setting status for recorder my_spike_detector_input_layer_parrot_neuron: {'start': 100.0}\n",
      "2020-06-26 16:17:29,508 [denest.network.recorders] INFO:   Setting status for recorder weight_recorder_proj_1_AMPA-l1-l1_exc-l1-l1_inh: {'start': 100.0}\n",
      "2020-06-26 16:17:29,511 [denest.session] INFO: Setting `origin` flag to `0.0` for all stimulation devices in ``InputLayers`` for session `00_warmup`\n",
      "2020-06-26 16:17:29,539 [denest.session] INFO: Finished initializing session\n",
      "\n",
      "2020-06-26 16:17:29,540 [denest.session] INFO: Running session '00_warmup' for 100 ms\n",
      "2020-06-26 16:17:29,673 [denest.session] INFO: Finished running session\n",
      "2020-06-26 16:17:29,674 [denest.session] INFO: Session '00_warmup' virtual running time: 100 ms\n",
      "2020-06-26 16:17:29,675 [denest.session] INFO: Session '00_warmup' real running time: 0h:00m:00s\n",
      "2020-06-26 16:17:29,676 [denest.simulation] INFO: Done running session '00_warmup'\n",
      "2020-06-26 16:17:29,677 [denest.simulation] INFO: Running session: '01_3_spikes'...\n",
      "2020-06-26 16:17:29,679 [denest.session] INFO: Initializing session...\n",
      "2020-06-26 16:17:29,680 [denest.session] INFO: Setting `origin` flag to `100.0` for all stimulation devices in ``InputLayers`` for session `01_3_spikes`\n",
      "2020-06-26 16:17:29,687 [denest.utils.validation] INFO: Object `Unit changes dictionary`: params: using default value for optional parameters:\n",
      "{'change_type': 'constant', 'from_array': False}\n",
      "2020-06-26 16:17:29,688 [denest.network.layers] INFO: Layer='input_layer', pop='spike_generator': Applying 'constant' change, param='spike_times', from single value')\n",
      "2020-06-26 16:17:29,845 [denest.session] INFO: Finished initializing session\n",
      "\n",
      "2020-06-26 16:17:29,846 [denest.session] INFO: Running session '01_3_spikes' for 100 ms\n",
      "2020-06-26 16:17:29,999 [denest.session] INFO: Finished running session\n",
      "2020-06-26 16:17:30,000 [denest.session] INFO: Session '01_3_spikes' virtual running time: 100 ms\n",
      "2020-06-26 16:17:30,001 [denest.session] INFO: Session '01_3_spikes' real running time: 0h:00m:00s\n",
      "2020-06-26 16:17:30,003 [denest.simulation] INFO: Done running session '01_3_spikes'\n",
      "2020-06-26 16:17:30,005 [denest.simulation] INFO: Running session: '02_2_spikes'...\n",
      "2020-06-26 16:17:30,007 [denest.session] INFO: Initializing session...\n",
      "2020-06-26 16:17:30,011 [denest.session] INFO: Setting `origin` flag to `200.0` for all stimulation devices in ``InputLayers`` for session `02_2_spikes`\n",
      "2020-06-26 16:17:30,016 [denest.utils.validation] INFO: Object `Unit changes dictionary`: params: using default value for optional parameters:\n",
      "{'change_type': 'constant', 'from_array': False}\n",
      "2020-06-26 16:17:30,032 [denest.network.layers] INFO: Layer='input_layer', pop='spike_generator': Applying 'constant' change, param='spike_times', from single value')\n",
      "2020-06-26 16:17:30,160 [denest.session] INFO: Finished initializing session\n",
      "\n",
      "2020-06-26 16:17:30,161 [denest.session] INFO: Running session '02_2_spikes' for 100 ms\n",
      "2020-06-26 16:17:30,293 [denest.session] INFO: Finished running session\n",
      "2020-06-26 16:17:30,294 [denest.session] INFO: Session '02_2_spikes' virtual running time: 100 ms\n",
      "2020-06-26 16:17:30,295 [denest.session] INFO: Session '02_2_spikes' real running time: 0h:00m:00s\n",
      "2020-06-26 16:17:30,297 [denest.simulation] INFO: Done running session '02_2_spikes'\n",
      "2020-06-26 16:17:30,301 [denest.simulation] INFO: Running session: '03_3_spikes'...\n",
      "2020-06-26 16:17:30,303 [denest.session] INFO: Initializing session...\n",
      "2020-06-26 16:17:30,304 [denest.session] INFO: Setting `origin` flag to `300.0` for all stimulation devices in ``InputLayers`` for session `03_3_spikes`\n",
      "2020-06-26 16:17:30,312 [denest.utils.validation] INFO: Object `Unit changes dictionary`: params: using default value for optional parameters:\n",
      "{'change_type': 'constant', 'from_array': False}\n",
      "2020-06-26 16:17:30,312 [denest.network.layers] INFO: Layer='input_layer', pop='spike_generator': Applying 'constant' change, param='spike_times', from single value')\n",
      "2020-06-26 16:17:30,399 [denest.session] INFO: Finished initializing session\n",
      "\n",
      "2020-06-26 16:17:30,400 [denest.session] INFO: Running session '03_3_spikes' for 100 ms\n",
      "2020-06-26 16:17:30,543 [denest.session] INFO: Finished running session\n",
      "2020-06-26 16:17:30,544 [denest.session] INFO: Session '03_3_spikes' virtual running time: 100 ms\n",
      "2020-06-26 16:17:30,545 [denest.session] INFO: Session '03_3_spikes' real running time: 0h:00m:00s\n",
      "2020-06-26 16:17:30,551 [denest.simulation] INFO: Done running session '03_3_spikes'\n",
      "2020-06-26 16:17:30,553 [denest.simulation] INFO: Finished running simulation\n"
     ]
    }
   ],
   "source": [
    "sim.run()"
   ]
  },
  {
   "cell_type": "code",
   "execution_count": 21,
   "metadata": {},
   "outputs": [
    {
     "data": {
      "text/plain": [
       "400.0"
      ]
     },
     "execution_count": 21,
     "metadata": {},
     "output_type": "execute_result"
    }
   ],
   "source": [
    "nest.GetKernelStatus('time')"
   ]
  },
  {
   "cell_type": "markdown",
   "metadata": {},
   "source": [
    "### Since the initialized Simulation object was empty, we need to save the metadata"
   ]
  },
  {
   "cell_type": "code",
   "execution_count": 22,
   "metadata": {},
   "outputs": [
    {
     "name": "stderr",
     "output_type": "stream",
     "text": [
      "2020-06-26 16:17:30,717 [denest.simulation] INFO: Saving simulation metadata...\n",
      "2020-06-26 16:17:30,718 [denest.simulation] INFO: Creating output directory: data_tuto/output\n",
      "2020-06-26 16:17:30,832 [denest.simulation] INFO: Finished saving simulation metadata\n"
     ]
    }
   ],
   "source": [
    "sim.save_metadata()"
   ]
  },
  {
   "cell_type": "code",
   "execution_count": 23,
   "metadata": {},
   "outputs": [
    {
     "name": "stdout",
     "output_type": "stream",
     "text": [
      "\u001b[1m\u001b[36mdata\u001b[m\u001b[m               git_hash           parameter_tree.yml session_times.yml\r\n"
     ]
    }
   ],
   "source": [
    "!ls {OUTPUT_DIR}"
   ]
  },
  {
   "cell_type": "code",
   "execution_count": 24,
   "metadata": {},
   "outputs": [
    {
     "name": "stdout",
     "output_type": "stream",
     "text": [
      "00_warmup: !!python/tuple\r\n",
      "- 0.0\r\n",
      "- 100.0\r\n",
      "01_3_spikes: !!python/tuple\r\n",
      "- 100.0\r\n",
      "- 200.0\r\n",
      "02_2_spikes: !!python/tuple\r\n",
      "- 200.0\r\n",
      "- 300.0\r\n",
      "03_3_spikes: !!python/tuple\r\n",
      "- 300.0\r\n",
      "- 400.0\r\n"
     ]
    }
   ],
   "source": [
    "!cat {OUTPUT_DIR/'session_times.yml'}"
   ]
  },
  {
   "cell_type": "code",
   "execution_count": 25,
   "metadata": {},
   "outputs": [
    {
     "name": "stdout",
     "output_type": "stream",
     "text": [
      "my_multimeter_l1_l1_exc-203-0.dat\r\n",
      "my_multimeter_l1_l1_exc.yml\r\n",
      "my_spike_detector_input_layer_parrot_neuron-204-0.gdf\r\n",
      "my_spike_detector_input_layer_parrot_neuron.yml\r\n",
      "weight_recorder_conn_1_AMPA-l1-l1_exc-l1-l1_inh-205-0.csv\r\n",
      "weight_recorder_conn_1_AMPA-l1-l1_exc-l1-l1_inh.yml\r\n",
      "weight_recorder_proj_1_AMPA-l1-l1_exc-l1-l1_inh-205-0.csv\r\n",
      "weight_recorder_proj_1_AMPA-l1-l1_exc-l1-l1_inh.yml\r\n"
     ]
    }
   ],
   "source": [
    "!ls {OUTPUT_DIR/'data'}"
   ]
  },
  {
   "cell_type": "markdown",
   "metadata": {},
   "source": [
    "# 6- Replicate the simulation"
   ]
  },
  {
   "cell_type": "code",
   "execution_count": 26,
   "metadata": {},
   "outputs": [
    {
     "data": {
      "text/plain": [
       "ParamsTree(name='None', parent=None)\n",
       "  params: {}\n",
       "  nest_params: {}\n",
       "  kernel:\n",
       "    params:\n",
       "      nest_seed: 10\n",
       "      extension_modules: []\n",
       "    nest_params:\n",
       "      resolution: 0.5\n",
       "      overwrite_files: true\n",
       "  simulation:\n",
       "    params:\n",
       "      output_dir: data_tuto/output\n",
       "      sessions:\n",
       "      - warmup\n",
       "      - 3_spikes\n",
       "  \n",
       "  ... [168 lines] ...\n",
       "\n",
       "        - layers:\n",
       "          - input_layer\n",
       "          populations: null\n",
       "          model: my_spike_detector\n",
       "        projection_recorders:\n",
       "        - source_layers:\n",
       "          - l1\n",
       "          source_population: l1_exc\n",
       "          target_layers:\n",
       "          - l1\n",
       "          target_population: l1_inh\n",
       "          projection_model: proj_1_AMPA\n",
       "          model: weight_recorder\n",
       "      nest_params: {}\n",
       "  "
      ]
     },
     "execution_count": 26,
     "metadata": {},
     "output_type": "execute_result"
    }
   ],
   "source": [
    "params = ParamsTree.read(OUTPUT_DIR/'parameter_tree.yml')\n",
    "params"
   ]
  },
  {
   "cell_type": "code",
   "execution_count": 27,
   "metadata": {},
   "outputs": [
    {
     "name": "stderr",
     "output_type": "stream",
     "text": [
      "2020-06-26 16:17:31,632 [denest.utils.validation] INFO: Object `simulation`: params: using default value for optional parameters:\n",
      "{'input_dir': 'input'}\n",
      "2020-06-26 16:17:31,633 [denest.simulation] INFO: Initializing NEST kernel and seeds...\n",
      "2020-06-26 16:17:31,634 [denest.simulation] INFO:   Resetting NEST kernel...\n",
      "2020-06-26 16:17:31,651 [denest.simulation] INFO:   Setting NEST kernel status...\n",
      "2020-06-26 16:17:31,654 [denest.simulation] INFO:     Calling `nest.SetKernelStatus({'resolution': 0.5, 'overwrite_files': True})`\n",
      "2020-06-26 16:17:31,663 [denest.simulation] INFO:     Calling `nest.SetKernelStatus({'data_path': 'data_tuto/output_replicate/data', 'grng_seed': 11, 'rng_seeds': range(12, 13)})\n",
      "2020-06-26 16:17:31,688 [denest.simulation] INFO:   Finished setting NEST kernel status\n",
      "2020-06-26 16:17:31,700 [denest.simulation] INFO:   Installing external modules...\n",
      "2020-06-26 16:17:31,706 [denest.simulation] INFO:   Finished installing external modules\n",
      "2020-06-26 16:17:31,708 [denest.simulation] INFO: Finished initializing kernel\n",
      "2020-06-26 16:17:31,717 [denest.simulation] INFO: Build N=3 session models\n",
      "2020-06-26 16:17:31,732 [denest.simulation] INFO: Build N=4 sessions\n",
      "2020-06-26 16:17:31,734 [denest.session] INFO: Creating session \"00_warmup\"\n",
      "2020-06-26 16:17:31,752 [denest.utils.validation] INFO: Object `00_warmup`: params: using default value for optional parameters:\n",
      "{'reset_network': False, 'synapse_changes': [], 'unit_changes': []}\n",
      "2020-06-26 16:17:31,758 [denest.session] INFO: Creating session \"01_3_spikes\"\n",
      "2020-06-26 16:17:31,759 [denest.utils.validation] INFO: Object `01_3_spikes`: params: using default value for optional parameters:\n",
      "{'reset_network': False, 'synapse_changes': []}\n",
      "2020-06-26 16:17:31,761 [denest.session] INFO: Creating session \"02_2_spikes\"\n",
      "2020-06-26 16:17:31,765 [denest.utils.validation] INFO: Object `02_2_spikes`: params: using default value for optional parameters:\n",
      "{'reset_network': False, 'synapse_changes': []}\n",
      "2020-06-26 16:17:31,774 [denest.session] INFO: Creating session \"03_3_spikes\"\n",
      "2020-06-26 16:17:31,776 [denest.utils.validation] INFO: Object `03_3_spikes`: params: using default value for optional parameters:\n",
      "{'reset_network': False, 'synapse_changes': []}\n",
      "2020-06-26 16:17:31,783 [denest.simulation] INFO: Sessions: ['00_warmup', '01_3_spikes', '02_2_spikes', '03_3_spikes']\n",
      "2020-06-26 16:17:31,787 [denest.simulation] INFO: Building network.\n",
      "2020-06-26 16:17:31,827 [denest.network] INFO: Build N=2 ``Model`` objects\n",
      "2020-06-26 16:17:31,830 [denest.network] INFO: Build N=2 ``SynapseModel`` objects\n",
      "2020-06-26 16:17:31,834 [denest.network] INFO: Build N=3 ``Model`` objects\n",
      "2020-06-26 16:17:31,843 [denest.network] INFO: Build N=2 ``Layer`` or ``InputLayer`` objects.\n",
      "2020-06-26 16:17:31,848 [denest.utils.validation] INFO: Object `proj_1_AMPA`: params: using default value for optional parameters:\n",
      "{'type': 'topological'}\n",
      "2020-06-26 16:17:31,866 [denest.utils.validation] INFO: Object `proj_2_GABAA`: params: using default value for optional parameters:\n",
      "{'type': 'topological'}\n",
      "2020-06-26 16:17:31,868 [denest.network] INFO: Build N=2 ``ProjectionModel`` objects\n",
      "2020-06-26 16:17:31,873 [denest.network] INFO: Build N=3 ``TopoProjection`` objects\n",
      "2020-06-26 16:17:31,892 [denest.network] INFO: Build N=2 population recorders.\n",
      "2020-06-26 16:17:31,901 [denest.network] INFO: Build N=1 projection recorders.\n",
      "2020-06-26 16:17:31,907 [denest.simulation] INFO: Creating network.\n",
      "2020-06-26 16:17:31,909 [denest.network] INFO: Creating neuron models...\n",
      "100%|██████████| 2/2 [00:00<00:00, 206.69it/s]\n",
      "2020-06-26 16:17:31,929 [denest.network] INFO: Creating synapse models...\n",
      "100%|██████████| 2/2 [00:00<00:00, 472.04it/s]\n",
      "2020-06-26 16:17:31,946 [denest.network] INFO: Creating recorder models...\n",
      "100%|██████████| 3/3 [00:00<00:00, 418.29it/s]\n",
      "2020-06-26 16:17:31,960 [denest.network] INFO: Creating layers...\n",
      "100%|██████████| 2/2 [00:00<00:00,  6.45it/s]\n",
      "2020-06-26 16:17:32,282 [denest.network] INFO: Creating population recorders...\n",
      "100%|██████████| 2/2 [00:00<00:00, 61.16it/s]\n",
      "2020-06-26 16:17:32,327 [denest.network] INFO: Creating projection recorders...\n",
      "100%|██████████| 1/1 [00:00<00:00, 108.92it/s]\n",
      "2020-06-26 16:17:32,345 [denest.network] INFO: Connecting layers...\n",
      "100%|██████████| 3/3 [00:00<00:00, 143.50it/s]\n",
      "2020-06-26 16:17:32,385 [denest.network] INFO: Network size (including recorders and parrot neurons):\n",
      "Number of nodes: 206\n",
      "Number of projections: 6650\n",
      "2020-06-26 16:17:32,399 [denest.simulation] INFO: Finished creating network\n",
      "2020-06-26 16:17:32,415 [denest.simulation] INFO: Saving simulation metadata...\n",
      "2020-06-26 16:17:32,417 [denest.simulation] INFO: Creating output directory: ./data_tuto/output_replicate\n",
      "2020-06-26 16:17:32,599 [denest.simulation] INFO: Finished saving simulation metadata\n",
      "2020-06-26 16:17:32,602 [denest.simulation] INFO: Running 4 sessions...\n",
      "2020-06-26 16:17:32,605 [denest.simulation] INFO: Running session: '00_warmup'...\n",
      "2020-06-26 16:17:32,611 [denest.session] INFO: Initializing session...\n",
      "2020-06-26 16:17:32,619 [denest.network.recorders] INFO:   Setting status for recorder my_multimeter_l1_l1_exc: {'start': 100.0}\n",
      "2020-06-26 16:17:32,624 [denest.network.recorders] INFO:   Setting status for recorder my_spike_detector_input_layer_parrot_neuron: {'start': 100.0}\n",
      "2020-06-26 16:17:32,626 [denest.network.recorders] INFO:   Setting status for recorder weight_recorder_proj_1_AMPA-l1-l1_exc-l1-l1_inh: {'start': 100.0}\n",
      "2020-06-26 16:17:32,635 [denest.session] INFO: Setting `origin` flag to `0.0` for all stimulation devices in ``InputLayers`` for session `00_warmup`\n",
      "2020-06-26 16:17:32,657 [denest.session] INFO: Finished initializing session\n",
      "\n",
      "2020-06-26 16:17:32,676 [denest.session] INFO: Running session '00_warmup' for 100 ms\n",
      "2020-06-26 16:17:32,925 [denest.session] INFO: Finished running session\n",
      "2020-06-26 16:17:32,928 [denest.session] INFO: Session '00_warmup' virtual running time: 100 ms\n",
      "2020-06-26 16:17:32,932 [denest.session] INFO: Session '00_warmup' real running time: 0h:00m:00s\n",
      "2020-06-26 16:17:32,933 [denest.simulation] INFO: Done running session '00_warmup'\n",
      "2020-06-26 16:17:32,940 [denest.simulation] INFO: Running session: '01_3_spikes'...\n",
      "2020-06-26 16:17:32,949 [denest.session] INFO: Initializing session...\n",
      "2020-06-26 16:17:32,950 [denest.session] INFO: Setting `origin` flag to `100.0` for all stimulation devices in ``InputLayers`` for session `01_3_spikes`\n",
      "2020-06-26 16:17:32,961 [denest.utils.validation] INFO: Object `Unit changes dictionary`: params: using default value for optional parameters:\n",
      "{'change_type': 'constant', 'from_array': False}\n",
      "2020-06-26 16:17:32,967 [denest.network.layers] INFO: Layer='input_layer', pop='spike_generator': Applying 'constant' change, param='spike_times', from single value')\n",
      "2020-06-26 16:17:33,262 [denest.session] INFO: Finished initializing session\n",
      "\n",
      "2020-06-26 16:17:33,264 [denest.session] INFO: Running session '01_3_spikes' for 100 ms\n",
      "2020-06-26 16:17:33,473 [denest.session] INFO: Finished running session\n",
      "2020-06-26 16:17:33,475 [denest.session] INFO: Session '01_3_spikes' virtual running time: 100 ms\n",
      "2020-06-26 16:17:33,476 [denest.session] INFO: Session '01_3_spikes' real running time: 0h:00m:00s\n",
      "2020-06-26 16:17:33,484 [denest.simulation] INFO: Done running session '01_3_spikes'\n",
      "2020-06-26 16:17:33,486 [denest.simulation] INFO: Running session: '02_2_spikes'...\n",
      "2020-06-26 16:17:33,489 [denest.session] INFO: Initializing session...\n",
      "2020-06-26 16:17:33,492 [denest.session] INFO: Setting `origin` flag to `200.0` for all stimulation devices in ``InputLayers`` for session `02_2_spikes`\n",
      "2020-06-26 16:17:33,499 [denest.utils.validation] INFO: Object `Unit changes dictionary`: params: using default value for optional parameters:\n",
      "{'change_type': 'constant', 'from_array': False}\n",
      "2020-06-26 16:17:33,503 [denest.network.layers] INFO: Layer='input_layer', pop='spike_generator': Applying 'constant' change, param='spike_times', from single value')\n",
      "2020-06-26 16:17:33,638 [denest.session] INFO: Finished initializing session\n",
      "\n",
      "2020-06-26 16:17:33,639 [denest.session] INFO: Running session '02_2_spikes' for 100 ms\n",
      "2020-06-26 16:17:33,930 [denest.session] INFO: Finished running session\n"
     ]
    },
    {
     "name": "stderr",
     "output_type": "stream",
     "text": [
      "2020-06-26 16:17:33,931 [denest.session] INFO: Session '02_2_spikes' virtual running time: 100 ms\n",
      "2020-06-26 16:17:33,932 [denest.session] INFO: Session '02_2_spikes' real running time: 0h:00m:00s\n",
      "2020-06-26 16:17:33,934 [denest.simulation] INFO: Done running session '02_2_spikes'\n",
      "2020-06-26 16:17:33,937 [denest.simulation] INFO: Running session: '03_3_spikes'...\n",
      "2020-06-26 16:17:33,941 [denest.session] INFO: Initializing session...\n",
      "2020-06-26 16:17:33,942 [denest.session] INFO: Setting `origin` flag to `300.0` for all stimulation devices in ``InputLayers`` for session `03_3_spikes`\n",
      "2020-06-26 16:17:33,950 [denest.utils.validation] INFO: Object `Unit changes dictionary`: params: using default value for optional parameters:\n",
      "{'change_type': 'constant', 'from_array': False}\n",
      "2020-06-26 16:17:33,951 [denest.network.layers] INFO: Layer='input_layer', pop='spike_generator': Applying 'constant' change, param='spike_times', from single value')\n",
      "2020-06-26 16:17:34,090 [denest.session] INFO: Finished initializing session\n",
      "\n",
      "2020-06-26 16:17:34,093 [denest.session] INFO: Running session '03_3_spikes' for 100 ms\n",
      "2020-06-26 16:17:34,267 [denest.session] INFO: Finished running session\n",
      "2020-06-26 16:17:34,268 [denest.session] INFO: Session '03_3_spikes' virtual running time: 100 ms\n",
      "2020-06-26 16:17:34,268 [denest.session] INFO: Session '03_3_spikes' real running time: 0h:00m:00s\n",
      "2020-06-26 16:17:34,273 [denest.simulation] INFO: Done running session '03_3_spikes'\n",
      "2020-06-26 16:17:34,278 [denest.simulation] INFO: Finished running simulation\n"
     ]
    }
   ],
   "source": [
    "sim = denest.Simulation(params, output_dir='./data_tuto/output_replicate')\n",
    "sim.run()"
   ]
  },
  {
   "cell_type": "code",
   "execution_count": 28,
   "metadata": {},
   "outputs": [
    {
     "name": "stdout",
     "output_type": "stream",
     "text": [
      "\u001b[1m\u001b[36mdata\u001b[m\u001b[m               git_hash           parameter_tree.yml session_times.yml\r\n"
     ]
    }
   ],
   "source": [
    "!ls {'./data_tuto/output_replicate'} "
   ]
  }
 ],
 "metadata": {
  "kernelspec": {
   "display_name": "nets",
   "language": "python",
   "name": "nets"
  },
  "language_info": {
   "codemirror_mode": {
    "name": "ipython",
    "version": 3
   },
   "file_extension": ".py",
   "mimetype": "text/x-python",
   "name": "python",
   "nbconvert_exporter": "python",
   "pygments_lexer": "ipython3",
   "version": "3.7.5"
  }
 },
 "nbformat": 4,
 "nbformat_minor": 4
}
