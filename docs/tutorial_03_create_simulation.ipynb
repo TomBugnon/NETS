{
 "cells": [
  {
   "cell_type": "markdown",
   "metadata": {},
   "source": [
    "# Let's familiarize ourselves with the ``Simulation`` object\n",
    "\n",
    "In this tutorial we:\n",
    "\n",
    "1. __Initialize an empty `Simulation` object__\n",
    "2. __Initialize the NEST kernel__ (`Simulation.init__kernel`)\n",
    "2. __Create a network__ (`Simulation.create__network`)\n",
    "2. Create sessions:\n",
    "    1. __Build session models__ (`Simulation.build__session__models`)\n",
    "    1. __Build the list of sessions__ from session models (`Simulation.build__sessions`)\n",
    "3. __Run__ the simulation\n",
    "5. __Replicate__ the simulation"
   ]
  },
  {
   "cell_type": "code",
   "execution_count": 1,
   "metadata": {},
   "outputs": [
    {
     "name": "stdout",
     "output_type": "stream",
     "text": [
      "The autoreload extension is already loaded. To reload it, use:\n",
      "  %reload_ext autoreload\n"
     ]
    }
   ],
   "source": [
    "%load_ext autoreload\n",
    "%autoreload 2\n",
    "\n",
    "import nest\n",
    "import yaml\n",
    "from pathlib import Path\n",
    "from pprint import pprint\n",
    "\n",
    "from denest import *\n",
    "import denest\n",
    "\n",
    "PARAMS_DIR = Path('./data_tuto/params')\n",
    "OUTPUT_DIR = Path('./data_tuto/output')"
   ]
  },
  {
   "cell_type": "markdown",
   "metadata": {},
   "source": [
    "# 1- Initialize an empty Simulation object\n",
    "\n",
    "Empty network, no kernel initialization, etc..."
   ]
  },
  {
   "cell_type": "code",
   "execution_count": 2,
   "metadata": {},
   "outputs": [
    {
     "name": "stderr",
     "output_type": "stream",
     "text": [
      "2020-06-25 16:01:19,860 [denest.utils.validation] INFO: 'None' tree: adding empty child kernel\n",
      "2020-06-25 16:01:19,861 [denest.utils.validation] INFO: 'None' tree: adding empty child simulation\n",
      "2020-06-25 16:01:19,866 [denest.utils.validation] INFO: 'None' tree: adding empty child session_models\n",
      "2020-06-25 16:01:19,871 [denest.utils.validation] INFO: 'None' tree: adding empty child network\n",
      "2020-06-25 16:01:19,874 [denest.utils.validation] INFO: Object `simulation`: params: using default value for optional parameters:\n",
      "{'input_dir': 'input', 'output_dir': 'output', 'sessions': []}\n",
      "2020-06-25 16:01:19,876 [denest.utils.validation] INFO: Object `kernel`: params: using default value for optional parameters:\n",
      "{'extension_modules': [], 'nest_seed': 1, 'python_seed': 1}\n",
      "2020-06-25 16:01:19,880 [denest.simulation] INFO: Initializing NEST kernel and seeds...\n",
      "2020-06-25 16:01:19,881 [denest.simulation] INFO:   Resetting NEST kernel...\n",
      "2020-06-25 16:01:19,890 [denest.simulation] INFO:   Setting NEST kernel status...\n",
      "2020-06-25 16:01:19,892 [denest.simulation] INFO:     Calling `nest.SetKernelStatus({})`\n",
      "2020-06-25 16:01:19,895 [denest.simulation] INFO:     Calling `nest.SetKernelStatus({'data_path': 'data_tuto/output/data', 'grng_seed': 2, 'rng_seeds': range(3, 4)})\n",
      "2020-06-25 16:01:19,897 [denest.simulation] INFO:   Finished setting NEST kernel status\n",
      "2020-06-25 16:01:19,898 [denest.simulation] INFO:   Installing external modules...\n",
      "2020-06-25 16:01:19,901 [denest.simulation] INFO:   Finished installing external modules\n",
      "2020-06-25 16:01:19,903 [denest.simulation] INFO:   Setting Python seed: 1\n",
      "2020-06-25 16:01:19,905 [denest.simulation] INFO: Finished initializing kernel\n",
      "2020-06-25 16:01:19,910 [denest.simulation] INFO: Build N=0 session models\n",
      "2020-06-25 16:01:19,919 [denest.simulation] INFO: Build N=0 sessions\n",
      "2020-06-25 16:01:19,923 [denest.simulation] INFO: Sessions: []\n",
      "2020-06-25 16:01:19,925 [denest.simulation] INFO: Building network.\n",
      "2020-06-25 16:01:19,933 [denest.utils.validation] INFO: 'None' tree: adding empty child neuron_models\n",
      "2020-06-25 16:01:19,935 [denest.utils.validation] INFO: 'None' tree: adding empty child synapse_models\n",
      "2020-06-25 16:01:19,942 [denest.utils.validation] INFO: 'None' tree: adding empty child layers\n",
      "2020-06-25 16:01:19,945 [denest.utils.validation] INFO: 'None' tree: adding empty child projection_models\n",
      "2020-06-25 16:01:19,951 [denest.utils.validation] INFO: 'None' tree: adding empty child topology\n",
      "2020-06-25 16:01:19,953 [denest.utils.validation] INFO: 'None' tree: adding empty child recorder_models\n",
      "2020-06-25 16:01:19,958 [denest.utils.validation] INFO: 'None' tree: adding empty child recorders\n",
      "2020-06-25 16:01:19,963 [denest.network] INFO: Build N=0 ``Model`` objects\n",
      "2020-06-25 16:01:19,966 [denest.network] INFO: Build N=0 ``SynapseModel`` objects\n",
      "2020-06-25 16:01:19,969 [denest.network] INFO: Build N=0 ``Model`` objects\n",
      "2020-06-25 16:01:19,970 [denest.network] INFO: Build N=0 ``Layer`` or ``InputLayer`` objects.\n",
      "2020-06-25 16:01:19,971 [denest.network] INFO: Build N=0 ``ProjectionModel`` objects\n",
      "2020-06-25 16:01:19,976 [denest.utils.validation] INFO: Object `topology`: params: using default value for optional parameters:\n",
      "{'projections': []}\n",
      "2020-06-25 16:01:19,978 [denest.network] INFO: Build N=0 ``TopoProjection`` objects\n",
      "2020-06-25 16:01:19,987 [denest.utils.validation] INFO: Object `recorders`: params: using default value for optional parameters:\n",
      "{'population_recorders': [], 'projection_recorders': []}\n",
      "2020-06-25 16:01:19,991 [denest.network] INFO: Build N=0 population recorders.\n",
      "2020-06-25 16:01:19,995 [denest.network] INFO: Build N=0 projection recorders.\n",
      "2020-06-25 16:01:19,999 [denest.utils.validation] INFO: Object `topology`: params: using default value for optional parameters:\n",
      "{'projections': []}\n",
      "2020-06-25 16:01:20,001 [denest.network] INFO: Build N=0 ``TopoProjection`` objects\n",
      "2020-06-25 16:01:20,007 [denest.utils.validation] INFO: Object `recorders`: params: using default value for optional parameters:\n",
      "{'population_recorders': [], 'projection_recorders': []}\n",
      "2020-06-25 16:01:20,012 [denest.network] INFO: Build N=0 population recorders.\n",
      "2020-06-25 16:01:20,015 [denest.network] INFO: Build N=0 projection recorders.\n",
      "2020-06-25 16:01:20,017 [denest.simulation] INFO: Creating network.\n",
      "2020-06-25 16:01:20,024 [denest.network] INFO: Creating neuron models...\n",
      "0it [00:00, ?it/s]\n",
      "2020-06-25 16:01:20,055 [denest.network] INFO: Creating synapse models...\n",
      "0it [00:00, ?it/s]\n",
      "2020-06-25 16:01:20,071 [denest.network] INFO: Creating recorder models...\n",
      "0it [00:00, ?it/s]\n",
      "2020-06-25 16:01:20,083 [denest.network] INFO: Creating layers...\n",
      "0it [00:00, ?it/s]\n",
      "2020-06-25 16:01:20,094 [denest.network] INFO: Creating population recorders...\n",
      "0it [00:00, ?it/s]\n",
      "2020-06-25 16:01:20,107 [denest.network] INFO: Creating projection recorders...\n",
      "0it [00:00, ?it/s]\n",
      "2020-06-25 16:01:20,119 [denest.network] INFO: Connecting layers...\n",
      "0it [00:00, ?it/s]\n",
      "2020-06-25 16:01:20,134 [denest.network] INFO: Network size (including recorders and parrot neurons):\n",
      "Number of nodes: 1\n",
      "Number of projections: 0\n",
      "2020-06-25 16:01:20,143 [denest.simulation] INFO: Finished creating network\n",
      "2020-06-25 16:01:20,147 [denest.simulation] INFO: Saving simulation metadata...\n",
      "2020-06-25 16:01:20,155 [denest.simulation] INFO: Creating output directory: data_tuto/output\n",
      "2020-06-25 16:01:20,204 [denest.simulation] INFO: Finished saving simulation metadata\n"
     ]
    }
   ],
   "source": [
    "sim = Simulation(output_dir=OUTPUT_DIR)"
   ]
  },
  {
   "cell_type": "markdown",
   "metadata": {},
   "source": [
    "# 2- Initialize the NEST kernel\n",
    "\n",
    "``Simulation.init_kernel??`` for doc"
   ]
  },
  {
   "cell_type": "code",
   "execution_count": 3,
   "metadata": {},
   "outputs": [],
   "source": [
    "kernel_tree = {\n",
    "    'params':\n",
    "        {\n",
    "            'nest_seed': 10,\n",
    "            'extension_modules': [],\n",
    "        },\n",
    "    'nest_params':\n",
    "        {\n",
    "            'resolution': 0.5,\n",
    "            'overwrite_files': True\n",
    "        },\n",
    "}"
   ]
  },
  {
   "cell_type": "code",
   "execution_count": 4,
   "metadata": {},
   "outputs": [
    {
     "name": "stderr",
     "output_type": "stream",
     "text": [
      "2020-06-25 16:01:20,337 [denest.utils.validation] INFO: Object `kernel`: params: using default value for optional parameters:\n",
      "{'python_seed': 1}\n",
      "2020-06-25 16:01:20,340 [denest.simulation] INFO: Initializing NEST kernel and seeds...\n",
      "2020-06-25 16:01:20,345 [denest.simulation] INFO:   Resetting NEST kernel...\n",
      "2020-06-25 16:01:20,354 [denest.simulation] INFO:   Setting NEST kernel status...\n",
      "2020-06-25 16:01:20,355 [denest.simulation] INFO:     Calling `nest.SetKernelStatus({'resolution': 0.5, 'overwrite_files': True})`\n",
      "2020-06-25 16:01:20,358 [denest.simulation] INFO:     Calling `nest.SetKernelStatus({'data_path': 'data_tuto/output/data', 'grng_seed': 11, 'rng_seeds': range(12, 13)})\n",
      "2020-06-25 16:01:20,359 [denest.simulation] INFO:   Finished setting NEST kernel status\n",
      "2020-06-25 16:01:20,361 [denest.simulation] INFO:   Installing external modules...\n",
      "2020-06-25 16:01:20,363 [denest.simulation] INFO:   Finished installing external modules\n",
      "2020-06-25 16:01:20,366 [denest.simulation] INFO:   Setting Python seed: 1\n",
      "2020-06-25 16:01:20,368 [denest.simulation] INFO: Finished initializing kernel\n"
     ]
    }
   ],
   "source": [
    "sim.init_kernel(kernel_tree)"
   ]
  },
  {
   "cell_type": "code",
   "execution_count": 5,
   "metadata": {},
   "outputs": [
    {
     "name": "stdout",
     "output_type": "stream",
     "text": [
      "0.5\n",
      "0.0\n"
     ]
    }
   ],
   "source": [
    "# nest_params have been passed to nest.SetKernelStatus\n",
    "print(nest.GetKernelStatus('resolution'))\n",
    "print(nest.GetKernelStatus('time'))"
   ]
  },
  {
   "cell_type": "code",
   "execution_count": 6,
   "metadata": {},
   "outputs": [
    {
     "data": {
      "text/plain": [
       "'data_tuto/output/data'"
      ]
     },
     "execution_count": 6,
     "metadata": {},
     "output_type": "execute_result"
    }
   ],
   "source": [
    "# The raw data will be saved in the output directory\n",
    "nest.GetKernelStatus('data_path')"
   ]
  },
  {
   "cell_type": "code",
   "execution_count": 7,
   "metadata": {},
   "outputs": [
    {
     "data": {
      "text/plain": [
       "ParamsTree(name='None', parent=None)\n",
       "  params: {}\n",
       "  nest_params: {}\n",
       "  kernel:\n",
       "    params:\n",
       "      nest_seed: 10\n",
       "      extension_modules: []\n",
       "    nest_params:\n",
       "      resolution: 0.5\n",
       "      overwrite_files: true\n",
       "  simulation:\n",
       "    params:\n",
       "      output_dir: data_tuto/output\n",
       "      sessions: []\n",
       "    nest_params: {}\n",
       "  session_models:\n",
       "    params: {}\n",
       "    nest_params: {}\n",
       "  network:\n",
       "    params: {}\n",
       "    nest_params: {}\n",
       "  "
      ]
     },
     "execution_count": 7,
     "metadata": {},
     "output_type": "execute_result"
    }
   ],
   "source": [
    "# The kernel params are saved in the simulation's tree\n",
    "sim.tree"
   ]
  },
  {
   "cell_type": "markdown",
   "metadata": {},
   "source": [
    "# 3- Create a network\n",
    "\n",
    "We build and create the same network by passing the network tree,\n",
    "using the ``Simulation.create_network`` method"
   ]
  },
  {
   "cell_type": "code",
   "execution_count": 8,
   "metadata": {},
   "outputs": [],
   "source": [
    "net_tree = ParamsTree.read(PARAMS_DIR/'network_tree.yml')"
   ]
  },
  {
   "cell_type": "code",
   "execution_count": 9,
   "metadata": {},
   "outputs": [
    {
     "name": "stderr",
     "output_type": "stream",
     "text": [
      "2020-06-25 16:01:20,790 [denest.simulation] INFO: Building network.\n",
      "2020-06-25 16:01:20,809 [denest.network] INFO: Build N=2 ``Model`` objects\n",
      "2020-06-25 16:01:20,811 [denest.network] INFO: Build N=2 ``SynapseModel`` objects\n",
      "2020-06-25 16:01:20,824 [denest.network] INFO: Build N=3 ``Model`` objects\n",
      "2020-06-25 16:01:20,827 [denest.network] INFO: Build N=2 ``Layer`` or ``InputLayer`` objects.\n",
      "2020-06-25 16:01:20,836 [denest.utils.validation] INFO: Object `proj_1_AMPA`: params: using default value for optional parameters:\n",
      "{'type': 'topological'}\n",
      "2020-06-25 16:01:20,839 [denest.utils.validation] INFO: Object `proj_2_GABAA`: params: using default value for optional parameters:\n",
      "{'type': 'topological'}\n",
      "2020-06-25 16:01:20,850 [denest.network] INFO: Build N=2 ``ProjectionModel`` objects\n",
      "2020-06-25 16:01:20,871 [denest.network] INFO: Build N=3 ``TopoProjection`` objects\n",
      "2020-06-25 16:01:20,886 [denest.network] INFO: Build N=2 population recorders.\n",
      "2020-06-25 16:01:20,906 [denest.network] INFO: Build N=1 projection recorders.\n",
      "2020-06-25 16:01:20,910 [denest.network] INFO: Build N=3 ``TopoProjection`` objects\n",
      "2020-06-25 16:01:20,934 [denest.network] INFO: Build N=2 population recorders.\n",
      "2020-06-25 16:01:20,937 [denest.network] INFO: Build N=1 projection recorders.\n",
      "2020-06-25 16:01:20,947 [denest.simulation] INFO: Creating network.\n",
      "2020-06-25 16:01:20,950 [denest.network] INFO: Creating neuron models...\n",
      "100%|██████████| 2/2 [00:00<00:00, 597.73it/s]\n",
      "2020-06-25 16:01:20,966 [denest.network] INFO: Creating synapse models...\n",
      "100%|██████████| 2/2 [00:00<00:00, 549.57it/s]\n",
      "2020-06-25 16:01:20,980 [denest.network] INFO: Creating recorder models...\n",
      "100%|██████████| 3/3 [00:00<00:00, 504.87it/s]\n",
      "2020-06-25 16:01:21,003 [denest.network] INFO: Creating layers...\n",
      "  0%|          | 0/2 [00:00<?, ?it/s]/Users/tom/nest/nest-simulator-2.20.0/lib/python3.7/site-packages/nest/lib/hl_api_helper.py:127: UserWarning:\n",
      "GetNodes is deprecated and will be removed in NEST 3.0. Use             GIDCollection instead.\n",
      "100%|██████████| 2/2 [00:00<00:00,  8.01it/s]\n",
      "2020-06-25 16:01:21,268 [denest.network] INFO: Creating population recorders...\n",
      "100%|██████████| 2/2 [00:00<00:00, 32.37it/s]\n",
      "2020-06-25 16:01:21,336 [denest.network] INFO: Creating projection recorders...\n",
      "100%|██████████| 1/1 [00:00<00:00, 270.34it/s]\n",
      "2020-06-25 16:01:21,358 [denest.network] INFO: Connecting layers...\n",
      "100%|██████████| 3/3 [00:00<00:00, 831.43it/s]\n",
      "2020-06-25 16:01:21,378 [denest.network] INFO: Network size (including recorders and parrot neurons):\n",
      "Number of nodes: 206\n",
      "Number of projections: 6650\n",
      "2020-06-25 16:01:21,400 [denest.simulation] INFO: Finished creating network\n"
     ]
    }
   ],
   "source": [
    "sim.create_network(net_tree)"
   ]
  },
  {
   "cell_type": "code",
   "execution_count": 10,
   "metadata": {},
   "outputs": [
    {
     "data": {
      "text/plain": [
       "(52,)"
      ]
     },
     "execution_count": 10,
     "metadata": {},
     "output_type": "execute_result"
    }
   ],
   "source": [
    "# Network object was created and can be accessed as we learnt\n",
    "sim.network.layers['l1'].gid"
   ]
  },
  {
   "cell_type": "code",
   "execution_count": 11,
   "metadata": {},
   "outputs": [
    {
     "data": {
      "text/plain": [
       "ParamsTree(name='None', parent=None)\n",
       "  params: {}\n",
       "  nest_params: {}\n",
       "  kernel:\n",
       "    params:\n",
       "      nest_seed: 10\n",
       "      extension_modules: []\n",
       "    nest_params:\n",
       "      resolution: 0.5\n",
       "      overwrite_files: true\n",
       "  simulation:\n",
       "    params:\n",
       "      output_dir: data_tuto/output\n",
       "      sessions: []\n",
       "    nest_params: {}\n",
       "  session_models:\n",
       "  \n",
       "  ... [134 lines] ...\n",
       "\n",
       "        - layers:\n",
       "          - input_layer\n",
       "          populations: null\n",
       "          model: my_spike_detector\n",
       "        projection_recorders:\n",
       "        - source_layers:\n",
       "          - l1\n",
       "          source_population: l1_exc\n",
       "          target_layers:\n",
       "          - l1\n",
       "          target_population: l1_inh\n",
       "          projection_model: proj_1_AMPA\n",
       "          model: weight_recorder\n",
       "      nest_params: {}\n",
       "  "
      ]
     },
     "execution_count": 11,
     "metadata": {},
     "output_type": "execute_result"
    }
   ],
   "source": [
    "# network tree was saved and can be re-used\n",
    "sim.tree"
   ]
  },
  {
   "cell_type": "markdown",
   "metadata": {},
   "source": [
    "# 4- Create some sessions\n",
    "\n",
    "### so we can run the network in specific conditions\n",
    "\n",
    "\n",
    "Session parameters:\n",
    "\n",
    "- ``simulation_time`` (float): Duration of the session in ms.\n",
    "    (mandatory)\n",
    "- ``reset_network`` (bool): If true, ``nest.ResetNetwork()`` is\n",
    "    called during session initialization (default ``False``)\n",
    "- ``record`` (bool): If false, the ``start_time`` field of\n",
    "    recorder nodes in NEST is set to the end time of the\n",
    "    session, so that no data is recorded during the session\n",
    "    (default ``True``)\n",
    "- ``shift_origin`` (bool): If True, the ``origin`` flag of the\n",
    "    stimulation devices of all the network's ``InputLayer``\n",
    "    layers is set to the start of the session during\n",
    "    initialization. Useful to repeat sessions when the\n",
    "    stimulators are eg spike generators.\n",
    "- ``unit_changes`` (list): List describing the changes applied\n",
    "    to certain units before the start of the session.\n",
    "    Passed to ``Network.set_state``.\n",
    "- ``synapse_changes`` (list): List describing the changes\n",
    "    applied to certain synapses before the start of the session.\n",
    "    Passed to ``Network.set_state``. Refer to that\n",
    "    method for a description of how ``synapse_changes`` is\n",
    "    formatted and interpreted. No changes happen if empty.\n",
    "    (default [])\n"
   ]
  },
  {
   "cell_type": "markdown",
   "metadata": {},
   "source": [
    "## Build session models from a tree"
   ]
  },
  {
   "cell_type": "code",
   "execution_count": 12,
   "metadata": {},
   "outputs": [
    {
     "name": "stdout",
     "output_type": "stream",
     "text": [
      "params:\n",
      "  record: true\n",
      "  shift_origin: true\n",
      "  simulation_time: 100.0\n",
      "nest_params: {}\n",
      "warmup:\n",
      "  params:\n",
      "    record: false\n",
      "  nest_params: {}\n",
      "2_spikes:\n",
      "  params:\n",
      "    unit_changes:\n",
      "    - layers:\n",
      "      - input_layer\n",
      "      population_name: spike_generator\n",
      "      nest_params:\n",
      "        spike_times:\n",
      "        - 1.0\n",
      "        - 10.0\n",
      "  nest_params: {}\n",
      "3_spikes:\n",
      "  params:\n",
      "    unit_changes:\n",
      "    - layers:\n",
      "      - input_layer\n",
      "      population_name: spike_generator\n",
      "      nest_params:\n",
      "        spike_times:\n",
      "        - 1.0\n",
      "        - 10.0\n",
      "        - 20.0\n",
      "  nest_params: {}\n",
      "\n"
     ]
    }
   ],
   "source": [
    "# Notice the hierarchical inheritance as before\n",
    "session_models_tree = ParamsTree.read(PARAMS_DIR/'session_models.yml').children['session_models']\n",
    "print(session_models_tree)"
   ]
  },
  {
   "cell_type": "code",
   "execution_count": 13,
   "metadata": {},
   "outputs": [
    {
     "name": "stderr",
     "output_type": "stream",
     "text": [
      "2020-06-25 16:01:21,727 [denest.simulation] INFO: Build N=3 session models\n"
     ]
    }
   ],
   "source": [
    "sim.build_session_models(session_models_tree)"
   ]
  },
  {
   "cell_type": "code",
   "execution_count": 14,
   "metadata": {},
   "outputs": [
    {
     "data": {
      "text/plain": [
       "ParamsTree(name='session_models', parent='None')\n",
       "  params:\n",
       "    record: true\n",
       "    shift_origin: true\n",
       "    simulation_time: 100.0\n",
       "  nest_params: {}\n",
       "  warmup:\n",
       "    params:\n",
       "      record: false\n",
       "    nest_params: {}\n",
       "  2_spikes:\n",
       "    params:\n",
       "      unit_changes:\n",
       "      - layers:\n",
       "        - input_layer\n",
       "        population_name: spike_generator\n",
       "  \n",
       "  ... [3 lines] ...\n",
       "\n",
       "          - 10.0\n",
       "    nest_params: {}\n",
       "  3_spikes:\n",
       "    params:\n",
       "      unit_changes:\n",
       "      - layers:\n",
       "        - input_layer\n",
       "        population_name: spike_generator\n",
       "        nest_params:\n",
       "          spike_times:\n",
       "          - 1.0\n",
       "          - 10.0\n",
       "          - 20.0\n",
       "    nest_params: {}\n",
       "  "
      ]
     },
     "execution_count": 14,
     "metadata": {},
     "output_type": "execute_result"
    }
   ],
   "source": [
    "sim.tree.children['session_models']"
   ]
  },
  {
   "cell_type": "markdown",
   "metadata": {},
   "source": [
    "## Build a list of sessions from the ``session_models`` templates"
   ]
  },
  {
   "cell_type": "code",
   "execution_count": 15,
   "metadata": {},
   "outputs": [],
   "source": [
    "sessions_order =  ['warmup', '3_spikes', '2_spikes', '3_spikes']\n"
   ]
  },
  {
   "cell_type": "code",
   "execution_count": 16,
   "metadata": {},
   "outputs": [
    {
     "name": "stderr",
     "output_type": "stream",
     "text": [
      "2020-06-25 16:01:21,942 [denest.simulation] INFO: Build N=4 sessions\n",
      "2020-06-25 16:01:21,944 [denest.session] INFO: Creating session \"00_warmup\"\n",
      "2020-06-25 16:01:21,946 [denest.utils.validation] INFO: Object `00_warmup`: params: using default value for optional parameters:\n",
      "{'reset_network': False, 'synapse_changes': [], 'unit_changes': []}\n",
      "2020-06-25 16:01:21,947 [denest.session] INFO: Creating session \"01_3_spikes\"\n",
      "2020-06-25 16:01:21,950 [denest.utils.validation] INFO: Object `01_3_spikes`: params: using default value for optional parameters:\n",
      "{'reset_network': False, 'synapse_changes': []}\n",
      "2020-06-25 16:01:21,951 [denest.session] INFO: Creating session \"02_2_spikes\"\n",
      "2020-06-25 16:01:21,955 [denest.utils.validation] INFO: Object `02_2_spikes`: params: using default value for optional parameters:\n",
      "{'reset_network': False, 'synapse_changes': []}\n",
      "2020-06-25 16:01:21,956 [denest.session] INFO: Creating session \"03_3_spikes\"\n",
      "2020-06-25 16:01:21,958 [denest.utils.validation] INFO: Object `03_3_spikes`: params: using default value for optional parameters:\n",
      "{'reset_network': False, 'synapse_changes': []}\n",
      "2020-06-25 16:01:21,960 [denest.simulation] INFO: Sessions: ['00_warmup', '01_3_spikes', '02_2_spikes', '03_3_spikes']\n"
     ]
    }
   ],
   "source": [
    "sim.build_sessions(sessions_order)"
   ]
  },
  {
   "cell_type": "code",
   "execution_count": 17,
   "metadata": {},
   "outputs": [
    {
     "data": {
      "text/plain": [
       "[Session(00_warmup, {'record': False,\n",
       "  'reset_network': False,\n",
       "  'shift_origin': True,\n",
       "  'simulation_time': 100.0,\n",
       "  'synapse_changes': [],\n",
       "  'unit_changes': []}),\n",
       " Session(01_3_spikes, {'record': True,\n",
       "  'reset_network': False,\n",
       "  'shift_origin': True,\n",
       "  'simulation_time': 100.0,\n",
       "  'synapse_changes': [],\n",
       "  'unit_changes': [{'layers': ['input_layer'],\n",
       "                    'nest_params': {'spike_times': [1.0, 10.0, 20.0]},\n",
       "                    'population_name': 'spike_generator'}]}),\n",
       " Session(02_2_spikes, {'record': True,\n",
       "  'reset_network': False,\n",
       "  'shift_origin': True,\n",
       "  'simulation_time': 100.0,\n",
       "  'synapse_changes': [],\n",
       "  'unit_changes': [{'layers': ['input_layer'],\n",
       "                    'nest_params': {'spike_times': [1.0, 10.0]},\n",
       "                    'population_name': 'spike_generator'}]}),\n",
       " Session(03_3_spikes, {'record': True,\n",
       "  'reset_network': False,\n",
       "  'shift_origin': True,\n",
       "  'simulation_time': 100.0,\n",
       "  'synapse_changes': [],\n",
       "  'unit_changes': [{'layers': ['input_layer'],\n",
       "                    'nest_params': {'spike_times': [1.0, 10.0, 20.0]},\n",
       "                    'population_name': 'spike_generator'}]})]"
      ]
     },
     "execution_count": 17,
     "metadata": {},
     "output_type": "execute_result"
    }
   ],
   "source": [
    "# Notice the session names\n",
    "sim.sessions"
   ]
  },
  {
   "cell_type": "code",
   "execution_count": 18,
   "metadata": {},
   "outputs": [
    {
     "data": {
      "text/plain": [
       "ParamsTree(name='simulation', parent='None')\n",
       "  params:\n",
       "    output_dir: data_tuto/output\n",
       "    sessions:\n",
       "    - warmup\n",
       "    - 3_spikes\n",
       "    - 2_spikes\n",
       "    - 3_spikes\n",
       "  nest_params: {}\n",
       "  "
      ]
     },
     "execution_count": 18,
     "metadata": {},
     "output_type": "execute_result"
    }
   ],
   "source": [
    "# The session order is saved in the simulation parameters\n",
    "\n",
    "sim.tree.children['simulation']"
   ]
  },
  {
   "cell_type": "markdown",
   "metadata": {},
   "source": [
    "# 5- Run the simulation"
   ]
  },
  {
   "cell_type": "code",
   "execution_count": 19,
   "metadata": {},
   "outputs": [
    {
     "name": "stdout",
     "output_type": "stream",
     "text": [
      "kernel time:  0.0\n"
     ]
    }
   ],
   "source": [
    "print('kernel time: ', nest.GetKernelStatus('time'))"
   ]
  },
  {
   "cell_type": "code",
   "execution_count": 20,
   "metadata": {},
   "outputs": [
    {
     "name": "stderr",
     "output_type": "stream",
     "text": [
      "2020-06-25 16:01:22,425 [denest.simulation] INFO: Running 4 sessions...\n",
      "2020-06-25 16:01:22,426 [denest.simulation] INFO: Running session: '00_warmup'...\n",
      "2020-06-25 16:01:22,427 [denest.session] INFO: Initializing session...\n",
      "2020-06-25 16:01:22,441 [denest.network.recorders] INFO:   Setting status for recorder my_multimeter_l1_l1_exc: {'start': 100.0}\n",
      "2020-06-25 16:01:22,442 [denest.network.recorders] INFO:   Setting status for recorder my_spike_detector_input_layer_parrot_neuron: {'start': 100.0}\n",
      "2020-06-25 16:01:22,445 [denest.network.recorders] INFO:   Setting status for recorder weight_recorder_proj_1_AMPA-l1-l1_exc-l1-l1_inh: {'start': 100.0}\n",
      "2020-06-25 16:01:22,447 [denest.session] INFO: Setting `origin` flag to `0.0` for all stimulation devices in ``InputLayers`` for session `00_warmup`\n",
      "2020-06-25 16:01:22,454 [denest.session] INFO: Finished initializing session\n",
      "\n",
      "2020-06-25 16:01:22,458 [denest.session] INFO: Running session '00_warmup' for 100 ms\n",
      "2020-06-25 16:01:22,665 [denest.session] INFO: Finished running session\n",
      "2020-06-25 16:01:22,666 [denest.session] INFO: Session '00_warmup' virtual running time: 100 ms\n",
      "2020-06-25 16:01:22,667 [denest.session] INFO: Session '00_warmup' real running time: 0h:00m:00s\n",
      "2020-06-25 16:01:22,668 [denest.simulation] INFO: Done running session '00_warmup'\n",
      "2020-06-25 16:01:22,669 [denest.simulation] INFO: Running session: '01_3_spikes'...\n",
      "2020-06-25 16:01:22,671 [denest.session] INFO: Initializing session...\n",
      "2020-06-25 16:01:22,672 [denest.session] INFO: Setting `origin` flag to `100.0` for all stimulation devices in ``InputLayers`` for session `01_3_spikes`\n",
      "2020-06-25 16:01:22,678 [denest.utils.validation] INFO: Object `Unit changes dictionary`: params: using default value for optional parameters:\n",
      "{'change_type': 'constant', 'from_array': False}\n",
      "2020-06-25 16:01:22,679 [denest.network.layers] INFO: Layer='input_layer', pop='spike_generator': Applying 'constant' change, param='spike_times', from single value')\n",
      "2020-06-25 16:01:22,862 [denest.session] INFO: Finished initializing session\n",
      "\n",
      "2020-06-25 16:01:22,863 [denest.session] INFO: Running session '01_3_spikes' for 100 ms\n",
      "2020-06-25 16:01:23,017 [denest.session] INFO: Finished running session\n",
      "2020-06-25 16:01:23,018 [denest.session] INFO: Session '01_3_spikes' virtual running time: 100 ms\n",
      "2020-06-25 16:01:23,021 [denest.session] INFO: Session '01_3_spikes' real running time: 0h:00m:00s\n",
      "2020-06-25 16:01:23,023 [denest.simulation] INFO: Done running session '01_3_spikes'\n",
      "2020-06-25 16:01:23,024 [denest.simulation] INFO: Running session: '02_2_spikes'...\n",
      "2020-06-25 16:01:23,027 [denest.session] INFO: Initializing session...\n",
      "2020-06-25 16:01:23,029 [denest.session] INFO: Setting `origin` flag to `200.0` for all stimulation devices in ``InputLayers`` for session `02_2_spikes`\n",
      "2020-06-25 16:01:23,056 [denest.utils.validation] INFO: Object `Unit changes dictionary`: params: using default value for optional parameters:\n",
      "{'change_type': 'constant', 'from_array': False}\n",
      "2020-06-25 16:01:23,060 [denest.network.layers] INFO: Layer='input_layer', pop='spike_generator': Applying 'constant' change, param='spike_times', from single value')\n",
      "2020-06-25 16:01:23,183 [denest.session] INFO: Finished initializing session\n",
      "\n",
      "2020-06-25 16:01:23,183 [denest.session] INFO: Running session '02_2_spikes' for 100 ms\n",
      "2020-06-25 16:01:23,356 [denest.session] INFO: Finished running session\n",
      "2020-06-25 16:01:23,357 [denest.session] INFO: Session '02_2_spikes' virtual running time: 100 ms\n",
      "2020-06-25 16:01:23,360 [denest.session] INFO: Session '02_2_spikes' real running time: 0h:00m:00s\n",
      "2020-06-25 16:01:23,364 [denest.simulation] INFO: Done running session '02_2_spikes'\n",
      "2020-06-25 16:01:23,365 [denest.simulation] INFO: Running session: '03_3_spikes'...\n",
      "2020-06-25 16:01:23,366 [denest.session] INFO: Initializing session...\n",
      "2020-06-25 16:01:23,368 [denest.session] INFO: Setting `origin` flag to `300.0` for all stimulation devices in ``InputLayers`` for session `03_3_spikes`\n",
      "2020-06-25 16:01:23,374 [denest.utils.validation] INFO: Object `Unit changes dictionary`: params: using default value for optional parameters:\n",
      "{'change_type': 'constant', 'from_array': False}\n",
      "2020-06-25 16:01:23,386 [denest.network.layers] INFO: Layer='input_layer', pop='spike_generator': Applying 'constant' change, param='spike_times', from single value')\n",
      "2020-06-25 16:01:23,552 [denest.session] INFO: Finished initializing session\n",
      "\n",
      "2020-06-25 16:01:23,553 [denest.session] INFO: Running session '03_3_spikes' for 100 ms\n",
      "2020-06-25 16:01:23,677 [denest.session] INFO: Finished running session\n",
      "2020-06-25 16:01:23,683 [denest.session] INFO: Session '03_3_spikes' virtual running time: 100 ms\n",
      "2020-06-25 16:01:23,684 [denest.session] INFO: Session '03_3_spikes' real running time: 0h:00m:00s\n",
      "2020-06-25 16:01:23,686 [denest.simulation] INFO: Done running session '03_3_spikes'\n",
      "2020-06-25 16:01:23,689 [denest.simulation] INFO: Finished running simulation\n"
     ]
    }
   ],
   "source": [
    "sim.run()"
   ]
  },
  {
   "cell_type": "code",
   "execution_count": 21,
   "metadata": {},
   "outputs": [
    {
     "data": {
      "text/plain": [
       "400.0"
      ]
     },
     "execution_count": 21,
     "metadata": {},
     "output_type": "execute_result"
    }
   ],
   "source": [
    "nest.GetKernelStatus('time')"
   ]
  },
  {
   "cell_type": "markdown",
   "metadata": {},
   "source": [
    "### Since the initialized Simulation object was empty, we need to save the metadata"
   ]
  },
  {
   "cell_type": "code",
   "execution_count": 22,
   "metadata": {},
   "outputs": [
    {
     "name": "stderr",
     "output_type": "stream",
     "text": [
      "2020-06-25 16:01:23,877 [denest.simulation] INFO: Saving simulation metadata...\n",
      "2020-06-25 16:01:23,878 [denest.simulation] INFO: Creating output directory: data_tuto/output\n",
      "2020-06-25 16:01:23,981 [denest.simulation] INFO: Finished saving simulation metadata\n"
     ]
    }
   ],
   "source": [
    "sim.save_metadata()"
   ]
  },
  {
   "cell_type": "code",
   "execution_count": 23,
   "metadata": {},
   "outputs": [
    {
     "name": "stdout",
     "output_type": "stream",
     "text": [
      "\u001b[1m\u001b[36mdata\u001b[m\u001b[m               git_hash           parameter_tree.yml session_times.yml\r\n"
     ]
    }
   ],
   "source": [
    "!ls {OUTPUT_DIR}"
   ]
  },
  {
   "cell_type": "code",
   "execution_count": 24,
   "metadata": {},
   "outputs": [
    {
     "name": "stdout",
     "output_type": "stream",
     "text": [
      "00_warmup: !!python/tuple\r\n",
      "- 0.0\r\n",
      "- 100.0\r\n",
      "01_3_spikes: !!python/tuple\r\n",
      "- 100.0\r\n",
      "- 200.0\r\n",
      "02_2_spikes: !!python/tuple\r\n",
      "- 200.0\r\n",
      "- 300.0\r\n",
      "03_3_spikes: !!python/tuple\r\n",
      "- 300.0\r\n",
      "- 400.0\r\n"
     ]
    }
   ],
   "source": [
    "!cat {OUTPUT_DIR/'session_times.yml'}"
   ]
  },
  {
   "cell_type": "code",
   "execution_count": 25,
   "metadata": {},
   "outputs": [
    {
     "name": "stdout",
     "output_type": "stream",
     "text": [
      "my_multimeter_l1_l1_exc-203-0.dat\r\n",
      "my_multimeter_l1_l1_exc.yml\r\n",
      "my_spike_detector_input_layer_parrot_neuron-204-0.gdf\r\n",
      "my_spike_detector_input_layer_parrot_neuron.yml\r\n",
      "weight_recorder_proj_1_AMPA-l1-l1_exc-l1-l1_inh-205-0.csv\r\n",
      "weight_recorder_proj_1_AMPA-l1-l1_exc-l1-l1_inh.yml\r\n"
     ]
    }
   ],
   "source": [
    "!ls {OUTPUT_DIR/'data'}"
   ]
  },
  {
   "cell_type": "markdown",
   "metadata": {},
   "source": [
    "# 6- Replicate the simulation"
   ]
  },
  {
   "cell_type": "code",
   "execution_count": 26,
   "metadata": {},
   "outputs": [
    {
     "data": {
      "text/plain": [
       "ParamsTree(name='None', parent=None)\n",
       "  params: {}\n",
       "  nest_params: {}\n",
       "  kernel:\n",
       "    params:\n",
       "      nest_seed: 10\n",
       "      extension_modules: []\n",
       "    nest_params:\n",
       "      resolution: 0.5\n",
       "      overwrite_files: true\n",
       "  simulation:\n",
       "    params:\n",
       "      output_dir: data_tuto/output\n",
       "      sessions:\n",
       "      - warmup\n",
       "      - 3_spikes\n",
       "  \n",
       "  ... [168 lines] ...\n",
       "\n",
       "        - layers:\n",
       "          - input_layer\n",
       "          populations: null\n",
       "          model: my_spike_detector\n",
       "        projection_recorders:\n",
       "        - source_layers:\n",
       "          - l1\n",
       "          source_population: l1_exc\n",
       "          target_layers:\n",
       "          - l1\n",
       "          target_population: l1_inh\n",
       "          projection_model: proj_1_AMPA\n",
       "          model: weight_recorder\n",
       "      nest_params: {}\n",
       "  "
      ]
     },
     "execution_count": 26,
     "metadata": {},
     "output_type": "execute_result"
    }
   ],
   "source": [
    "params = ParamsTree.read(OUTPUT_DIR/'parameter_tree.yml')\n",
    "params"
   ]
  },
  {
   "cell_type": "code",
   "execution_count": 27,
   "metadata": {},
   "outputs": [
    {
     "name": "stderr",
     "output_type": "stream",
     "text": [
      "2020-06-25 16:01:24,714 [denest.utils.validation] INFO: Object `simulation`: params: using default value for optional parameters:\n",
      "{'input_dir': 'input'}\n",
      "2020-06-25 16:01:24,716 [denest.utils.validation] INFO: Object `kernel`: params: using default value for optional parameters:\n",
      "{'python_seed': 1}\n",
      "2020-06-25 16:01:24,717 [denest.simulation] INFO: Initializing NEST kernel and seeds...\n",
      "2020-06-25 16:01:24,717 [denest.simulation] INFO:   Resetting NEST kernel...\n",
      "2020-06-25 16:01:24,742 [denest.simulation] INFO:   Setting NEST kernel status...\n",
      "2020-06-25 16:01:24,743 [denest.simulation] INFO:     Calling `nest.SetKernelStatus({'resolution': 0.5, 'overwrite_files': True})`\n",
      "2020-06-25 16:01:24,748 [denest.simulation] INFO:     Calling `nest.SetKernelStatus({'data_path': 'data_tuto/output_replicate/data', 'grng_seed': 11, 'rng_seeds': range(12, 13)})\n",
      "2020-06-25 16:01:24,776 [denest.simulation] INFO:   Finished setting NEST kernel status\n",
      "2020-06-25 16:01:24,811 [denest.simulation] INFO:   Installing external modules...\n",
      "2020-06-25 16:01:24,881 [denest.simulation] INFO:   Finished installing external modules\n",
      "2020-06-25 16:01:24,906 [denest.simulation] INFO:   Setting Python seed: 1\n",
      "2020-06-25 16:01:24,909 [denest.simulation] INFO: Finished initializing kernel\n",
      "2020-06-25 16:01:24,912 [denest.simulation] INFO: Build N=3 session models\n",
      "2020-06-25 16:01:24,915 [denest.simulation] INFO: Build N=4 sessions\n",
      "2020-06-25 16:01:24,916 [denest.session] INFO: Creating session \"00_warmup\"\n",
      "2020-06-25 16:01:24,918 [denest.utils.validation] INFO: Object `00_warmup`: params: using default value for optional parameters:\n",
      "{'reset_network': False, 'synapse_changes': [], 'unit_changes': []}\n",
      "2020-06-25 16:01:24,920 [denest.session] INFO: Creating session \"01_3_spikes\"\n",
      "2020-06-25 16:01:24,928 [denest.utils.validation] INFO: Object `01_3_spikes`: params: using default value for optional parameters:\n",
      "{'reset_network': False, 'synapse_changes': []}\n",
      "2020-06-25 16:01:24,931 [denest.session] INFO: Creating session \"02_2_spikes\"\n",
      "2020-06-25 16:01:24,933 [denest.utils.validation] INFO: Object `02_2_spikes`: params: using default value for optional parameters:\n",
      "{'reset_network': False, 'synapse_changes': []}\n",
      "2020-06-25 16:01:24,936 [denest.session] INFO: Creating session \"03_3_spikes\"\n",
      "2020-06-25 16:01:24,938 [denest.utils.validation] INFO: Object `03_3_spikes`: params: using default value for optional parameters:\n",
      "{'reset_network': False, 'synapse_changes': []}\n",
      "2020-06-25 16:01:24,940 [denest.simulation] INFO: Sessions: ['00_warmup', '01_3_spikes', '02_2_spikes', '03_3_spikes']\n",
      "2020-06-25 16:01:24,943 [denest.simulation] INFO: Building network.\n",
      "2020-06-25 16:01:24,979 [denest.network] INFO: Build N=2 ``Model`` objects\n",
      "2020-06-25 16:01:24,981 [denest.network] INFO: Build N=2 ``SynapseModel`` objects\n",
      "2020-06-25 16:01:24,982 [denest.network] INFO: Build N=3 ``Model`` objects\n",
      "2020-06-25 16:01:24,984 [denest.network] INFO: Build N=2 ``Layer`` or ``InputLayer`` objects.\n",
      "2020-06-25 16:01:24,986 [denest.utils.validation] INFO: Object `proj_1_AMPA`: params: using default value for optional parameters:\n",
      "{'type': 'topological'}\n",
      "2020-06-25 16:01:24,988 [denest.utils.validation] INFO: Object `proj_2_GABAA`: params: using default value for optional parameters:\n",
      "{'type': 'topological'}\n",
      "2020-06-25 16:01:24,989 [denest.network] INFO: Build N=2 ``ProjectionModel`` objects\n",
      "2020-06-25 16:01:24,995 [denest.network] INFO: Build N=3 ``TopoProjection`` objects\n",
      "2020-06-25 16:01:25,013 [denest.network] INFO: Build N=2 population recorders.\n",
      "2020-06-25 16:01:25,016 [denest.network] INFO: Build N=1 projection recorders.\n",
      "2020-06-25 16:01:25,034 [denest.network] INFO: Build N=3 ``TopoProjection`` objects\n",
      "2020-06-25 16:01:25,045 [denest.network] INFO: Build N=2 population recorders.\n",
      "2020-06-25 16:01:25,062 [denest.network] INFO: Build N=1 projection recorders.\n",
      "2020-06-25 16:01:25,070 [denest.simulation] INFO: Creating network.\n",
      "2020-06-25 16:01:25,071 [denest.network] INFO: Creating neuron models...\n",
      "100%|██████████| 2/2 [00:00<00:00, 1148.18it/s]\n",
      "2020-06-25 16:01:25,082 [denest.network] INFO: Creating synapse models...\n",
      "100%|██████████| 2/2 [00:00<00:00, 661.09it/s]\n",
      "2020-06-25 16:01:25,104 [denest.network] INFO: Creating recorder models...\n",
      "100%|██████████| 3/3 [00:00<00:00, 216.76it/s]\n",
      "2020-06-25 16:01:25,128 [denest.network] INFO: Creating layers...\n",
      "100%|██████████| 2/2 [00:00<00:00,  5.18it/s]\n",
      "2020-06-25 16:01:25,523 [denest.network] INFO: Creating population recorders...\n",
      "100%|██████████| 2/2 [00:00<00:00, 62.04it/s]\n",
      "2020-06-25 16:01:25,560 [denest.network] INFO: Creating projection recorders...\n",
      "100%|██████████| 1/1 [00:00<00:00, 511.31it/s]\n",
      "2020-06-25 16:01:25,579 [denest.network] INFO: Connecting layers...\n",
      "100%|██████████| 3/3 [00:00<00:00, 598.93it/s]\n",
      "2020-06-25 16:01:25,608 [denest.network] INFO: Network size (including recorders and parrot neurons):\n",
      "Number of nodes: 206\n",
      "Number of projections: 6650\n",
      "2020-06-25 16:01:25,611 [denest.simulation] INFO: Finished creating network\n",
      "2020-06-25 16:01:25,612 [denest.simulation] INFO: Saving simulation metadata...\n",
      "2020-06-25 16:01:25,628 [denest.simulation] INFO: Creating output directory: ./data_tuto/output_replicate\n",
      "2020-06-25 16:01:25,910 [denest.simulation] INFO: Finished saving simulation metadata\n",
      "2020-06-25 16:01:25,913 [denest.simulation] INFO: Running 4 sessions...\n",
      "2020-06-25 16:01:25,941 [denest.simulation] INFO: Running session: '00_warmup'...\n",
      "2020-06-25 16:01:25,963 [denest.session] INFO: Initializing session...\n",
      "2020-06-25 16:01:26,007 [denest.network.recorders] INFO:   Setting status for recorder my_multimeter_l1_l1_exc: {'start': 100.0}\n",
      "2020-06-25 16:01:26,028 [denest.network.recorders] INFO:   Setting status for recorder my_spike_detector_input_layer_parrot_neuron: {'start': 100.0}\n",
      "2020-06-25 16:01:26,040 [denest.network.recorders] INFO:   Setting status for recorder weight_recorder_proj_1_AMPA-l1-l1_exc-l1-l1_inh: {'start': 100.0}\n",
      "2020-06-25 16:01:26,043 [denest.session] INFO: Setting `origin` flag to `0.0` for all stimulation devices in ``InputLayers`` for session `00_warmup`\n",
      "2020-06-25 16:01:26,056 [denest.session] INFO: Finished initializing session\n",
      "\n",
      "2020-06-25 16:01:26,059 [denest.session] INFO: Running session '00_warmup' for 100 ms\n",
      "2020-06-25 16:01:26,324 [denest.session] INFO: Finished running session\n",
      "2020-06-25 16:01:26,326 [denest.session] INFO: Session '00_warmup' virtual running time: 100 ms\n",
      "2020-06-25 16:01:26,329 [denest.session] INFO: Session '00_warmup' real running time: 0h:00m:00s\n",
      "2020-06-25 16:01:26,352 [denest.simulation] INFO: Done running session '00_warmup'\n",
      "2020-06-25 16:01:26,360 [denest.simulation] INFO: Running session: '01_3_spikes'...\n",
      "2020-06-25 16:01:26,365 [denest.session] INFO: Initializing session...\n",
      "2020-06-25 16:01:26,370 [denest.session] INFO: Setting `origin` flag to `100.0` for all stimulation devices in ``InputLayers`` for session `01_3_spikes`\n",
      "2020-06-25 16:01:26,390 [denest.utils.validation] INFO: Object `Unit changes dictionary`: params: using default value for optional parameters:\n",
      "{'change_type': 'constant', 'from_array': False}\n",
      "2020-06-25 16:01:26,392 [denest.network.layers] INFO: Layer='input_layer', pop='spike_generator': Applying 'constant' change, param='spike_times', from single value')\n",
      "2020-06-25 16:01:26,551 [denest.session] INFO: Finished initializing session\n",
      "\n",
      "2020-06-25 16:01:26,555 [denest.session] INFO: Running session '01_3_spikes' for 100 ms\n",
      "2020-06-25 16:01:26,756 [denest.session] INFO: Finished running session\n",
      "2020-06-25 16:01:26,757 [denest.session] INFO: Session '01_3_spikes' virtual running time: 100 ms\n",
      "2020-06-25 16:01:26,759 [denest.session] INFO: Session '01_3_spikes' real running time: 0h:00m:00s\n",
      "2020-06-25 16:01:26,762 [denest.simulation] INFO: Done running session '01_3_spikes'\n",
      "2020-06-25 16:01:26,765 [denest.simulation] INFO: Running session: '02_2_spikes'...\n",
      "2020-06-25 16:01:26,767 [denest.session] INFO: Initializing session...\n",
      "2020-06-25 16:01:26,769 [denest.session] INFO: Setting `origin` flag to `200.0` for all stimulation devices in ``InputLayers`` for session `02_2_spikes`\n",
      "2020-06-25 16:01:26,775 [denest.utils.validation] INFO: Object `Unit changes dictionary`: params: using default value for optional parameters:\n",
      "{'change_type': 'constant', 'from_array': False}\n"
     ]
    },
    {
     "name": "stderr",
     "output_type": "stream",
     "text": [
      "2020-06-25 16:01:26,777 [denest.network.layers] INFO: Layer='input_layer', pop='spike_generator': Applying 'constant' change, param='spike_times', from single value')\n",
      "2020-06-25 16:01:26,932 [denest.session] INFO: Finished initializing session\n",
      "\n",
      "2020-06-25 16:01:26,937 [denest.session] INFO: Running session '02_2_spikes' for 100 ms\n",
      "2020-06-25 16:01:27,119 [denest.session] INFO: Finished running session\n",
      "2020-06-25 16:01:27,119 [denest.session] INFO: Session '02_2_spikes' virtual running time: 100 ms\n",
      "2020-06-25 16:01:27,120 [denest.session] INFO: Session '02_2_spikes' real running time: 0h:00m:00s\n",
      "2020-06-25 16:01:27,121 [denest.simulation] INFO: Done running session '02_2_spikes'\n",
      "2020-06-25 16:01:27,123 [denest.simulation] INFO: Running session: '03_3_spikes'...\n",
      "2020-06-25 16:01:27,127 [denest.session] INFO: Initializing session...\n",
      "2020-06-25 16:01:27,128 [denest.session] INFO: Setting `origin` flag to `300.0` for all stimulation devices in ``InputLayers`` for session `03_3_spikes`\n",
      "2020-06-25 16:01:27,135 [denest.utils.validation] INFO: Object `Unit changes dictionary`: params: using default value for optional parameters:\n",
      "{'change_type': 'constant', 'from_array': False}\n",
      "2020-06-25 16:01:27,139 [denest.network.layers] INFO: Layer='input_layer', pop='spike_generator': Applying 'constant' change, param='spike_times', from single value')\n",
      "2020-06-25 16:01:27,208 [denest.session] INFO: Finished initializing session\n",
      "\n",
      "2020-06-25 16:01:27,209 [denest.session] INFO: Running session '03_3_spikes' for 100 ms\n",
      "2020-06-25 16:01:27,346 [denest.session] INFO: Finished running session\n",
      "2020-06-25 16:01:27,357 [denest.session] INFO: Session '03_3_spikes' virtual running time: 100 ms\n",
      "2020-06-25 16:01:27,358 [denest.session] INFO: Session '03_3_spikes' real running time: 0h:00m:00s\n",
      "2020-06-25 16:01:27,360 [denest.simulation] INFO: Done running session '03_3_spikes'\n",
      "2020-06-25 16:01:27,362 [denest.simulation] INFO: Finished running simulation\n"
     ]
    }
   ],
   "source": [
    "sim = denest.Simulation(params, output_dir='./data_tuto/output_replicate')\n",
    "sim.run()"
   ]
  },
  {
   "cell_type": "code",
   "execution_count": 31,
   "metadata": {},
   "outputs": [
    {
     "name": "stdout",
     "output_type": "stream",
     "text": [
      "\u001b[1m\u001b[36mdata\u001b[m\u001b[m               git_hash           parameter_tree.yml session_times.yml\r\n"
     ]
    }
   ],
   "source": [
    "!ls {'./data_tuto/output_replicate'} "
   ]
  }
 ],
 "metadata": {
  "kernelspec": {
   "display_name": "nets",
   "language": "python",
   "name": "nets"
  },
  "language_info": {
   "codemirror_mode": {
    "name": "ipython",
    "version": 3
   },
   "file_extension": ".py",
   "mimetype": "text/x-python",
   "name": "python",
   "nbconvert_exporter": "python",
   "pygments_lexer": "ipython3",
   "version": "3.7.5"
  }
 },
 "nbformat": 4,
 "nbformat_minor": 4
}
