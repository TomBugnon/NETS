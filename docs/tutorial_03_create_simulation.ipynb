{
 "cells": [
  {
   "cell_type": "markdown",
   "metadata": {},
   "source": [
    "# Let's familiarize ourselves with the ``Simulation`` object\n",
    "\n",
    "In this tutorial we:\n",
    "\n",
    "1. __Initialize an empty `Simulation` object__\n",
    "2. __Initialize the NEST kernel__ (`Simulation.init__kernel`)\n",
    "2. __Create a network__ (`Simulation.create__network`)\n",
    "2. Create sessions:\n",
    "    1. __Build session models__ (`Simulation.build__session__models`)\n",
    "    1. __Build the list of sessions__ from session models (`Simulation.build__sessions`)\n",
    "3. __Run__ the simulation\n",
    "5. __Replicate__ the simulation"
   ]
  },
  {
   "cell_type": "code",
   "execution_count": 1,
   "metadata": {},
   "outputs": [
    {
     "name": "stdout",
     "output_type": "stream",
     "text": [
      "The autoreload extension is already loaded. To reload it, use:\n",
      "  %reload_ext autoreload\n"
     ]
    }
   ],
   "source": [
    "%load_ext autoreload\n",
    "%autoreload 2\n",
    "\n",
    "import nest\n",
    "import yaml\n",
    "from pathlib import Path\n",
    "from pprint import pprint\n",
    "\n",
    "from denest import *\n",
    "import denest\n",
    "\n",
    "PARAMS_DIR = Path('./data_tuto/params')\n",
    "OUTPUT_DIR = Path('./data_tuto/output')"
   ]
  },
  {
   "cell_type": "markdown",
   "metadata": {},
   "source": [
    "# 1- Initialize an empty Simulation object\n",
    "\n",
    "Empty network, no kernel initialization, etc..."
   ]
  },
  {
   "cell_type": "code",
   "execution_count": 2,
   "metadata": {},
   "outputs": [
    {
     "name": "stderr",
     "output_type": "stream",
     "text": [
      "2020-06-21 22:01:08,723 [denest.utils.validation] INFO: 'None' tree: adding empty child kernel\n",
      "2020-06-21 22:01:08,728 [denest.utils.validation] INFO: 'None' tree: adding empty child simulation\n",
      "2020-06-21 22:01:08,753 [denest.utils.validation] INFO: 'None' tree: adding empty child session_models\n",
      "2020-06-21 22:01:08,775 [denest.utils.validation] INFO: 'None' tree: adding empty child network\n",
      "2020-06-21 22:01:08,798 [denest.utils.validation] INFO: Object `simulation`: params: using default value for optional parameters:\n",
      "{'input_dir': 'input', 'output_dir': 'output', 'sessions': []}\n",
      "2020-06-21 22:01:08,857 [denest.utils.validation] INFO: Object `kernel`: params: using default value for optional parameters:\n",
      "{'extension_modules': [], 'nest_seed': 1, 'python_seed': 1}\n",
      "2020-06-21 22:01:08,861 [denest.simulation] INFO: Initializing NEST kernel and seeds...\n",
      "2020-06-21 22:01:08,863 [denest.simulation] INFO:   Resetting NEST kernel...\n",
      "2020-06-21 22:01:08,875 [denest.simulation] INFO:   Setting NEST kernel status...\n",
      "2020-06-21 22:01:08,878 [denest.simulation] INFO:     Calling `nest.SetKernelStatus({})`\n",
      "2020-06-21 22:01:08,880 [denest.simulation] INFO:     Calling `nest.SetKernelStatus({'data_path': 'data_tuto/output/data', 'grng_seed': 2, 'rng_seeds': range(3, 4)})\n",
      "2020-06-21 22:01:08,883 [denest.simulation] INFO:   Finished setting NEST kernel status\n",
      "2020-06-21 22:01:08,886 [denest.simulation] INFO:   Installing external modules...\n",
      "2020-06-21 22:01:08,889 [denest.simulation] INFO:   Finished installing external modules\n",
      "2020-06-21 22:01:08,890 [denest.simulation] INFO:   Setting Python seed: 1\n",
      "2020-06-21 22:01:08,892 [denest.simulation] INFO: Finished initializing kernel\n",
      "2020-06-21 22:01:08,896 [denest.simulation] INFO: Build N=0 session models\n",
      "2020-06-21 22:01:08,904 [denest.simulation] INFO: Build N=0 sessions\n",
      "2020-06-21 22:01:08,907 [denest.simulation] INFO: Sessions: []\n",
      "2020-06-21 22:01:08,912 [denest.simulation] INFO: Building network.\n",
      "2020-06-21 22:01:08,915 [denest.utils.validation] INFO: 'None' tree: adding empty child neuron_models\n",
      "2020-06-21 22:01:08,917 [denest.utils.validation] INFO: 'None' tree: adding empty child synapse_models\n",
      "2020-06-21 22:01:08,918 [denest.utils.validation] INFO: 'None' tree: adding empty child layers\n",
      "2020-06-21 22:01:08,920 [denest.utils.validation] INFO: 'None' tree: adding empty child connection_models\n",
      "2020-06-21 22:01:08,922 [denest.utils.validation] INFO: 'None' tree: adding empty child topology\n",
      "2020-06-21 22:01:08,929 [denest.utils.validation] INFO: 'None' tree: adding empty child recorder_models\n",
      "2020-06-21 22:01:08,941 [denest.utils.validation] INFO: 'None' tree: adding empty child recorders\n",
      "2020-06-21 22:01:08,949 [denest.network] INFO: Build N=0 ``Model`` objects\n",
      "2020-06-21 22:01:08,952 [denest.network] INFO: Build N=0 ``SynapseModel`` objects\n",
      "2020-06-21 22:01:08,959 [denest.network] INFO: Build N=0 ``Model`` objects\n",
      "2020-06-21 22:01:08,965 [denest.network] INFO: Build N=0 ``Layer`` or ``InputLayer`` objects.\n",
      "2020-06-21 22:01:08,966 [denest.network] INFO: Build N=0 ``ConnectionModel`` objects\n",
      "2020-06-21 22:01:08,969 [denest.utils.validation] INFO: Object `topology`: params: using default value for optional parameters:\n",
      "{'connections': []}\n",
      "2020-06-21 22:01:08,974 [denest.network] INFO: Build N=0 ``TopoConnection`` objects\n",
      "2020-06-21 22:01:08,980 [denest.utils.validation] INFO: Object `recorders`: params: using default value for optional parameters:\n",
      "{'connection_recorders': [], 'population_recorders': []}\n",
      "2020-06-21 22:01:08,993 [denest.network] INFO: Build N=0 population recorders.\n",
      "2020-06-21 22:01:08,995 [denest.network] INFO: Build N=0 connection recorders.\n",
      "2020-06-21 22:01:09,007 [denest.utils.validation] INFO: Object `topology`: params: using default value for optional parameters:\n",
      "{'connections': []}\n",
      "2020-06-21 22:01:09,008 [denest.network] INFO: Build N=0 ``TopoConnection`` objects\n",
      "2020-06-21 22:01:09,010 [denest.utils.validation] INFO: Object `recorders`: params: using default value for optional parameters:\n",
      "{'connection_recorders': [], 'population_recorders': []}\n",
      "2020-06-21 22:01:09,013 [denest.network] INFO: Build N=0 population recorders.\n",
      "2020-06-21 22:01:09,015 [denest.network] INFO: Build N=0 connection recorders.\n",
      "2020-06-21 22:01:09,017 [denest.simulation] INFO: Creating network.\n",
      "2020-06-21 22:01:09,021 [denest.network] INFO: Creating neuron models...\n",
      "0it [00:00, ?it/s]\n",
      "2020-06-21 22:01:09,053 [denest.network] INFO: Creating synapse models...\n",
      "0it [00:00, ?it/s]\n",
      "2020-06-21 22:01:09,061 [denest.network] INFO: Creating recorder models...\n",
      "0it [00:00, ?it/s]\n",
      "2020-06-21 22:01:09,070 [denest.network] INFO: Creating layers...\n",
      "0it [00:00, ?it/s]\n",
      "2020-06-21 22:01:09,075 [denest.network] INFO: Creating population recorders...\n",
      "0it [00:00, ?it/s]\n",
      "2020-06-21 22:01:09,083 [denest.network] INFO: Creating connection recorders...\n",
      "0it [00:00, ?it/s]\n",
      "2020-06-21 22:01:09,091 [denest.network] INFO: Connecting layers...\n",
      "0it [00:00, ?it/s]\n",
      "2020-06-21 22:01:09,101 [denest.network] INFO: Network size (including recorders and parrot neurons):\n",
      "Number of nodes: 1\n",
      "Number of connections: 0\n",
      "2020-06-21 22:01:09,102 [denest.simulation] INFO: Finished creating network\n",
      "2020-06-21 22:01:09,104 [denest.simulation] INFO: Saving simulation metadata...\n",
      "2020-06-21 22:01:09,106 [denest.simulation] INFO: Creating output directory: data_tuto/output\n",
      "2020-06-21 22:01:09,172 [denest.simulation] INFO: Finished saving simulation metadata\n"
     ]
    }
   ],
   "source": [
    "sim = Simulation(output_dir=OUTPUT_DIR)"
   ]
  },
  {
   "cell_type": "markdown",
   "metadata": {},
   "source": [
    "# 2- Initialize the NEST kernel\n",
    "\n",
    "``Simulation.init_kernel??`` for doc"
   ]
  },
  {
   "cell_type": "code",
   "execution_count": 3,
   "metadata": {},
   "outputs": [],
   "source": [
    "kernel_tree = {\n",
    "    'params':\n",
    "        {\n",
    "            'nest_seed': 10,\n",
    "            'extension_modules': [],\n",
    "        },\n",
    "    'nest_params':\n",
    "        {\n",
    "            'resolution': 0.5,\n",
    "            'overwrite_files': True\n",
    "        },\n",
    "}"
   ]
  },
  {
   "cell_type": "code",
   "execution_count": 4,
   "metadata": {},
   "outputs": [
    {
     "name": "stderr",
     "output_type": "stream",
     "text": [
      "2020-06-21 22:01:09,290 [denest.utils.validation] INFO: Object `kernel`: params: using default value for optional parameters:\n",
      "{'python_seed': 1}\n",
      "2020-06-21 22:01:09,294 [denest.simulation] INFO: Initializing NEST kernel and seeds...\n",
      "2020-06-21 22:01:09,297 [denest.simulation] INFO:   Resetting NEST kernel...\n",
      "2020-06-21 22:01:09,310 [denest.simulation] INFO:   Setting NEST kernel status...\n",
      "2020-06-21 22:01:09,317 [denest.simulation] INFO:     Calling `nest.SetKernelStatus({'resolution': 0.5, 'overwrite_files': True})`\n",
      "2020-06-21 22:01:09,320 [denest.simulation] INFO:     Calling `nest.SetKernelStatus({'data_path': 'data_tuto/output/data', 'grng_seed': 11, 'rng_seeds': range(12, 13)})\n",
      "2020-06-21 22:01:09,324 [denest.simulation] INFO:   Finished setting NEST kernel status\n",
      "2020-06-21 22:01:09,327 [denest.simulation] INFO:   Installing external modules...\n",
      "2020-06-21 22:01:09,330 [denest.simulation] INFO:   Finished installing external modules\n",
      "2020-06-21 22:01:09,333 [denest.simulation] INFO:   Setting Python seed: 1\n",
      "2020-06-21 22:01:09,335 [denest.simulation] INFO: Finished initializing kernel\n"
     ]
    }
   ],
   "source": [
    "sim.init_kernel(kernel_tree)"
   ]
  },
  {
   "cell_type": "code",
   "execution_count": 5,
   "metadata": {},
   "outputs": [
    {
     "name": "stdout",
     "output_type": "stream",
     "text": [
      "0.5\n",
      "0.0\n"
     ]
    }
   ],
   "source": [
    "# nest_params have been passed to nest.SetKernelStatus\n",
    "print(nest.GetKernelStatus('resolution'))\n",
    "print(nest.GetKernelStatus('time'))"
   ]
  },
  {
   "cell_type": "code",
   "execution_count": 6,
   "metadata": {},
   "outputs": [
    {
     "data": {
      "text/plain": [
       "'data_tuto/output/data'"
      ]
     },
     "execution_count": 6,
     "metadata": {},
     "output_type": "execute_result"
    }
   ],
   "source": [
    "# The raw data will be saved in the output directory\n",
    "nest.GetKernelStatus('data_path')"
   ]
  },
  {
   "cell_type": "code",
   "execution_count": 7,
   "metadata": {},
   "outputs": [
    {
     "data": {
      "text/plain": [
       "ParamsTree(name='None', parent=None)\n",
       "  params: {}\n",
       "  nest_params: {}\n",
       "  kernel:\n",
       "    params:\n",
       "      nest_seed: 10\n",
       "      extension_modules: []\n",
       "    nest_params:\n",
       "      resolution: 0.5\n",
       "      overwrite_files: true\n",
       "  simulation:\n",
       "    params:\n",
       "      output_dir: data_tuto/output\n",
       "      sessions: []\n",
       "    nest_params: {}\n",
       "  session_models:\n",
       "    params: {}\n",
       "    nest_params: {}\n",
       "  network:\n",
       "    params: {}\n",
       "    nest_params: {}\n",
       "  "
      ]
     },
     "execution_count": 7,
     "metadata": {},
     "output_type": "execute_result"
    }
   ],
   "source": [
    "# The kernel params are saved in the simulation's tree\n",
    "sim.tree"
   ]
  },
  {
   "cell_type": "markdown",
   "metadata": {},
   "source": [
    "# 3- Create a network\n",
    "\n",
    "We build and create the same network by passing the network tree,\n",
    "using the ``Simulation.create_network`` method"
   ]
  },
  {
   "cell_type": "code",
   "execution_count": 8,
   "metadata": {},
   "outputs": [],
   "source": [
    "net_tree = ParamsTree.read(PARAMS_DIR/'network_tree.yml')"
   ]
  },
  {
   "cell_type": "code",
   "execution_count": 9,
   "metadata": {},
   "outputs": [
    {
     "name": "stderr",
     "output_type": "stream",
     "text": [
      "2020-06-21 22:01:09,799 [denest.simulation] INFO: Building network.\n",
      "2020-06-21 22:01:09,813 [denest.network] INFO: Build N=2 ``Model`` objects\n",
      "2020-06-21 22:01:09,814 [denest.network] INFO: Build N=2 ``SynapseModel`` objects\n",
      "2020-06-21 22:01:09,816 [denest.network] INFO: Build N=3 ``Model`` objects\n",
      "2020-06-21 22:01:09,819 [denest.network] INFO: Build N=2 ``Layer`` or ``InputLayer`` objects.\n",
      "2020-06-21 22:01:09,823 [denest.utils.validation] INFO: Object `conn_1_AMPA`: params: using default value for optional parameters:\n",
      "{'type': 'topological'}\n",
      "2020-06-21 22:01:09,826 [denest.utils.validation] INFO: Object `conn_2_GABAA`: params: using default value for optional parameters:\n",
      "{'type': 'topological'}\n",
      "2020-06-21 22:01:09,827 [denest.network] INFO: Build N=2 ``ConnectionModel`` objects\n",
      "2020-06-21 22:01:09,833 [denest.network] INFO: Build N=3 ``TopoConnection`` objects\n",
      "2020-06-21 22:01:09,881 [denest.network] INFO: Build N=2 population recorders.\n",
      "2020-06-21 22:01:09,937 [denest.network] INFO: Build N=1 connection recorders.\n",
      "2020-06-21 22:01:09,947 [denest.network] INFO: Build N=3 ``TopoConnection`` objects\n",
      "2020-06-21 22:01:09,969 [denest.network] INFO: Build N=2 population recorders.\n",
      "2020-06-21 22:01:09,974 [denest.network] INFO: Build N=1 connection recorders.\n",
      "2020-06-21 22:01:09,978 [denest.simulation] INFO: Creating network.\n",
      "2020-06-21 22:01:09,985 [denest.network] INFO: Creating neuron models...\n",
      "100%|██████████| 2/2 [00:00<00:00, 1086.47it/s]\n",
      "2020-06-21 22:01:09,996 [denest.network] INFO: Creating synapse models...\n",
      "100%|██████████| 2/2 [00:00<00:00, 838.86it/s]\n",
      "2020-06-21 22:01:10,004 [denest.network] INFO: Creating recorder models...\n",
      "100%|██████████| 3/3 [00:00<00:00, 1321.04it/s]\n",
      "2020-06-21 22:01:10,016 [denest.network] INFO: Creating layers...\n",
      "  0%|          | 0/2 [00:00<?, ?it/s]/Users/tom/nest/nest-simulator-2.20.0/lib/python3.7/site-packages/nest/lib/hl_api_helper.py:127: UserWarning:\n",
      "GetNodes is deprecated and will be removed in NEST 3.0. Use             GIDCollection instead.\n",
      "100%|██████████| 2/2 [00:00<00:00,  8.64it/s]\n",
      "2020-06-21 22:01:10,255 [denest.network] INFO: Creating population recorders...\n",
      "100%|██████████| 2/2 [00:00<00:00, 61.65it/s]\n",
      "2020-06-21 22:01:10,290 [denest.network] INFO: Creating connection recorders...\n",
      "100%|██████████| 1/1 [00:00<00:00, 271.60it/s]\n",
      "2020-06-21 22:01:10,312 [denest.network] INFO: Connecting layers...\n",
      "100%|██████████| 3/3 [00:00<00:00, 638.43it/s]\n",
      "2020-06-21 22:01:10,323 [denest.network] INFO: Network size (including recorders and parrot neurons):\n",
      "Number of nodes: 206\n",
      "Number of connections: 6650\n",
      "2020-06-21 22:01:10,337 [denest.simulation] INFO: Finished creating network\n"
     ]
    }
   ],
   "source": [
    "sim.create_network(net_tree)"
   ]
  },
  {
   "cell_type": "code",
   "execution_count": 10,
   "metadata": {},
   "outputs": [
    {
     "data": {
      "text/plain": [
       "(52,)"
      ]
     },
     "execution_count": 10,
     "metadata": {},
     "output_type": "execute_result"
    }
   ],
   "source": [
    "# Network object was created and can be accessed as we learnt\n",
    "sim.network.layers['l1'].gid"
   ]
  },
  {
   "cell_type": "code",
   "execution_count": 11,
   "metadata": {},
   "outputs": [
    {
     "data": {
      "text/plain": [
       "ParamsTree(name='None', parent=None)\n",
       "  params: {}\n",
       "  nest_params: {}\n",
       "  kernel:\n",
       "    params:\n",
       "      nest_seed: 10\n",
       "      extension_modules: []\n",
       "    nest_params:\n",
       "      resolution: 0.5\n",
       "      overwrite_files: true\n",
       "  simulation:\n",
       "    params:\n",
       "      output_dir: data_tuto/output\n",
       "      sessions: []\n",
       "    nest_params: {}\n",
       "  session_models:\n",
       "  \n",
       "  ... [133 lines] ...\n",
       "\n",
       "        - layers:\n",
       "          - input_layer\n",
       "          populations: null\n",
       "          model: my_spike_detector\n",
       "        connection_recorders:\n",
       "        - source_layers:\n",
       "          - l1\n",
       "          source_population: l1_exc\n",
       "          target_layers:\n",
       "          - l1\n",
       "          target_population: l1_inh\n",
       "          connection_model: conn_1_AMPA\n",
       "          model: weight_recorder\n",
       "      nest_params: {}\n",
       "  "
      ]
     },
     "execution_count": 11,
     "metadata": {},
     "output_type": "execute_result"
    }
   ],
   "source": [
    "# network tree was saved and can be re-used\n",
    "sim.tree"
   ]
  },
  {
   "cell_type": "markdown",
   "metadata": {},
   "source": [
    "# 4- Create some sessions\n",
    "\n",
    "### so we can run the network in specific conditions\n",
    "\n",
    "\n",
    "Session parameters:\n",
    "\n",
    "- ``simulation_time`` (float): Duration of the session in ms.\n",
    "    (mandatory)\n",
    "- ``reset_network`` (bool): If true, ``nest.ResetNetwork()`` is\n",
    "    called during session initialization (default ``False``)\n",
    "- ``record`` (bool): If false, the ``start_time`` field of\n",
    "    recorder nodes in NEST is set to the end time of the\n",
    "    session, so that no data is recorded during the session\n",
    "    (default ``True``)\n",
    "- ``shift_origin`` (bool): If True, the ``origin`` flag of the\n",
    "    stimulation devices of all the network's ``InputLayer``\n",
    "    layers is set to the start of the session during\n",
    "    initialization. Useful to repeat sessions when the\n",
    "    stimulators are eg spike generators.\n",
    "- ``unit_changes`` (list): List describing the changes applied\n",
    "    to certain units before the start of the session.\n",
    "    Passed to ``Network.set_state``.\n",
    "- ``synapse_changes`` (list): List describing the changes\n",
    "    applied to certain synapses before the start of the session.\n",
    "    Passed to ``Network.set_state``. Refer to that\n",
    "    method for a description of how ``synapse_changes`` is\n",
    "    formatted and interpreted. No changes happen if empty.\n",
    "    (default [])\n"
   ]
  },
  {
   "cell_type": "markdown",
   "metadata": {},
   "source": [
    "## Build session models from a tree"
   ]
  },
  {
   "cell_type": "code",
   "execution_count": 12,
   "metadata": {},
   "outputs": [
    {
     "name": "stdout",
     "output_type": "stream",
     "text": [
      "params:\n",
      "  record: true\n",
      "  shift_origin: true\n",
      "  simulation_time: 100.0\n",
      "nest_params: {}\n",
      "warmup:\n",
      "  params:\n",
      "    record: false\n",
      "  nest_params: {}\n",
      "2_spikes:\n",
      "  params:\n",
      "    unit_changes:\n",
      "    - layers:\n",
      "      - input_layer\n",
      "      population_name: spike_generator\n",
      "      nest_params:\n",
      "        spike_times:\n",
      "        - 1.0\n",
      "        - 10.0\n",
      "  nest_params: {}\n",
      "3_spikes:\n",
      "  params:\n",
      "    unit_changes:\n",
      "    - layers:\n",
      "      - input_layer\n",
      "      population_name: spike_generator\n",
      "      nest_params:\n",
      "        spike_times:\n",
      "        - 1.0\n",
      "        - 10.0\n",
      "        - 20.0\n",
      "  nest_params: {}\n",
      "\n"
     ]
    }
   ],
   "source": [
    "# Notice the hierarchical inheritance as before\n",
    "session_models_tree = ParamsTree.read(PARAMS_DIR/'session_models.yml').children['session_models']\n",
    "print(session_models_tree)"
   ]
  },
  {
   "cell_type": "code",
   "execution_count": 13,
   "metadata": {},
   "outputs": [
    {
     "name": "stderr",
     "output_type": "stream",
     "text": [
      "2020-06-21 22:01:10,609 [denest.simulation] INFO: Build N=3 session models\n"
     ]
    }
   ],
   "source": [
    "sim.build_session_models(session_models_tree)"
   ]
  },
  {
   "cell_type": "code",
   "execution_count": 14,
   "metadata": {},
   "outputs": [
    {
     "data": {
      "text/plain": [
       "ParamsTree(name='session_models', parent='None')\n",
       "  params:\n",
       "    record: true\n",
       "    shift_origin: true\n",
       "    simulation_time: 100.0\n",
       "  nest_params: {}\n",
       "  warmup:\n",
       "    params:\n",
       "      record: false\n",
       "    nest_params: {}\n",
       "  2_spikes:\n",
       "    params:\n",
       "      unit_changes:\n",
       "      - layers:\n",
       "        - input_layer\n",
       "        population_name: spike_generator\n",
       "  \n",
       "  ... [3 lines] ...\n",
       "\n",
       "          - 10.0\n",
       "    nest_params: {}\n",
       "  3_spikes:\n",
       "    params:\n",
       "      unit_changes:\n",
       "      - layers:\n",
       "        - input_layer\n",
       "        population_name: spike_generator\n",
       "        nest_params:\n",
       "          spike_times:\n",
       "          - 1.0\n",
       "          - 10.0\n",
       "          - 20.0\n",
       "    nest_params: {}\n",
       "  "
      ]
     },
     "execution_count": 14,
     "metadata": {},
     "output_type": "execute_result"
    }
   ],
   "source": [
    "sim.tree.children['session_models']"
   ]
  },
  {
   "cell_type": "markdown",
   "metadata": {},
   "source": [
    "## Build a list of sessions from the ``session_models`` templates"
   ]
  },
  {
   "cell_type": "code",
   "execution_count": 15,
   "metadata": {},
   "outputs": [],
   "source": [
    "sessions_order =  ['warmup', '3_spikes', '2_spikes', '3_spikes']\n"
   ]
  },
  {
   "cell_type": "code",
   "execution_count": 16,
   "metadata": {},
   "outputs": [
    {
     "name": "stderr",
     "output_type": "stream",
     "text": [
      "2020-06-21 22:01:10,757 [denest.simulation] INFO: Build N=4 sessions\n",
      "2020-06-21 22:01:10,758 [denest.session] INFO: Creating session \"00_warmup\"\n",
      "2020-06-21 22:01:10,762 [denest.utils.validation] INFO: Object `00_warmup`: params: using default value for optional parameters:\n",
      "{'reset_network': False, 'synapse_changes': [], 'unit_changes': []}\n",
      "2020-06-21 22:01:10,763 [denest.session] INFO: Creating session \"01_3_spikes\"\n",
      "2020-06-21 22:01:10,764 [denest.utils.validation] INFO: Object `01_3_spikes`: params: using default value for optional parameters:\n",
      "{'reset_network': False, 'synapse_changes': []}\n",
      "2020-06-21 22:01:10,766 [denest.session] INFO: Creating session \"02_2_spikes\"\n",
      "2020-06-21 22:01:10,770 [denest.utils.validation] INFO: Object `02_2_spikes`: params: using default value for optional parameters:\n",
      "{'reset_network': False, 'synapse_changes': []}\n",
      "2020-06-21 22:01:10,771 [denest.session] INFO: Creating session \"03_3_spikes\"\n",
      "2020-06-21 22:01:10,774 [denest.utils.validation] INFO: Object `03_3_spikes`: params: using default value for optional parameters:\n",
      "{'reset_network': False, 'synapse_changes': []}\n",
      "2020-06-21 22:01:10,778 [denest.simulation] INFO: Sessions: ['00_warmup', '01_3_spikes', '02_2_spikes', '03_3_spikes']\n"
     ]
    }
   ],
   "source": [
    "sim.build_sessions(sessions_order)"
   ]
  },
  {
   "cell_type": "code",
   "execution_count": 17,
   "metadata": {},
   "outputs": [
    {
     "data": {
      "text/plain": [
       "[Session(00_warmup, {'record': False,\n",
       "  'reset_network': False,\n",
       "  'shift_origin': True,\n",
       "  'simulation_time': 100.0,\n",
       "  'synapse_changes': [],\n",
       "  'unit_changes': []}),\n",
       " Session(01_3_spikes, {'record': True,\n",
       "  'reset_network': False,\n",
       "  'shift_origin': True,\n",
       "  'simulation_time': 100.0,\n",
       "  'synapse_changes': [],\n",
       "  'unit_changes': [{'layers': ['input_layer'],\n",
       "                    'nest_params': {'spike_times': [1.0, 10.0, 20.0]},\n",
       "                    'population_name': 'spike_generator'}]}),\n",
       " Session(02_2_spikes, {'record': True,\n",
       "  'reset_network': False,\n",
       "  'shift_origin': True,\n",
       "  'simulation_time': 100.0,\n",
       "  'synapse_changes': [],\n",
       "  'unit_changes': [{'layers': ['input_layer'],\n",
       "                    'nest_params': {'spike_times': [1.0, 10.0]},\n",
       "                    'population_name': 'spike_generator'}]}),\n",
       " Session(03_3_spikes, {'record': True,\n",
       "  'reset_network': False,\n",
       "  'shift_origin': True,\n",
       "  'simulation_time': 100.0,\n",
       "  'synapse_changes': [],\n",
       "  'unit_changes': [{'layers': ['input_layer'],\n",
       "                    'nest_params': {'spike_times': [1.0, 10.0, 20.0]},\n",
       "                    'population_name': 'spike_generator'}]})]"
      ]
     },
     "execution_count": 17,
     "metadata": {},
     "output_type": "execute_result"
    }
   ],
   "source": [
    "# Notice the session names\n",
    "sim.sessions"
   ]
  },
  {
   "cell_type": "code",
   "execution_count": 18,
   "metadata": {},
   "outputs": [
    {
     "data": {
      "text/plain": [
       "ParamsTree(name='simulation', parent='None')\n",
       "  params:\n",
       "    output_dir: data_tuto/output\n",
       "    sessions:\n",
       "    - warmup\n",
       "    - 3_spikes\n",
       "    - 2_spikes\n",
       "    - 3_spikes\n",
       "  nest_params: {}\n",
       "  "
      ]
     },
     "execution_count": 18,
     "metadata": {},
     "output_type": "execute_result"
    }
   ],
   "source": [
    "# The session order is saved in the simulation parameters\n",
    "\n",
    "sim.tree.children['simulation']"
   ]
  },
  {
   "cell_type": "markdown",
   "metadata": {},
   "source": [
    "# 5- Run the simulation"
   ]
  },
  {
   "cell_type": "code",
   "execution_count": 19,
   "metadata": {},
   "outputs": [
    {
     "name": "stdout",
     "output_type": "stream",
     "text": [
      "kernel time:  0.0\n"
     ]
    }
   ],
   "source": [
    "print('kernel time: ', nest.GetKernelStatus('time'))"
   ]
  },
  {
   "cell_type": "code",
   "execution_count": 20,
   "metadata": {},
   "outputs": [
    {
     "name": "stderr",
     "output_type": "stream",
     "text": [
      "2020-06-21 22:01:10,994 [denest.simulation] INFO: Running 4 sessions...\n",
      "2020-06-21 22:01:10,995 [denest.simulation] INFO: Running session: '00_warmup'...\n",
      "2020-06-21 22:01:10,997 [denest.session] INFO: Initializing session...\n",
      "2020-06-21 22:01:11,002 [denest.network.recorders] INFO:   Setting status for recorder my_multimeter_l1_l1_exc: {'start': 100.0}\n",
      "2020-06-21 22:01:11,013 [denest.network.recorders] INFO:   Setting status for recorder my_spike_detector_input_layer_parrot_neuron: {'start': 100.0}\n",
      "2020-06-21 22:01:11,018 [denest.network.recorders] INFO:   Setting status for recorder weight_recorder_conn_1_AMPA-l1-l1_exc-l1-l1_inh: {'start': 100.0}\n",
      "2020-06-21 22:01:11,021 [denest.session] INFO: Setting `origin` flag to `0.0` for all stimulation devices in ``InputLayers`` for session `00_warmup`\n",
      "2020-06-21 22:01:11,027 [denest.session] INFO: Finished initializing session\n",
      "\n",
      "2020-06-21 22:01:11,029 [denest.session] INFO: Running session '00_warmup' for 100 ms\n",
      "2020-06-21 22:01:11,172 [denest.session] INFO: Finished running session\n",
      "2020-06-21 22:01:11,173 [denest.session] INFO: Session '00_warmup' virtual running time: 100 ms\n",
      "2020-06-21 22:01:11,173 [denest.session] INFO: Session '00_warmup' real running time: 0h:00m:00s\n",
      "2020-06-21 22:01:11,174 [denest.simulation] INFO: Done running session '00_warmup'\n",
      "2020-06-21 22:01:11,177 [denest.simulation] INFO: Running session: '01_3_spikes'...\n",
      "2020-06-21 22:01:11,179 [denest.session] INFO: Initializing session...\n",
      "2020-06-21 22:01:11,183 [denest.session] INFO: Setting `origin` flag to `100.0` for all stimulation devices in ``InputLayers`` for session `01_3_spikes`\n",
      "2020-06-21 22:01:11,188 [denest.utils.validation] INFO: Object `Unit changes dictionary`: params: using default value for optional parameters:\n",
      "{'change_type': 'constant', 'from_array': False}\n",
      "2020-06-21 22:01:11,190 [denest.network.layers] INFO: Layer='input_layer', pop='spike_generator': Applying 'constant' change, param='spike_times', from single value')\n",
      "2020-06-21 22:01:11,295 [denest.session] INFO: Finished initializing session\n",
      "\n",
      "2020-06-21 22:01:11,296 [denest.session] INFO: Running session '01_3_spikes' for 100 ms\n",
      "2020-06-21 22:01:11,435 [denest.session] INFO: Finished running session\n",
      "2020-06-21 22:01:11,435 [denest.session] INFO: Session '01_3_spikes' virtual running time: 100 ms\n",
      "2020-06-21 22:01:11,436 [denest.session] INFO: Session '01_3_spikes' real running time: 0h:00m:00s\n",
      "2020-06-21 22:01:11,437 [denest.simulation] INFO: Done running session '01_3_spikes'\n",
      "2020-06-21 22:01:11,439 [denest.simulation] INFO: Running session: '02_2_spikes'...\n",
      "2020-06-21 22:01:11,465 [denest.session] INFO: Initializing session...\n",
      "2020-06-21 22:01:11,524 [denest.session] INFO: Setting `origin` flag to `200.0` for all stimulation devices in ``InputLayers`` for session `02_2_spikes`\n",
      "2020-06-21 22:01:11,564 [denest.utils.validation] INFO: Object `Unit changes dictionary`: params: using default value for optional parameters:\n",
      "{'change_type': 'constant', 'from_array': False}\n",
      "2020-06-21 22:01:11,569 [denest.network.layers] INFO: Layer='input_layer', pop='spike_generator': Applying 'constant' change, param='spike_times', from single value')\n",
      "2020-06-21 22:01:11,726 [denest.session] INFO: Finished initializing session\n",
      "\n",
      "2020-06-21 22:01:11,727 [denest.session] INFO: Running session '02_2_spikes' for 100 ms\n",
      "2020-06-21 22:01:11,924 [denest.session] INFO: Finished running session\n",
      "2020-06-21 22:01:11,925 [denest.session] INFO: Session '02_2_spikes' virtual running time: 100 ms\n",
      "2020-06-21 22:01:11,925 [denest.session] INFO: Session '02_2_spikes' real running time: 0h:00m:00s\n",
      "2020-06-21 22:01:11,926 [denest.simulation] INFO: Done running session '02_2_spikes'\n",
      "2020-06-21 22:01:11,927 [denest.simulation] INFO: Running session: '03_3_spikes'...\n",
      "2020-06-21 22:01:11,930 [denest.session] INFO: Initializing session...\n",
      "2020-06-21 22:01:11,933 [denest.session] INFO: Setting `origin` flag to `300.0` for all stimulation devices in ``InputLayers`` for session `03_3_spikes`\n",
      "2020-06-21 22:01:11,952 [denest.utils.validation] INFO: Object `Unit changes dictionary`: params: using default value for optional parameters:\n",
      "{'change_type': 'constant', 'from_array': False}\n",
      "2020-06-21 22:01:11,953 [denest.network.layers] INFO: Layer='input_layer', pop='spike_generator': Applying 'constant' change, param='spike_times', from single value')\n",
      "2020-06-21 22:01:12,152 [denest.session] INFO: Finished initializing session\n",
      "\n",
      "2020-06-21 22:01:12,153 [denest.session] INFO: Running session '03_3_spikes' for 100 ms\n",
      "2020-06-21 22:01:12,270 [denest.session] INFO: Finished running session\n",
      "2020-06-21 22:01:12,271 [denest.session] INFO: Session '03_3_spikes' virtual running time: 100 ms\n",
      "2020-06-21 22:01:12,272 [denest.session] INFO: Session '03_3_spikes' real running time: 0h:00m:00s\n",
      "2020-06-21 22:01:12,274 [denest.simulation] INFO: Done running session '03_3_spikes'\n",
      "2020-06-21 22:01:12,278 [denest.simulation] INFO: Finished running simulation\n"
     ]
    }
   ],
   "source": [
    "sim.run()"
   ]
  },
  {
   "cell_type": "code",
   "execution_count": 21,
   "metadata": {},
   "outputs": [
    {
     "data": {
      "text/plain": [
       "400.0"
      ]
     },
     "execution_count": 21,
     "metadata": {},
     "output_type": "execute_result"
    }
   ],
   "source": [
    "nest.GetKernelStatus('time')"
   ]
  },
  {
   "cell_type": "markdown",
   "metadata": {},
   "source": [
    "### Since the initialized Simulation object was empty, we need to save the metadata"
   ]
  },
  {
   "cell_type": "code",
   "execution_count": 22,
   "metadata": {},
   "outputs": [
    {
     "name": "stderr",
     "output_type": "stream",
     "text": [
      "2020-06-21 22:01:12,501 [denest.simulation] INFO: Saving simulation metadata...\n",
      "2020-06-21 22:01:12,504 [denest.simulation] INFO: Creating output directory: data_tuto/output\n",
      "2020-06-21 22:01:12,683 [denest.simulation] INFO: Finished saving simulation metadata\n"
     ]
    }
   ],
   "source": [
    "sim.save_metadata()"
   ]
  },
  {
   "cell_type": "code",
   "execution_count": 23,
   "metadata": {},
   "outputs": [
    {
     "name": "stdout",
     "output_type": "stream",
     "text": [
      "\u001b[1m\u001b[36mdata\u001b[m\u001b[m               git_hash           parameter_tree.yml session_times.yml\r\n"
     ]
    }
   ],
   "source": [
    "!ls {OUTPUT_DIR}"
   ]
  },
  {
   "cell_type": "code",
   "execution_count": 24,
   "metadata": {},
   "outputs": [
    {
     "name": "stdout",
     "output_type": "stream",
     "text": [
      "00_warmup: !!python/tuple\r\n",
      "- 0.0\r\n",
      "- 100.0\r\n",
      "01_3_spikes: !!python/tuple\r\n",
      "- 100.0\r\n",
      "- 200.0\r\n",
      "02_2_spikes: !!python/tuple\r\n",
      "- 200.0\r\n",
      "- 300.0\r\n",
      "03_3_spikes: !!python/tuple\r\n",
      "- 300.0\r\n",
      "- 400.0\r\n"
     ]
    }
   ],
   "source": [
    "!cat {OUTPUT_DIR/'session_times.yml'}"
   ]
  },
  {
   "cell_type": "code",
   "execution_count": 25,
   "metadata": {},
   "outputs": [
    {
     "name": "stdout",
     "output_type": "stream",
     "text": [
      "my_multimeter_l1_l1_exc-203-0.dat\r\n",
      "my_multimeter_l1_l1_exc.yml\r\n",
      "my_spike_detector_input_layer_parrot_neuron-204-0.gdf\r\n",
      "my_spike_detector_input_layer_parrot_neuron.yml\r\n",
      "weight_recorder_conn_1_AMPA-l1-l1_exc-l1-l1_inh-205-0.csv\r\n",
      "weight_recorder_conn_1_AMPA-l1-l1_exc-l1-l1_inh.yml\r\n"
     ]
    }
   ],
   "source": [
    "!ls {OUTPUT_DIR/'data'}"
   ]
  },
  {
   "cell_type": "markdown",
   "metadata": {},
   "source": [
    "# 6- Replicate the simulation"
   ]
  },
  {
   "cell_type": "code",
   "execution_count": 32,
   "metadata": {},
   "outputs": [
    {
     "data": {
      "text/plain": [
       "ParamsTree(name='None', parent=None)\n",
       "  params: {}\n",
       "  nest_params: {}\n",
       "  kernel:\n",
       "    params:\n",
       "      nest_seed: 10\n",
       "      extension_modules: []\n",
       "    nest_params:\n",
       "      resolution: 0.5\n",
       "      overwrite_files: true\n",
       "  simulation:\n",
       "    params:\n",
       "      output_dir: data_tuto/output\n",
       "      sessions:\n",
       "      - warmup\n",
       "      - 3_spikes\n",
       "  \n",
       "  ... [167 lines] ...\n",
       "\n",
       "        - layers:\n",
       "          - input_layer\n",
       "          populations: null\n",
       "          model: my_spike_detector\n",
       "        connection_recorders:\n",
       "        - source_layers:\n",
       "          - l1\n",
       "          source_population: l1_exc\n",
       "          target_layers:\n",
       "          - l1\n",
       "          target_population: l1_inh\n",
       "          connection_model: conn_1_AMPA\n",
       "          model: weight_recorder\n",
       "      nest_params: {}\n",
       "  "
      ]
     },
     "execution_count": 32,
     "metadata": {},
     "output_type": "execute_result"
    }
   ],
   "source": [
    "params = ParamsTree.read(OUTPUT_DIR/'parameter_tree.yml')\n",
    "params"
   ]
  },
  {
   "cell_type": "code",
   "execution_count": 33,
   "metadata": {},
   "outputs": [
    {
     "name": "stderr",
     "output_type": "stream",
     "text": [
      "2020-06-21 22:01:14,006 [denest.utils.validation] INFO: Object `simulation`: params: using default value for optional parameters:\n",
      "{'input_dir': 'input'}\n",
      "2020-06-21 22:01:14,009 [denest.utils.validation] INFO: Object `kernel`: params: using default value for optional parameters:\n",
      "{'python_seed': 1}\n",
      "2020-06-21 22:01:14,012 [denest.simulation] INFO: Initializing NEST kernel and seeds...\n",
      "2020-06-21 22:01:14,013 [denest.simulation] INFO:   Resetting NEST kernel...\n",
      "2020-06-21 22:01:14,034 [denest.simulation] INFO:   Setting NEST kernel status...\n",
      "2020-06-21 22:01:14,035 [denest.simulation] INFO:     Calling `nest.SetKernelStatus({'resolution': 0.5, 'overwrite_files': True})`\n",
      "2020-06-21 22:01:14,043 [denest.simulation] INFO:     Calling `nest.SetKernelStatus({'data_path': 'data_tuto/output_replicate/data', 'grng_seed': 11, 'rng_seeds': range(12, 13)})\n",
      "2020-06-21 22:01:14,045 [denest.simulation] INFO:   Finished setting NEST kernel status\n",
      "2020-06-21 22:01:14,054 [denest.simulation] INFO:   Installing external modules...\n",
      "2020-06-21 22:01:14,062 [denest.simulation] INFO:   Finished installing external modules\n",
      "2020-06-21 22:01:14,068 [denest.simulation] INFO:   Setting Python seed: 1\n",
      "2020-06-21 22:01:14,070 [denest.simulation] INFO: Finished initializing kernel\n",
      "2020-06-21 22:01:14,072 [denest.simulation] INFO: Build N=3 session models\n",
      "2020-06-21 22:01:14,077 [denest.simulation] INFO: Build N=4 sessions\n",
      "2020-06-21 22:01:14,079 [denest.session] INFO: Creating session \"00_warmup\"\n",
      "2020-06-21 22:01:14,102 [denest.utils.validation] INFO: Object `00_warmup`: params: using default value for optional parameters:\n",
      "{'reset_network': False, 'synapse_changes': [], 'unit_changes': []}\n",
      "2020-06-21 22:01:14,107 [denest.session] INFO: Creating session \"01_3_spikes\"\n",
      "2020-06-21 22:01:14,109 [denest.utils.validation] INFO: Object `01_3_spikes`: params: using default value for optional parameters:\n",
      "{'reset_network': False, 'synapse_changes': []}\n",
      "2020-06-21 22:01:14,110 [denest.session] INFO: Creating session \"02_2_spikes\"\n",
      "2020-06-21 22:01:14,111 [denest.utils.validation] INFO: Object `02_2_spikes`: params: using default value for optional parameters:\n",
      "{'reset_network': False, 'synapse_changes': []}\n",
      "2020-06-21 22:01:14,114 [denest.session] INFO: Creating session \"03_3_spikes\"\n",
      "2020-06-21 22:01:14,115 [denest.utils.validation] INFO: Object `03_3_spikes`: params: using default value for optional parameters:\n",
      "{'reset_network': False, 'synapse_changes': []}\n",
      "2020-06-21 22:01:14,116 [denest.simulation] INFO: Sessions: ['00_warmup', '01_3_spikes', '02_2_spikes', '03_3_spikes']\n",
      "2020-06-21 22:01:14,119 [denest.simulation] INFO: Building network.\n",
      "2020-06-21 22:01:14,148 [denest.network] INFO: Build N=2 ``Model`` objects\n",
      "2020-06-21 22:01:14,150 [denest.network] INFO: Build N=2 ``SynapseModel`` objects\n",
      "2020-06-21 22:01:14,153 [denest.network] INFO: Build N=3 ``Model`` objects\n",
      "2020-06-21 22:01:14,156 [denest.network] INFO: Build N=2 ``Layer`` or ``InputLayer`` objects.\n",
      "2020-06-21 22:01:14,162 [denest.utils.validation] INFO: Object `conn_1_AMPA`: params: using default value for optional parameters:\n",
      "{'type': 'topological'}\n",
      "2020-06-21 22:01:14,163 [denest.utils.validation] INFO: Object `conn_2_GABAA`: params: using default value for optional parameters:\n",
      "{'type': 'topological'}\n",
      "2020-06-21 22:01:14,164 [denest.network] INFO: Build N=2 ``ConnectionModel`` objects\n",
      "2020-06-21 22:01:14,170 [denest.network] INFO: Build N=3 ``TopoConnection`` objects\n",
      "2020-06-21 22:01:14,174 [denest.network] INFO: Build N=2 population recorders.\n",
      "2020-06-21 22:01:14,175 [denest.network] INFO: Build N=1 connection recorders.\n",
      "2020-06-21 22:01:14,185 [denest.network] INFO: Build N=3 ``TopoConnection`` objects\n",
      "2020-06-21 22:01:14,192 [denest.network] INFO: Build N=2 population recorders.\n",
      "2020-06-21 22:01:14,195 [denest.network] INFO: Build N=1 connection recorders.\n",
      "2020-06-21 22:01:14,197 [denest.simulation] INFO: Creating network.\n",
      "2020-06-21 22:01:14,199 [denest.network] INFO: Creating neuron models...\n",
      "100%|██████████| 2/2 [00:00<00:00, 805.74it/s]\n",
      "2020-06-21 22:01:14,210 [denest.network] INFO: Creating synapse models...\n",
      "100%|██████████| 2/2 [00:00<00:00, 795.88it/s]\n",
      "2020-06-21 22:01:14,229 [denest.network] INFO: Creating recorder models...\n",
      "100%|██████████| 3/3 [00:00<00:00, 1137.18it/s]\n",
      "2020-06-21 22:01:14,238 [denest.network] INFO: Creating layers...\n",
      "100%|██████████| 2/2 [00:00<00:00,  8.80it/s]\n",
      "2020-06-21 22:01:14,474 [denest.network] INFO: Creating population recorders...\n",
      "100%|██████████| 2/2 [00:00<00:00, 94.84it/s]\n",
      "2020-06-21 22:01:14,500 [denest.network] INFO: Creating connection recorders...\n",
      "100%|██████████| 1/1 [00:00<00:00, 110.59it/s]\n",
      "2020-06-21 22:01:14,698 [denest.network] INFO: Connecting layers...\n",
      "100%|██████████| 3/3 [00:00<00:00, 567.31it/s]\n",
      "2020-06-21 22:01:14,748 [denest.network] INFO: Network size (including recorders and parrot neurons):\n",
      "Number of nodes: 206\n",
      "Number of connections: 6650\n",
      "2020-06-21 22:01:14,761 [denest.simulation] INFO: Finished creating network\n",
      "2020-06-21 22:01:14,762 [denest.simulation] INFO: Saving simulation metadata...\n",
      "2020-06-21 22:01:14,769 [denest.simulation] INFO: Creating output directory: ./data_tuto/output_replicate\n",
      "2020-06-21 22:01:14,967 [denest.simulation] INFO: Finished saving simulation metadata\n",
      "2020-06-21 22:01:14,970 [denest.simulation] INFO: Running 4 sessions...\n",
      "2020-06-21 22:01:14,971 [denest.simulation] INFO: Running session: '00_warmup'...\n",
      "2020-06-21 22:01:14,990 [denest.session] INFO: Initializing session...\n",
      "2020-06-21 22:01:15,073 [denest.network.recorders] INFO:   Setting status for recorder my_multimeter_l1_l1_exc: {'start': 100.0}\n",
      "2020-06-21 22:01:15,075 [denest.network.recorders] INFO:   Setting status for recorder my_spike_detector_input_layer_parrot_neuron: {'start': 100.0}\n",
      "2020-06-21 22:01:15,080 [denest.network.recorders] INFO:   Setting status for recorder weight_recorder_conn_1_AMPA-l1-l1_exc-l1-l1_inh: {'start': 100.0}\n",
      "2020-06-21 22:01:15,083 [denest.session] INFO: Setting `origin` flag to `0.0` for all stimulation devices in ``InputLayers`` for session `00_warmup`\n",
      "2020-06-21 22:01:15,089 [denest.session] INFO: Finished initializing session\n",
      "\n",
      "2020-06-21 22:01:15,091 [denest.session] INFO: Running session '00_warmup' for 100 ms\n",
      "2020-06-21 22:01:15,431 [denest.session] INFO: Finished running session\n",
      "2020-06-21 22:01:15,433 [denest.session] INFO: Session '00_warmup' virtual running time: 100 ms\n",
      "2020-06-21 22:01:15,436 [denest.session] INFO: Session '00_warmup' real running time: 0h:00m:00s\n",
      "2020-06-21 22:01:15,495 [denest.simulation] INFO: Done running session '00_warmup'\n",
      "2020-06-21 22:01:15,513 [denest.simulation] INFO: Running session: '01_3_spikes'...\n",
      "2020-06-21 22:01:15,516 [denest.session] INFO: Initializing session...\n",
      "2020-06-21 22:01:15,522 [denest.session] INFO: Setting `origin` flag to `100.0` for all stimulation devices in ``InputLayers`` for session `01_3_spikes`\n",
      "2020-06-21 22:01:15,534 [denest.utils.validation] INFO: Object `Unit changes dictionary`: params: using default value for optional parameters:\n",
      "{'change_type': 'constant', 'from_array': False}\n",
      "2020-06-21 22:01:15,538 [denest.network.layers] INFO: Layer='input_layer', pop='spike_generator': Applying 'constant' change, param='spike_times', from single value')\n",
      "2020-06-21 22:01:15,705 [denest.session] INFO: Finished initializing session\n",
      "\n",
      "2020-06-21 22:01:15,706 [denest.session] INFO: Running session '01_3_spikes' for 100 ms\n",
      "2020-06-21 22:01:16,216 [denest.session] INFO: Finished running session\n",
      "2020-06-21 22:01:16,217 [denest.session] INFO: Session '01_3_spikes' virtual running time: 100 ms\n",
      "2020-06-21 22:01:16,224 [denest.session] INFO: Session '01_3_spikes' real running time: 0h:00m:00s\n",
      "2020-06-21 22:01:16,230 [denest.simulation] INFO: Done running session '01_3_spikes'\n",
      "2020-06-21 22:01:16,241 [denest.simulation] INFO: Running session: '02_2_spikes'...\n",
      "2020-06-21 22:01:16,246 [denest.session] INFO: Initializing session...\n",
      "2020-06-21 22:01:16,248 [denest.session] INFO: Setting `origin` flag to `200.0` for all stimulation devices in ``InputLayers`` for session `02_2_spikes`\n",
      "2020-06-21 22:01:16,266 [denest.utils.validation] INFO: Object `Unit changes dictionary`: params: using default value for optional parameters:\n",
      "{'change_type': 'constant', 'from_array': False}\n"
     ]
    },
    {
     "name": "stderr",
     "output_type": "stream",
     "text": [
      "2020-06-21 22:01:16,274 [denest.network.layers] INFO: Layer='input_layer', pop='spike_generator': Applying 'constant' change, param='spike_times', from single value')\n",
      "2020-06-21 22:01:16,453 [denest.session] INFO: Finished initializing session\n",
      "\n",
      "2020-06-21 22:01:16,454 [denest.session] INFO: Running session '02_2_spikes' for 100 ms\n",
      "2020-06-21 22:01:16,827 [denest.session] INFO: Finished running session\n",
      "2020-06-21 22:01:16,829 [denest.session] INFO: Session '02_2_spikes' virtual running time: 100 ms\n",
      "2020-06-21 22:01:16,830 [denest.session] INFO: Session '02_2_spikes' real running time: 0h:00m:00s\n",
      "2020-06-21 22:01:16,841 [denest.simulation] INFO: Done running session '02_2_spikes'\n",
      "2020-06-21 22:01:16,863 [denest.simulation] INFO: Running session: '03_3_spikes'...\n",
      "2020-06-21 22:01:16,873 [denest.session] INFO: Initializing session...\n",
      "2020-06-21 22:01:16,874 [denest.session] INFO: Setting `origin` flag to `300.0` for all stimulation devices in ``InputLayers`` for session `03_3_spikes`\n",
      "2020-06-21 22:01:16,887 [denest.utils.validation] INFO: Object `Unit changes dictionary`: params: using default value for optional parameters:\n",
      "{'change_type': 'constant', 'from_array': False}\n",
      "2020-06-21 22:01:16,894 [denest.network.layers] INFO: Layer='input_layer', pop='spike_generator': Applying 'constant' change, param='spike_times', from single value')\n",
      "2020-06-21 22:01:17,011 [denest.session] INFO: Finished initializing session\n",
      "\n",
      "2020-06-21 22:01:17,011 [denest.session] INFO: Running session '03_3_spikes' for 100 ms\n",
      "2020-06-21 22:01:17,194 [denest.session] INFO: Finished running session\n",
      "2020-06-21 22:01:17,195 [denest.session] INFO: Session '03_3_spikes' virtual running time: 100 ms\n",
      "2020-06-21 22:01:17,201 [denest.session] INFO: Session '03_3_spikes' real running time: 0h:00m:00s\n",
      "2020-06-21 22:01:17,206 [denest.simulation] INFO: Done running session '03_3_spikes'\n",
      "2020-06-21 22:01:17,209 [denest.simulation] INFO: Finished running simulation\n"
     ]
    }
   ],
   "source": [
    "sim = denest.Simulation(params, output_dir='./data_tuto/output_replicate')\n",
    "sim.run()"
   ]
  },
  {
   "cell_type": "code",
   "execution_count": 34,
   "metadata": {},
   "outputs": [
    {
     "name": "stdout",
     "output_type": "stream",
     "text": [
      "ls: ./output_replicate: No such file or directory\r\n"
     ]
    }
   ],
   "source": [
    "!ls {'./output_replicate'} "
   ]
  }
 ],
 "metadata": {
  "kernelspec": {
   "display_name": "nets",
   "language": "python",
   "name": "nets"
  },
  "language_info": {
   "codemirror_mode": {
    "name": "ipython",
    "version": 3
   },
   "file_extension": ".py",
   "mimetype": "text/x-python",
   "name": "python",
   "nbconvert_exporter": "python",
   "pygments_lexer": "ipython3",
   "version": "3.7.5"
  }
 },
 "nbformat": 4,
 "nbformat_minor": 4
}
