{
 "cells": [
  {
   "cell_type": "markdown",
   "metadata": {},
   "source": [
    "# Quickstart\n",
    "\n",
    "In this tutorial we do the following :\n",
    "\n",
    "1. __Examine the__ ``'network'`` __parameter tree__\n",
    "    1. Models (``neuron_models``, ``recorder_models``, ``synapse_models``)\n",
    "    2. Layers (``layers``)\n",
    "    3. Projections (``projection_models`` and ``topology`` subtrees\n",
    "    5. Population and projection recorders (``recorders``)\n",
    "\n",
    "\n",
    "2. __Examine the full simulation parameter tree__\n",
    "    1. ``network`` params subtree\n",
    "    2. ``kernel`` params subtree\n",
    "    3. ``session_models`` params subtree\n",
    "    4. ``simulation`` params subtree\n",
    "\n",
    "\n",
    "3. __Run a full simulation__\n",
    "    1. Load parameter tree from one or multiple files\n",
    "    1. Using the ``Simulation`` object\n",
    "    2. Using the ``denest.run()`` method\n",
    "    3. From the command line\n"
   ]
  },
  {
   "cell_type": "code",
   "execution_count": 1,
   "metadata": {},
   "outputs": [],
   "source": [
    "import nest\n",
    "import yaml\n",
    "from pathlib import Path\n",
    "from pprint import pprint\n",
    "\n",
    "from denest import *\n",
    "import denest"
   ]
  },
  {
   "cell_type": "code",
   "execution_count": 2,
   "metadata": {},
   "outputs": [],
   "source": [
    "PARAMS_DIR = Path('./data/params')\n",
    "OUTPUT_DIR = Path('./data/output')"
   ]
  },
  {
   "cell_type": "markdown",
   "metadata": {},
   "source": [
    "## ``\"network\"`` tree\n",
    "\n",
    "The ``\"network\"`` tree defines a full NEST network\n",
    "\n",
    "A NEST network is represented in deNEST by the ``Network`` object."
   ]
  },
  {
   "cell_type": "markdown",
   "metadata": {},
   "source": [
    "The `Network` object is initialized from the full ``\"network\"`` parameter tree.\n",
    "The `'network'` tree should have specific children subtree, each used to initialize different elements of the network."
   ]
  },
  {
   "cell_type": "code",
   "execution_count": 3,
   "metadata": {},
   "outputs": [],
   "source": [
    "net_tree = ParamsTree.read(PARAMS_DIR/'network_tree.yml').children['network']"
   ]
  },
  {
   "cell_type": "code",
   "execution_count": 4,
   "metadata": {},
   "outputs": [
    {
     "data": {
      "text/plain": [
       "ParamsTree(name='network', parent='None')\n",
       "  params: {}\n",
       "  nest_params: {}\n",
       "  neuron_models:\n",
       "    params: {}\n",
       "    nest_params: {}\n",
       "    my_neuron:\n",
       "      params:\n",
       "        nest_model: ht_neuron\n",
       "      nest_params:\n",
       "        g_KL: 1.0\n",
       "        g_NaL: 1.0\n",
       "      l1_exc:\n",
       "        params: {}\n",
       "        nest_params:\n",
       "          V_m: -44.0\n",
       "  \n",
       "  ... [116 lines] ...\n",
       "\n",
       "      - layers:\n",
       "        - input_layer\n",
       "        populations: null\n",
       "        model: my_spike_detector\n",
       "      projection_recorders:\n",
       "      - source_layers:\n",
       "        - l1\n",
       "        source_population: l1_exc\n",
       "        target_layers:\n",
       "        - l1\n",
       "        target_population: l1_inh\n",
       "        projection_model: proj_1_AMPA\n",
       "        model: weight_recorder\n",
       "    nest_params: {}\n",
       "  "
      ]
     },
     "execution_count": 4,
     "metadata": {},
     "output_type": "execute_result"
    }
   ],
   "source": [
    "# Full 'network' tree\n",
    "net_tree"
   ]
  },
  {
   "cell_type": "code",
   "execution_count": 5,
   "metadata": {},
   "outputs": [
    {
     "name": "stdout",
     "output_type": "stream",
     "text": [
      "'network' tree's expected subtrees: dict_keys(['neuron_models', 'synapse_models', 'layers', 'projection_models', 'topology', 'recorder_models', 'recorders'])\n"
     ]
    }
   ],
   "source": [
    "print(\"'network' tree's expected subtrees:\", net_tree.children.keys())"
   ]
  },
  {
   "cell_type": "markdown",
   "metadata": {},
   "source": [
    "### Models ( ``'neuron_model'``, ``'synapse_models'``, ``'recorder_models'`` subtrees)\n",
    "\n",
    "We can define neuron, recorder, stimulator and synapse models with arbitrary parameters from parameter trees.\n",
    "\n",
    "Each leaf corresponds to a new (named) model. Its ``nest_params`` and ``params`` are hierarchically inherited.\n",
    "\n",
    "The ``nest_model`` used is specified in the leaf's ``params``"
   ]
  },
  {
   "cell_type": "markdown",
   "metadata": {},
   "source": [
    "#### ``'neuron_models'`` tree"
   ]
  },
  {
   "cell_type": "code",
   "execution_count": 6,
   "metadata": {},
   "outputs": [
    {
     "data": {
      "text/plain": [
       "ParamsTree(name='neuron_models', parent='network')\n",
       "  params: {}\n",
       "  nest_params: {}\n",
       "  my_neuron:\n",
       "    params:\n",
       "      nest_model: ht_neuron\n",
       "    nest_params:\n",
       "      g_KL: 1.0\n",
       "      g_NaL: 1.0\n",
       "    l1_exc:\n",
       "      params: {}\n",
       "      nest_params:\n",
       "        V_m: -44.0\n",
       "    l1_inh:\n",
       "      params: {}\n",
       "      nest_params:\n",
       "        V_m: -55.0\n",
       "  "
      ]
     },
     "execution_count": 6,
     "metadata": {},
     "output_type": "execute_result"
    }
   ],
   "source": [
    "net_tree.children['neuron_models']"
   ]
  },
  {
   "cell_type": "markdown",
   "metadata": {},
   "source": [
    "Below are the leaves of the tree. Each initializes a model. The `nest_params` and `params` are inherited from ancestor leaves."
   ]
  },
  {
   "cell_type": "code",
   "execution_count": 7,
   "metadata": {},
   "outputs": [
    {
     "name": "stdout",
     "output_type": "stream",
     "text": [
      "Tree's leaves and their inherited parameters:\n"
     ]
    },
    {
     "data": {
      "text/plain": [
       "[('leaf name: l1_exc)',\n",
       "  \"leaf `params`: {'nest_model': 'ht_neuron'}\",\n",
       "  \"leaf `nest_params`: {'g_KL': 1.0, 'g_NaL': 1.0, 'V_m': -44.0}\"),\n",
       " ('leaf name: l1_inh)',\n",
       "  \"leaf `params`: {'nest_model': 'ht_neuron'}\",\n",
       "  \"leaf `nest_params`: {'g_KL': 1.0, 'g_NaL': 1.0, 'V_m': -55.0}\")]"
      ]
     },
     "execution_count": 7,
     "metadata": {},
     "output_type": "execute_result"
    }
   ],
   "source": [
    "print(\"Tree's leaves and their inherited parameters:\")\n",
    "[\n",
    "    (f'leaf name: {l.name})',\n",
    "      f'leaf `params`: {dict(l.params)}',\n",
    "      f'leaf `nest_params`: {dict(l.nest_params)}')\n",
    "     for l in net_tree.children['neuron_models'].leaves()\n",
    "]"
   ]
  },
  {
   "cell_type": "markdown",
   "metadata": {},
   "source": [
    "#### ``'recorder_models'`` subtree\n",
    "\n",
    "Same thing as for neuron models:"
   ]
  },
  {
   "cell_type": "code",
   "execution_count": 8,
   "metadata": {},
   "outputs": [
    {
     "data": {
      "text/plain": [
       "ParamsTree(name='recorder_models', parent='network')\n",
       "  params: {}\n",
       "  nest_params:\n",
       "    record_to:\n",
       "    - memory\n",
       "    - file\n",
       "  weight_recorder:\n",
       "    params:\n",
       "      nest_model: weight_recorder\n",
       "    nest_params: {}\n",
       "  my_multimeter:\n",
       "    params:\n",
       "      nest_model: multimeter\n",
       "    nest_params:\n",
       "      record_from:\n",
       "      - V_m\n",
       "  my_spike_detector:\n",
       "    params:\n",
       "      nest_model: spike_detector\n",
       "    nest_params: {}\n",
       "  "
      ]
     },
     "execution_count": 8,
     "metadata": {},
     "output_type": "execute_result"
    }
   ],
   "source": [
    "net_tree.children['recorder_models']"
   ]
  },
  {
   "cell_type": "code",
   "execution_count": 9,
   "metadata": {},
   "outputs": [
    {
     "name": "stdout",
     "output_type": "stream",
     "text": [
      "Tree's leaves and their inherited parameters:\n"
     ]
    },
    {
     "data": {
      "text/plain": [
       "[('leaf name: weight_recorder)',\n",
       "  \"leaf `params`: {'nest_model': 'weight_recorder'}\",\n",
       "  \"leaf `nest_params`: {'record_to': ['memory', 'file']}\"),\n",
       " ('leaf name: my_multimeter)',\n",
       "  \"leaf `params`: {'nest_model': 'multimeter'}\",\n",
       "  \"leaf `nest_params`: {'record_to': ['memory', 'file'], 'record_from': ['V_m']}\"),\n",
       " ('leaf name: my_spike_detector)',\n",
       "  \"leaf `params`: {'nest_model': 'spike_detector'}\",\n",
       "  \"leaf `nest_params`: {'record_to': ['memory', 'file']}\")]"
      ]
     },
     "execution_count": 9,
     "metadata": {},
     "output_type": "execute_result"
    }
   ],
   "source": [
    "print(\"Tree's leaves and their inherited parameters:\")\n",
    "[\n",
    "    (f'leaf name: {l.name})',\n",
    "      f'leaf `params`: {dict(l.params)}',\n",
    "      f'leaf `nest_params`: {dict(l.nest_params)}')\n",
    "     for l in net_tree.children['recorder_models'].leaves()\n",
    "]"
   ]
  },
  {
   "cell_type": "markdown",
   "metadata": {},
   "source": [
    "#### ``'synapse_model'`` subtree\n",
    "\n",
    "- Same thing as for neuron models, with as a bonus a convenient way of specifying the receptor type of the synapse\n",
    "- If specifying the ``receptor_type`` and ``target_model`` in the ``SynapseModel`` params, the corresponding port is determined automatically\n",
    "- Connection __'weight'__ nest_param should be specified in the projections parameters rather than the synapse parameters"
   ]
  },
  {
   "cell_type": "code",
   "execution_count": 10,
   "metadata": {},
   "outputs": [
    {
     "name": "stdout",
     "output_type": "stream",
     "text": [
      "ParamsTree(name='synapse_models', parent='network')\n",
      "  params: {}\n",
      "  nest_params: {}\n",
      "  my_AMPA_synapse:\n",
      "    params:\n",
      "      nest_model: ht_synapse\n",
      "      receptor_type: AMPA\n",
      "      target_neuron: ht_neuron\n",
      "    nest_params: {}\n",
      "  my_GABAA_synapse:\n",
      "    params:\n",
      "      nest_model: ht_synapse\n",
      "      receptor_type: GABA_A\n",
      "      target_neuron: ht_neuron\n",
      "    nest_params: {}\n",
      "  \n"
     ]
    }
   ],
   "source": [
    "pprint(net_tree.children['synapse_models'])"
   ]
  },
  {
   "cell_type": "code",
   "execution_count": 11,
   "metadata": {},
   "outputs": [
    {
     "name": "stdout",
     "output_type": "stream",
     "text": [
      "Tree's leaves and their inherited parameters:\n"
     ]
    },
    {
     "data": {
      "text/plain": [
       "[('leaf name: my_AMPA_synapse)',\n",
       "  \"leaf `params`: {'nest_model': 'ht_synapse', 'receptor_type': 'AMPA', 'target_neuron': 'ht_neuron'}\",\n",
       "  'leaf `nest_params`: {}'),\n",
       " ('leaf name: my_GABAA_synapse)',\n",
       "  \"leaf `params`: {'nest_model': 'ht_synapse', 'receptor_type': 'GABA_A', 'target_neuron': 'ht_neuron'}\",\n",
       "  'leaf `nest_params`: {}')]"
      ]
     },
     "execution_count": 11,
     "metadata": {},
     "output_type": "execute_result"
    }
   ],
   "source": [
    "print(\"Tree's leaves and their inherited parameters:\")\n",
    "[\n",
    "    (f'leaf name: {l.name})',\n",
    "      f'leaf `params`: {dict(l.params)}',\n",
    "      f'leaf `nest_params`: {dict(l.nest_params)}')\n",
    "     for l in net_tree.children['synapse_models'].leaves()\n",
    "]"
   ]
  },
  {
   "cell_type": "markdown",
   "metadata": {},
   "source": [
    "### Layers ( `'layers'` subtree)\n",
    "\n",
    "- As for models, we can create ``nest.Topology`` layers from the leaves of a tree.\n",
    "- The elements can be nest models with their default parameters, or the ones we just created with custom params\n",
    "- For layers of stimulator devices, we can use the ``InputLayer`` object, which can automatically create paired parrot neurons for each stimulator units, by adding ``type: 'InputLayer'`` to the params\n",
    "- The leaves should have a ``population`` entry in the ``params`` field, that specifies the number of units of each model at each layer location (replaces the ``elements`` nest_params)"
   ]
  },
  {
   "cell_type": "code",
   "execution_count": 12,
   "metadata": {},
   "outputs": [
    {
     "data": {
      "text/plain": [
       "ParamsTree(name='layers', parent='network')\n",
       "  params: {}\n",
       "  nest_params: {}\n",
       "  layers:\n",
       "    params:\n",
       "      type: null\n",
       "    nest_params:\n",
       "      rows: 5\n",
       "      columns: 5\n",
       "      extent:\n",
       "      - 5.0\n",
       "      - 5.0\n",
       "      edge_wrap: true\n",
       "    input_layer:\n",
       "      params:\n",
       "        type: InputLayer\n",
       "        add_parrots: true\n",
       "        populations:\n",
       "          spike_generator: 1\n",
       "      nest_params: {}\n",
       "    l1:\n",
       "      params:\n",
       "        populations:\n",
       "          l1_exc: 4\n",
       "          l1_inh: 2\n",
       "      nest_params: {}\n",
       "  "
      ]
     },
     "execution_count": 12,
     "metadata": {},
     "output_type": "execute_result"
    }
   ],
   "source": [
    "layer_tree = net_tree.children['layers']\n",
    "layer_tree"
   ]
  },
  {
   "cell_type": "code",
   "execution_count": 13,
   "metadata": {},
   "outputs": [
    {
     "name": "stdout",
     "output_type": "stream",
     "text": [
      "Tree's leaves and their inherited parameters:\n"
     ]
    },
    {
     "data": {
      "text/plain": [
       "[('leaf name: input_layer)',\n",
       "  \"leaf `params`: {'type': 'InputLayer', 'add_parrots': True, 'populations': {'spike_generator': 1}}\",\n",
       "  \"leaf `nest_params`: {'rows': 5, 'columns': 5, 'extent': [5.0, 5.0], 'edge_wrap': True}\"),\n",
       " ('leaf name: l1)',\n",
       "  \"leaf `params`: {'type': None, 'populations': {'l1_exc': 4, 'l1_inh': 2}}\",\n",
       "  \"leaf `nest_params`: {'rows': 5, 'columns': 5, 'extent': [5.0, 5.0], 'edge_wrap': True}\")]"
      ]
     },
     "execution_count": 13,
     "metadata": {},
     "output_type": "execute_result"
    }
   ],
   "source": [
    "print(\"Tree's leaves and their inherited parameters:\")\n",
    "[\n",
    "    (f'leaf name: {l.name})',\n",
    "      f'leaf `params`: {dict(l.params)}',\n",
    "      f'leaf `nest_params`: {dict(l.nest_params)}')\n",
    "     for l in layer_tree.leaves()\n",
    "]"
   ]
  },
  {
   "cell_type": "markdown",
   "metadata": {},
   "source": [
    "### Projections (`'projection_models'` and `'topology'` subtrees)\n",
    "\n",
    "We create projections using a two step process:\n",
    "\n",
    "1. Create ``ProjectionModel`` objects from a tree. Each named leaf will define a template from which individual projections can inherit their parameters (``'projection_models`` subtree)\n",
    "\n",
    "\n",
    "2. Create ``Projection`` objects from a list, specifying for each item the source layer x population, target layer x population and the projection model to inherit parameters from (``'topology'`` subtree)"
   ]
  },
  {
   "cell_type": "markdown",
   "metadata": {},
   "source": [
    "#### Define templates from the `projection_models` tree"
   ]
  },
  {
   "cell_type": "code",
   "execution_count": 14,
   "metadata": {},
   "outputs": [
    {
     "data": {
      "text/plain": [
       "ParamsTree(name='projection_models', parent='network')\n",
       "  params: {}\n",
       "  nest_params:\n",
       "    connection_type: divergent\n",
       "    mask:\n",
       "      circular:\n",
       "        radius: 2.0\n",
       "    kernel: 1.0\n",
       "  proj_1_AMPA:\n",
       "    params: {}\n",
       "    nest_params:\n",
       "      synapse_model: my_AMPA_synapse\n",
       "      weights: 1.0\n",
       "  proj_2_GABAA:\n",
       "    params: {}\n",
       "    nest_params:\n",
       "      synapse_model: my_GABAA_synapse\n",
       "      weights: 2.0\n",
       "  "
      ]
     },
     "execution_count": 14,
     "metadata": {},
     "output_type": "execute_result"
    }
   ],
   "source": [
    "proj_model_tree = net_tree.children['projection_models']\n",
    "proj_model_tree"
   ]
  },
  {
   "cell_type": "code",
   "execution_count": 15,
   "metadata": {},
   "outputs": [
    {
     "name": "stdout",
     "output_type": "stream",
     "text": [
      "Tree's leaves and their inherited parameters:\n"
     ]
    },
    {
     "data": {
      "text/plain": [
       "[('leaf name: proj_1_AMPA)',\n",
       "  'leaf `params`: {}',\n",
       "  \"leaf `nest_params`: {'connection_type': 'divergent', 'mask': {'circular': {'radius': 2.0}}, 'kernel': 1.0, 'synapse_model': 'my_AMPA_synapse', 'weights': 1.0}\"),\n",
       " ('leaf name: proj_2_GABAA)',\n",
       "  'leaf `params`: {}',\n",
       "  \"leaf `nest_params`: {'connection_type': 'divergent', 'mask': {'circular': {'radius': 2.0}}, 'kernel': 1.0, 'synapse_model': 'my_GABAA_synapse', 'weights': 2.0}\")]"
      ]
     },
     "execution_count": 15,
     "metadata": {},
     "output_type": "execute_result"
    }
   ],
   "source": [
    "print(\"Tree's leaves and their inherited parameters:\")\n",
    "[\n",
    "    (f'leaf name: {l.name})',\n",
    "      f'leaf `params`: {dict(l.params)}',\n",
    "      f'leaf `nest_params`: {dict(l.nest_params)}')\n",
    "     for l in net_tree.children['projection_models'].leaves()\n",
    "]"
   ]
  },
  {
   "cell_type": "markdown",
   "metadata": {},
   "source": [
    "#### Define individual projections from the `topology` tree\n",
    "\n",
    "The list of projections is defined in the `projections` params of the `topology` tree\n",
    "\n",
    "Check out the doc of `Network.build_projections` for expected formatting"
   ]
  },
  {
   "cell_type": "markdown",
   "metadata": {},
   "source": [
    "For each item in the list, a projection is created for each of the `<source_layer> x <target_layer>` combinations.\n",
    "The `params` and `nest_params` are inherited from the template `projection_model`"
   ]
  },
  {
   "cell_type": "code",
   "execution_count": 16,
   "metadata": {},
   "outputs": [
    {
     "data": {
      "text/plain": [
       "ParamsTree(name='topology', parent='network')\n",
       "  params:\n",
       "    projections:\n",
       "    - source_layers:\n",
       "      - input_layer\n",
       "      source_population: parrot_neuron\n",
       "      target_layers:\n",
       "      - l1\n",
       "      target_population: l1_exc\n",
       "      projection_model: proj_1_AMPA\n",
       "    - source_layers:\n",
       "      - l1\n",
       "      source_population: l1_exc\n",
       "      target_layers:\n",
       "      - l1\n",
       "      target_population: l1_inh\n",
       "      projection_model: proj_1_AMPA\n",
       "    - source_layers:\n",
       "      - l1\n",
       "      source_population: l1_inh\n",
       "      target_layers:\n",
       "      - l1\n",
       "      target_population: l1_exc\n",
       "      projection_model: proj_2_GABAA\n",
       "  nest_params: {}\n",
       "  "
      ]
     },
     "execution_count": 16,
     "metadata": {},
     "output_type": "execute_result"
    }
   ],
   "source": [
    "topo_tree = net_tree.children['topology']\n",
    "topo_tree"
   ]
  },
  {
   "cell_type": "markdown",
   "metadata": {},
   "source": [
    "### Recorders (`recorders` subtree)\n",
    "\n",
    "Similarly to the `topology` tree, recorders are defined from lists.\n",
    "\n",
    "We separate recorders connected to synapses (eg weight recorder) and those connected to units (eg spike detectors),\n",
    "which are defined in the `projection_recorders` and `population_recorders` params (resp.) of the `recorders` tree.\n",
    "\n",
    "Check out the doc of the ``Network.build_recorders``, ``Network.build_population_recorders`` and\n",
    "``Network.build_projection_recorders`` methods for expected formatting\n",
    "\n",
    "The parameters of the recorders can be changed by using custom recorder models (in the `recorder_models` tree, see above) "
   ]
  },
  {
   "cell_type": "code",
   "execution_count": 17,
   "metadata": {},
   "outputs": [
    {
     "data": {
      "text/plain": [
       "ParamsTree(name='recorders', parent='network')\n",
       "  params:\n",
       "    population_recorders:\n",
       "    - layers:\n",
       "      - l1\n",
       "      populations:\n",
       "      - l1_exc\n",
       "      model: my_multimeter\n",
       "    - layers:\n",
       "      - input_layer\n",
       "      populations: null\n",
       "      model: my_spike_detector\n",
       "    projection_recorders:\n",
       "    - source_layers:\n",
       "      - l1\n",
       "      source_population: l1_exc\n",
       "      target_layers:\n",
       "      - l1\n",
       "      target_population: l1_inh\n",
       "      projection_model: proj_1_AMPA\n",
       "      model: weight_recorder\n",
       "  nest_params: {}\n",
       "  "
      ]
     },
     "execution_count": 17,
     "metadata": {},
     "output_type": "execute_result"
    }
   ],
   "source": [
    "recorders_tree = net_tree.children['recorders']\n",
    "recorders_tree"
   ]
  },
  {
   "cell_type": "markdown",
   "metadata": {},
   "source": [
    "## Full parameter tree\n",
    "\n",
    "\n",
    "A full simulation consists in\n",
    "\n",
    "- kernel initialization\n",
    "- network creation\n",
    "- running the network in multiple 'sessions' at the start of which some modifications to the network can be made\n",
    "\n",
    "The full simulation is represented by the `Simulation` object, which is initialized from a parameter tree with the following subtrees:\n",
    "\n",
    "1. `'network'` subtree, passed to `Network()`\n",
    "\n",
    "1. `'kernel'` subtree, passed to `Simulation.init_kernel()`\n",
    "\n",
    "1. `'session_models'` subtree, defining the parameters for each individual `Session`\n",
    "\n",
    "1. `'simulation'` subtree, containing the list of sessions that we run and the input/output directory paths"
   ]
  },
  {
   "cell_type": "code",
   "execution_count": 18,
   "metadata": {},
   "outputs": [],
   "source": [
    "full_tree = ParamsTree.read(PARAMS_DIR/'parameter_tree.yml')"
   ]
  },
  {
   "cell_type": "code",
   "execution_count": 19,
   "metadata": {},
   "outputs": [
    {
     "data": {
      "text/plain": [
       "dict_keys(['kernel', 'simulation', 'session_models', 'network'])"
      ]
     },
     "execution_count": 19,
     "metadata": {},
     "output_type": "execute_result"
    }
   ],
   "source": [
    "full_tree.children.keys()"
   ]
  },
  {
   "cell_type": "markdown",
   "metadata": {},
   "source": [
    "### `'network'` subtree"
   ]
  },
  {
   "cell_type": "markdown",
   "metadata": {},
   "source": [
    "The `'network'` subtree is expected to have the following children, as we saw above:"
   ]
  },
  {
   "cell_type": "code",
   "execution_count": 20,
   "metadata": {},
   "outputs": [
    {
     "data": {
      "text/plain": [
       "dict_keys(['neuron_models', 'synapse_models', 'layers', 'projection_models', 'topology', 'recorder_models', 'recorders'])"
      ]
     },
     "execution_count": 20,
     "metadata": {},
     "output_type": "execute_result"
    }
   ],
   "source": [
    "net_tree = full_tree.children['network']\n",
    "net_tree.children.keys()"
   ]
  },
  {
   "cell_type": "markdown",
   "metadata": {},
   "source": [
    "It is used to initialize a `Network` object, representing the full NEST network."
   ]
  },
  {
   "cell_type": "code",
   "execution_count": 21,
   "metadata": {},
   "outputs": [
    {
     "name": "stderr",
     "output_type": "stream",
     "text": [
      "2020-06-29 12:30:53,600 [denest.network] INFO: Build N=2 ``Model`` objects\n",
      "2020-06-29 12:30:53,602 [denest.network] INFO: Build N=2 ``SynapseModel`` objects\n",
      "2020-06-29 12:30:53,603 [denest.network] INFO: Build N=3 ``Model`` objects\n",
      "2020-06-29 12:30:53,607 [denest.network] INFO: Build N=2 ``Layer`` or ``InputLayer`` objects.\n",
      "2020-06-29 12:30:53,611 [denest.utils.validation] INFO: Object `proj_1_AMPA`: params: using default value for optional parameters:\n",
      "{'type': 'topological'}\n",
      "2020-06-29 12:30:53,614 [denest.utils.validation] INFO: Object `proj_2_GABAA`: params: using default value for optional parameters:\n",
      "{'type': 'topological'}\n",
      "2020-06-29 12:30:53,614 [denest.network] INFO: Build N=2 ``ProjectionModel`` objects\n",
      "2020-06-29 12:30:53,618 [denest.network] INFO: Build N=3 ``TopoProjection`` objects\n",
      "2020-06-29 12:30:53,621 [denest.network] INFO: Build N=2 population recorders.\n",
      "2020-06-29 12:30:53,622 [denest.network] INFO: Build N=1 projection recorders.\n"
     ]
    }
   ],
   "source": [
    "net = Network(net_tree)"
   ]
  },
  {
   "cell_type": "markdown",
   "metadata": {},
   "source": [
    "### `'kernel'` subtree\n",
    "\n",
    "The kernel subtree is passed to the `Simulation.init_kernel` method.\n",
    "\n",
    "- All `nest_params` are passed to nest.SetKernelStatus\n",
    "- Two optional `params`:\n",
    "    - `nest_seed` (used to initialize at once the thread-wide and general nest rsg. The `msd`, `grng_seed` and `rng_seed` nest params are reserved)\n",
    "    - `extension_modules` (used to call `nest.Install()`)\n",
    "- Note the `data_path` parameter is set automatically from the simulation's `'output_dir'`"
   ]
  },
  {
   "cell_type": "code",
   "execution_count": 22,
   "metadata": {},
   "outputs": [
    {
     "data": {
      "text/plain": [
       "ParamsTree(name='kernel', parent='None')\n",
       "  params:\n",
       "    nest_seed: 10\n",
       "    extension_modules: []\n",
       "  nest_params:\n",
       "    resolution: 0.5\n",
       "    overwrite_files: true\n",
       "  "
      ]
     },
     "execution_count": 22,
     "metadata": {},
     "output_type": "execute_result"
    }
   ],
   "source": [
    "full_tree.children['kernel']"
   ]
  },
  {
   "cell_type": "markdown",
   "metadata": {},
   "source": [
    "### `'session_models'` subtree\n",
    "\n",
    "The leaves of the `'session_models'` subtree define templates from which the parameters of each `Session` object can be inherited.\n",
    "\n",
    "The following `params` are recognized:\n",
    "\n",
    "- ``simulation_time`` (float): Duration of the session in ms.\n",
    "    (mandatory)\n",
    "- ``reset_network`` (bool): If true, ``nest.ResetNetwork()`` is\n",
    "    called during session initialization (default ``False``)\n",
    "- ``record`` (bool): If false, the ``start_time`` field of\n",
    "    recorder nodes in NEST is set to the end time of the\n",
    "    session, so that no data is recorded during the session\n",
    "    (default ``True``)\n",
    "- ``shift_origin`` (bool): If True, the ``origin`` flag of the\n",
    "    stimulation devices of all the network's ``InputLayer``\n",
    "    layers is set to the start of the session during\n",
    "    initialization. Useful to repeat sessions when the\n",
    "    stimulators are eg spike generators.\n",
    "- ``unit_changes`` (list): List describing the changes applied\n",
    "    to certain units before the start of the session.\n",
    "    Passed to ``Network.set_state``.\n",
    "- ``synapse_changes`` (list): List describing the changes\n",
    "    applied to certain synapses before the start of the session.\n",
    "    Passed to ``Network.set_state``. Refer to that\n",
    "    method for a description of how ``synapse_changes`` is\n",
    "    formatted and interpreted. No changes happen if empty.\n",
    "    (default [])"
   ]
  },
  {
   "cell_type": "code",
   "execution_count": 23,
   "metadata": {},
   "outputs": [
    {
     "data": {
      "text/plain": [
       "ParamsTree(name='session_models', parent='None')\n",
       "  params:\n",
       "    record: true\n",
       "    shift_origin: true\n",
       "    simulation_time: 100.0\n",
       "  nest_params: {}\n",
       "  warmup:\n",
       "    params:\n",
       "      record: false\n",
       "    nest_params: {}\n",
       "  2_spikes:\n",
       "    params:\n",
       "      unit_changes:\n",
       "      - layers:\n",
       "        - input_layer\n",
       "        population_name: spike_generator\n",
       "  \n",
       "  ... [3 lines] ...\n",
       "\n",
       "          - 10.0\n",
       "    nest_params: {}\n",
       "  3_spikes:\n",
       "    params:\n",
       "      unit_changes:\n",
       "      - layers:\n",
       "        - input_layer\n",
       "        population_name: spike_generator\n",
       "        nest_params:\n",
       "          spike_times:\n",
       "          - 1.0\n",
       "          - 10.0\n",
       "          - 20.0\n",
       "    nest_params: {}\n",
       "  "
      ]
     },
     "execution_count": 23,
     "metadata": {},
     "output_type": "execute_result"
    }
   ],
   "source": [
    "full_tree.children['session_models']"
   ]
  },
  {
   "cell_type": "code",
   "execution_count": 24,
   "metadata": {},
   "outputs": [
    {
     "name": "stdout",
     "output_type": "stream",
     "text": [
      "Tree's leaves and their inherited parameters:\n"
     ]
    },
    {
     "data": {
      "text/plain": [
       "[('leaf name: warmup)',\n",
       "  \"leaf `params`: {'record': False, 'shift_origin': True, 'simulation_time': 100.0}\",\n",
       "  'leaf `nest_params`: {}'),\n",
       " ('leaf name: 2_spikes)',\n",
       "  \"leaf `params`: {'record': True, 'shift_origin': True, 'simulation_time': 100.0, 'unit_changes': [{'layers': ['input_layer'], 'population_name': 'spike_generator', 'nest_params': {'spike_times': [1.0, 10.0]}}]}\",\n",
       "  'leaf `nest_params`: {}'),\n",
       " ('leaf name: 3_spikes)',\n",
       "  \"leaf `params`: {'record': True, 'shift_origin': True, 'simulation_time': 100.0, 'unit_changes': [{'layers': ['input_layer'], 'population_name': 'spike_generator', 'nest_params': {'spike_times': [1.0, 10.0, 20.0]}}]}\",\n",
       "  'leaf `nest_params`: {}')]"
      ]
     },
     "execution_count": 24,
     "metadata": {},
     "output_type": "execute_result"
    }
   ],
   "source": [
    "print(\"Tree's leaves and their inherited parameters:\")\n",
    "[\n",
    "    (f'leaf name: {l.name})',\n",
    "      f'leaf `params`: {dict(l.params)}',\n",
    "      f'leaf `nest_params`: {dict(l.nest_params)}')\n",
    "     for l in full_tree.children['session_models'].leaves()\n",
    "]"
   ]
  },
  {
   "cell_type": "markdown",
   "metadata": {},
   "source": [
    "Check out the ``set_network_state`` tutorial or the documentation of the ``Network.set_state()`` method for details on how to modify the state of the network at the start of a simulation"
   ]
  },
  {
   "cell_type": "markdown",
   "metadata": {},
   "source": [
    "### `'simulation'` subtree\n",
    "\n",
    "The 'simulation' subtree contains the following parameters:\n",
    "\n",
    "- ``output_dir`` (str): Path to the output directory\n",
    "    (default 'output').\n",
    "- ``input_dir`` (str): Path to the directory in which\n",
    "    input files are searched for for each session.\n",
    "    (default 'input')\n",
    "- ``sessions`` (list(str)): Order in which sessions are\n",
    "    run. Elements of the list should be the name of\n",
    "    session models defined in the ``session_models``\n",
    "    parameter subtree (default [])"
   ]
  },
  {
   "cell_type": "code",
   "execution_count": 25,
   "metadata": {},
   "outputs": [
    {
     "data": {
      "text/plain": [
       "ParamsTree(name='simulation', parent='None')\n",
       "  params:\n",
       "    output_dir: data_tuto/output\n",
       "    sessions:\n",
       "    - warmup\n",
       "    - 3_spikes\n",
       "    - 2_spikes\n",
       "    - 3_spikes\n",
       "  nest_params: {}\n",
       "  "
      ]
     },
     "execution_count": 25,
     "metadata": {},
     "output_type": "execute_result"
    }
   ],
   "source": [
    "full_tree.children['simulation']"
   ]
  },
  {
   "cell_type": "markdown",
   "metadata": {},
   "source": [
    "## Run a full simulation"
   ]
  },
  {
   "cell_type": "markdown",
   "metadata": {},
   "source": [
    "### Load the full parameter tree\n",
    "\n",
    "The full parameter tree can be loaded from a single file, or from multiple files which are merged."
   ]
  },
  {
   "cell_type": "markdown",
   "metadata": {},
   "source": [
    "**From a single file** by using the `yaml.load`  or the `ParamsTree.read` methods:"
   ]
  },
  {
   "cell_type": "code",
   "execution_count": 26,
   "metadata": {},
   "outputs": [
    {
     "data": {
      "text/plain": [
       "ParamsTree(name='None', parent=None)\n",
       "  params: {}\n",
       "  nest_params: {}\n",
       "  kernel:\n",
       "    params:\n",
       "      nest_seed: 10\n",
       "      extension_modules: []\n",
       "    nest_params:\n",
       "      resolution: 0.5\n",
       "      overwrite_files: true\n",
       "  simulation:\n",
       "    params:\n",
       "      output_dir: data_tuto/output\n",
       "      sessions:\n",
       "      - warmup\n",
       "      - 3_spikes\n",
       "  \n",
       "  ... [168 lines] ...\n",
       "\n",
       "        - layers:\n",
       "          - input_layer\n",
       "          populations: null\n",
       "          model: my_spike_detector\n",
       "        projection_recorders:\n",
       "        - source_layers:\n",
       "          - l1\n",
       "          source_population: l1_exc\n",
       "          target_layers:\n",
       "          - l1\n",
       "          target_population: l1_inh\n",
       "          projection_model: proj_1_AMPA\n",
       "          model: weight_recorder\n",
       "      nest_params: {}\n",
       "  "
      ]
     },
     "execution_count": 26,
     "metadata": {},
     "output_type": "execute_result"
    }
   ],
   "source": [
    "ParamsTree.read(PARAMS_DIR/'parameter_tree.yml')"
   ]
  },
  {
   "cell_type": "markdown",
   "metadata": {},
   "source": [
    "**By merging multiple files**, using the `denest.load_trees` method:"
   ]
  },
  {
   "cell_type": "code",
   "execution_count": 27,
   "metadata": {},
   "outputs": [
    {
     "name": "stdout",
     "output_type": "stream",
     "text": [
      "- './network_tree.yml'\r\n",
      "- './simulation.yml'\r\n",
      "- './session_models.yml'\r\n",
      "- './kernel.yml'\r\n"
     ]
    }
   ],
   "source": [
    "!cat {PARAMS_DIR/'tree_paths.yml'}"
   ]
  },
  {
   "cell_type": "code",
   "execution_count": 28,
   "metadata": {},
   "outputs": [
    {
     "name": "stderr",
     "output_type": "stream",
     "text": [
      "2020-06-29 12:30:54,100 [denest] INFO: Loading parameter file paths from data/params/tree_paths.yml\n",
      "2020-06-29 12:30:54,104 [denest] INFO: Finished loading parameter file paths\n",
      "2020-06-29 12:30:54,105 [denest] INFO: Loading parameters files: \n",
      "['./network_tree.yml',\n",
      " './simulation.yml',\n",
      " './session_models.yml',\n",
      " './kernel.yml']\n"
     ]
    }
   ],
   "source": [
    "full_tree = load_trees(PARAMS_DIR/'tree_paths.yml')"
   ]
  },
  {
   "cell_type": "code",
   "execution_count": 29,
   "metadata": {},
   "outputs": [
    {
     "data": {
      "text/plain": [
       "ParamsTree(name='data/params/tree_paths.yml', parent=None)\n",
       "  params: {}\n",
       "  nest_params: {}\n",
       "  simulation:\n",
       "    params:\n",
       "      output_dir: output\n",
       "      sessions:\n",
       "      - warmup\n",
       "      - 3_spikes\n",
       "      - 2_spikes\n",
       "      - 3_spikes\n",
       "    nest_params: {}\n",
       "  session_models:\n",
       "    params:\n",
       "      record: true\n",
       "      shift_origin: true\n",
       "  \n",
       "  ... [168 lines] ...\n",
       "\n",
       "          source_population: l1_exc\n",
       "          target_layers:\n",
       "          - l1\n",
       "          target_population: l1_inh\n",
       "          projection_model: proj_1_AMPA\n",
       "          model: weight_recorder\n",
       "      nest_params: {}\n",
       "  kernel:\n",
       "    params:\n",
       "      nest_seed: 10\n",
       "      extension_modules: []\n",
       "    nest_params:\n",
       "      resolution: 0.5\n",
       "      overwrite_files: true\n",
       "  "
      ]
     },
     "execution_count": 29,
     "metadata": {},
     "output_type": "execute_result"
    }
   ],
   "source": [
    "full_tree"
   ]
  },
  {
   "cell_type": "markdown",
   "metadata": {},
   "source": [
    "### Run with the `Simulation` object"
   ]
  },
  {
   "cell_type": "markdown",
   "metadata": {},
   "source": [
    "We load the full parameter tree:"
   ]
  },
  {
   "cell_type": "code",
   "execution_count": 30,
   "metadata": {},
   "outputs": [],
   "source": [
    "tree = ParamsTree.read(PARAMS_DIR/'parameter_tree.yml')"
   ]
  },
  {
   "cell_type": "markdown",
   "metadata": {},
   "source": [
    "And then initialize the `Simulation`:"
   ]
  },
  {
   "cell_type": "code",
   "execution_count": 31,
   "metadata": {},
   "outputs": [
    {
     "name": "stderr",
     "output_type": "stream",
     "text": [
      "2020-06-29 12:30:54,322 [denest.utils.validation] INFO: Object `simulation`: params: using default value for optional parameters:\n",
      "{'input_dir': 'input'}\n",
      "2020-06-29 12:30:54,324 [denest.simulation] INFO: Initializing NEST kernel and seeds...\n",
      "2020-06-29 12:30:54,326 [denest.simulation] INFO:   Resetting NEST kernel...\n",
      "2020-06-29 12:30:54,333 [denest.simulation] INFO:   Setting NEST kernel status...\n",
      "2020-06-29 12:30:54,334 [denest.simulation] INFO:     Calling `nest.SetKernelStatus({'resolution': 0.5, 'overwrite_files': True})`\n",
      "2020-06-29 12:30:54,371 [denest.simulation] INFO:     Calling `nest.SetKernelStatus({'data_path': 'data_tuto/output/data', 'grng_seed': 11, 'rng_seeds': range(12, 13)})\n",
      "2020-06-29 12:30:54,374 [denest.simulation] INFO:   Finished setting NEST kernel status\n",
      "2020-06-29 12:30:54,375 [denest.simulation] INFO:   Installing external modules...\n",
      "2020-06-29 12:30:54,381 [denest.simulation] INFO:   Finished installing external modules\n",
      "2020-06-29 12:30:54,384 [denest.simulation] INFO: Finished initializing kernel\n",
      "2020-06-29 12:30:54,388 [denest.simulation] INFO: Build N=3 session models\n",
      "2020-06-29 12:30:54,391 [denest.simulation] INFO: Build N=4 sessions\n",
      "2020-06-29 12:30:54,393 [denest.session] INFO: Creating session \"00_warmup\"\n",
      "2020-06-29 12:30:54,395 [denest.utils.validation] INFO: Object `00_warmup`: params: using default value for optional parameters:\n",
      "{'reset_network': False, 'synapse_changes': [], 'unit_changes': []}\n",
      "2020-06-29 12:30:54,397 [denest.session] INFO: Creating session \"01_3_spikes\"\n",
      "2020-06-29 12:30:54,398 [denest.utils.validation] INFO: Object `01_3_spikes`: params: using default value for optional parameters:\n",
      "{'reset_network': False, 'synapse_changes': []}\n",
      "2020-06-29 12:30:54,400 [denest.session] INFO: Creating session \"02_2_spikes\"\n",
      "2020-06-29 12:30:54,404 [denest.utils.validation] INFO: Object `02_2_spikes`: params: using default value for optional parameters:\n",
      "{'reset_network': False, 'synapse_changes': []}\n",
      "2020-06-29 12:30:54,406 [denest.session] INFO: Creating session \"03_3_spikes\"\n",
      "2020-06-29 12:30:54,410 [denest.utils.validation] INFO: Object `03_3_spikes`: params: using default value for optional parameters:\n",
      "{'reset_network': False, 'synapse_changes': []}\n",
      "2020-06-29 12:30:54,428 [denest.simulation] INFO: Sessions: ['00_warmup', '01_3_spikes', '02_2_spikes', '03_3_spikes']\n",
      "2020-06-29 12:30:54,432 [denest.simulation] INFO: Building network.\n",
      "2020-06-29 12:30:54,449 [denest.network] INFO: Build N=2 ``Model`` objects\n",
      "2020-06-29 12:30:54,450 [denest.network] INFO: Build N=2 ``SynapseModel`` objects\n",
      "2020-06-29 12:30:54,454 [denest.network] INFO: Build N=3 ``Model`` objects\n",
      "2020-06-29 12:30:54,456 [denest.network] INFO: Build N=2 ``Layer`` or ``InputLayer`` objects.\n",
      "2020-06-29 12:30:54,457 [denest.utils.validation] INFO: Object `proj_1_AMPA`: params: using default value for optional parameters:\n",
      "{'type': 'topological'}\n",
      "2020-06-29 12:30:54,459 [denest.utils.validation] INFO: Object `proj_2_GABAA`: params: using default value for optional parameters:\n",
      "{'type': 'topological'}\n",
      "2020-06-29 12:30:54,460 [denest.network] INFO: Build N=2 ``ProjectionModel`` objects\n",
      "2020-06-29 12:30:54,465 [denest.network] INFO: Build N=3 ``TopoProjection`` objects\n",
      "2020-06-29 12:30:54,470 [denest.network] INFO: Build N=2 population recorders.\n",
      "2020-06-29 12:30:54,471 [denest.network] INFO: Build N=1 projection recorders.\n",
      "2020-06-29 12:30:54,472 [denest.simulation] INFO: Creating network.\n",
      "2020-06-29 12:30:54,473 [denest.network] INFO: Creating neuron models...\n",
      "100%|██████████| 2/2 [00:00<00:00, 2849.39it/s]\n",
      "2020-06-29 12:30:54,490 [denest.network] INFO: Creating synapse models...\n",
      "100%|██████████| 2/2 [00:00<00:00, 1310.92it/s]\n",
      "2020-06-29 12:30:54,498 [denest.network] INFO: Creating recorder models...\n",
      "100%|██████████| 3/3 [00:00<00:00, 1678.62it/s]\n",
      "2020-06-29 12:30:54,505 [denest.network] INFO: Creating layers...\n",
      "  0%|          | 0/2 [00:00<?, ?it/s]/Users/tom/nest/nest-simulator-2.20.0/lib/python3.7/site-packages/nest/lib/hl_api_helper.py:127: UserWarning:\n",
      "GetNodes is deprecated and will be removed in NEST 3.0. Use             GIDCollection instead.\n",
      "100%|██████████| 2/2 [00:00<00:00, 10.80it/s]\n",
      "2020-06-29 12:30:54,694 [denest.network] INFO: Creating population recorders...\n",
      "100%|██████████| 2/2 [00:00<00:00, 143.57it/s]\n",
      "2020-06-29 12:30:54,711 [denest.network] INFO: Creating projection recorders...\n",
      "100%|██████████| 1/1 [00:00<00:00, 211.46it/s]\n",
      "2020-06-29 12:30:54,721 [denest.network] INFO: Connecting layers...\n",
      "100%|██████████| 3/3 [00:00<00:00, 642.94it/s]\n",
      "2020-06-29 12:30:54,737 [denest.network] INFO: Network size (including recorders and parrot neurons):\n",
      "Number of nodes: 206\n",
      "Number of projections: 6650\n",
      "2020-06-29 12:30:54,738 [denest.simulation] INFO: Finished creating network\n",
      "2020-06-29 12:30:54,738 [denest.simulation] INFO: Saving simulation metadata...\n",
      "2020-06-29 12:30:54,739 [denest.simulation] INFO: Creating output directory: data_tuto/output\n",
      "2020-06-29 12:30:54,741 [denest.io.save] INFO: Clearing directory: data_tuto/output\n",
      "2020-06-29 12:30:54,742 [denest.io.save] INFO: Clearing directory: data_tuto/output\n",
      "2020-06-29 12:30:54,743 [denest.io.save] INFO: Clearing directory: data_tuto/output/data\n",
      "2020-06-29 12:30:54,745 [denest.io.save] INFO: Clearing directory: data_tuto/output/data\n",
      "2020-06-29 12:30:54,747 [denest.io.save] INFO: Clearing directory: data_tuto/output/data\n",
      "2020-06-29 12:30:54,748 [denest.io.save] INFO: Clearing directory: data_tuto/output\n",
      "2020-06-29 12:30:54,785 [denest.simulation] INFO: Finished saving simulation metadata\n"
     ]
    }
   ],
   "source": [
    "sim = Simulation(tree, output_dir=None, input_dir=None)"
   ]
  },
  {
   "cell_type": "markdown",
   "metadata": {},
   "source": [
    "We can inspect the simulation elements:"
   ]
  },
  {
   "cell_type": "code",
   "execution_count": 32,
   "metadata": {},
   "outputs": [
    {
     "data": {
      "text/plain": [
       "Network(params: {}\n",
       "nest_params: {}\n",
       "neuron_models:\n",
       "  params: {}\n",
       "  nest_params: {}\n",
       "  my_neuron:\n",
       "    params:\n",
       "      nest_model: ht_neuron\n",
       "    nest_params:\n",
       "      g_KL: 1.0\n",
       "      g_NaL: 1.0\n",
       "    l1_exc:\n",
       "      params: {}\n",
       "      nest_params:\n",
       "        V_m: -44.0\n",
       "    l1_inh:\n",
       "      params: {}\n",
       "      nest_params:\n",
       "        V_m: -55.0\n",
       "synapse_models:\n",
       "  params: {}\n",
       "  nest_params: {}\n",
       "  my_AMPA_synapse:\n",
       "    params:\n",
       "      nest_model: ht_synapse\n",
       "      receptor_type: AMPA\n",
       "      target_neuron: ht_neuron\n",
       "    nest_params: {}\n",
       "  my_GABAA_synapse:\n",
       "    params:\n",
       "      nest_model: ht_synapse\n",
       "      receptor_type: GABA_A\n",
       "      target_neuron: ht_neuron\n",
       "    nest_params: {}\n",
       "layers:\n",
       "  params: {}\n",
       "  nest_params: {}\n",
       "  layers:\n",
       "    params:\n",
       "      type: null\n",
       "    nest_params:\n",
       "      rows: 5\n",
       "      columns: 5\n",
       "      extent:\n",
       "      - 5.0\n",
       "      - 5.0\n",
       "      edge_wrap: true\n",
       "    input_layer:\n",
       "      params:\n",
       "        type: InputLayer\n",
       "        add_parrots: true\n",
       "        populations:\n",
       "          spike_generator: 1\n",
       "      nest_params: {}\n",
       "    l1:\n",
       "      params:\n",
       "        populations:\n",
       "          l1_exc: 4\n",
       "          l1_inh: 2\n",
       "      nest_params: {}\n",
       "projection_models:\n",
       "  params: {}\n",
       "  nest_params:\n",
       "    connection_type: divergent\n",
       "    mask:\n",
       "      circular:\n",
       "        radius: 2.0\n",
       "    kernel: 1.0\n",
       "  proj_1_AMPA:\n",
       "    params: {}\n",
       "    nest_params:\n",
       "      synapse_model: my_AMPA_synapse\n",
       "      weights: 1.0\n",
       "  proj_2_GABAA:\n",
       "    params: {}\n",
       "    nest_params:\n",
       "      synapse_model: my_GABAA_synapse\n",
       "      weights: 2.0\n",
       "topology:\n",
       "  params:\n",
       "    projections:\n",
       "    - source_layers:\n",
       "      - input_layer\n",
       "      source_population: parrot_neuron\n",
       "      target_layers:\n",
       "      - l1\n",
       "      target_population: l1_exc\n",
       "      projection_model: proj_1_AMPA\n",
       "    - source_layers:\n",
       "      - l1\n",
       "      source_population: l1_exc\n",
       "      target_layers:\n",
       "      - l1\n",
       "      target_population: l1_inh\n",
       "      projection_model: proj_1_AMPA\n",
       "    - source_layers:\n",
       "      - l1\n",
       "      source_population: l1_inh\n",
       "      target_layers:\n",
       "      - l1\n",
       "      target_population: l1_exc\n",
       "      projection_model: proj_2_GABAA\n",
       "  nest_params: {}\n",
       "recorder_models:\n",
       "  params: {}\n",
       "  nest_params:\n",
       "    record_to:\n",
       "    - memory\n",
       "    - file\n",
       "  weight_recorder:\n",
       "    params:\n",
       "      nest_model: weight_recorder\n",
       "    nest_params: {}\n",
       "  my_multimeter:\n",
       "    params:\n",
       "      nest_model: multimeter\n",
       "    nest_params:\n",
       "      record_from:\n",
       "      - V_m\n",
       "  my_spike_detector:\n",
       "    params:\n",
       "      nest_model: spike_detector\n",
       "    nest_params: {}\n",
       "recorders:\n",
       "  params:\n",
       "    population_recorders:\n",
       "    - layers:\n",
       "      - l1\n",
       "      populations:\n",
       "      - l1_exc\n",
       "      model: my_multimeter\n",
       "    - layers:\n",
       "      - input_layer\n",
       "      populations: null\n",
       "      model: my_spike_detector\n",
       "    projection_recorders:\n",
       "    - source_layers:\n",
       "      - l1\n",
       "      source_population: l1_exc\n",
       "      target_layers:\n",
       "      - l1\n",
       "      target_population: l1_inh\n",
       "      projection_model: proj_1_AMPA\n",
       "      model: weight_recorder\n",
       "  nest_params: {}\n",
       ")"
      ]
     },
     "execution_count": 32,
     "metadata": {},
     "output_type": "execute_result"
    }
   ],
   "source": [
    "sim.network"
   ]
  },
  {
   "cell_type": "code",
   "execution_count": 33,
   "metadata": {},
   "outputs": [
    {
     "data": {
      "text/plain": [
       "[Session(00_warmup, {'record': False,\n",
       "  'reset_network': False,\n",
       "  'shift_origin': True,\n",
       "  'simulation_time': 100.0,\n",
       "  'synapse_changes': [],\n",
       "  'unit_changes': []}),\n",
       " Session(01_3_spikes, {'record': True,\n",
       "  'reset_network': False,\n",
       "  'shift_origin': True,\n",
       "  'simulation_time': 100.0,\n",
       "  'synapse_changes': [],\n",
       "  'unit_changes': [{'layers': ['input_layer'],\n",
       "                    'nest_params': {'spike_times': [1.0, 10.0, 20.0]},\n",
       "                    'population_name': 'spike_generator'}]}),\n",
       " Session(02_2_spikes, {'record': True,\n",
       "  'reset_network': False,\n",
       "  'shift_origin': True,\n",
       "  'simulation_time': 100.0,\n",
       "  'synapse_changes': [],\n",
       "  'unit_changes': [{'layers': ['input_layer'],\n",
       "                    'nest_params': {'spike_times': [1.0, 10.0]},\n",
       "                    'population_name': 'spike_generator'}]}),\n",
       " Session(03_3_spikes, {'record': True,\n",
       "  'reset_network': False,\n",
       "  'shift_origin': True,\n",
       "  'simulation_time': 100.0,\n",
       "  'synapse_changes': [],\n",
       "  'unit_changes': [{'layers': ['input_layer'],\n",
       "                    'nest_params': {'spike_times': [1.0, 10.0, 20.0]},\n",
       "                    'population_name': 'spike_generator'}]})]"
      ]
     },
     "execution_count": 33,
     "metadata": {},
     "output_type": "execute_result"
    }
   ],
   "source": [
    "sim.sessions"
   ]
  },
  {
   "cell_type": "markdown",
   "metadata": {},
   "source": [
    "Finally, we actually run all the sessions in NEST by calling `Simulation.run()`:"
   ]
  },
  {
   "cell_type": "code",
   "execution_count": 34,
   "metadata": {},
   "outputs": [
    {
     "name": "stderr",
     "output_type": "stream",
     "text": [
      "2020-06-29 12:30:55,050 [denest.simulation] INFO: Running 4 sessions...\n",
      "2020-06-29 12:30:55,051 [denest.simulation] INFO: Running session: '00_warmup'...\n",
      "2020-06-29 12:30:55,053 [denest.session] INFO: Initializing session...\n",
      "2020-06-29 12:30:55,057 [denest.network.recorders] INFO:   Setting status for recorder my_multimeter_l1_l1_exc: {'start': 100.0}\n",
      "2020-06-29 12:30:55,065 [denest.network.recorders] INFO:   Setting status for recorder my_spike_detector_input_layer_parrot_neuron: {'start': 100.0}\n",
      "2020-06-29 12:30:55,072 [denest.network.recorders] INFO:   Setting status for recorder weight_recorder_proj_1_AMPA-l1-l1_exc-l1-l1_inh: {'start': 100.0}\n",
      "2020-06-29 12:30:55,074 [denest.session] INFO: Setting `origin` flag to `0.0` for all stimulation devices in ``InputLayers`` for session `00_warmup`\n",
      "2020-06-29 12:30:55,082 [denest.session] INFO: Finished initializing session\n",
      "\n",
      "2020-06-29 12:30:55,090 [denest.session] INFO: Running session '00_warmup' for 100 ms\n",
      "2020-06-29 12:30:55,483 [denest.session] INFO: Finished running session\n",
      "2020-06-29 12:30:55,484 [denest.session] INFO: Session '00_warmup' virtual running time: 100 ms\n",
      "2020-06-29 12:30:55,485 [denest.session] INFO: Session '00_warmup' real running time: 0h:00m:00s\n",
      "2020-06-29 12:30:55,511 [denest.simulation] INFO: Done running session '00_warmup'\n",
      "2020-06-29 12:30:55,513 [denest.simulation] INFO: Running session: '01_3_spikes'...\n",
      "2020-06-29 12:30:55,517 [denest.session] INFO: Initializing session...\n",
      "2020-06-29 12:30:55,522 [denest.session] INFO: Setting `origin` flag to `100.0` for all stimulation devices in ``InputLayers`` for session `01_3_spikes`\n",
      "2020-06-29 12:30:55,529 [denest.utils.validation] INFO: Object `Unit changes dictionary`: params: using default value for optional parameters:\n",
      "{'change_type': 'constant', 'from_array': False}\n",
      "2020-06-29 12:30:55,530 [denest.network.layers] INFO: Layer='input_layer', pop='spike_generator': Applying 'constant' change, param='spike_times', from single value')\n",
      "2020-06-29 12:30:55,601 [denest.session] INFO: Finished initializing session\n",
      "\n",
      "2020-06-29 12:30:55,602 [denest.session] INFO: Running session '01_3_spikes' for 100 ms\n",
      "2020-06-29 12:30:55,822 [denest.session] INFO: Finished running session\n",
      "2020-06-29 12:30:55,822 [denest.session] INFO: Session '01_3_spikes' virtual running time: 100 ms\n",
      "2020-06-29 12:30:55,823 [denest.session] INFO: Session '01_3_spikes' real running time: 0h:00m:00s\n",
      "2020-06-29 12:30:55,856 [denest.simulation] INFO: Done running session '01_3_spikes'\n",
      "2020-06-29 12:30:55,857 [denest.simulation] INFO: Running session: '02_2_spikes'...\n",
      "2020-06-29 12:30:55,858 [denest.session] INFO: Initializing session...\n",
      "2020-06-29 12:30:55,865 [denest.session] INFO: Setting `origin` flag to `200.0` for all stimulation devices in ``InputLayers`` for session `02_2_spikes`\n",
      "2020-06-29 12:30:55,877 [denest.utils.validation] INFO: Object `Unit changes dictionary`: params: using default value for optional parameters:\n",
      "{'change_type': 'constant', 'from_array': False}\n",
      "2020-06-29 12:30:55,880 [denest.network.layers] INFO: Layer='input_layer', pop='spike_generator': Applying 'constant' change, param='spike_times', from single value')\n",
      "2020-06-29 12:30:55,958 [denest.session] INFO: Finished initializing session\n",
      "\n",
      "2020-06-29 12:30:55,964 [denest.session] INFO: Running session '02_2_spikes' for 100 ms\n",
      "2020-06-29 12:30:56,353 [denest.session] INFO: Finished running session\n",
      "2020-06-29 12:30:56,355 [denest.session] INFO: Session '02_2_spikes' virtual running time: 100 ms\n",
      "2020-06-29 12:30:56,356 [denest.session] INFO: Session '02_2_spikes' real running time: 0h:00m:00s\n",
      "2020-06-29 12:30:56,358 [denest.simulation] INFO: Done running session '02_2_spikes'\n",
      "2020-06-29 12:30:56,359 [denest.simulation] INFO: Running session: '03_3_spikes'...\n",
      "2020-06-29 12:30:56,361 [denest.session] INFO: Initializing session...\n",
      "2020-06-29 12:30:56,363 [denest.session] INFO: Setting `origin` flag to `300.0` for all stimulation devices in ``InputLayers`` for session `03_3_spikes`\n",
      "2020-06-29 12:30:56,384 [denest.utils.validation] INFO: Object `Unit changes dictionary`: params: using default value for optional parameters:\n",
      "{'change_type': 'constant', 'from_array': False}\n",
      "2020-06-29 12:30:56,386 [denest.network.layers] INFO: Layer='input_layer', pop='spike_generator': Applying 'constant' change, param='spike_times', from single value')\n",
      "2020-06-29 12:30:56,500 [denest.session] INFO: Finished initializing session\n",
      "\n",
      "2020-06-29 12:30:56,501 [denest.session] INFO: Running session '03_3_spikes' for 100 ms\n",
      "2020-06-29 12:30:56,754 [denest.session] INFO: Finished running session\n",
      "2020-06-29 12:30:56,757 [denest.session] INFO: Session '03_3_spikes' virtual running time: 100 ms\n",
      "2020-06-29 12:30:56,773 [denest.session] INFO: Session '03_3_spikes' real running time: 0h:00m:00s\n",
      "2020-06-29 12:30:56,784 [denest.simulation] INFO: Done running session '03_3_spikes'\n",
      "2020-06-29 12:30:56,786 [denest.simulation] INFO: Finished running simulation\n"
     ]
    }
   ],
   "source": [
    "sim.run()"
   ]
  },
  {
   "cell_type": "code",
   "execution_count": 35,
   "metadata": {},
   "outputs": [
    {
     "name": "stdout",
     "output_type": "stream",
     "text": [
      "\u001b[1m\u001b[36mdata\u001b[m\u001b[m               parameter_tree.yml session_times.yml  versions.txt\r\n"
     ]
    }
   ],
   "source": [
    "!ls {sim.output_dir}"
   ]
  },
  {
   "cell_type": "code",
   "execution_count": 36,
   "metadata": {},
   "outputs": [
    {
     "name": "stdout",
     "output_type": "stream",
     "text": [
      "my_multimeter_l1_l1_exc-203-0.dat\r\n",
      "my_multimeter_l1_l1_exc.yml\r\n",
      "my_spike_detector_input_layer_parrot_neuron-204-0.gdf\r\n",
      "my_spike_detector_input_layer_parrot_neuron.yml\r\n",
      "weight_recorder_proj_1_AMPA-l1-l1_exc-l1-l1_inh-205-0.csv\r\n",
      "weight_recorder_proj_1_AMPA-l1-l1_exc-l1-l1_inh.yml\r\n"
     ]
    }
   ],
   "source": [
    "!ls {Path(sim.output_dir)/'data'}"
   ]
  },
  {
   "cell_type": "markdown",
   "metadata": {},
   "source": [
    "### Run using the `denest.run` function\n",
    "\n",
    "The `run` function is a shorthand for the above steps:"
   ]
  },
  {
   "cell_type": "code",
   "execution_count": 37,
   "metadata": {},
   "outputs": [
    {
     "name": "stderr",
     "output_type": "stream",
     "text": [
      "2020-06-29 12:30:57,267 [denest] INFO: \n",
      "\n",
      "=== RUNNING SIMULATION ========================================================\n",
      "\n",
      "2020-06-29 12:30:57,270 [denest] INFO: Loading parameter file paths from data/params/tree_paths.yml\n",
      "2020-06-29 12:30:57,275 [denest] INFO: Finished loading parameter file paths\n",
      "2020-06-29 12:30:57,277 [denest] INFO: Loading parameters files: \n",
      "['./network_tree.yml',\n",
      " './simulation.yml',\n",
      " './session_models.yml',\n",
      " './kernel.yml']\n",
      "2020-06-29 12:30:57,337 [denest] INFO: Initializing simulation...\n",
      "2020-06-29 12:30:57,353 [denest.utils.validation] INFO: Object `simulation`: params: using default value for optional parameters:\n",
      "{'input_dir': 'input'}\n",
      "2020-06-29 12:30:57,355 [denest.simulation] INFO: Initializing NEST kernel and seeds...\n",
      "2020-06-29 12:30:57,356 [denest.simulation] INFO:   Resetting NEST kernel...\n",
      "2020-06-29 12:30:57,384 [denest.simulation] INFO:   Setting NEST kernel status...\n",
      "2020-06-29 12:30:57,390 [denest.simulation] INFO:     Calling `nest.SetKernelStatus({'resolution': 0.5, 'overwrite_files': True})`\n",
      "2020-06-29 12:30:57,412 [denest.simulation] INFO:     Calling `nest.SetKernelStatus({'data_path': 'output/data', 'grng_seed': 11, 'rng_seeds': range(12, 13)})\n",
      "2020-06-29 12:30:57,414 [denest.simulation] INFO:   Finished setting NEST kernel status\n",
      "2020-06-29 12:30:57,416 [denest.simulation] INFO:   Installing external modules...\n",
      "2020-06-29 12:30:57,441 [denest.simulation] INFO:   Finished installing external modules\n",
      "2020-06-29 12:30:57,444 [denest.simulation] INFO: Finished initializing kernel\n",
      "2020-06-29 12:30:57,447 [denest.simulation] INFO: Build N=3 session models\n",
      "2020-06-29 12:30:57,453 [denest.simulation] INFO: Build N=4 sessions\n",
      "2020-06-29 12:30:57,454 [denest.session] INFO: Creating session \"00_warmup\"\n",
      "2020-06-29 12:30:57,456 [denest.utils.validation] INFO: Object `00_warmup`: params: using default value for optional parameters:\n",
      "{'reset_network': False, 'synapse_changes': [], 'unit_changes': []}\n",
      "2020-06-29 12:30:57,464 [denest.session] INFO: Creating session \"01_3_spikes\"\n",
      "2020-06-29 12:30:57,469 [denest.utils.validation] INFO: Object `01_3_spikes`: params: using default value for optional parameters:\n",
      "{'reset_network': False, 'synapse_changes': []}\n",
      "2020-06-29 12:30:57,474 [denest.session] INFO: Creating session \"02_2_spikes\"\n",
      "2020-06-29 12:30:57,477 [denest.utils.validation] INFO: Object `02_2_spikes`: params: using default value for optional parameters:\n",
      "{'reset_network': False, 'synapse_changes': []}\n",
      "2020-06-29 12:30:57,479 [denest.session] INFO: Creating session \"03_3_spikes\"\n",
      "2020-06-29 12:30:57,480 [denest.utils.validation] INFO: Object `03_3_spikes`: params: using default value for optional parameters:\n",
      "{'reset_network': False, 'synapse_changes': []}\n",
      "2020-06-29 12:30:57,483 [denest.simulation] INFO: Sessions: ['00_warmup', '01_3_spikes', '02_2_spikes', '03_3_spikes']\n",
      "2020-06-29 12:30:57,486 [denest.simulation] INFO: Building network.\n",
      "2020-06-29 12:30:57,502 [denest.network] INFO: Build N=2 ``Model`` objects\n",
      "2020-06-29 12:30:57,507 [denest.network] INFO: Build N=2 ``SynapseModel`` objects\n",
      "2020-06-29 12:30:57,511 [denest.network] INFO: Build N=3 ``Model`` objects\n",
      "2020-06-29 12:30:57,514 [denest.network] INFO: Build N=2 ``Layer`` or ``InputLayer`` objects.\n",
      "2020-06-29 12:30:57,519 [denest.utils.validation] INFO: Object `proj_2_GABAA`: params: using default value for optional parameters:\n",
      "{'type': 'topological'}\n",
      "2020-06-29 12:30:57,522 [denest.utils.validation] INFO: Object `proj_1_AMPA`: params: using default value for optional parameters:\n",
      "{'type': 'topological'}\n",
      "2020-06-29 12:30:57,524 [denest.network] INFO: Build N=2 ``ProjectionModel`` objects\n",
      "2020-06-29 12:30:57,528 [denest.network] INFO: Build N=3 ``TopoProjection`` objects\n",
      "2020-06-29 12:30:57,536 [denest.network] INFO: Build N=2 population recorders.\n",
      "2020-06-29 12:30:57,537 [denest.network] INFO: Build N=1 projection recorders.\n",
      "2020-06-29 12:30:57,539 [denest.simulation] INFO: Creating network.\n",
      "2020-06-29 12:30:57,542 [denest.network] INFO: Creating neuron models...\n",
      "100%|██████████| 2/2 [00:00<00:00, 1192.58it/s]\n",
      "2020-06-29 12:30:57,553 [denest.network] INFO: Creating synapse models...\n",
      "100%|██████████| 2/2 [00:00<00:00, 1034.23it/s]\n",
      "2020-06-29 12:30:57,560 [denest.network] INFO: Creating recorder models...\n",
      "100%|██████████| 3/3 [00:00<00:00, 969.63it/s]\n",
      "2020-06-29 12:30:57,572 [denest.network] INFO: Creating layers...\n",
      "100%|██████████| 2/2 [00:00<00:00,  9.98it/s]\n",
      "2020-06-29 12:30:57,787 [denest.network] INFO: Creating population recorders...\n",
      "100%|██████████| 2/2 [00:00<00:00, 12.65it/s]\n",
      "2020-06-29 12:30:57,954 [denest.network] INFO: Creating projection recorders...\n",
      "100%|██████████| 1/1 [00:00<00:00, 112.67it/s]\n",
      "2020-06-29 12:30:57,971 [denest.network] INFO: Connecting layers...\n",
      "100%|██████████| 3/3 [00:00<00:00, 785.35it/s]\n",
      "2020-06-29 12:30:57,981 [denest.network] INFO: Network size (including recorders and parrot neurons):\n",
      "Number of nodes: 206\n",
      "Number of projections: 6650\n",
      "2020-06-29 12:30:57,982 [denest.simulation] INFO: Finished creating network\n",
      "2020-06-29 12:30:57,983 [denest.simulation] INFO: Saving simulation metadata...\n",
      "2020-06-29 12:30:57,984 [denest.simulation] INFO: Creating output directory: output\n",
      "2020-06-29 12:30:57,986 [denest.io.save] INFO: Clearing directory: output\n",
      "2020-06-29 12:30:57,988 [denest.io.save] INFO: Clearing directory: output\n",
      "2020-06-29 12:30:57,990 [denest.io.save] INFO: Clearing directory: output/data\n",
      "2020-06-29 12:30:57,994 [denest.io.save] INFO: Clearing directory: output/data\n",
      "2020-06-29 12:30:57,996 [denest.io.save] INFO: Clearing directory: output/data\n",
      "2020-06-29 12:30:57,998 [denest.io.save] INFO: Clearing directory: output\n",
      "2020-06-29 12:30:58,102 [denest.simulation] INFO: Finished saving simulation metadata\n",
      "2020-06-29 12:30:58,103 [denest] INFO: Finished initializing simulation\n",
      "2020-06-29 12:30:58,104 [denest] INFO: Running simulation...\n",
      "2020-06-29 12:30:58,151 [denest.simulation] INFO: Running 4 sessions...\n",
      "2020-06-29 12:30:58,153 [denest.simulation] INFO: Running session: '00_warmup'...\n",
      "2020-06-29 12:30:58,156 [denest.session] INFO: Initializing session...\n",
      "2020-06-29 12:30:58,159 [denest.network.recorders] INFO:   Setting status for recorder my_multimeter_l1_l1_exc: {'start': 100.0}\n",
      "2020-06-29 12:30:58,166 [denest.network.recorders] INFO:   Setting status for recorder my_spike_detector_input_layer_parrot_neuron: {'start': 100.0}\n",
      "2020-06-29 12:30:58,168 [denest.network.recorders] INFO:   Setting status for recorder weight_recorder_proj_1_AMPA-l1-l1_exc-l1-l1_inh: {'start': 100.0}\n",
      "2020-06-29 12:30:58,171 [denest.session] INFO: Setting `origin` flag to `0.0` for all stimulation devices in ``InputLayers`` for session `00_warmup`\n",
      "2020-06-29 12:30:58,181 [denest.session] INFO: Finished initializing session\n",
      "\n",
      "2020-06-29 12:30:58,181 [denest.session] INFO: Running session '00_warmup' for 100 ms\n",
      "2020-06-29 12:30:58,291 [denest.session] INFO: Finished running session\n",
      "2020-06-29 12:30:58,292 [denest.session] INFO: Session '00_warmup' virtual running time: 100 ms\n",
      "2020-06-29 12:30:58,293 [denest.session] INFO: Session '00_warmup' real running time: 0h:00m:00s\n",
      "2020-06-29 12:30:58,297 [denest.simulation] INFO: Done running session '00_warmup'\n",
      "2020-06-29 12:30:58,298 [denest.simulation] INFO: Running session: '01_3_spikes'...\n",
      "2020-06-29 12:30:58,299 [denest.session] INFO: Initializing session...\n",
      "2020-06-29 12:30:58,300 [denest.session] INFO: Setting `origin` flag to `100.0` for all stimulation devices in ``InputLayers`` for session `01_3_spikes`\n",
      "2020-06-29 12:30:58,317 [denest.utils.validation] INFO: Object `Unit changes dictionary`: params: using default value for optional parameters:\n",
      "{'change_type': 'constant', 'from_array': False}\n",
      "2020-06-29 12:30:58,320 [denest.network.layers] INFO: Layer='input_layer', pop='spike_generator': Applying 'constant' change, param='spike_times', from single value')\n",
      "2020-06-29 12:30:58,388 [denest.session] INFO: Finished initializing session\n",
      "\n",
      "2020-06-29 12:30:58,389 [denest.session] INFO: Running session '01_3_spikes' for 100 ms\n",
      "2020-06-29 12:30:58,537 [denest.session] INFO: Finished running session\n",
      "2020-06-29 12:30:58,538 [denest.session] INFO: Session '01_3_spikes' virtual running time: 100 ms\n",
      "2020-06-29 12:30:58,539 [denest.session] INFO: Session '01_3_spikes' real running time: 0h:00m:00s\n"
     ]
    },
    {
     "name": "stderr",
     "output_type": "stream",
     "text": [
      "2020-06-29 12:30:58,542 [denest.simulation] INFO: Done running session '01_3_spikes'\n",
      "2020-06-29 12:30:58,542 [denest.simulation] INFO: Running session: '02_2_spikes'...\n",
      "2020-06-29 12:30:58,543 [denest.session] INFO: Initializing session...\n",
      "2020-06-29 12:30:58,544 [denest.session] INFO: Setting `origin` flag to `200.0` for all stimulation devices in ``InputLayers`` for session `02_2_spikes`\n",
      "2020-06-29 12:30:58,549 [denest.utils.validation] INFO: Object `Unit changes dictionary`: params: using default value for optional parameters:\n",
      "{'change_type': 'constant', 'from_array': False}\n",
      "2020-06-29 12:30:58,550 [denest.network.layers] INFO: Layer='input_layer', pop='spike_generator': Applying 'constant' change, param='spike_times', from single value')\n",
      "2020-06-29 12:30:58,614 [denest.session] INFO: Finished initializing session\n",
      "\n",
      "2020-06-29 12:30:58,614 [denest.session] INFO: Running session '02_2_spikes' for 100 ms\n",
      "2020-06-29 12:30:58,751 [denest.session] INFO: Finished running session\n",
      "2020-06-29 12:30:58,753 [denest.session] INFO: Session '02_2_spikes' virtual running time: 100 ms\n",
      "2020-06-29 12:30:58,754 [denest.session] INFO: Session '02_2_spikes' real running time: 0h:00m:00s\n",
      "2020-06-29 12:30:58,755 [denest.simulation] INFO: Done running session '02_2_spikes'\n",
      "2020-06-29 12:30:58,756 [denest.simulation] INFO: Running session: '03_3_spikes'...\n",
      "2020-06-29 12:30:58,758 [denest.session] INFO: Initializing session...\n",
      "2020-06-29 12:30:58,760 [denest.session] INFO: Setting `origin` flag to `300.0` for all stimulation devices in ``InputLayers`` for session `03_3_spikes`\n",
      "2020-06-29 12:30:58,764 [denest.utils.validation] INFO: Object `Unit changes dictionary`: params: using default value for optional parameters:\n",
      "{'change_type': 'constant', 'from_array': False}\n",
      "2020-06-29 12:30:58,766 [denest.network.layers] INFO: Layer='input_layer', pop='spike_generator': Applying 'constant' change, param='spike_times', from single value')\n",
      "2020-06-29 12:30:58,922 [denest.session] INFO: Finished initializing session\n",
      "\n",
      "2020-06-29 12:30:58,923 [denest.session] INFO: Running session '03_3_spikes' for 100 ms\n",
      "2020-06-29 12:30:59,100 [denest.session] INFO: Finished running session\n",
      "2020-06-29 12:30:59,101 [denest.session] INFO: Session '03_3_spikes' virtual running time: 100 ms\n",
      "2020-06-29 12:30:59,103 [denest.session] INFO: Session '03_3_spikes' real running time: 0h:00m:00s\n",
      "2020-06-29 12:30:59,104 [denest.simulation] INFO: Done running session '03_3_spikes'\n",
      "2020-06-29 12:30:59,105 [denest.simulation] INFO: Finished running simulation\n",
      "2020-06-29 12:30:59,106 [denest] INFO: Finished running simulation\n",
      "2020-06-29 12:30:59,108 [denest] INFO: Total simulation virtual time: 400.0 ms\n",
      "2020-06-29 12:30:59,121 [denest] INFO: Total simulation real time: 0h:00m:01s\n",
      "2020-06-29 12:30:59,126 [denest] INFO: Simulation output written to: /Users/tom/docker/nets-dev/docs/source/tutorials/output\n"
     ]
    }
   ],
   "source": [
    "denest.run(PARAMS_DIR/'tree_paths.yml')"
   ]
  },
  {
   "cell_type": "markdown",
   "metadata": {},
   "source": [
    "### Run from the command line\n",
    "\n",
    "A simulation can also be run directly from the command line as follows:\n",
    "\n",
    "``python3 -m denest <tree_paths.yml> [-o <output_dir>]``"
   ]
  }
 ],
 "metadata": {
  "kernelspec": {
   "display_name": "nets",
   "language": "python",
   "name": "nets"
  },
  "language_info": {
   "codemirror_mode": {
    "name": "ipython",
    "version": 3
   },
   "file_extension": ".py",
   "mimetype": "text/x-python",
   "name": "python",
   "nbconvert_exporter": "python",
   "pygments_lexer": "ipython3",
   "version": "3.7.5"
  },
  "widgets": {
   "application/vnd.jupyter.widget-state+json": {
    "state": {},
    "version_major": 2,
    "version_minor": 0
   }
  }
 },
 "nbformat": 4,
 "nbformat_minor": 4
}
