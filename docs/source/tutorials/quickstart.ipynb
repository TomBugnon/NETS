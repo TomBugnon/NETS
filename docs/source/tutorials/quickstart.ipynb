{
 "cells": [
  {
   "cell_type": "markdown",
   "metadata": {},
   "source": [
    "# Quickstart\n",
    "\n",
    "In this tutorial we do the following :\n",
    "\n",
    "1. __Examine the__ ``'network'`` __parameter tree__\n",
    "    1. Models (``neuron_models``, ``recorder_models``, ``synapse_models``)\n",
    "    2. Layers (``layers``)\n",
    "    3. Projections (``projection_models`` and ``topology`` subtrees\n",
    "    5. Population and projection recorders (``recorders``)\n",
    "\n",
    "\n",
    "2. __Examine the full simulation parameter tree__\n",
    "    1. ``network`` params subtree\n",
    "    2. ``kernel`` params subtree\n",
    "    3. ``session_models`` params subtree\n",
    "    4. ``simulation`` params subtree\n",
    "\n",
    "\n",
    "3. __Run a full simulation__\n",
    "    1. Load parameter tree from one or multiple files\n",
    "    1. Using the ``Simulation`` object\n",
    "    2. Using the ``denest.run()`` method\n",
    "    3. From the command line\n"
   ]
  },
  {
   "cell_type": "code",
   "execution_count": 1,
   "metadata": {},
   "outputs": [],
   "source": [
    "import nest\n",
    "import yaml\n",
    "from pathlib import Path\n",
    "from pprint import pprint\n",
    "\n",
    "from denest import *\n",
    "import denest"
   ]
  },
  {
   "cell_type": "code",
   "execution_count": 2,
   "metadata": {},
   "outputs": [],
   "source": [
    "PARAMS_DIR = Path('./data/params')\n",
    "OUTPUT_DIR = Path('./data/outputs/output')"
   ]
  },
  {
   "cell_type": "markdown",
   "metadata": {},
   "source": [
    "## ``\"network\"`` tree\n",
    "\n",
    "A full NEST network is represented in deNEST by the ``Network`` object."
   ]
  },
  {
   "cell_type": "markdown",
   "metadata": {},
   "source": [
    "The `Network` object is initialized from the full ``\"network\"`` parameter tree.\n",
    "The `'network'` tree should have specific children subtree, each used to initialize different elements of the network."
   ]
  },
  {
   "cell_type": "code",
   "execution_count": 3,
   "metadata": {},
   "outputs": [],
   "source": [
    "net_tree = ParamsTree.read(PARAMS_DIR/'network_tree.yml').children['network']"
   ]
  },
  {
   "cell_type": "code",
   "execution_count": 4,
   "metadata": {},
   "outputs": [
    {
     "data": {
      "text/plain": [
       "ParamsTree(name='network', parent='None')\n",
       "  params: {}\n",
       "  nest_params: {}\n",
       "  neuron_models:\n",
       "    params: {}\n",
       "    nest_params: {}\n",
       "    my_neuron:\n",
       "      params:\n",
       "        nest_model: ht_neuron\n",
       "      nest_params:\n",
       "        g_KL: 1.0\n",
       "        g_NaL: 1.0\n",
       "      l1_exc:\n",
       "        params: {}\n",
       "        nest_params:\n",
       "          V_m: -44.0\n",
       "  \n",
       "  ... [116 lines] ...\n",
       "\n",
       "      - layers:\n",
       "        - input_layer\n",
       "        populations: null\n",
       "        model: my_spike_detector\n",
       "      projection_recorders:\n",
       "      - source_layers:\n",
       "        - l1\n",
       "        source_population: l1_exc\n",
       "        target_layers:\n",
       "        - l1\n",
       "        target_population: l1_inh\n",
       "        projection_model: proj_1_AMPA\n",
       "        model: weight_recorder\n",
       "    nest_params: {}\n",
       "  "
      ]
     },
     "execution_count": 4,
     "metadata": {},
     "output_type": "execute_result"
    }
   ],
   "source": [
    "# Full 'network' tree\n",
    "net_tree"
   ]
  },
  {
   "cell_type": "code",
   "execution_count": 5,
   "metadata": {},
   "outputs": [
    {
     "name": "stdout",
     "output_type": "stream",
     "text": [
      "'network' tree's expected subtrees: dict_keys(['neuron_models', 'synapse_models', 'layers', 'projection_models', 'topology', 'recorder_models', 'recorders'])\n"
     ]
    }
   ],
   "source": [
    "print(\"'network' tree's expected subtrees:\", net_tree.children.keys())"
   ]
  },
  {
   "cell_type": "markdown",
   "metadata": {},
   "source": [
    "### Models ( ``'neuron_model'``, ``'synapse_models'``, ``'recorder_models'`` subtrees)\n",
    "\n",
    "We can define neuron, recorder, stimulator and synapse models with arbitrary parameters from parameter trees.\n",
    "\n",
    "Each leaf corresponds to a new (named) model. Its ``nest_params`` and ``params`` are hierarchically inherited.\n",
    "\n",
    "The ``nest_model`` used is specified in the leaf's ``params``"
   ]
  },
  {
   "cell_type": "markdown",
   "metadata": {},
   "source": [
    "#### ``'neuron_models'`` tree"
   ]
  },
  {
   "cell_type": "code",
   "execution_count": 6,
   "metadata": {},
   "outputs": [
    {
     "data": {
      "text/plain": [
       "ParamsTree(name='neuron_models', parent='network')\n",
       "  params: {}\n",
       "  nest_params: {}\n",
       "  my_neuron:\n",
       "    params:\n",
       "      nest_model: ht_neuron\n",
       "    nest_params:\n",
       "      g_KL: 1.0\n",
       "      g_NaL: 1.0\n",
       "    l1_exc:\n",
       "      params: {}\n",
       "      nest_params:\n",
       "        V_m: -44.0\n",
       "    l1_inh:\n",
       "      params: {}\n",
       "      nest_params:\n",
       "        V_m: -55.0\n",
       "  "
      ]
     },
     "execution_count": 6,
     "metadata": {},
     "output_type": "execute_result"
    }
   ],
   "source": [
    "net_tree.children['neuron_models']"
   ]
  },
  {
   "cell_type": "markdown",
   "metadata": {},
   "source": [
    "Below are the leaves of the tree. Each initializes a model. The `nest_params` and `params` are inherited from ancestor leaves."
   ]
  },
  {
   "cell_type": "code",
   "execution_count": 7,
   "metadata": {},
   "outputs": [
    {
     "name": "stdout",
     "output_type": "stream",
     "text": [
      "Tree's leaves and their inherited parameters:\n"
     ]
    },
    {
     "data": {
      "text/plain": [
       "[('leaf name: l1_exc)',\n",
       "  \"leaf `params`: {'nest_model': 'ht_neuron'}\",\n",
       "  \"leaf `nest_params`: {'g_KL': 1.0, 'g_NaL': 1.0, 'V_m': -44.0}\"),\n",
       " ('leaf name: l1_inh)',\n",
       "  \"leaf `params`: {'nest_model': 'ht_neuron'}\",\n",
       "  \"leaf `nest_params`: {'g_KL': 1.0, 'g_NaL': 1.0, 'V_m': -55.0}\")]"
      ]
     },
     "execution_count": 7,
     "metadata": {},
     "output_type": "execute_result"
    }
   ],
   "source": [
    "print(\"Tree's leaves and their inherited parameters:\")\n",
    "[\n",
    "    (f'leaf name: {l.name})',\n",
    "      f'leaf `params`: {dict(l.params)}',\n",
    "      f'leaf `nest_params`: {dict(l.nest_params)}')\n",
    "     for l in net_tree.children['neuron_models'].leaves()\n",
    "]"
   ]
  },
  {
   "cell_type": "markdown",
   "metadata": {},
   "source": [
    "#### ``'recorder_models'`` subtree\n",
    "\n",
    "Same thing as for neuron models:"
   ]
  },
  {
   "cell_type": "code",
   "execution_count": 8,
   "metadata": {},
   "outputs": [
    {
     "data": {
      "text/plain": [
       "ParamsTree(name='recorder_models', parent='network')\n",
       "  params: {}\n",
       "  nest_params:\n",
       "    record_to:\n",
       "    - memory\n",
       "    - file\n",
       "  weight_recorder:\n",
       "    params:\n",
       "      nest_model: weight_recorder\n",
       "    nest_params: {}\n",
       "  my_multimeter:\n",
       "    params:\n",
       "      nest_model: multimeter\n",
       "    nest_params:\n",
       "      record_from:\n",
       "      - V_m\n",
       "  my_spike_detector:\n",
       "    params:\n",
       "      nest_model: spike_detector\n",
       "    nest_params: {}\n",
       "  "
      ]
     },
     "execution_count": 8,
     "metadata": {},
     "output_type": "execute_result"
    }
   ],
   "source": [
    "net_tree.children['recorder_models']"
   ]
  },
  {
   "cell_type": "code",
   "execution_count": 9,
   "metadata": {},
   "outputs": [
    {
     "name": "stdout",
     "output_type": "stream",
     "text": [
      "Tree's leaves and their inherited parameters:\n"
     ]
    },
    {
     "data": {
      "text/plain": [
       "[('leaf name: weight_recorder)',\n",
       "  \"leaf `params`: {'nest_model': 'weight_recorder'}\",\n",
       "  \"leaf `nest_params`: {'record_to': ['memory', 'file']}\"),\n",
       " ('leaf name: my_multimeter)',\n",
       "  \"leaf `params`: {'nest_model': 'multimeter'}\",\n",
       "  \"leaf `nest_params`: {'record_to': ['memory', 'file'], 'record_from': ['V_m']}\"),\n",
       " ('leaf name: my_spike_detector)',\n",
       "  \"leaf `params`: {'nest_model': 'spike_detector'}\",\n",
       "  \"leaf `nest_params`: {'record_to': ['memory', 'file']}\")]"
      ]
     },
     "execution_count": 9,
     "metadata": {},
     "output_type": "execute_result"
    }
   ],
   "source": [
    "print(\"Tree's leaves and their inherited parameters:\")\n",
    "[\n",
    "    (f'leaf name: {l.name})',\n",
    "      f'leaf `params`: {dict(l.params)}',\n",
    "      f'leaf `nest_params`: {dict(l.nest_params)}')\n",
    "     for l in net_tree.children['recorder_models'].leaves()\n",
    "]"
   ]
  },
  {
   "cell_type": "markdown",
   "metadata": {},
   "source": [
    "#### ``'synapse_model'`` subtree\n",
    "\n",
    "- Same thing as for neuron models, with as a bonus a convenient way of specifying the receptor type of the synapse\n",
    "- If specifying the ``receptor_type`` and ``target_model`` in the ``SynapseModel`` params, the corresponding port is determined automatically\n",
    "- Connection __'weight'__ nest_param should be specified in the projections parameters rather than the synapse parameters"
   ]
  },
  {
   "cell_type": "code",
   "execution_count": 10,
   "metadata": {},
   "outputs": [
    {
     "name": "stdout",
     "output_type": "stream",
     "text": [
      "ParamsTree(name='synapse_models', parent='network')\n",
      "  params: {}\n",
      "  nest_params: {}\n",
      "  my_AMPA_synapse:\n",
      "    params:\n",
      "      nest_model: ht_synapse\n",
      "      receptor_type: AMPA\n",
      "      target_neuron: ht_neuron\n",
      "    nest_params: {}\n",
      "  my_GABAA_synapse:\n",
      "    params:\n",
      "      nest_model: ht_synapse\n",
      "      receptor_type: GABA_A\n",
      "      target_neuron: ht_neuron\n",
      "    nest_params: {}\n",
      "  \n"
     ]
    }
   ],
   "source": [
    "pprint(net_tree.children['synapse_models'])"
   ]
  },
  {
   "cell_type": "code",
   "execution_count": 11,
   "metadata": {},
   "outputs": [
    {
     "name": "stdout",
     "output_type": "stream",
     "text": [
      "Tree's leaves and their inherited parameters:\n"
     ]
    },
    {
     "data": {
      "text/plain": [
       "[('leaf name: my_AMPA_synapse)',\n",
       "  \"leaf `params`: {'nest_model': 'ht_synapse', 'receptor_type': 'AMPA', 'target_neuron': 'ht_neuron'}\",\n",
       "  'leaf `nest_params`: {}'),\n",
       " ('leaf name: my_GABAA_synapse)',\n",
       "  \"leaf `params`: {'nest_model': 'ht_synapse', 'receptor_type': 'GABA_A', 'target_neuron': 'ht_neuron'}\",\n",
       "  'leaf `nest_params`: {}')]"
      ]
     },
     "execution_count": 11,
     "metadata": {},
     "output_type": "execute_result"
    }
   ],
   "source": [
    "print(\"Tree's leaves and their inherited parameters:\")\n",
    "[\n",
    "    (f'leaf name: {l.name})',\n",
    "      f'leaf `params`: {dict(l.params)}',\n",
    "      f'leaf `nest_params`: {dict(l.nest_params)}')\n",
    "     for l in net_tree.children['synapse_models'].leaves()\n",
    "]"
   ]
  },
  {
   "cell_type": "markdown",
   "metadata": {},
   "source": [
    "### Layers ( `'layers'` subtree)\n",
    "\n",
    "- As for models, we can create ``nest.Topology`` layers from the leaves of a tree.\n",
    "- The elements can be nest models with their default parameters, or the ones we just created with custom params\n",
    "- For layers of stimulator devices, we can use the ``InputLayer`` object, which can automatically create paired parrot neurons for each stimulator units, by adding ``type: 'InputLayer'`` to the params\n",
    "- The leaves should have a ``population`` entry in the ``params`` field, that specifies the number of units of each model at each layer location (replaces the ``elements`` nest_params)"
   ]
  },
  {
   "cell_type": "code",
   "execution_count": 12,
   "metadata": {},
   "outputs": [
    {
     "data": {
      "text/plain": [
       "ParamsTree(name='layers', parent='network')\n",
       "  params: {}\n",
       "  nest_params: {}\n",
       "  layers:\n",
       "    params:\n",
       "      type: null\n",
       "    nest_params:\n",
       "      rows: 5\n",
       "      columns: 5\n",
       "      extent:\n",
       "      - 5.0\n",
       "      - 5.0\n",
       "      edge_wrap: true\n",
       "    input_layer:\n",
       "      params:\n",
       "        type: InputLayer\n",
       "        add_parrots: true\n",
       "        populations:\n",
       "          spike_generator: 1\n",
       "      nest_params: {}\n",
       "    l1:\n",
       "      params:\n",
       "        populations:\n",
       "          l1_exc: 4\n",
       "          l1_inh: 2\n",
       "      nest_params: {}\n",
       "  "
      ]
     },
     "execution_count": 12,
     "metadata": {},
     "output_type": "execute_result"
    }
   ],
   "source": [
    "layer_tree = net_tree.children['layers']\n",
    "layer_tree"
   ]
  },
  {
   "cell_type": "code",
   "execution_count": 13,
   "metadata": {},
   "outputs": [
    {
     "name": "stdout",
     "output_type": "stream",
     "text": [
      "Tree's leaves and their inherited parameters:\n"
     ]
    },
    {
     "data": {
      "text/plain": [
       "[('leaf name: input_layer)',\n",
       "  \"leaf `params`: {'type': 'InputLayer', 'add_parrots': True, 'populations': {'spike_generator': 1}}\",\n",
       "  \"leaf `nest_params`: {'rows': 5, 'columns': 5, 'extent': [5.0, 5.0], 'edge_wrap': True}\"),\n",
       " ('leaf name: l1)',\n",
       "  \"leaf `params`: {'type': None, 'populations': {'l1_exc': 4, 'l1_inh': 2}}\",\n",
       "  \"leaf `nest_params`: {'rows': 5, 'columns': 5, 'extent': [5.0, 5.0], 'edge_wrap': True}\")]"
      ]
     },
     "execution_count": 13,
     "metadata": {},
     "output_type": "execute_result"
    }
   ],
   "source": [
    "print(\"Tree's leaves and their inherited parameters:\")\n",
    "[\n",
    "    (f'leaf name: {l.name})',\n",
    "      f'leaf `params`: {dict(l.params)}',\n",
    "      f'leaf `nest_params`: {dict(l.nest_params)}')\n",
    "     for l in layer_tree.leaves()\n",
    "]"
   ]
  },
  {
   "cell_type": "markdown",
   "metadata": {},
   "source": [
    "### Projections (`'projection_models'` and `'topology'` subtrees)\n",
    "\n",
    "We create projections using a two step process:\n",
    "\n",
    "1. Create ``ProjectionModel`` objects from a tree. Each named leaf will define a template from which individual projections can inherit their parameters (``'projection_models`` subtree)\n",
    "\n",
    "\n",
    "2. Create ``Projection`` objects from a list, specifying for each item the source layer x population, target layer x population and the projection model to inherit parameters from (``'topology'`` subtree)"
   ]
  },
  {
   "cell_type": "markdown",
   "metadata": {},
   "source": [
    "#### Define templates from the `projection_models` tree"
   ]
  },
  {
   "cell_type": "code",
   "execution_count": 14,
   "metadata": {},
   "outputs": [
    {
     "data": {
      "text/plain": [
       "ParamsTree(name='projection_models', parent='network')\n",
       "  params: {}\n",
       "  nest_params:\n",
       "    connection_type: divergent\n",
       "    mask:\n",
       "      circular:\n",
       "        radius: 2.0\n",
       "    kernel: 1.0\n",
       "  proj_1_AMPA:\n",
       "    params: {}\n",
       "    nest_params:\n",
       "      synapse_model: my_AMPA_synapse\n",
       "      weights: 1.0\n",
       "  proj_2_GABAA:\n",
       "    params: {}\n",
       "    nest_params:\n",
       "      synapse_model: my_GABAA_synapse\n",
       "      weights: 2.0\n",
       "  "
      ]
     },
     "execution_count": 14,
     "metadata": {},
     "output_type": "execute_result"
    }
   ],
   "source": [
    "proj_model_tree = net_tree.children['projection_models']\n",
    "proj_model_tree"
   ]
  },
  {
   "cell_type": "code",
   "execution_count": 15,
   "metadata": {},
   "outputs": [
    {
     "name": "stdout",
     "output_type": "stream",
     "text": [
      "Tree's leaves and their inherited parameters:\n"
     ]
    },
    {
     "data": {
      "text/plain": [
       "[('leaf name: proj_1_AMPA)',\n",
       "  'leaf `params`: {}',\n",
       "  \"leaf `nest_params`: {'connection_type': 'divergent', 'mask': {'circular': {'radius': 2.0}}, 'kernel': 1.0, 'synapse_model': 'my_AMPA_synapse', 'weights': 1.0}\"),\n",
       " ('leaf name: proj_2_GABAA)',\n",
       "  'leaf `params`: {}',\n",
       "  \"leaf `nest_params`: {'connection_type': 'divergent', 'mask': {'circular': {'radius': 2.0}}, 'kernel': 1.0, 'synapse_model': 'my_GABAA_synapse', 'weights': 2.0}\")]"
      ]
     },
     "execution_count": 15,
     "metadata": {},
     "output_type": "execute_result"
    }
   ],
   "source": [
    "print(\"Tree's leaves and their inherited parameters:\")\n",
    "[\n",
    "    (f'leaf name: {l.name})',\n",
    "      f'leaf `params`: {dict(l.params)}',\n",
    "      f'leaf `nest_params`: {dict(l.nest_params)}')\n",
    "     for l in net_tree.children['projection_models'].leaves()\n",
    "]"
   ]
  },
  {
   "cell_type": "markdown",
   "metadata": {},
   "source": [
    "#### Define individual projections from the `topology` tree\n",
    "\n",
    "The list of projections is defined in the `projections` params of the `topology` tree\n",
    "\n",
    "Check out the doc of `Network.build_projections` for expected formatting"
   ]
  },
  {
   "cell_type": "markdown",
   "metadata": {},
   "source": [
    "For each item in the list, a projection is created for each of the `<source_layer> x <target_layer>` combinations.\n",
    "The `params` and `nest_params` are inherited from the template `projection_model`"
   ]
  },
  {
   "cell_type": "code",
   "execution_count": 16,
   "metadata": {},
   "outputs": [
    {
     "data": {
      "text/plain": [
       "ParamsTree(name='topology', parent='network')\n",
       "  params:\n",
       "    projections:\n",
       "    - source_layers:\n",
       "      - input_layer\n",
       "      source_population: parrot_neuron\n",
       "      target_layers:\n",
       "      - l1\n",
       "      target_population: l1_exc\n",
       "      projection_model: proj_1_AMPA\n",
       "    - source_layers:\n",
       "      - l1\n",
       "      source_population: l1_exc\n",
       "      target_layers:\n",
       "      - l1\n",
       "      target_population: l1_inh\n",
       "      projection_model: proj_1_AMPA\n",
       "    - source_layers:\n",
       "      - l1\n",
       "      source_population: l1_inh\n",
       "      target_layers:\n",
       "      - l1\n",
       "      target_population: l1_exc\n",
       "      projection_model: proj_2_GABAA\n",
       "  nest_params: {}\n",
       "  "
      ]
     },
     "execution_count": 16,
     "metadata": {},
     "output_type": "execute_result"
    }
   ],
   "source": [
    "topo_tree = net_tree.children['topology']\n",
    "topo_tree"
   ]
  },
  {
   "cell_type": "markdown",
   "metadata": {},
   "source": [
    "### Recorders (`recorders` subtree)\n",
    "\n",
    "Similarly to the `topology` tree, recorders are defined from lists.\n",
    "\n",
    "We separate recorders connected to synapses (eg weight recorder) and those connected to units (eg spike detectors),\n",
    "which are defined in the `projection_recorders` and `population_recorders` params (resp.) of the `recorders` tree.\n",
    "\n",
    "Check out the doc of the ``Network.build_recorders``, ``Network.build_population_recorders`` and\n",
    "``Network.build_projection_recorders`` methods for expected formatting\n",
    "\n",
    "The parameters of the recorders can be changed by using custom recorder models (in the `recorder_models` tree, see above) "
   ]
  },
  {
   "cell_type": "code",
   "execution_count": 17,
   "metadata": {},
   "outputs": [
    {
     "data": {
      "text/plain": [
       "ParamsTree(name='recorders', parent='network')\n",
       "  params:\n",
       "    population_recorders:\n",
       "    - layers:\n",
       "      - l1\n",
       "      populations:\n",
       "      - l1_exc\n",
       "      model: my_multimeter\n",
       "    - layers:\n",
       "      - input_layer\n",
       "      populations: null\n",
       "      model: my_spike_detector\n",
       "    projection_recorders:\n",
       "    - source_layers:\n",
       "      - l1\n",
       "      source_population: l1_exc\n",
       "      target_layers:\n",
       "      - l1\n",
       "      target_population: l1_inh\n",
       "      projection_model: proj_1_AMPA\n",
       "      model: weight_recorder\n",
       "  nest_params: {}\n",
       "  "
      ]
     },
     "execution_count": 17,
     "metadata": {},
     "output_type": "execute_result"
    }
   ],
   "source": [
    "recorders_tree = net_tree.children['recorders']\n",
    "recorders_tree"
   ]
  },
  {
   "cell_type": "markdown",
   "metadata": {},
   "source": [
    "## Full parameter tree\n",
    "\n",
    "\n",
    "A full simulation consists in\n",
    "\n",
    "- kernel initialization\n",
    "- network creation\n",
    "- running the network in multiple 'sessions' at the start of which some modifications to the network can be made\n",
    "\n",
    "The full simulation is represented by the `Simulation` object, which is initialized from a parameter tree with the following subtrees:\n",
    "\n",
    "1. `'network'` subtree, passed to `Network()`\n",
    "\n",
    "1. `'kernel'` subtree, passed to `Simulation.init_kernel()`\n",
    "\n",
    "1. `'session_models'` subtree, defining the parameters for each individual `Session`\n",
    "\n",
    "1. `'simulation'` subtree, containing the list of sessions that we run and the input/output directory paths"
   ]
  },
  {
   "cell_type": "code",
   "execution_count": 18,
   "metadata": {},
   "outputs": [],
   "source": [
    "full_tree = ParamsTree.read(PARAMS_DIR/'parameter_tree.yml')"
   ]
  },
  {
   "cell_type": "code",
   "execution_count": 19,
   "metadata": {},
   "outputs": [
    {
     "data": {
      "text/plain": [
       "dict_keys(['kernel', 'simulation', 'session_models', 'network'])"
      ]
     },
     "execution_count": 19,
     "metadata": {},
     "output_type": "execute_result"
    }
   ],
   "source": [
    "full_tree.children.keys()"
   ]
  },
  {
   "cell_type": "markdown",
   "metadata": {},
   "source": [
    "### `'network'` subtree"
   ]
  },
  {
   "cell_type": "markdown",
   "metadata": {},
   "source": [
    "The `'network'` subtree is expected to have the following children, as we saw above:"
   ]
  },
  {
   "cell_type": "code",
   "execution_count": 20,
   "metadata": {},
   "outputs": [
    {
     "data": {
      "text/plain": [
       "dict_keys(['neuron_models', 'synapse_models', 'layers', 'projection_models', 'topology', 'recorder_models', 'recorders'])"
      ]
     },
     "execution_count": 20,
     "metadata": {},
     "output_type": "execute_result"
    }
   ],
   "source": [
    "net_tree = full_tree.children['network']\n",
    "net_tree.children.keys()"
   ]
  },
  {
   "cell_type": "markdown",
   "metadata": {},
   "source": [
    "It is used to initialize a `Network` object, representing the full NEST network."
   ]
  },
  {
   "cell_type": "code",
   "execution_count": 21,
   "metadata": {},
   "outputs": [
    {
     "name": "stderr",
     "output_type": "stream",
     "text": [
      "2020-06-30 13:51:20,459 [denest.network] INFO: Build N=2 ``Model`` objects\n",
      "2020-06-30 13:51:20,460 [denest.network] INFO: Build N=2 ``SynapseModel`` objects\n",
      "2020-06-30 13:51:20,461 [denest.network] INFO: Build N=3 ``Model`` objects\n",
      "2020-06-30 13:51:20,467 [denest.network] INFO: Build N=2 ``Layer`` or ``InputLayer`` objects.\n",
      "2020-06-30 13:51:20,469 [denest.utils.validation] INFO: Object `proj_1_AMPA`: params: using default value for optional parameters:\n",
      "{'type': 'topological'}\n",
      "2020-06-30 13:51:20,470 [denest.utils.validation] INFO: Object `proj_2_GABAA`: params: using default value for optional parameters:\n",
      "{'type': 'topological'}\n",
      "2020-06-30 13:51:20,471 [denest.network] INFO: Build N=2 ``ProjectionModel`` objects\n",
      "2020-06-30 13:51:20,476 [denest.network] INFO: Build N=3 ``TopoProjection`` objects\n",
      "2020-06-30 13:51:20,484 [denest.network] INFO: Build N=2 population recorders.\n",
      "2020-06-30 13:51:20,485 [denest.network] INFO: Build N=1 projection recorders.\n"
     ]
    }
   ],
   "source": [
    "net = Network(net_tree)"
   ]
  },
  {
   "cell_type": "markdown",
   "metadata": {},
   "source": [
    "### `'kernel'` subtree\n",
    "\n",
    "The kernel subtree is passed to the `Simulation.init_kernel` method.\n",
    "\n",
    "- All `nest_params` are passed to nest.SetKernelStatus\n",
    "- Two optional `params`:\n",
    "    - `nest_seed` (used to initialize at once the thread-wide and general nest rsg. The `msd`, `grng_seed` and `rng_seed` nest params are reserved)\n",
    "    - `extension_modules` (used to call `nest.Install()`)\n",
    "- Note the `data_path` parameter is set automatically from the simulation's `'output_dir'`"
   ]
  },
  {
   "cell_type": "code",
   "execution_count": 22,
   "metadata": {},
   "outputs": [
    {
     "data": {
      "text/plain": [
       "ParamsTree(name='kernel', parent='None')\n",
       "  params:\n",
       "    nest_seed: 10\n",
       "    extension_modules: []\n",
       "  nest_params:\n",
       "    resolution: 0.5\n",
       "    overwrite_files: true\n",
       "  "
      ]
     },
     "execution_count": 22,
     "metadata": {},
     "output_type": "execute_result"
    }
   ],
   "source": [
    "full_tree.children['kernel']"
   ]
  },
  {
   "cell_type": "markdown",
   "metadata": {},
   "source": [
    "### `'session_models'` subtree\n",
    "\n",
    "The leaves of the `'session_models'` subtree define templates from which the parameters of each `Session` object can be inherited.\n",
    "\n",
    "The following `params` are recognized:\n",
    "\n",
    "- ``simulation_time`` (float): Duration of the session in ms.\n",
    "    (mandatory)\n",
    "- ``reset_network`` (bool): If true, ``nest.ResetNetwork()`` is\n",
    "    called during session initialization (default ``False``)\n",
    "- ``record`` (bool): If false, the ``start_time`` field of\n",
    "    recorder nodes in NEST is set to the end time of the\n",
    "    session, so that no data is recorded during the session\n",
    "    (default ``True``)\n",
    "- ``shift_origin`` (bool): If True, the ``origin`` flag of the\n",
    "    stimulation devices of all the network's ``InputLayer``\n",
    "    layers is set to the start of the session during\n",
    "    initialization. Useful to repeat sessions when the\n",
    "    stimulators are eg spike generators.\n",
    "- ``unit_changes`` (list): List describing the changes applied\n",
    "    to certain units before the start of the session.\n",
    "    Passed to ``Network.set_state``.\n",
    "- ``synapse_changes`` (list): List describing the changes\n",
    "    applied to certain synapses before the start of the session.\n",
    "    Passed to ``Network.set_state``. Refer to that\n",
    "    method for a description of how ``synapse_changes`` is\n",
    "    formatted and interpreted. No changes happen if empty.\n",
    "    (default [])"
   ]
  },
  {
   "cell_type": "code",
   "execution_count": 23,
   "metadata": {},
   "outputs": [
    {
     "data": {
      "text/plain": [
       "ParamsTree(name='session_models', parent='None')\n",
       "  params:\n",
       "    record: true\n",
       "    shift_origin: true\n",
       "    simulation_time: 100.0\n",
       "  nest_params: {}\n",
       "  warmup:\n",
       "    params:\n",
       "      record: false\n",
       "    nest_params: {}\n",
       "  2_spikes:\n",
       "    params:\n",
       "      unit_changes:\n",
       "      - layers:\n",
       "        - input_layer\n",
       "        population_name: spike_generator\n",
       "  \n",
       "  ... [3 lines] ...\n",
       "\n",
       "          - 10.0\n",
       "    nest_params: {}\n",
       "  3_spikes:\n",
       "    params:\n",
       "      unit_changes:\n",
       "      - layers:\n",
       "        - input_layer\n",
       "        population_name: spike_generator\n",
       "        nest_params:\n",
       "          spike_times:\n",
       "          - 1.0\n",
       "          - 10.0\n",
       "          - 20.0\n",
       "    nest_params: {}\n",
       "  "
      ]
     },
     "execution_count": 23,
     "metadata": {},
     "output_type": "execute_result"
    }
   ],
   "source": [
    "full_tree.children['session_models']"
   ]
  },
  {
   "cell_type": "code",
   "execution_count": 24,
   "metadata": {},
   "outputs": [
    {
     "name": "stdout",
     "output_type": "stream",
     "text": [
      "Tree's leaves and their inherited parameters:\n"
     ]
    },
    {
     "data": {
      "text/plain": [
       "[('leaf name: warmup)',\n",
       "  \"leaf `params`: {'record': False, 'shift_origin': True, 'simulation_time': 100.0}\",\n",
       "  'leaf `nest_params`: {}'),\n",
       " ('leaf name: 2_spikes)',\n",
       "  \"leaf `params`: {'record': True, 'shift_origin': True, 'simulation_time': 100.0, 'unit_changes': [{'layers': ['input_layer'], 'population_name': 'spike_generator', 'nest_params': {'spike_times': [1.0, 10.0]}}]}\",\n",
       "  'leaf `nest_params`: {}'),\n",
       " ('leaf name: 3_spikes)',\n",
       "  \"leaf `params`: {'record': True, 'shift_origin': True, 'simulation_time': 100.0, 'unit_changes': [{'layers': ['input_layer'], 'population_name': 'spike_generator', 'nest_params': {'spike_times': [1.0, 10.0, 20.0]}}]}\",\n",
       "  'leaf `nest_params`: {}')]"
      ]
     },
     "execution_count": 24,
     "metadata": {},
     "output_type": "execute_result"
    }
   ],
   "source": [
    "print(\"Tree's leaves and their inherited parameters:\")\n",
    "[\n",
    "    (f'leaf name: {l.name})',\n",
    "      f'leaf `params`: {dict(l.params)}',\n",
    "      f'leaf `nest_params`: {dict(l.nest_params)}')\n",
    "     for l in full_tree.children['session_models'].leaves()\n",
    "]"
   ]
  },
  {
   "cell_type": "markdown",
   "metadata": {},
   "source": [
    "Check out the ``set_network_state`` tutorial or the documentation of the ``Network.set_state()`` method for details on how to modify the state of the network at the start of a simulation"
   ]
  },
  {
   "cell_type": "markdown",
   "metadata": {},
   "source": [
    "### `'simulation'` subtree\n",
    "\n",
    "The 'simulation' subtree contains the following parameters:\n",
    "\n",
    "- ``output_dir`` (str): Path to the output directory\n",
    "    (default 'output').\n",
    "- ``input_dir`` (str): Path to the directory in which\n",
    "    input files are searched for for each session.\n",
    "    (default 'input')\n",
    "- ``sessions`` (list(str)): Order in which sessions are\n",
    "    run. Elements of the list should be the name of\n",
    "    session models defined in the ``session_models``\n",
    "    parameter subtree (default [])"
   ]
  },
  {
   "cell_type": "code",
   "execution_count": 25,
   "metadata": {},
   "outputs": [
    {
     "data": {
      "text/plain": [
       "ParamsTree(name='simulation', parent='None')\n",
       "  params:\n",
       "    output_dir: data/outputs/output\n",
       "    sessions:\n",
       "    - warmup\n",
       "    - 3_spikes\n",
       "    - 2_spikes\n",
       "    - 3_spikes\n",
       "  nest_params: {}\n",
       "  "
      ]
     },
     "execution_count": 25,
     "metadata": {},
     "output_type": "execute_result"
    }
   ],
   "source": [
    "full_tree.children['simulation']"
   ]
  },
  {
   "cell_type": "markdown",
   "metadata": {},
   "source": [
    "## Run a full simulation"
   ]
  },
  {
   "cell_type": "markdown",
   "metadata": {},
   "source": [
    "### Load the full parameter tree\n",
    "\n",
    "The full parameter tree can be loaded from a single file, or from multiple files which are merged."
   ]
  },
  {
   "cell_type": "markdown",
   "metadata": {},
   "source": [
    "**From a single file** by using the `yaml.load`  or the `ParamsTree.read` methods:"
   ]
  },
  {
   "cell_type": "code",
   "execution_count": 26,
   "metadata": {},
   "outputs": [
    {
     "data": {
      "text/plain": [
       "ParamsTree(name='None', parent=None)\n",
       "  params: {}\n",
       "  nest_params: {}\n",
       "  kernel:\n",
       "    params:\n",
       "      nest_seed: 10\n",
       "      extension_modules: []\n",
       "    nest_params:\n",
       "      resolution: 0.5\n",
       "      overwrite_files: true\n",
       "  simulation:\n",
       "    params:\n",
       "      output_dir: data/outputs/output\n",
       "      sessions:\n",
       "      - warmup\n",
       "      - 3_spikes\n",
       "  \n",
       "  ... [169 lines] ...\n",
       "\n",
       "        - layers:\n",
       "          - input_layer\n",
       "          populations: null\n",
       "          model: my_spike_detector\n",
       "        projection_recorders:\n",
       "        - source_layers:\n",
       "          - l1\n",
       "          source_population: l1_exc\n",
       "          target_layers:\n",
       "          - l1\n",
       "          target_population: l1_inh\n",
       "          projection_model: proj_1_AMPA\n",
       "          model: weight_recorder\n",
       "      nest_params: {}\n",
       "  "
      ]
     },
     "execution_count": 26,
     "metadata": {},
     "output_type": "execute_result"
    }
   ],
   "source": [
    "ParamsTree.read(PARAMS_DIR/'parameter_tree.yml')"
   ]
  },
  {
   "cell_type": "markdown",
   "metadata": {},
   "source": [
    "**By merging multiple files**, using the `denest.load_trees` method:"
   ]
  },
  {
   "cell_type": "code",
   "execution_count": 27,
   "metadata": {},
   "outputs": [
    {
     "name": "stdout",
     "output_type": "stream",
     "text": [
      "- './network_tree.yml'\r\n",
      "- './simulation.yml'\r\n",
      "- './session_models.yml'\r\n",
      "- './kernel.yml'\r\n"
     ]
    }
   ],
   "source": [
    "!cat {PARAMS_DIR/'tree_paths.yml'}"
   ]
  },
  {
   "cell_type": "code",
   "execution_count": 28,
   "metadata": {},
   "outputs": [
    {
     "name": "stderr",
     "output_type": "stream",
     "text": [
      "2020-06-30 13:51:21,241 [denest] INFO: Loading parameter file paths from data/params/tree_paths.yml\n",
      "2020-06-30 13:51:21,245 [denest] INFO: Finished loading parameter file paths\n",
      "2020-06-30 13:51:21,260 [denest] INFO: Loading parameters files: \n",
      "['./network_tree.yml',\n",
      " './simulation.yml',\n",
      " './session_models.yml',\n",
      " './kernel.yml']\n"
     ]
    }
   ],
   "source": [
    "full_tree = load_trees(PARAMS_DIR/'tree_paths.yml')"
   ]
  },
  {
   "cell_type": "code",
   "execution_count": 29,
   "metadata": {},
   "outputs": [
    {
     "data": {
      "text/plain": [
       "ParamsTree(name='data/params/tree_paths.yml', parent=None)\n",
       "  params: {}\n",
       "  nest_params: {}\n",
       "  session_models:\n",
       "    params:\n",
       "      record: true\n",
       "      shift_origin: true\n",
       "      simulation_time: 100.0\n",
       "    nest_params: {}\n",
       "    3_spikes:\n",
       "      params:\n",
       "        unit_changes:\n",
       "        - layers:\n",
       "          - input_layer\n",
       "          population_name: spike_generator\n",
       "          nest_params:\n",
       "  \n",
       "  ... [168 lines] ...\n",
       "\n",
       "          params:\n",
       "            populations:\n",
       "              l1_exc: 4\n",
       "              l1_inh: 2\n",
       "          nest_params: {}\n",
       "  simulation:\n",
       "    params:\n",
       "      output_dir: ./data/outputs/output\n",
       "      sessions:\n",
       "      - warmup\n",
       "      - 3_spikes\n",
       "      - 2_spikes\n",
       "      - 3_spikes\n",
       "    nest_params: {}\n",
       "  "
      ]
     },
     "execution_count": 29,
     "metadata": {},
     "output_type": "execute_result"
    }
   ],
   "source": [
    "full_tree"
   ]
  },
  {
   "cell_type": "markdown",
   "metadata": {},
   "source": [
    "### Run with the `Simulation` object"
   ]
  },
  {
   "cell_type": "markdown",
   "metadata": {},
   "source": [
    "We load the full parameter tree:"
   ]
  },
  {
   "cell_type": "code",
   "execution_count": 30,
   "metadata": {},
   "outputs": [],
   "source": [
    "tree = ParamsTree.read(PARAMS_DIR/'parameter_tree.yml')"
   ]
  },
  {
   "cell_type": "markdown",
   "metadata": {},
   "source": [
    "And then initialize the `Simulation`:"
   ]
  },
  {
   "cell_type": "code",
   "execution_count": 31,
   "metadata": {},
   "outputs": [
    {
     "name": "stderr",
     "output_type": "stream",
     "text": [
      "2020-06-30 13:51:21,596 [denest.utils.validation] INFO: Object `simulation`: params: using default value for optional parameters:\n",
      "{'input_dir': 'input'}\n",
      "2020-06-30 13:51:21,598 [denest.simulation] INFO: Initializing NEST kernel and seeds...\n",
      "2020-06-30 13:51:21,600 [denest.simulation] INFO:   Resetting NEST kernel...\n",
      "2020-06-30 13:51:21,609 [denest.simulation] INFO:   Setting NEST kernel status...\n",
      "2020-06-30 13:51:21,609 [denest.simulation] INFO:     Calling `nest.SetKernelStatus({'resolution': 0.5, 'overwrite_files': True})`\n",
      "2020-06-30 13:51:21,614 [denest.simulation] INFO:     Calling `nest.SetKernelStatus({'data_path': 'data/outputs/output/data', 'grng_seed': 11, 'rng_seeds': range(12, 13)})\n",
      "2020-06-30 13:51:21,618 [denest.simulation] INFO:   Finished setting NEST kernel status\n",
      "2020-06-30 13:51:21,636 [denest.simulation] INFO:   Installing external modules...\n",
      "2020-06-30 13:51:21,637 [denest.simulation] INFO:   Finished installing external modules\n",
      "2020-06-30 13:51:21,645 [denest.simulation] INFO: Finished initializing kernel\n",
      "2020-06-30 13:51:21,646 [denest.simulation] INFO: Build N=3 session models\n",
      "2020-06-30 13:51:21,650 [denest.simulation] INFO: Build N=4 sessions\n",
      "2020-06-30 13:51:21,663 [denest.session] INFO: Creating session \"00_warmup\"\n",
      "2020-06-30 13:51:21,671 [denest.utils.validation] INFO: Object `00_warmup`: params: using default value for optional parameters:\n",
      "{'reset_network': False, 'synapse_changes': [], 'unit_changes': []}\n",
      "2020-06-30 13:51:21,674 [denest.session] INFO: Creating session \"01_3_spikes\"\n",
      "2020-06-30 13:51:21,678 [denest.utils.validation] INFO: Object `01_3_spikes`: params: using default value for optional parameters:\n",
      "{'reset_network': False, 'synapse_changes': []}\n",
      "2020-06-30 13:51:21,688 [denest.session] INFO: Creating session \"02_2_spikes\"\n",
      "2020-06-30 13:51:21,715 [denest.utils.validation] INFO: Object `02_2_spikes`: params: using default value for optional parameters:\n",
      "{'reset_network': False, 'synapse_changes': []}\n",
      "2020-06-30 13:51:21,718 [denest.session] INFO: Creating session \"03_3_spikes\"\n",
      "2020-06-30 13:51:21,720 [denest.utils.validation] INFO: Object `03_3_spikes`: params: using default value for optional parameters:\n",
      "{'reset_network': False, 'synapse_changes': []}\n",
      "2020-06-30 13:51:21,740 [denest.simulation] INFO: Sessions: ['00_warmup', '01_3_spikes', '02_2_spikes', '03_3_spikes']\n",
      "2020-06-30 13:51:21,744 [denest.simulation] INFO: Building network.\n",
      "2020-06-30 13:51:21,772 [denest.network] INFO: Build N=2 ``Model`` objects\n",
      "2020-06-30 13:51:21,778 [denest.network] INFO: Build N=2 ``SynapseModel`` objects\n",
      "2020-06-30 13:51:21,783 [denest.network] INFO: Build N=3 ``Model`` objects\n",
      "2020-06-30 13:51:21,787 [denest.network] INFO: Build N=2 ``Layer`` or ``InputLayer`` objects.\n",
      "2020-06-30 13:51:21,793 [denest.utils.validation] INFO: Object `proj_1_AMPA`: params: using default value for optional parameters:\n",
      "{'type': 'topological'}\n",
      "2020-06-30 13:51:21,799 [denest.utils.validation] INFO: Object `proj_2_GABAA`: params: using default value for optional parameters:\n",
      "{'type': 'topological'}\n",
      "2020-06-30 13:51:21,803 [denest.network] INFO: Build N=2 ``ProjectionModel`` objects\n",
      "2020-06-30 13:51:21,819 [denest.network] INFO: Build N=3 ``TopoProjection`` objects\n",
      "2020-06-30 13:51:21,825 [denest.network] INFO: Build N=2 population recorders.\n",
      "2020-06-30 13:51:21,831 [denest.network] INFO: Build N=1 projection recorders.\n",
      "2020-06-30 13:51:21,834 [denest.simulation] INFO: Creating network.\n",
      "2020-06-30 13:51:21,838 [denest.network] INFO: Creating neuron models...\n",
      "100%|██████████| 2/2 [00:00<00:00, 2590.68it/s]\n",
      "2020-06-30 13:51:21,868 [denest.network] INFO: Creating synapse models...\n",
      "100%|██████████| 2/2 [00:00<00:00, 171.95it/s]\n",
      "2020-06-30 13:51:21,889 [denest.network] INFO: Creating recorder models...\n",
      "100%|██████████| 3/3 [00:00<00:00, 345.82it/s]\n",
      "2020-06-30 13:51:21,921 [denest.network] INFO: Creating layers...\n",
      "  0%|          | 0/2 [00:00<?, ?it/s]/Users/tom/nest/nest-simulator-2.20.0/lib/python3.7/site-packages/nest/lib/hl_api_helper.py:127: UserWarning:\n",
      "GetNodes is deprecated and will be removed in NEST 3.0. Use             GIDCollection instead.\n",
      "100%|██████████| 2/2 [00:00<00:00,  4.88it/s]\n",
      "2020-06-30 13:51:22,365 [denest.network] INFO: Creating population recorders...\n",
      "100%|██████████| 2/2 [00:00<00:00, 92.98it/s]\n",
      "2020-06-30 13:51:22,394 [denest.network] INFO: Creating projection recorders...\n",
      "100%|██████████| 1/1 [00:00<00:00, 509.39it/s]\n",
      "2020-06-30 13:51:22,428 [denest.network] INFO: Connecting layers...\n",
      "100%|██████████| 3/3 [00:00<00:00, 623.69it/s]\n",
      "2020-06-30 13:51:22,444 [denest.network] INFO: Network size (including recorders and parrot neurons):\n",
      "Number of nodes: 206\n",
      "Number of projections: 6650\n",
      "2020-06-30 13:51:22,446 [denest.simulation] INFO: Finished creating network\n",
      "2020-06-30 13:51:22,447 [denest.simulation] INFO: Saving simulation metadata...\n",
      "2020-06-30 13:51:22,448 [denest.simulation] INFO: Creating output directory: data/outputs/output\n",
      "2020-06-30 13:51:22,451 [denest.io.save] INFO: Clearing directory: data/outputs/output\n",
      "2020-06-30 13:51:22,462 [denest.io.save] INFO: Clearing directory: data/outputs/output\n",
      "2020-06-30 13:51:22,463 [denest.io.save] INFO: Clearing directory: data/outputs/output/data\n",
      "2020-06-30 13:51:22,468 [denest.io.save] INFO: Clearing directory: data/outputs/output/data\n",
      "2020-06-30 13:51:22,474 [denest.io.save] INFO: Clearing directory: data/outputs/output/data\n",
      "2020-06-30 13:51:22,481 [denest.io.save] INFO: Clearing directory: data/outputs/output\n",
      "2020-06-30 13:51:22,566 [denest.simulation] INFO: Finished saving simulation metadata\n"
     ]
    }
   ],
   "source": [
    "sim = Simulation(tree, output_dir=None, input_dir=None)"
   ]
  },
  {
   "cell_type": "markdown",
   "metadata": {},
   "source": [
    "We can inspect the simulation elements:"
   ]
  },
  {
   "cell_type": "code",
   "execution_count": 32,
   "metadata": {},
   "outputs": [
    {
     "data": {
      "text/plain": [
       "Network(params: {}\n",
       "nest_params: {}\n",
       "neuron_models:\n",
       "  params: {}\n",
       "  nest_params: {}\n",
       "  my_neuron:\n",
       "    params:\n",
       "      nest_model: ht_neuron\n",
       "    nest_params:\n",
       "      g_KL: 1.0\n",
       "      g_NaL: 1.0\n",
       "    l1_exc:\n",
       "      params: {}\n",
       "      nest_params:\n",
       "        V_m: -44.0\n",
       "    l1_inh:\n",
       "      params: {}\n",
       "      nest_params:\n",
       "        V_m: -55.0\n",
       "synapse_models:\n",
       "  params: {}\n",
       "  nest_params: {}\n",
       "  my_AMPA_synapse:\n",
       "    params:\n",
       "      nest_model: ht_synapse\n",
       "      receptor_type: AMPA\n",
       "      target_neuron: ht_neuron\n",
       "    nest_params: {}\n",
       "  my_GABAA_synapse:\n",
       "    params:\n",
       "      nest_model: ht_synapse\n",
       "      receptor_type: GABA_A\n",
       "      target_neuron: ht_neuron\n",
       "    nest_params: {}\n",
       "layers:\n",
       "  params: {}\n",
       "  nest_params: {}\n",
       "  layers:\n",
       "    params:\n",
       "      type: null\n",
       "    nest_params:\n",
       "      rows: 5\n",
       "      columns: 5\n",
       "      extent:\n",
       "      - 5.0\n",
       "      - 5.0\n",
       "      edge_wrap: true\n",
       "    input_layer:\n",
       "      params:\n",
       "        type: InputLayer\n",
       "        add_parrots: true\n",
       "        populations:\n",
       "          spike_generator: 1\n",
       "      nest_params: {}\n",
       "    l1:\n",
       "      params:\n",
       "        populations:\n",
       "          l1_exc: 4\n",
       "          l1_inh: 2\n",
       "      nest_params: {}\n",
       "projection_models:\n",
       "  params: {}\n",
       "  nest_params:\n",
       "    connection_type: divergent\n",
       "    mask:\n",
       "      circular:\n",
       "        radius: 2.0\n",
       "    kernel: 1.0\n",
       "  proj_1_AMPA:\n",
       "    params: {}\n",
       "    nest_params:\n",
       "      synapse_model: my_AMPA_synapse\n",
       "      weights: 1.0\n",
       "  proj_2_GABAA:\n",
       "    params: {}\n",
       "    nest_params:\n",
       "      synapse_model: my_GABAA_synapse\n",
       "      weights: 2.0\n",
       "topology:\n",
       "  params:\n",
       "    projections:\n",
       "    - source_layers:\n",
       "      - input_layer\n",
       "      source_population: parrot_neuron\n",
       "      target_layers:\n",
       "      - l1\n",
       "      target_population: l1_exc\n",
       "      projection_model: proj_1_AMPA\n",
       "    - source_layers:\n",
       "      - l1\n",
       "      source_population: l1_exc\n",
       "      target_layers:\n",
       "      - l1\n",
       "      target_population: l1_inh\n",
       "      projection_model: proj_1_AMPA\n",
       "    - source_layers:\n",
       "      - l1\n",
       "      source_population: l1_inh\n",
       "      target_layers:\n",
       "      - l1\n",
       "      target_population: l1_exc\n",
       "      projection_model: proj_2_GABAA\n",
       "  nest_params: {}\n",
       "recorder_models:\n",
       "  params: {}\n",
       "  nest_params:\n",
       "    record_to:\n",
       "    - memory\n",
       "    - file\n",
       "  weight_recorder:\n",
       "    params:\n",
       "      nest_model: weight_recorder\n",
       "    nest_params: {}\n",
       "  my_multimeter:\n",
       "    params:\n",
       "      nest_model: multimeter\n",
       "    nest_params:\n",
       "      record_from:\n",
       "      - V_m\n",
       "      interval: 20.0\n",
       "  my_spike_detector:\n",
       "    params:\n",
       "      nest_model: spike_detector\n",
       "    nest_params: {}\n",
       "recorders:\n",
       "  params:\n",
       "    population_recorders:\n",
       "    - layers:\n",
       "      - l1\n",
       "      populations:\n",
       "      - l1_exc\n",
       "      model: my_multimeter\n",
       "    - layers:\n",
       "      - input_layer\n",
       "      populations: null\n",
       "      model: my_spike_detector\n",
       "    projection_recorders:\n",
       "    - source_layers:\n",
       "      - l1\n",
       "      source_population: l1_exc\n",
       "      target_layers:\n",
       "      - l1\n",
       "      target_population: l1_inh\n",
       "      projection_model: proj_1_AMPA\n",
       "      model: weight_recorder\n",
       "  nest_params: {}\n",
       ")"
      ]
     },
     "execution_count": 32,
     "metadata": {},
     "output_type": "execute_result"
    }
   ],
   "source": [
    "sim.network"
   ]
  },
  {
   "cell_type": "code",
   "execution_count": 33,
   "metadata": {},
   "outputs": [
    {
     "data": {
      "text/plain": [
       "{'input_layer': InputLayer(input_layer, \n",
       "  {'type': 'InputLayer',\n",
       "   'add_parrots': True,\n",
       "   'populations': {'spike_generator': 1, 'parrot_neuron': 1}}{'rows': 5,\n",
       "   'columns': 5,\n",
       "   'extent': [5.0, 5.0],\n",
       "   'edge_wrap': True,\n",
       "   'elements': ('spike_generator', 1, 'parrot_neuron', 1)}),\n",
       " 'l1': Layer(l1, \n",
       "  {'type': None, 'populations': {'l1_exc': 4, 'l1_inh': 2}}{'rows': 5,\n",
       "   'columns': 5,\n",
       "   'extent': [5.0, 5.0],\n",
       "   'edge_wrap': True,\n",
       "   'elements': ('l1_exc', 4, 'l1_inh', 2)})}"
      ]
     },
     "execution_count": 33,
     "metadata": {},
     "output_type": "execute_result"
    }
   ],
   "source": [
    "sim.network.layers"
   ]
  },
  {
   "cell_type": "code",
   "execution_count": 34,
   "metadata": {},
   "outputs": [
    {
     "data": {
      "text/plain": [
       "[Session(00_warmup, {'record': False,\n",
       "  'reset_network': False,\n",
       "  'shift_origin': True,\n",
       "  'simulation_time': 100.0,\n",
       "  'synapse_changes': [],\n",
       "  'unit_changes': []}),\n",
       " Session(01_3_spikes, {'record': True,\n",
       "  'reset_network': False,\n",
       "  'shift_origin': True,\n",
       "  'simulation_time': 100.0,\n",
       "  'synapse_changes': [],\n",
       "  'unit_changes': [{'layers': ['input_layer'],\n",
       "                    'nest_params': {'spike_times': [1.0, 10.0, 20.0]},\n",
       "                    'population_name': 'spike_generator'}]}),\n",
       " Session(02_2_spikes, {'record': True,\n",
       "  'reset_network': False,\n",
       "  'shift_origin': True,\n",
       "  'simulation_time': 100.0,\n",
       "  'synapse_changes': [],\n",
       "  'unit_changes': [{'layers': ['input_layer'],\n",
       "                    'nest_params': {'spike_times': [1.0, 10.0]},\n",
       "                    'population_name': 'spike_generator'}]}),\n",
       " Session(03_3_spikes, {'record': True,\n",
       "  'reset_network': False,\n",
       "  'shift_origin': True,\n",
       "  'simulation_time': 100.0,\n",
       "  'synapse_changes': [],\n",
       "  'unit_changes': [{'layers': ['input_layer'],\n",
       "                    'nest_params': {'spike_times': [1.0, 10.0, 20.0]},\n",
       "                    'population_name': 'spike_generator'}]})]"
      ]
     },
     "execution_count": 34,
     "metadata": {},
     "output_type": "execute_result"
    }
   ],
   "source": [
    "sim.sessions"
   ]
  },
  {
   "cell_type": "markdown",
   "metadata": {},
   "source": [
    "Finally, we actually run all the sessions in NEST by calling `Simulation.run()`:"
   ]
  },
  {
   "cell_type": "code",
   "execution_count": 35,
   "metadata": {},
   "outputs": [
    {
     "name": "stderr",
     "output_type": "stream",
     "text": [
      "2020-06-30 13:51:22,828 [denest.simulation] INFO: Running 4 sessions...\n",
      "2020-06-30 13:51:22,831 [denest.simulation] INFO: Running session: '00_warmup'...\n",
      "2020-06-30 13:51:22,838 [denest.session] INFO: Initializing session...\n",
      "2020-06-30 13:51:22,840 [denest.network.recorders] INFO:   Setting status for recorder my_multimeter_l1_l1_exc: {'start': 100.0}\n",
      "2020-06-30 13:51:22,843 [denest.network.recorders] INFO:   Setting status for recorder my_spike_detector_input_layer_parrot_neuron: {'start': 100.0}\n",
      "2020-06-30 13:51:22,846 [denest.network.recorders] INFO:   Setting status for recorder weight_recorder_proj_1_AMPA-l1-l1_exc-l1-l1_inh: {'start': 100.0}\n",
      "2020-06-30 13:51:22,847 [denest.session] INFO: Setting `origin` flag to `0.0` for all stimulation devices in ``InputLayers`` for session `00_warmup`\n",
      "2020-06-30 13:51:22,863 [denest.session] INFO: Finished initializing session\n",
      "\n",
      "2020-06-30 13:51:22,864 [denest.session] INFO: Running session '00_warmup' for 100 ms\n",
      "2020-06-30 13:51:23,077 [denest.session] INFO: Finished running session\n",
      "2020-06-30 13:51:23,079 [denest.session] INFO: Session '00_warmup' virtual running time: 100 ms\n",
      "2020-06-30 13:51:23,284 [denest.session] INFO: Session '00_warmup' real running time: 0h:00m:00s\n",
      "2020-06-30 13:51:23,292 [denest.simulation] INFO: Done running session '00_warmup'\n",
      "2020-06-30 13:51:23,298 [denest.simulation] INFO: Running session: '01_3_spikes'...\n",
      "2020-06-30 13:51:23,301 [denest.session] INFO: Initializing session...\n",
      "2020-06-30 13:51:23,305 [denest.session] INFO: Setting `origin` flag to `100.0` for all stimulation devices in ``InputLayers`` for session `01_3_spikes`\n",
      "2020-06-30 13:51:23,328 [denest.utils.validation] INFO: Object `Unit changes dictionary`: params: using default value for optional parameters:\n",
      "{'change_type': 'constant', 'from_array': False}\n",
      "2020-06-30 13:51:23,330 [denest.network.layers] INFO: Layer='input_layer', pop='spike_generator': Applying 'constant' change, param='spike_times', from single value')\n",
      "2020-06-30 13:51:23,523 [denest.session] INFO: Finished initializing session\n",
      "\n",
      "2020-06-30 13:51:23,524 [denest.session] INFO: Running session '01_3_spikes' for 100 ms\n",
      "2020-06-30 13:51:23,746 [denest.session] INFO: Finished running session\n",
      "2020-06-30 13:51:23,747 [denest.session] INFO: Session '01_3_spikes' virtual running time: 100 ms\n",
      "2020-06-30 13:51:23,761 [denest.session] INFO: Session '01_3_spikes' real running time: 0h:00m:00s\n",
      "2020-06-30 13:51:23,764 [denest.simulation] INFO: Done running session '01_3_spikes'\n",
      "2020-06-30 13:51:23,772 [denest.simulation] INFO: Running session: '02_2_spikes'...\n",
      "2020-06-30 13:51:23,777 [denest.session] INFO: Initializing session...\n",
      "2020-06-30 13:51:23,777 [denest.session] INFO: Setting `origin` flag to `200.0` for all stimulation devices in ``InputLayers`` for session `02_2_spikes`\n",
      "2020-06-30 13:51:23,791 [denest.utils.validation] INFO: Object `Unit changes dictionary`: params: using default value for optional parameters:\n",
      "{'change_type': 'constant', 'from_array': False}\n",
      "2020-06-30 13:51:23,795 [denest.network.layers] INFO: Layer='input_layer', pop='spike_generator': Applying 'constant' change, param='spike_times', from single value')\n",
      "2020-06-30 13:51:23,985 [denest.session] INFO: Finished initializing session\n",
      "\n",
      "2020-06-30 13:51:23,986 [denest.session] INFO: Running session '02_2_spikes' for 100 ms\n",
      "2020-06-30 13:51:24,336 [denest.session] INFO: Finished running session\n",
      "2020-06-30 13:51:24,337 [denest.session] INFO: Session '02_2_spikes' virtual running time: 100 ms\n",
      "2020-06-30 13:51:24,338 [denest.session] INFO: Session '02_2_spikes' real running time: 0h:00m:00s\n",
      "2020-06-30 13:51:24,339 [denest.simulation] INFO: Done running session '02_2_spikes'\n",
      "2020-06-30 13:51:24,341 [denest.simulation] INFO: Running session: '03_3_spikes'...\n",
      "2020-06-30 13:51:24,344 [denest.session] INFO: Initializing session...\n",
      "2020-06-30 13:51:24,345 [denest.session] INFO: Setting `origin` flag to `300.0` for all stimulation devices in ``InputLayers`` for session `03_3_spikes`\n",
      "2020-06-30 13:51:24,352 [denest.utils.validation] INFO: Object `Unit changes dictionary`: params: using default value for optional parameters:\n",
      "{'change_type': 'constant', 'from_array': False}\n",
      "2020-06-30 13:51:24,371 [denest.network.layers] INFO: Layer='input_layer', pop='spike_generator': Applying 'constant' change, param='spike_times', from single value')\n",
      "2020-06-30 13:51:24,470 [denest.session] INFO: Finished initializing session\n",
      "\n",
      "2020-06-30 13:51:24,471 [denest.session] INFO: Running session '03_3_spikes' for 100 ms\n",
      "2020-06-30 13:51:24,579 [denest.session] INFO: Finished running session\n",
      "2020-06-30 13:51:24,580 [denest.session] INFO: Session '03_3_spikes' virtual running time: 100 ms\n",
      "2020-06-30 13:51:24,581 [denest.session] INFO: Session '03_3_spikes' real running time: 0h:00m:00s\n",
      "2020-06-30 13:51:24,597 [denest.simulation] INFO: Done running session '03_3_spikes'\n",
      "2020-06-30 13:51:24,604 [denest.simulation] INFO: Finished running simulation\n"
     ]
    }
   ],
   "source": [
    "sim.run()"
   ]
  },
  {
   "cell_type": "code",
   "execution_count": 36,
   "metadata": {},
   "outputs": [
    {
     "name": "stdout",
     "output_type": "stream",
     "text": [
      "\u001b[1m\u001b[36mdata\u001b[m\u001b[m               parameter_tree.yml session_times.yml  versions.txt\r\n"
     ]
    }
   ],
   "source": [
    "!ls {sim.output_dir}"
   ]
  },
  {
   "cell_type": "code",
   "execution_count": 37,
   "metadata": {},
   "outputs": [
    {
     "name": "stdout",
     "output_type": "stream",
     "text": [
      "my_multimeter_l1_l1_exc-203-0.dat\r\n",
      "my_multimeter_l1_l1_exc.yml\r\n",
      "my_spike_detector_input_layer_parrot_neuron-204-0.gdf\r\n",
      "my_spike_detector_input_layer_parrot_neuron.yml\r\n",
      "weight_recorder_proj_1_AMPA-l1-l1_exc-l1-l1_inh-205-0.csv\r\n",
      "weight_recorder_proj_1_AMPA-l1-l1_exc-l1-l1_inh.yml\r\n"
     ]
    }
   ],
   "source": [
    "!ls {Path(sim.output_dir)/'data'}"
   ]
  },
  {
   "cell_type": "markdown",
   "metadata": {},
   "source": [
    "### Run using the `denest.run` function\n",
    "\n",
    "The `run` function is a shorthand for the above steps:"
   ]
  },
  {
   "cell_type": "code",
   "execution_count": 38,
   "metadata": {},
   "outputs": [
    {
     "name": "stderr",
     "output_type": "stream",
     "text": [
      "2020-06-30 13:51:25,053 [denest] INFO: \n",
      "\n",
      "=== RUNNING SIMULATION ========================================================\n",
      "\n",
      "2020-06-30 13:51:25,055 [denest] INFO: Loading parameter file paths from data/params/tree_paths.yml\n",
      "2020-06-30 13:51:25,061 [denest] INFO: Finished loading parameter file paths\n",
      "2020-06-30 13:51:25,063 [denest] INFO: Loading parameters files: \n",
      "['./network_tree.yml',\n",
      " './simulation.yml',\n",
      " './session_models.yml',\n",
      " './kernel.yml']\n",
      "2020-06-30 13:51:25,119 [denest] INFO: Initializing simulation...\n",
      "2020-06-30 13:51:25,146 [denest.utils.validation] INFO: Object `simulation`: params: using default value for optional parameters:\n",
      "{'input_dir': 'input'}\n",
      "2020-06-30 13:51:25,149 [denest.simulation] INFO: Initializing NEST kernel and seeds...\n",
      "2020-06-30 13:51:25,149 [denest.simulation] INFO:   Resetting NEST kernel...\n",
      "2020-06-30 13:51:25,163 [denest.simulation] INFO:   Setting NEST kernel status...\n",
      "2020-06-30 13:51:25,257 [denest.simulation] INFO:     Calling `nest.SetKernelStatus({'resolution': 0.5, 'overwrite_files': True})`\n",
      "2020-06-30 13:51:25,263 [denest.simulation] INFO:     Calling `nest.SetKernelStatus({'data_path': 'data/outputs/output/data', 'grng_seed': 11, 'rng_seeds': range(12, 13)})\n",
      "2020-06-30 13:51:25,304 [denest.simulation] INFO:   Finished setting NEST kernel status\n",
      "2020-06-30 13:51:25,307 [denest.simulation] INFO:   Installing external modules...\n",
      "2020-06-30 13:51:25,321 [denest.simulation] INFO:   Finished installing external modules\n",
      "2020-06-30 13:51:25,334 [denest.simulation] INFO: Finished initializing kernel\n",
      "2020-06-30 13:51:25,337 [denest.simulation] INFO: Build N=3 session models\n",
      "2020-06-30 13:51:25,340 [denest.simulation] INFO: Build N=4 sessions\n",
      "2020-06-30 13:51:25,346 [denest.session] INFO: Creating session \"00_warmup\"\n",
      "2020-06-30 13:51:25,349 [denest.utils.validation] INFO: Object `00_warmup`: params: using default value for optional parameters:\n",
      "{'reset_network': False, 'synapse_changes': [], 'unit_changes': []}\n",
      "2020-06-30 13:51:25,352 [denest.session] INFO: Creating session \"01_3_spikes\"\n",
      "2020-06-30 13:51:25,360 [denest.utils.validation] INFO: Object `01_3_spikes`: params: using default value for optional parameters:\n",
      "{'reset_network': False, 'synapse_changes': []}\n",
      "2020-06-30 13:51:25,362 [denest.session] INFO: Creating session \"02_2_spikes\"\n",
      "2020-06-30 13:51:25,368 [denest.utils.validation] INFO: Object `02_2_spikes`: params: using default value for optional parameters:\n",
      "{'reset_network': False, 'synapse_changes': []}\n",
      "2020-06-30 13:51:25,371 [denest.session] INFO: Creating session \"03_3_spikes\"\n",
      "2020-06-30 13:51:25,373 [denest.utils.validation] INFO: Object `03_3_spikes`: params: using default value for optional parameters:\n",
      "{'reset_network': False, 'synapse_changes': []}\n",
      "2020-06-30 13:51:25,379 [denest.simulation] INFO: Sessions: ['00_warmup', '01_3_spikes', '02_2_spikes', '03_3_spikes']\n",
      "2020-06-30 13:51:25,384 [denest.simulation] INFO: Building network.\n",
      "2020-06-30 13:51:25,408 [denest.network] INFO: Build N=2 ``Model`` objects\n",
      "2020-06-30 13:51:25,414 [denest.network] INFO: Build N=2 ``SynapseModel`` objects\n",
      "2020-06-30 13:51:25,417 [denest.network] INFO: Build N=3 ``Model`` objects\n",
      "2020-06-30 13:51:25,422 [denest.network] INFO: Build N=2 ``Layer`` or ``InputLayer`` objects.\n",
      "2020-06-30 13:51:25,430 [denest.utils.validation] INFO: Object `proj_2_GABAA`: params: using default value for optional parameters:\n",
      "{'type': 'topological'}\n",
      "2020-06-30 13:51:25,434 [denest.utils.validation] INFO: Object `proj_1_AMPA`: params: using default value for optional parameters:\n",
      "{'type': 'topological'}\n",
      "2020-06-30 13:51:25,435 [denest.network] INFO: Build N=2 ``ProjectionModel`` objects\n",
      "2020-06-30 13:51:25,440 [denest.network] INFO: Build N=3 ``TopoProjection`` objects\n",
      "2020-06-30 13:51:25,450 [denest.network] INFO: Build N=2 population recorders.\n",
      "2020-06-30 13:51:25,452 [denest.network] INFO: Build N=1 projection recorders.\n",
      "2020-06-30 13:51:25,453 [denest.simulation] INFO: Creating network.\n",
      "2020-06-30 13:51:25,456 [denest.network] INFO: Creating neuron models...\n",
      "100%|██████████| 2/2 [00:00<00:00, 1308.06it/s]\n",
      "2020-06-30 13:51:25,465 [denest.network] INFO: Creating synapse models...\n",
      "100%|██████████| 2/2 [00:00<00:00, 1308.06it/s]\n",
      "2020-06-30 13:51:25,473 [denest.network] INFO: Creating recorder models...\n",
      "100%|██████████| 3/3 [00:00<00:00, 1403.72it/s]\n",
      "2020-06-30 13:51:25,483 [denest.network] INFO: Creating layers...\n",
      "100%|██████████| 2/2 [00:00<00:00,  9.27it/s]\n",
      "2020-06-30 13:51:25,709 [denest.network] INFO: Creating population recorders...\n",
      "100%|██████████| 2/2 [00:00<00:00, 92.20it/s]\n",
      "2020-06-30 13:51:25,736 [denest.network] INFO: Creating projection recorders...\n",
      "100%|██████████| 1/1 [00:00<00:00, 322.39it/s]\n",
      "2020-06-30 13:51:25,746 [denest.network] INFO: Connecting layers...\n",
      "100%|██████████| 3/3 [00:00<00:00, 724.70it/s]\n",
      "2020-06-30 13:51:25,771 [denest.network] INFO: Network size (including recorders and parrot neurons):\n",
      "Number of nodes: 206\n",
      "Number of projections: 6650\n",
      "2020-06-30 13:51:25,773 [denest.simulation] INFO: Finished creating network\n",
      "2020-06-30 13:51:25,780 [denest.simulation] INFO: Saving simulation metadata...\n",
      "2020-06-30 13:51:25,780 [denest.simulation] INFO: Creating output directory: ./data/outputs/output\n",
      "2020-06-30 13:51:25,786 [denest.io.save] INFO: Clearing directory: data/outputs/output\n",
      "2020-06-30 13:51:25,795 [denest.io.save] INFO: Clearing directory: data/outputs/output\n",
      "2020-06-30 13:51:25,804 [denest.io.save] INFO: Clearing directory: data/outputs/output/data\n",
      "2020-06-30 13:51:25,815 [denest.io.save] INFO: Clearing directory: data/outputs/output/data\n",
      "2020-06-30 13:51:25,816 [denest.io.save] INFO: Clearing directory: data/outputs/output/data\n",
      "2020-06-30 13:51:25,832 [denest.io.save] INFO: Clearing directory: data/outputs/output\n",
      "2020-06-30 13:51:25,912 [denest.simulation] INFO: Finished saving simulation metadata\n",
      "2020-06-30 13:51:25,914 [denest] INFO: Finished initializing simulation\n",
      "2020-06-30 13:51:25,915 [denest] INFO: Running simulation...\n",
      "2020-06-30 13:51:25,922 [denest.simulation] INFO: Running 4 sessions...\n",
      "2020-06-30 13:51:25,932 [denest.simulation] INFO: Running session: '00_warmup'...\n",
      "2020-06-30 13:51:25,935 [denest.session] INFO: Initializing session...\n",
      "2020-06-30 13:51:25,937 [denest.network.recorders] INFO:   Setting status for recorder my_multimeter_l1_l1_exc: {'start': 100.0}\n",
      "2020-06-30 13:51:25,950 [denest.network.recorders] INFO:   Setting status for recorder my_spike_detector_input_layer_parrot_neuron: {'start': 100.0}\n",
      "2020-06-30 13:51:25,956 [denest.network.recorders] INFO:   Setting status for recorder weight_recorder_proj_1_AMPA-l1-l1_exc-l1-l1_inh: {'start': 100.0}\n",
      "2020-06-30 13:51:25,959 [denest.session] INFO: Setting `origin` flag to `0.0` for all stimulation devices in ``InputLayers`` for session `00_warmup`\n",
      "2020-06-30 13:51:25,974 [denest.session] INFO: Finished initializing session\n",
      "\n",
      "2020-06-30 13:51:25,976 [denest.session] INFO: Running session '00_warmup' for 100 ms\n",
      "2020-06-30 13:51:26,173 [denest.session] INFO: Finished running session\n",
      "2020-06-30 13:51:26,175 [denest.session] INFO: Session '00_warmup' virtual running time: 100 ms\n",
      "2020-06-30 13:51:26,180 [denest.session] INFO: Session '00_warmup' real running time: 0h:00m:00s\n",
      "2020-06-30 13:51:26,181 [denest.simulation] INFO: Done running session '00_warmup'\n",
      "2020-06-30 13:51:26,190 [denest.simulation] INFO: Running session: '01_3_spikes'...\n",
      "2020-06-30 13:51:26,191 [denest.session] INFO: Initializing session...\n",
      "2020-06-30 13:51:26,214 [denest.session] INFO: Setting `origin` flag to `100.0` for all stimulation devices in ``InputLayers`` for session `01_3_spikes`\n",
      "2020-06-30 13:51:26,258 [denest.utils.validation] INFO: Object `Unit changes dictionary`: params: using default value for optional parameters:\n",
      "{'change_type': 'constant', 'from_array': False}\n",
      "2020-06-30 13:51:26,260 [denest.network.layers] INFO: Layer='input_layer', pop='spike_generator': Applying 'constant' change, param='spike_times', from single value')\n",
      "2020-06-30 13:51:26,445 [denest.session] INFO: Finished initializing session\n",
      "\n",
      "2020-06-30 13:51:26,446 [denest.session] INFO: Running session '01_3_spikes' for 100 ms\n",
      "2020-06-30 13:51:26,754 [denest.session] INFO: Finished running session\n"
     ]
    },
    {
     "name": "stderr",
     "output_type": "stream",
     "text": [
      "2020-06-30 13:51:26,754 [denest.session] INFO: Session '01_3_spikes' virtual running time: 100 ms\n",
      "2020-06-30 13:51:26,755 [denest.session] INFO: Session '01_3_spikes' real running time: 0h:00m:00s\n",
      "2020-06-30 13:51:26,758 [denest.simulation] INFO: Done running session '01_3_spikes'\n",
      "2020-06-30 13:51:26,762 [denest.simulation] INFO: Running session: '02_2_spikes'...\n",
      "2020-06-30 13:51:26,764 [denest.session] INFO: Initializing session...\n",
      "2020-06-30 13:51:26,770 [denest.session] INFO: Setting `origin` flag to `200.0` for all stimulation devices in ``InputLayers`` for session `02_2_spikes`\n",
      "2020-06-30 13:51:26,815 [denest.utils.validation] INFO: Object `Unit changes dictionary`: params: using default value for optional parameters:\n",
      "{'change_type': 'constant', 'from_array': False}\n",
      "2020-06-30 13:51:26,816 [denest.network.layers] INFO: Layer='input_layer', pop='spike_generator': Applying 'constant' change, param='spike_times', from single value')\n",
      "2020-06-30 13:51:26,885 [denest.session] INFO: Finished initializing session\n",
      "\n",
      "2020-06-30 13:51:26,886 [denest.session] INFO: Running session '02_2_spikes' for 100 ms\n",
      "2020-06-30 13:51:27,046 [denest.session] INFO: Finished running session\n",
      "2020-06-30 13:51:27,047 [denest.session] INFO: Session '02_2_spikes' virtual running time: 100 ms\n",
      "2020-06-30 13:51:27,048 [denest.session] INFO: Session '02_2_spikes' real running time: 0h:00m:00s\n",
      "2020-06-30 13:51:27,063 [denest.simulation] INFO: Done running session '02_2_spikes'\n",
      "2020-06-30 13:51:27,069 [denest.simulation] INFO: Running session: '03_3_spikes'...\n",
      "2020-06-30 13:51:27,083 [denest.session] INFO: Initializing session...\n",
      "2020-06-30 13:51:27,091 [denest.session] INFO: Setting `origin` flag to `300.0` for all stimulation devices in ``InputLayers`` for session `03_3_spikes`\n",
      "2020-06-30 13:51:27,097 [denest.utils.validation] INFO: Object `Unit changes dictionary`: params: using default value for optional parameters:\n",
      "{'change_type': 'constant', 'from_array': False}\n",
      "2020-06-30 13:51:27,101 [denest.network.layers] INFO: Layer='input_layer', pop='spike_generator': Applying 'constant' change, param='spike_times', from single value')\n",
      "2020-06-30 13:51:27,201 [denest.session] INFO: Finished initializing session\n",
      "\n",
      "2020-06-30 13:51:27,202 [denest.session] INFO: Running session '03_3_spikes' for 100 ms\n",
      "2020-06-30 13:51:27,455 [denest.session] INFO: Finished running session\n",
      "2020-06-30 13:51:27,459 [denest.session] INFO: Session '03_3_spikes' virtual running time: 100 ms\n",
      "2020-06-30 13:51:27,475 [denest.session] INFO: Session '03_3_spikes' real running time: 0h:00m:00s\n",
      "2020-06-30 13:51:27,517 [denest.simulation] INFO: Done running session '03_3_spikes'\n",
      "2020-06-30 13:51:27,519 [denest.simulation] INFO: Finished running simulation\n",
      "2020-06-30 13:51:27,530 [denest] INFO: Finished running simulation\n",
      "2020-06-30 13:51:27,543 [denest] INFO: Total simulation virtual time: 400.0 ms\n",
      "2020-06-30 13:51:27,564 [denest] INFO: Total simulation real time: 0h:00m:02s\n",
      "2020-06-30 13:51:27,567 [denest] INFO: Simulation output written to: /Users/tom/docker/nets-dev/docs/source/tutorials/data/outputs/output\n"
     ]
    }
   ],
   "source": [
    "denest.run(PARAMS_DIR/'tree_paths.yml')"
   ]
  },
  {
   "cell_type": "markdown",
   "metadata": {},
   "source": [
    "### Run from the command line\n",
    "\n",
    "A simulation can also be run directly from the command line as follows:\n",
    "\n",
    "``python3 -m denest <tree_paths.yml> [-o <output_dir>]``"
   ]
  }
 ],
 "metadata": {
  "kernelspec": {
   "display_name": "denest_101",
   "language": "python",
   "name": "denest_101"
  },
  "language_info": {
   "codemirror_mode": {
    "name": "ipython",
    "version": 3
   },
   "file_extension": ".py",
   "mimetype": "text/x-python",
   "name": "python",
   "nbconvert_exporter": "python",
   "pygments_lexer": "ipython3",
   "version": "3.7.5"
  },
  "widgets": {
   "application/vnd.jupyter.widget-state+json": {
    "state": {},
    "version_major": 2,
    "version_minor": 0
   }
  }
 },
 "nbformat": 4,
 "nbformat_minor": 4
}
