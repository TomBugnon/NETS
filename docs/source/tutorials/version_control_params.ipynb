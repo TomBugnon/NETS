{
 "cells": [
  {
   "cell_type": "markdown",
   "metadata": {},
   "source": [
    "# Version control the parameter files\n",
    "\n",
    "Here we learn a nice little trick to version-control the parameter files while tracking the simulation output directories for all the versions of the network."
   ]
  },
  {
   "cell_type": "code",
   "execution_count": 1,
   "metadata": {},
   "outputs": [],
   "source": [
    "import denest\n",
    "import nest\n",
    "import yaml\n",
    "from pathlib import Path\n",
    "from pprint import pprint"
   ]
  },
  {
   "cell_type": "code",
   "execution_count": 2,
   "metadata": {},
   "outputs": [],
   "source": [
    "PARAMS_DIR = Path('./data/params')  # Where all the parameter files are\n",
    "DATA_DIR = Path('./data/outputs')  # Where all the simulation output directories are"
   ]
  },
  {
   "cell_type": "markdown",
   "metadata": {},
   "source": [
    "## 1. Turn ``PARAMS_DIR`` into a git directory"
   ]
  },
  {
   "cell_type": "markdown",
   "metadata": {},
   "source": [
    "## 2. Make modifications to the parameters "
   ]
  },
  {
   "cell_type": "markdown",
   "metadata": {},
   "source": [
    "## 3. Run a simulation with the modified parameter files and track the output directory"
   ]
  },
  {
   "cell_type": "markdown",
   "metadata": {},
   "source": [
    "### A. Generate a unique output directory name\n",
    "\n",
    "For example, using the current date and time:"
   ]
  },
  {
   "cell_type": "code",
   "execution_count": 3,
   "metadata": {},
   "outputs": [
    {
     "data": {
      "text/plain": [
       "PosixPath('data/outputs/2020-06-28_20:34:59')"
      ]
     },
     "execution_count": 3,
     "metadata": {},
     "output_type": "execute_result"
    }
   ],
   "source": [
    "from datetime import datetime\n",
    "\n",
    "output_dir_name = datetime.now().strftime(\"%Y-%m-%d_%H:%M:%S\")\n",
    "\n",
    "output_dir = Path(DATA_DIR)/output_dir_name\n",
    "output_dir"
   ]
  },
  {
   "cell_type": "markdown",
   "metadata": {},
   "source": [
    "### B. Create a symlink to the output directory in the version controlled `PARAMS_DIR`"
   ]
  },
  {
   "cell_type": "code",
   "execution_count": 4,
   "metadata": {},
   "outputs": [],
   "source": [
    "def overwrite_dir_symlink(target, link_path):\n",
    "    \"\"\"Overwrite or create a symlink to a directory.\n",
    "    \n",
    "    ``target`` should be relative to ``link_path``\"\"\"\n",
    "    import os, errno\n",
    "    \n",
    "    try:\n",
    "        os.symlink(target, link_path)\n",
    "    except OSError as e:\n",
    "        if e.errno == errno.EEXIST:\n",
    "            os.remove(link_path)\n",
    "            os.symlink(target, link_path)\n",
    "        else:\n",
    "            raise e"
   ]
  },
  {
   "cell_type": "code",
   "execution_count": 5,
   "metadata": {},
   "outputs": [],
   "source": [
    "# Needs path RELATIVE to symlink position \n",
    "overwrite_dir_symlink(Path('../outputs')/output_dir_name, PARAMS_DIR/'output')"
   ]
  },
  {
   "cell_type": "markdown",
   "metadata": {},
   "source": [
    "### C. Run the simulation"
   ]
  },
  {
   "cell_type": "code",
   "execution_count": 6,
   "metadata": {},
   "outputs": [
    {
     "name": "stderr",
     "output_type": "stream",
     "text": [
      "2020-06-28 20:34:59,822 [denest] INFO: \n",
      "\n",
      "=== RUNNING SIMULATION ========================================================\n",
      "\n",
      "2020-06-28 20:34:59,823 [denest] INFO: Loading parameter file paths from data/params/tree_paths.yml\n",
      "2020-06-28 20:34:59,825 [denest] INFO: Finished loading parameter file paths\n",
      "2020-06-28 20:34:59,828 [denest] INFO: Loading parameters files: \n",
      "['./network_tree.yml',\n",
      " './simulation.yml',\n",
      " './session_models.yml',\n",
      " './kernel.yml']\n",
      "2020-06-28 20:34:59,882 [denest] INFO: Initializing simulation...\n",
      "2020-06-28 20:34:59,930 [denest.utils.validation] INFO: Object `simulation`: params: using default value for optional parameters:\n",
      "{'input_dir': 'input'}\n",
      "2020-06-28 20:34:59,934 [denest.simulation] INFO: Initializing NEST kernel and seeds...\n",
      "2020-06-28 20:34:59,935 [denest.simulation] INFO:   Resetting NEST kernel...\n",
      "2020-06-28 20:34:59,970 [denest.simulation] INFO:   Setting NEST kernel status...\n",
      "2020-06-28 20:34:59,989 [denest.simulation] INFO:     Calling `nest.SetKernelStatus({'resolution': 0.5, 'overwrite_files': True})`\n",
      "2020-06-28 20:35:00,017 [denest.simulation] INFO:     Calling `nest.SetKernelStatus({'data_path': 'data/outputs/2020-06-28_20:34:59/data', 'grng_seed': 11, 'rng_seeds': range(12, 13)})\n",
      "2020-06-28 20:35:00,023 [denest.simulation] INFO:   Finished setting NEST kernel status\n",
      "2020-06-28 20:35:00,094 [denest.simulation] INFO:   Installing external modules...\n",
      "2020-06-28 20:35:00,101 [denest.simulation] INFO:   Finished installing external modules\n",
      "2020-06-28 20:35:00,116 [denest.simulation] INFO: Finished initializing kernel\n",
      "2020-06-28 20:35:00,119 [denest.simulation] INFO: Build N=3 session models\n",
      "2020-06-28 20:35:00,123 [denest.simulation] INFO: Build N=4 sessions\n",
      "2020-06-28 20:35:00,125 [denest.session] INFO: Creating session \"00_warmup\"\n",
      "2020-06-28 20:35:00,129 [denest.utils.validation] INFO: Object `00_warmup`: params: using default value for optional parameters:\n",
      "{'reset_network': False, 'synapse_changes': [], 'unit_changes': []}\n",
      "2020-06-28 20:35:00,130 [denest.session] INFO: Creating session \"01_3_spikes\"\n",
      "2020-06-28 20:35:00,133 [denest.utils.validation] INFO: Object `01_3_spikes`: params: using default value for optional parameters:\n",
      "{'reset_network': False, 'synapse_changes': []}\n",
      "2020-06-28 20:35:00,136 [denest.session] INFO: Creating session \"02_2_spikes\"\n",
      "2020-06-28 20:35:00,137 [denest.utils.validation] INFO: Object `02_2_spikes`: params: using default value for optional parameters:\n",
      "{'reset_network': False, 'synapse_changes': []}\n",
      "2020-06-28 20:35:00,139 [denest.session] INFO: Creating session \"03_3_spikes\"\n",
      "2020-06-28 20:35:00,141 [denest.utils.validation] INFO: Object `03_3_spikes`: params: using default value for optional parameters:\n",
      "{'reset_network': False, 'synapse_changes': []}\n",
      "2020-06-28 20:35:00,144 [denest.simulation] INFO: Sessions: ['00_warmup', '01_3_spikes', '02_2_spikes', '03_3_spikes']\n",
      "2020-06-28 20:35:00,151 [denest.simulation] INFO: Building network.\n",
      "2020-06-28 20:35:00,201 [denest.network] INFO: Build N=2 ``Model`` objects\n",
      "2020-06-28 20:35:00,209 [denest.network] INFO: Build N=2 ``SynapseModel`` objects\n",
      "2020-06-28 20:35:00,234 [denest.network] INFO: Build N=3 ``Model`` objects\n",
      "2020-06-28 20:35:00,239 [denest.network] INFO: Build N=2 ``Layer`` or ``InputLayer`` objects.\n",
      "2020-06-28 20:35:00,241 [denest.utils.validation] INFO: Object `proj_2_GABAA`: params: using default value for optional parameters:\n",
      "{'type': 'topological'}\n",
      "2020-06-28 20:35:00,248 [denest.utils.validation] INFO: Object `proj_1_AMPA`: params: using default value for optional parameters:\n",
      "{'type': 'topological'}\n",
      "2020-06-28 20:35:00,252 [denest.network] INFO: Build N=2 ``ProjectionModel`` objects\n",
      "2020-06-28 20:35:00,260 [denest.network] INFO: Build N=3 ``TopoProjection`` objects\n",
      "2020-06-28 20:35:00,263 [denest.network] INFO: Build N=2 population recorders.\n",
      "2020-06-28 20:35:00,264 [denest.network] INFO: Build N=1 projection recorders.\n",
      "2020-06-28 20:35:00,267 [denest.simulation] INFO: Creating network.\n",
      "2020-06-28 20:35:00,268 [denest.network] INFO: Creating neuron models...\n",
      "100%|██████████| 2/2 [00:00<00:00, 3105.74it/s]\n",
      "2020-06-28 20:35:00,287 [denest.network] INFO: Creating synapse models...\n",
      "100%|██████████| 2/2 [00:00<00:00, 731.03it/s]\n",
      "2020-06-28 20:35:00,295 [denest.network] INFO: Creating recorder models...\n",
      "100%|██████████| 3/3 [00:00<00:00, 1882.26it/s]\n",
      "2020-06-28 20:35:00,302 [denest.network] INFO: Creating layers...\n",
      "  0%|          | 0/2 [00:00<?, ?it/s]/Users/tom/nest/nest-simulator-2.20.0/lib/python3.7/site-packages/nest/lib/hl_api_helper.py:127: UserWarning:\n",
      "GetNodes is deprecated and will be removed in NEST 3.0. Use             GIDCollection instead.\n",
      "100%|██████████| 2/2 [00:00<00:00, 12.17it/s]\n",
      "2020-06-28 20:35:00,477 [denest.network] INFO: Creating population recorders...\n",
      "100%|██████████| 2/2 [00:00<00:00, 124.56it/s]\n",
      "2020-06-28 20:35:00,495 [denest.network] INFO: Creating projection recorders...\n",
      "100%|██████████| 1/1 [00:00<00:00, 294.90it/s]\n",
      "2020-06-28 20:35:00,501 [denest.network] INFO: Connecting layers...\n",
      "100%|██████████| 3/3 [00:00<00:00, 580.93it/s]\n",
      "2020-06-28 20:35:00,514 [denest.network] INFO: Network size (including recorders and parrot neurons):\n",
      "Number of nodes: 206\n",
      "Number of projections: 6650\n",
      "2020-06-28 20:35:00,516 [denest.simulation] INFO: Finished creating network\n",
      "2020-06-28 20:35:00,517 [denest.simulation] INFO: Saving simulation metadata...\n",
      "2020-06-28 20:35:00,517 [denest.simulation] INFO: Creating output directory: data/outputs/2020-06-28_20:34:59\n",
      "2020-06-28 20:35:00,519 [denest.io.save] INFO: Clearing directory: data/outputs/2020-06-28_20:34:59\n",
      "2020-06-28 20:35:00,525 [denest.io.save] INFO: Clearing directory: data/outputs/2020-06-28_20:34:59\n",
      "2020-06-28 20:35:00,526 [denest.io.save] INFO: Clearing directory: data/outputs/2020-06-28_20:34:59/data\n",
      "2020-06-28 20:35:00,527 [denest.io.save] INFO: Clearing directory: data/outputs/2020-06-28_20:34:59/data\n",
      "2020-06-28 20:35:00,528 [denest.io.save] INFO: Clearing directory: data/outputs/2020-06-28_20:34:59/data\n",
      "2020-06-28 20:35:00,532 [denest.io.save] INFO: Clearing directory: data/outputs/2020-06-28_20:34:59\n",
      "2020-06-28 20:35:00,596 [denest.simulation] INFO: Finished saving simulation metadata\n",
      "2020-06-28 20:35:00,598 [denest] INFO: Finished initializing simulation\n",
      "2020-06-28 20:35:00,621 [denest] INFO: Running simulation...\n",
      "2020-06-28 20:35:00,623 [denest.simulation] INFO: Running 4 sessions...\n",
      "2020-06-28 20:35:00,626 [denest.simulation] INFO: Running session: '00_warmup'...\n",
      "2020-06-28 20:35:00,628 [denest.session] INFO: Initializing session...\n",
      "2020-06-28 20:35:00,632 [denest.network.recorders] INFO:   Setting status for recorder my_multimeter_l1_l1_exc: {'start': 100.0}\n",
      "2020-06-28 20:35:00,636 [denest.network.recorders] INFO:   Setting status for recorder my_spike_detector_input_layer_parrot_neuron: {'start': 100.0}\n",
      "2020-06-28 20:35:00,638 [denest.network.recorders] INFO:   Setting status for recorder weight_recorder_proj_1_AMPA-l1-l1_exc-l1-l1_inh: {'start': 100.0}\n",
      "2020-06-28 20:35:00,641 [denest.session] INFO: Setting `origin` flag to `0.0` for all stimulation devices in ``InputLayers`` for session `00_warmup`\n",
      "2020-06-28 20:35:00,649 [denest.session] INFO: Finished initializing session\n",
      "\n",
      "2020-06-28 20:35:00,652 [denest.session] INFO: Running session '00_warmup' for 100 ms\n",
      "2020-06-28 20:35:00,776 [denest.session] INFO: Finished running session\n",
      "2020-06-28 20:35:00,777 [denest.session] INFO: Session '00_warmup' virtual running time: 100 ms\n",
      "2020-06-28 20:35:00,778 [denest.session] INFO: Session '00_warmup' real running time: 0h:00m:00s\n",
      "2020-06-28 20:35:00,780 [denest.simulation] INFO: Done running session '00_warmup'\n",
      "2020-06-28 20:35:00,781 [denest.simulation] INFO: Running session: '01_3_spikes'...\n",
      "2020-06-28 20:35:00,785 [denest.session] INFO: Initializing session...\n",
      "2020-06-28 20:35:00,788 [denest.session] INFO: Setting `origin` flag to `100.0` for all stimulation devices in ``InputLayers`` for session `01_3_spikes`\n",
      "2020-06-28 20:35:00,797 [denest.utils.validation] INFO: Object `Unit changes dictionary`: params: using default value for optional parameters:\n",
      "{'change_type': 'constant', 'from_array': False}\n",
      "2020-06-28 20:35:00,799 [denest.network.layers] INFO: Layer='input_layer', pop='spike_generator': Applying 'constant' change, param='spike_times', from single value')\n",
      "2020-06-28 20:35:00,866 [denest.session] INFO: Finished initializing session\n",
      "\n",
      "2020-06-28 20:35:00,867 [denest.session] INFO: Running session '01_3_spikes' for 100 ms\n",
      "2020-06-28 20:35:01,125 [denest.session] INFO: Finished running session\n",
      "2020-06-28 20:35:01,127 [denest.session] INFO: Session '01_3_spikes' virtual running time: 100 ms\n",
      "2020-06-28 20:35:01,128 [denest.session] INFO: Session '01_3_spikes' real running time: 0h:00m:00s\n",
      "2020-06-28 20:35:01,129 [denest.simulation] INFO: Done running session '01_3_spikes'\n",
      "2020-06-28 20:35:01,131 [denest.simulation] INFO: Running session: '02_2_spikes'...\n",
      "2020-06-28 20:35:01,133 [denest.session] INFO: Initializing session...\n",
      "2020-06-28 20:35:01,134 [denest.session] INFO: Setting `origin` flag to `200.0` for all stimulation devices in ``InputLayers`` for session `02_2_spikes`\n",
      "2020-06-28 20:35:01,138 [denest.utils.validation] INFO: Object `Unit changes dictionary`: params: using default value for optional parameters:\n",
      "{'change_type': 'constant', 'from_array': False}\n",
      "2020-06-28 20:35:01,140 [denest.network.layers] INFO: Layer='input_layer', pop='spike_generator': Applying 'constant' change, param='spike_times', from single value')\n",
      "2020-06-28 20:35:01,198 [denest.session] INFO: Finished initializing session\n",
      "\n",
      "2020-06-28 20:35:01,199 [denest.session] INFO: Running session '02_2_spikes' for 100 ms\n",
      "2020-06-28 20:35:01,321 [denest.session] INFO: Finished running session\n",
      "2020-06-28 20:35:01,321 [denest.session] INFO: Session '02_2_spikes' virtual running time: 100 ms\n",
      "2020-06-28 20:35:01,322 [denest.session] INFO: Session '02_2_spikes' real running time: 0h:00m:00s\n",
      "2020-06-28 20:35:01,323 [denest.simulation] INFO: Done running session '02_2_spikes'\n",
      "2020-06-28 20:35:01,324 [denest.simulation] INFO: Running session: '03_3_spikes'...\n",
      "2020-06-28 20:35:01,326 [denest.session] INFO: Initializing session...\n",
      "2020-06-28 20:35:01,327 [denest.session] INFO: Setting `origin` flag to `300.0` for all stimulation devices in ``InputLayers`` for session `03_3_spikes`\n",
      "2020-06-28 20:35:01,331 [denest.utils.validation] INFO: Object `Unit changes dictionary`: params: using default value for optional parameters:\n",
      "{'change_type': 'constant', 'from_array': False}\n",
      "2020-06-28 20:35:01,332 [denest.network.layers] INFO: Layer='input_layer', pop='spike_generator': Applying 'constant' change, param='spike_times', from single value')\n",
      "2020-06-28 20:35:01,387 [denest.session] INFO: Finished initializing session\n",
      "\n",
      "2020-06-28 20:35:01,388 [denest.session] INFO: Running session '03_3_spikes' for 100 ms\n",
      "2020-06-28 20:35:01,483 [denest.session] INFO: Finished running session\n",
      "2020-06-28 20:35:01,484 [denest.session] INFO: Session '03_3_spikes' virtual running time: 100 ms\n",
      "2020-06-28 20:35:01,485 [denest.session] INFO: Session '03_3_spikes' real running time: 0h:00m:00s\n",
      "2020-06-28 20:35:01,486 [denest.simulation] INFO: Done running session '03_3_spikes'\n",
      "2020-06-28 20:35:01,487 [denest.simulation] INFO: Finished running simulation\n",
      "2020-06-28 20:35:01,490 [denest] INFO: Finished running simulation\n",
      "2020-06-28 20:35:01,491 [denest] INFO: Total simulation virtual time: 400.0 ms\n",
      "2020-06-28 20:35:01,493 [denest] INFO: Total simulation real time: 0h:00m:01s\n",
      "2020-06-28 20:35:01,495 [denest] INFO: Simulation output written to: /Users/tom/docker/nets-dev/docs/source/tutorials/data/outputs/2020-06-28_20:34:59\n"
     ]
    }
   ],
   "source": [
    "denest.run(PARAMS_DIR/'tree_paths.yml', output_dir=output_dir)"
   ]
  },
  {
   "cell_type": "markdown",
   "metadata": {},
   "source": [
    "The simulation output was saved in the unique output directory created.  "
   ]
  },
  {
   "cell_type": "code",
   "execution_count": 7,
   "metadata": {},
   "outputs": [
    {
     "name": "stdout",
     "output_type": "stream",
     "text": [
      "data/outputs/2020-06-28_20:34:59\n",
      "\u001b[1m\u001b[36mdata\u001b[m\u001b[m               git_hash           parameter_tree.yml session_times.yml\n"
     ]
    }
   ],
   "source": [
    "print(output_dir)\n",
    "!ls {output_dir}"
   ]
  },
  {
   "cell_type": "markdown",
   "metadata": {},
   "source": [
    "The `PARAMS_DIR/output` symlink points to the actual output directory."
   ]
  },
  {
   "cell_type": "code",
   "execution_count": 8,
   "metadata": {},
   "outputs": [
    {
     "name": "stdout",
     "output_type": "stream",
     "text": [
      "\u001b[1m\u001b[36mdata\u001b[m\u001b[m               git_hash           parameter_tree.yml session_times.yml\n"
     ]
    }
   ],
   "source": [
    "!ls {PARAMS_DIR/'output/'}"
   ]
  },
  {
   "cell_type": "markdown",
   "metadata": {},
   "source": [
    "## 4. Commit the `PARAMS_DIR` with the updated params and `output` symlimk"
   ]
  }
 ],
 "metadata": {
  "kernelspec": {
   "display_name": "Python 3",
   "language": "python",
   "name": "python3"
  },
  "language_info": {
   "codemirror_mode": {
    "name": "ipython",
    "version": 3
   },
   "file_extension": ".py",
   "mimetype": "text/x-python",
   "name": "python",
   "nbconvert_exporter": "python",
   "pygments_lexer": "ipython3",
   "version": "3.8.3"
  },
  "widgets": {
   "application/vnd.jupyter.widget-state+json": {
    "state": {},
    "version_major": 2,
    "version_minor": 0
   }
  }
 },
 "nbformat": 4,
 "nbformat_minor": 4
}
