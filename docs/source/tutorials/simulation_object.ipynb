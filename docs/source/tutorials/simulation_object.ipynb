{
 "cells": [
  {
   "cell_type": "markdown",
   "metadata": {},
   "source": [
    "# The `Simulation` object\n",
    "\n",
    "Let's familiarize ourselves with the ``Simulation`` object.\n",
    "\n",
    "In this tutorial we:\n",
    "\n",
    "1. __Initialize an empty `Simulation` object__\n",
    "2. __Initialize the NEST kernel__ (`Simulation.init__kernel`)\n",
    "2. __Create a network__ (`Simulation.create__network`)\n",
    "2. Create sessions:\n",
    "    1. __Build session models__ (`Simulation.build__session__models`)\n",
    "    1. __Build the list of sessions__ from session models (`Simulation.build__sessions`)\n",
    "3. __Run__ the simulation\n",
    "5. __Replicate__ the simulation\n",
    "\n",
    "NB: Usually we'd perform all the steps at once by providing the full simulation tree to the `Simulation` object during initialization"
   ]
  },
  {
   "cell_type": "code",
   "execution_count": 1,
   "metadata": {},
   "outputs": [
    {
     "name": "stdout",
     "output_type": "stream",
     "text": [
      "The autoreload extension is already loaded. To reload it, use:\n",
      "  %reload_ext autoreload\n"
     ]
    }
   ],
   "source": [
    "%load_ext autoreload\n",
    "%autoreload 2\n",
    "\n",
    "import nest\n",
    "import yaml\n",
    "from pathlib import Path\n",
    "from pprint import pprint\n",
    "\n",
    "from denest import *\n",
    "import denest"
   ]
  },
  {
   "cell_type": "code",
   "execution_count": 2,
   "metadata": {},
   "outputs": [],
   "source": [
    "PARAMS_DIR = Path('./data/params')\n",
    "DATA_DIR = Path('./data/outputs')\n",
    "OUTPUT_DIR = DATA_DIR/'output'"
   ]
  },
  {
   "cell_type": "markdown",
   "metadata": {},
   "source": [
    "## Initialize an empty Simulation object\n",
    "\n",
    "Empty network, no kernel initialization, etc..."
   ]
  },
  {
   "cell_type": "code",
   "execution_count": 3,
   "metadata": {},
   "outputs": [
    {
     "name": "stderr",
     "output_type": "stream",
     "text": [
      "2020-06-28 20:15:00,915 [denest.utils.validation] INFO: 'None' tree: adding empty child kernel\n",
      "2020-06-28 20:15:00,916 [denest.utils.validation] INFO: 'None' tree: adding empty child simulation\n",
      "2020-06-28 20:15:00,917 [denest.utils.validation] INFO: 'None' tree: adding empty child session_models\n",
      "2020-06-28 20:15:00,918 [denest.utils.validation] INFO: 'None' tree: adding empty child network\n",
      "2020-06-28 20:15:00,921 [denest.utils.validation] INFO: Object `simulation`: params: using default value for optional parameters:\n",
      "{'input_dir': 'input', 'output_dir': 'output', 'sessions': []}\n",
      "2020-06-28 20:15:00,926 [denest.utils.validation] INFO: Object `kernel`: params: using default value for optional parameters:\n",
      "{'extension_modules': [], 'nest_seed': 1}\n",
      "2020-06-28 20:15:00,928 [denest.simulation] INFO: Initializing NEST kernel and seeds...\n",
      "2020-06-28 20:15:00,929 [denest.simulation] INFO:   Resetting NEST kernel...\n",
      "2020-06-28 20:15:00,938 [denest.simulation] INFO:   Setting NEST kernel status...\n",
      "2020-06-28 20:15:00,945 [denest.simulation] INFO:     Calling `nest.SetKernelStatus({})`\n",
      "2020-06-28 20:15:00,948 [denest.simulation] INFO:     Calling `nest.SetKernelStatus({'data_path': 'data/outputs/output/data', 'grng_seed': 2, 'rng_seeds': range(3, 4)})\n",
      "2020-06-28 20:15:00,952 [denest.simulation] INFO:   Finished setting NEST kernel status\n",
      "2020-06-28 20:15:00,963 [denest.simulation] INFO:   Installing external modules...\n",
      "2020-06-28 20:15:00,971 [denest.simulation] INFO:   Finished installing external modules\n",
      "2020-06-28 20:15:01,026 [denest.simulation] INFO: Finished initializing kernel\n",
      "2020-06-28 20:15:01,028 [denest.simulation] INFO: Build N=0 session models\n",
      "2020-06-28 20:15:01,029 [denest.simulation] INFO: Build N=0 sessions\n",
      "2020-06-28 20:15:01,032 [denest.simulation] INFO: Sessions: []\n",
      "2020-06-28 20:15:01,034 [denest.simulation] INFO: Building network.\n",
      "2020-06-28 20:15:01,061 [denest.utils.validation] INFO: 'None' tree: adding empty child neuron_models\n",
      "2020-06-28 20:15:01,065 [denest.utils.validation] INFO: 'None' tree: adding empty child synapse_models\n",
      "2020-06-28 20:15:01,076 [denest.utils.validation] INFO: 'None' tree: adding empty child layers\n",
      "2020-06-28 20:15:01,084 [denest.utils.validation] INFO: 'None' tree: adding empty child projection_models\n",
      "2020-06-28 20:15:01,085 [denest.utils.validation] INFO: 'None' tree: adding empty child topology\n",
      "2020-06-28 20:15:01,091 [denest.utils.validation] INFO: 'None' tree: adding empty child recorder_models\n",
      "2020-06-28 20:15:01,093 [denest.utils.validation] INFO: 'None' tree: adding empty child recorders\n",
      "2020-06-28 20:15:01,095 [denest.network] INFO: Build N=0 ``Model`` objects\n",
      "2020-06-28 20:15:01,097 [denest.network] INFO: Build N=0 ``SynapseModel`` objects\n",
      "2020-06-28 20:15:01,098 [denest.network] INFO: Build N=0 ``Model`` objects\n",
      "2020-06-28 20:15:01,099 [denest.network] INFO: Build N=0 ``Layer`` or ``InputLayer`` objects.\n",
      "2020-06-28 20:15:01,106 [denest.network] INFO: Build N=0 ``ProjectionModel`` objects\n",
      "2020-06-28 20:15:01,112 [denest.utils.validation] INFO: Object `topology`: params: using default value for optional parameters:\n",
      "{'projections': []}\n",
      "2020-06-28 20:15:01,115 [denest.network] INFO: Build N=0 ``TopoProjection`` objects\n",
      "2020-06-28 20:15:01,117 [denest.utils.validation] INFO: Object `recorders`: params: using default value for optional parameters:\n",
      "{'population_recorders': [], 'projection_recorders': []}\n",
      "2020-06-28 20:15:01,118 [denest.network] INFO: Build N=0 population recorders.\n",
      "2020-06-28 20:15:01,121 [denest.network] INFO: Build N=0 projection recorders.\n",
      "2020-06-28 20:15:01,122 [denest.simulation] INFO: Creating network.\n",
      "2020-06-28 20:15:01,123 [denest.network] INFO: Creating neuron models...\n",
      "0it [00:00, ?it/s]\n",
      "2020-06-28 20:15:01,142 [denest.network] INFO: Creating synapse models...\n",
      "0it [00:00, ?it/s]\n",
      "2020-06-28 20:15:01,153 [denest.network] INFO: Creating recorder models...\n",
      "0it [00:00, ?it/s]\n",
      "2020-06-28 20:15:01,162 [denest.network] INFO: Creating layers...\n",
      "0it [00:00, ?it/s]\n",
      "2020-06-28 20:15:01,174 [denest.network] INFO: Creating population recorders...\n",
      "0it [00:00, ?it/s]\n",
      "2020-06-28 20:15:01,181 [denest.network] INFO: Creating projection recorders...\n",
      "0it [00:00, ?it/s]\n",
      "2020-06-28 20:15:01,194 [denest.network] INFO: Connecting layers...\n",
      "0it [00:00, ?it/s]\n",
      "2020-06-28 20:15:01,205 [denest.network] INFO: Network size (including recorders and parrot neurons):\n",
      "Number of nodes: 1\n",
      "Number of projections: 0\n",
      "2020-06-28 20:15:01,208 [denest.simulation] INFO: Finished creating network\n",
      "2020-06-28 20:15:01,212 [denest.simulation] INFO: Saving simulation metadata...\n",
      "2020-06-28 20:15:01,213 [denest.simulation] INFO: Creating output directory: data/outputs/output\n",
      "2020-06-28 20:15:01,215 [denest.io.save] INFO: Clearing directory: data/outputs/output\n",
      "2020-06-28 20:15:01,219 [denest.io.save] INFO: Clearing directory: data/outputs/output\n",
      "2020-06-28 20:15:01,221 [denest.io.save] INFO: Clearing directory: data/outputs/output/data\n",
      "2020-06-28 20:15:01,223 [denest.io.save] INFO: Clearing directory: data/outputs/output/data\n",
      "2020-06-28 20:15:01,225 [denest.io.save] INFO: Clearing directory: data/outputs/output/data\n",
      "2020-06-28 20:15:01,227 [denest.io.save] INFO: Clearing directory: data/outputs/output\n",
      "2020-06-28 20:15:01,286 [denest.simulation] INFO: Finished saving simulation metadata\n"
     ]
    }
   ],
   "source": [
    "sim = Simulation(output_dir=OUTPUT_DIR)"
   ]
  },
  {
   "cell_type": "markdown",
   "metadata": {},
   "source": [
    "## Initialize the NEST kernel\n",
    "\n",
    "``Simulation.init_kernel??`` for doc"
   ]
  },
  {
   "cell_type": "code",
   "execution_count": 4,
   "metadata": {},
   "outputs": [],
   "source": [
    "kernel_tree = {\n",
    "    'params':\n",
    "        {\n",
    "            'nest_seed': 10,\n",
    "            'extension_modules': [],\n",
    "        },\n",
    "    'nest_params':\n",
    "        {\n",
    "            'resolution': 0.5,\n",
    "            'overwrite_files': True\n",
    "        },\n",
    "}"
   ]
  },
  {
   "cell_type": "code",
   "execution_count": 5,
   "metadata": {},
   "outputs": [
    {
     "name": "stderr",
     "output_type": "stream",
     "text": [
      "2020-06-28 20:15:01,417 [denest.simulation] INFO: Initializing NEST kernel and seeds...\n",
      "2020-06-28 20:15:01,419 [denest.simulation] INFO:   Resetting NEST kernel...\n",
      "2020-06-28 20:15:01,432 [denest.simulation] INFO:   Setting NEST kernel status...\n",
      "2020-06-28 20:15:01,435 [denest.simulation] INFO:     Calling `nest.SetKernelStatus({'resolution': 0.5, 'overwrite_files': True})`\n",
      "2020-06-28 20:15:01,437 [denest.simulation] INFO:     Calling `nest.SetKernelStatus({'data_path': 'data/outputs/output/data', 'grng_seed': 11, 'rng_seeds': range(12, 13)})\n",
      "2020-06-28 20:15:01,440 [denest.simulation] INFO:   Finished setting NEST kernel status\n",
      "2020-06-28 20:15:01,443 [denest.simulation] INFO:   Installing external modules...\n",
      "2020-06-28 20:15:01,446 [denest.simulation] INFO:   Finished installing external modules\n",
      "2020-06-28 20:15:01,449 [denest.simulation] INFO: Finished initializing kernel\n"
     ]
    }
   ],
   "source": [
    "sim.init_kernel(kernel_tree)"
   ]
  },
  {
   "cell_type": "code",
   "execution_count": 6,
   "metadata": {},
   "outputs": [
    {
     "name": "stdout",
     "output_type": "stream",
     "text": [
      "0.5\n",
      "0.0\n"
     ]
    }
   ],
   "source": [
    "# nest_params have been passed to nest.SetKernelStatus\n",
    "print(nest.GetKernelStatus('resolution'))\n",
    "print(nest.GetKernelStatus('time'))"
   ]
  },
  {
   "cell_type": "code",
   "execution_count": 7,
   "metadata": {},
   "outputs": [
    {
     "data": {
      "text/plain": [
       "'data/outputs/output/data'"
      ]
     },
     "execution_count": 7,
     "metadata": {},
     "output_type": "execute_result"
    }
   ],
   "source": [
    "# The raw data will be saved in the output directory\n",
    "nest.GetKernelStatus('data_path')"
   ]
  },
  {
   "cell_type": "code",
   "execution_count": 8,
   "metadata": {},
   "outputs": [
    {
     "data": {
      "text/plain": [
       "ParamsTree(name='None', parent=None)\n",
       "  params: {}\n",
       "  nest_params: {}\n",
       "  kernel:\n",
       "    params:\n",
       "      nest_seed: 10\n",
       "      extension_modules: []\n",
       "    nest_params:\n",
       "      resolution: 0.5\n",
       "      overwrite_files: true\n",
       "  simulation:\n",
       "    params:\n",
       "      output_dir: data/outputs/output\n",
       "      sessions: []\n",
       "    nest_params: {}\n",
       "  session_models:\n",
       "    params: {}\n",
       "    nest_params: {}\n",
       "  network:\n",
       "    params: {}\n",
       "    nest_params: {}\n",
       "  "
      ]
     },
     "execution_count": 8,
     "metadata": {},
     "output_type": "execute_result"
    }
   ],
   "source": [
    "# The kernel params are saved in the simulation's tree\n",
    "sim.tree"
   ]
  },
  {
   "cell_type": "markdown",
   "metadata": {},
   "source": [
    "## Create a network\n",
    "\n",
    "We build and create the same network by passing the network tree,\n",
    "using the ``Simulation.create_network`` method"
   ]
  },
  {
   "cell_type": "code",
   "execution_count": 9,
   "metadata": {},
   "outputs": [],
   "source": [
    "net_tree = ParamsTree.read(PARAMS_DIR/'network/network_tree.yml')"
   ]
  },
  {
   "cell_type": "code",
   "execution_count": 10,
   "metadata": {},
   "outputs": [
    {
     "name": "stderr",
     "output_type": "stream",
     "text": [
      "2020-06-28 20:15:01,850 [denest.simulation] INFO: Building network.\n",
      "2020-06-28 20:15:01,863 [denest.network] INFO: Build N=2 ``Model`` objects\n",
      "2020-06-28 20:15:01,865 [denest.network] INFO: Build N=2 ``SynapseModel`` objects\n",
      "2020-06-28 20:15:01,866 [denest.network] INFO: Build N=3 ``Model`` objects\n",
      "2020-06-28 20:15:01,870 [denest.network] INFO: Build N=2 ``Layer`` or ``InputLayer`` objects.\n",
      "2020-06-28 20:15:01,875 [denest.utils.validation] INFO: Object `proj_1_AMPA`: params: using default value for optional parameters:\n",
      "{'type': 'topological'}\n",
      "2020-06-28 20:15:01,878 [denest.utils.validation] INFO: Object `proj_2_GABAA`: params: using default value for optional parameters:\n",
      "{'type': 'topological'}\n",
      "2020-06-28 20:15:01,880 [denest.network] INFO: Build N=2 ``ProjectionModel`` objects\n",
      "2020-06-28 20:15:01,893 [denest.network] INFO: Build N=3 ``TopoProjection`` objects\n",
      "2020-06-28 20:15:01,923 [denest.network] INFO: Build N=2 population recorders.\n",
      "2020-06-28 20:15:01,925 [denest.network] INFO: Build N=1 projection recorders.\n",
      "2020-06-28 20:15:01,943 [denest.simulation] INFO: Creating network.\n",
      "2020-06-28 20:15:01,945 [denest.network] INFO: Creating neuron models...\n",
      "100%|██████████| 2/2 [00:00<00:00, 1840.01it/s]\n",
      "2020-06-28 20:15:01,986 [denest.network] INFO: Creating synapse models...\n",
      "100%|██████████| 2/2 [00:00<00:00, 209.95it/s]\n",
      "2020-06-28 20:15:02,002 [denest.network] INFO: Creating recorder models...\n",
      "100%|██████████| 3/3 [00:00<00:00, 911.61it/s]\n",
      "2020-06-28 20:15:02,022 [denest.network] INFO: Creating layers...\n",
      "  0%|          | 0/2 [00:00<?, ?it/s]/Users/tom/nest/nest-simulator-2.20.0/lib/python3.7/site-packages/nest/lib/hl_api_helper.py:127: UserWarning:\n",
      "GetNodes is deprecated and will be removed in NEST 3.0. Use             GIDCollection instead.\n",
      "100%|██████████| 2/2 [00:00<00:00, 11.26it/s]\n",
      "2020-06-28 20:15:02,257 [denest.network] INFO: Creating population recorders...\n",
      "100%|██████████| 2/2 [00:00<00:00, 76.53it/s]\n",
      "2020-06-28 20:15:02,286 [denest.network] INFO: Creating projection recorders...\n",
      "100%|██████████| 1/1 [00:00<00:00, 45.61it/s]\n",
      "2020-06-28 20:15:02,312 [denest.network] INFO: Connecting layers...\n",
      "100%|██████████| 3/3 [00:00<00:00, 137.77it/s]\n",
      "2020-06-28 20:15:02,338 [denest.network] INFO: Network size (including recorders and parrot neurons):\n",
      "Number of nodes: 206\n",
      "Number of projections: 6650\n",
      "2020-06-28 20:15:02,341 [denest.simulation] INFO: Finished creating network\n"
     ]
    }
   ],
   "source": [
    "sim.create_network(net_tree)"
   ]
  },
  {
   "cell_type": "code",
   "execution_count": 11,
   "metadata": {},
   "outputs": [
    {
     "data": {
      "text/plain": [
       "(52,)"
      ]
     },
     "execution_count": 11,
     "metadata": {},
     "output_type": "execute_result"
    }
   ],
   "source": [
    "# Network object was created and can be accessed as we learnt\n",
    "sim.network.layers['l1'].gid"
   ]
  },
  {
   "cell_type": "code",
   "execution_count": 12,
   "metadata": {},
   "outputs": [
    {
     "data": {
      "text/plain": [
       "ParamsTree(name='None', parent=None)\n",
       "  params: {}\n",
       "  nest_params: {}\n",
       "  kernel:\n",
       "    params:\n",
       "      nest_seed: 10\n",
       "      extension_modules: []\n",
       "    nest_params:\n",
       "      resolution: 0.5\n",
       "      overwrite_files: true\n",
       "  simulation:\n",
       "    params:\n",
       "      output_dir: data/outputs/output\n",
       "      sessions: []\n",
       "    nest_params: {}\n",
       "  session_models:\n",
       "  \n",
       "  ... [135 lines] ...\n",
       "\n",
       "        - layers:\n",
       "          - input_layer\n",
       "          populations: null\n",
       "          model: my_spike_detector\n",
       "        projection_recorders:\n",
       "        - source_layers:\n",
       "          - l1\n",
       "          source_population: l1_exc\n",
       "          target_layers:\n",
       "          - l1\n",
       "          target_population: l1_inh\n",
       "          projection_model: proj_1_AMPA\n",
       "          model: weight_recorder\n",
       "      nest_params: {}\n",
       "  "
      ]
     },
     "execution_count": 12,
     "metadata": {},
     "output_type": "execute_result"
    }
   ],
   "source": [
    "# network tree was saved and can be re-used\n",
    "sim.tree"
   ]
  },
  {
   "cell_type": "markdown",
   "metadata": {},
   "source": [
    "## Create some sessions\n",
    "\n",
    "Sessions allow us to run the network in specific conditions.\n",
    "\n",
    "Session parameters:\n",
    "\n",
    "- ``simulation_time`` (float): Duration of the session in ms.\n",
    "    (mandatory)\n",
    "- ``reset_network`` (bool): If true, ``nest.ResetNetwork()`` is\n",
    "    called during session initialization (default ``False``)\n",
    "- ``record`` (bool): If false, the ``start_time`` field of\n",
    "    recorder nodes in NEST is set to the end time of the\n",
    "    session, so that no data is recorded during the session\n",
    "    (default ``True``)\n",
    "- ``shift_origin`` (bool): If True, the ``origin`` flag of the\n",
    "    stimulation devices of all the network's ``InputLayer``\n",
    "    layers is set to the start of the session during\n",
    "    initialization. Useful to repeat sessions when the\n",
    "    stimulators are eg spike generators.\n",
    "- ``unit_changes`` (list): List describing the changes applied\n",
    "    to certain units before the start of the session.\n",
    "    Passed to ``Network.set_state``.\n",
    "- ``synapse_changes`` (list): List describing the changes\n",
    "    applied to certain synapses before the start of the session.\n",
    "    Passed to ``Network.set_state``. Refer to that\n",
    "    method for a description of how ``synapse_changes`` is\n",
    "    formatted and interpreted. No changes happen if empty.\n",
    "    (default [])\n"
   ]
  },
  {
   "cell_type": "markdown",
   "metadata": {},
   "source": [
    "### Build session models from a tree"
   ]
  },
  {
   "cell_type": "code",
   "execution_count": 13,
   "metadata": {},
   "outputs": [
    {
     "name": "stdout",
     "output_type": "stream",
     "text": [
      "params:\n",
      "  record: true\n",
      "  shift_origin: true\n",
      "  simulation_time: 100.0\n",
      "nest_params: {}\n",
      "warmup:\n",
      "  params:\n",
      "    record: false\n",
      "  nest_params: {}\n",
      "2_spikes:\n",
      "  params:\n",
      "    unit_changes:\n",
      "    - layers:\n",
      "      - input_layer\n",
      "      population_name: spike_generator\n",
      "      nest_params:\n",
      "        spike_times:\n",
      "        - 1.0\n",
      "        - 10.0\n",
      "  nest_params: {}\n",
      "3_spikes:\n",
      "  params:\n",
      "    unit_changes:\n",
      "    - layers:\n",
      "      - input_layer\n",
      "      population_name: spike_generator\n",
      "      nest_params:\n",
      "        spike_times:\n",
      "        - 1.0\n",
      "        - 10.0\n",
      "        - 20.0\n",
      "  nest_params: {}\n",
      "\n"
     ]
    }
   ],
   "source": [
    "# Notice the hierarchical inheritance as before\n",
    "session_models_tree = ParamsTree.read(PARAMS_DIR/'session_models.yml').children['session_models']\n",
    "print(session_models_tree)"
   ]
  },
  {
   "cell_type": "code",
   "execution_count": 14,
   "metadata": {},
   "outputs": [
    {
     "name": "stderr",
     "output_type": "stream",
     "text": [
      "2020-06-28 20:15:02,574 [denest.simulation] INFO: Build N=3 session models\n"
     ]
    }
   ],
   "source": [
    "sim.build_session_models(session_models_tree)"
   ]
  },
  {
   "cell_type": "code",
   "execution_count": 15,
   "metadata": {},
   "outputs": [
    {
     "data": {
      "text/plain": [
       "ParamsTree(name='session_models', parent='None')\n",
       "  params:\n",
       "    record: true\n",
       "    shift_origin: true\n",
       "    simulation_time: 100.0\n",
       "  nest_params: {}\n",
       "  warmup:\n",
       "    params:\n",
       "      record: false\n",
       "    nest_params: {}\n",
       "  2_spikes:\n",
       "    params:\n",
       "      unit_changes:\n",
       "      - layers:\n",
       "        - input_layer\n",
       "        population_name: spike_generator\n",
       "  \n",
       "  ... [3 lines] ...\n",
       "\n",
       "          - 10.0\n",
       "    nest_params: {}\n",
       "  3_spikes:\n",
       "    params:\n",
       "      unit_changes:\n",
       "      - layers:\n",
       "        - input_layer\n",
       "        population_name: spike_generator\n",
       "        nest_params:\n",
       "          spike_times:\n",
       "          - 1.0\n",
       "          - 10.0\n",
       "          - 20.0\n",
       "    nest_params: {}\n",
       "  "
      ]
     },
     "execution_count": 15,
     "metadata": {},
     "output_type": "execute_result"
    }
   ],
   "source": [
    "sim.tree.children['session_models']"
   ]
  },
  {
   "cell_type": "markdown",
   "metadata": {},
   "source": [
    "### Build a list of sessions from the ``session_models`` templates"
   ]
  },
  {
   "cell_type": "code",
   "execution_count": 16,
   "metadata": {},
   "outputs": [],
   "source": [
    "sessions_order =  ['warmup', '3_spikes', '2_spikes', '3_spikes']\n"
   ]
  },
  {
   "cell_type": "code",
   "execution_count": 17,
   "metadata": {},
   "outputs": [
    {
     "name": "stderr",
     "output_type": "stream",
     "text": [
      "2020-06-28 20:15:02,703 [denest.simulation] INFO: Build N=4 sessions\n",
      "2020-06-28 20:15:02,704 [denest.session] INFO: Creating session \"00_warmup\"\n",
      "2020-06-28 20:15:02,705 [denest.utils.validation] INFO: Object `00_warmup`: params: using default value for optional parameters:\n",
      "{'reset_network': False, 'synapse_changes': [], 'unit_changes': []}\n",
      "2020-06-28 20:15:02,706 [denest.session] INFO: Creating session \"01_3_spikes\"\n",
      "2020-06-28 20:15:02,707 [denest.utils.validation] INFO: Object `01_3_spikes`: params: using default value for optional parameters:\n",
      "{'reset_network': False, 'synapse_changes': []}\n",
      "2020-06-28 20:15:02,708 [denest.session] INFO: Creating session \"02_2_spikes\"\n",
      "2020-06-28 20:15:02,713 [denest.utils.validation] INFO: Object `02_2_spikes`: params: using default value for optional parameters:\n",
      "{'reset_network': False, 'synapse_changes': []}\n",
      "2020-06-28 20:15:02,717 [denest.session] INFO: Creating session \"03_3_spikes\"\n",
      "2020-06-28 20:15:02,721 [denest.utils.validation] INFO: Object `03_3_spikes`: params: using default value for optional parameters:\n",
      "{'reset_network': False, 'synapse_changes': []}\n",
      "2020-06-28 20:15:02,722 [denest.simulation] INFO: Sessions: ['00_warmup', '01_3_spikes', '02_2_spikes', '03_3_spikes']\n"
     ]
    }
   ],
   "source": [
    "sim.build_sessions(sessions_order)"
   ]
  },
  {
   "cell_type": "code",
   "execution_count": 18,
   "metadata": {},
   "outputs": [
    {
     "data": {
      "text/plain": [
       "[Session(00_warmup, {'record': False,\n",
       "  'reset_network': False,\n",
       "  'shift_origin': True,\n",
       "  'simulation_time': 100.0,\n",
       "  'synapse_changes': [],\n",
       "  'unit_changes': []}),\n",
       " Session(01_3_spikes, {'record': True,\n",
       "  'reset_network': False,\n",
       "  'shift_origin': True,\n",
       "  'simulation_time': 100.0,\n",
       "  'synapse_changes': [],\n",
       "  'unit_changes': [{'layers': ['input_layer'],\n",
       "                    'nest_params': {'spike_times': [1.0, 10.0, 20.0]},\n",
       "                    'population_name': 'spike_generator'}]}),\n",
       " Session(02_2_spikes, {'record': True,\n",
       "  'reset_network': False,\n",
       "  'shift_origin': True,\n",
       "  'simulation_time': 100.0,\n",
       "  'synapse_changes': [],\n",
       "  'unit_changes': [{'layers': ['input_layer'],\n",
       "                    'nest_params': {'spike_times': [1.0, 10.0]},\n",
       "                    'population_name': 'spike_generator'}]}),\n",
       " Session(03_3_spikes, {'record': True,\n",
       "  'reset_network': False,\n",
       "  'shift_origin': True,\n",
       "  'simulation_time': 100.0,\n",
       "  'synapse_changes': [],\n",
       "  'unit_changes': [{'layers': ['input_layer'],\n",
       "                    'nest_params': {'spike_times': [1.0, 10.0, 20.0]},\n",
       "                    'population_name': 'spike_generator'}]})]"
      ]
     },
     "execution_count": 18,
     "metadata": {},
     "output_type": "execute_result"
    }
   ],
   "source": [
    "# Notice the session names\n",
    "sim.sessions"
   ]
  },
  {
   "cell_type": "code",
   "execution_count": 19,
   "metadata": {},
   "outputs": [
    {
     "data": {
      "text/plain": [
       "ParamsTree(name='simulation', parent='None')\n",
       "  params:\n",
       "    output_dir: data/outputs/output\n",
       "    sessions:\n",
       "    - warmup\n",
       "    - 3_spikes\n",
       "    - 2_spikes\n",
       "    - 3_spikes\n",
       "  nest_params: {}\n",
       "  "
      ]
     },
     "execution_count": 19,
     "metadata": {},
     "output_type": "execute_result"
    }
   ],
   "source": [
    "# The session order is saved in the simulation parameters\n",
    "\n",
    "sim.tree.children['simulation']"
   ]
  },
  {
   "cell_type": "markdown",
   "metadata": {},
   "source": [
    "## Run the simulation"
   ]
  },
  {
   "cell_type": "code",
   "execution_count": 20,
   "metadata": {},
   "outputs": [
    {
     "name": "stdout",
     "output_type": "stream",
     "text": [
      "kernel time:  0.0\n"
     ]
    }
   ],
   "source": [
    "print('kernel time: ', nest.GetKernelStatus('time'))"
   ]
  },
  {
   "cell_type": "code",
   "execution_count": 21,
   "metadata": {},
   "outputs": [
    {
     "name": "stderr",
     "output_type": "stream",
     "text": [
      "2020-06-28 20:15:02,974 [denest.simulation] INFO: Running 4 sessions...\n",
      "2020-06-28 20:15:02,974 [denest.simulation] INFO: Running session: '00_warmup'...\n",
      "2020-06-28 20:15:02,975 [denest.session] INFO: Initializing session...\n",
      "2020-06-28 20:15:02,978 [denest.network.recorders] INFO:   Setting status for recorder my_multimeter_l1_l1_exc: {'start': 100.0}\n",
      "2020-06-28 20:15:02,989 [denest.network.recorders] INFO:   Setting status for recorder my_spike_detector_input_layer_parrot_neuron: {'start': 100.0}\n",
      "2020-06-28 20:15:02,990 [denest.network.recorders] INFO:   Setting status for recorder weight_recorder_proj_1_AMPA-l1-l1_exc-l1-l1_inh: {'start': 100.0}\n",
      "2020-06-28 20:15:02,991 [denest.session] INFO: Setting `origin` flag to `0.0` for all stimulation devices in ``InputLayers`` for session `00_warmup`\n",
      "2020-06-28 20:15:02,997 [denest.session] INFO: Finished initializing session\n",
      "\n",
      "2020-06-28 20:15:03,000 [denest.session] INFO: Running session '00_warmup' for 100 ms\n",
      "2020-06-28 20:15:03,186 [denest.session] INFO: Finished running session\n",
      "2020-06-28 20:15:03,187 [denest.session] INFO: Session '00_warmup' virtual running time: 100 ms\n",
      "2020-06-28 20:15:03,188 [denest.session] INFO: Session '00_warmup' real running time: 0h:00m:00s\n",
      "2020-06-28 20:15:03,189 [denest.simulation] INFO: Done running session '00_warmup'\n",
      "2020-06-28 20:15:03,190 [denest.simulation] INFO: Running session: '01_3_spikes'...\n",
      "2020-06-28 20:15:03,192 [denest.session] INFO: Initializing session...\n",
      "2020-06-28 20:15:03,194 [denest.session] INFO: Setting `origin` flag to `100.0` for all stimulation devices in ``InputLayers`` for session `01_3_spikes`\n",
      "2020-06-28 20:15:03,199 [denest.utils.validation] INFO: Object `Unit changes dictionary`: params: using default value for optional parameters:\n",
      "{'change_type': 'constant', 'from_array': False}\n",
      "2020-06-28 20:15:03,202 [denest.network.layers] INFO: Layer='input_layer', pop='spike_generator': Applying 'constant' change, param='spike_times', from single value')\n",
      "2020-06-28 20:15:03,485 [denest.session] INFO: Finished initializing session\n",
      "\n",
      "2020-06-28 20:15:03,488 [denest.session] INFO: Running session '01_3_spikes' for 100 ms\n",
      "2020-06-28 20:15:03,634 [denest.session] INFO: Finished running session\n",
      "2020-06-28 20:15:03,635 [denest.session] INFO: Session '01_3_spikes' virtual running time: 100 ms\n",
      "2020-06-28 20:15:03,635 [denest.session] INFO: Session '01_3_spikes' real running time: 0h:00m:00s\n",
      "2020-06-28 20:15:03,637 [denest.simulation] INFO: Done running session '01_3_spikes'\n",
      "2020-06-28 20:15:03,638 [denest.simulation] INFO: Running session: '02_2_spikes'...\n",
      "2020-06-28 20:15:03,639 [denest.session] INFO: Initializing session...\n",
      "2020-06-28 20:15:03,640 [denest.session] INFO: Setting `origin` flag to `200.0` for all stimulation devices in ``InputLayers`` for session `02_2_spikes`\n",
      "2020-06-28 20:15:03,648 [denest.utils.validation] INFO: Object `Unit changes dictionary`: params: using default value for optional parameters:\n",
      "{'change_type': 'constant', 'from_array': False}\n",
      "2020-06-28 20:15:03,651 [denest.network.layers] INFO: Layer='input_layer', pop='spike_generator': Applying 'constant' change, param='spike_times', from single value')\n",
      "2020-06-28 20:15:03,784 [denest.session] INFO: Finished initializing session\n",
      "\n",
      "2020-06-28 20:15:03,785 [denest.session] INFO: Running session '02_2_spikes' for 100 ms\n",
      "2020-06-28 20:15:03,903 [denest.session] INFO: Finished running session\n",
      "2020-06-28 20:15:03,904 [denest.session] INFO: Session '02_2_spikes' virtual running time: 100 ms\n",
      "2020-06-28 20:15:03,905 [denest.session] INFO: Session '02_2_spikes' real running time: 0h:00m:00s\n",
      "2020-06-28 20:15:03,907 [denest.simulation] INFO: Done running session '02_2_spikes'\n",
      "2020-06-28 20:15:03,909 [denest.simulation] INFO: Running session: '03_3_spikes'...\n",
      "2020-06-28 20:15:03,911 [denest.session] INFO: Initializing session...\n",
      "2020-06-28 20:15:03,912 [denest.session] INFO: Setting `origin` flag to `300.0` for all stimulation devices in ``InputLayers`` for session `03_3_spikes`\n",
      "2020-06-28 20:15:03,919 [denest.utils.validation] INFO: Object `Unit changes dictionary`: params: using default value for optional parameters:\n",
      "{'change_type': 'constant', 'from_array': False}\n",
      "2020-06-28 20:15:03,922 [denest.network.layers] INFO: Layer='input_layer', pop='spike_generator': Applying 'constant' change, param='spike_times', from single value')\n",
      "2020-06-28 20:15:04,129 [denest.session] INFO: Finished initializing session\n",
      "\n",
      "2020-06-28 20:15:04,130 [denest.session] INFO: Running session '03_3_spikes' for 100 ms\n",
      "2020-06-28 20:15:04,283 [denest.session] INFO: Finished running session\n",
      "2020-06-28 20:15:04,284 [denest.session] INFO: Session '03_3_spikes' virtual running time: 100 ms\n",
      "2020-06-28 20:15:04,285 [denest.session] INFO: Session '03_3_spikes' real running time: 0h:00m:00s\n",
      "2020-06-28 20:15:04,286 [denest.simulation] INFO: Done running session '03_3_spikes'\n",
      "2020-06-28 20:15:04,293 [denest.simulation] INFO: Finished running simulation\n"
     ]
    }
   ],
   "source": [
    "sim.run()"
   ]
  },
  {
   "cell_type": "code",
   "execution_count": 22,
   "metadata": {},
   "outputs": [
    {
     "data": {
      "text/plain": [
       "400.0"
      ]
     },
     "execution_count": 22,
     "metadata": {},
     "output_type": "execute_result"
    }
   ],
   "source": [
    "nest.GetKernelStatus('time')"
   ]
  },
  {
   "cell_type": "markdown",
   "metadata": {},
   "source": [
    "### Since the initialized Simulation object was empty, we need to save the metadata"
   ]
  },
  {
   "cell_type": "code",
   "execution_count": 23,
   "metadata": {},
   "outputs": [
    {
     "name": "stderr",
     "output_type": "stream",
     "text": [
      "2020-06-28 20:15:04,528 [denest.simulation] INFO: Saving simulation metadata...\n",
      "2020-06-28 20:15:04,531 [denest.simulation] INFO: Creating output directory: data/outputs/output\n",
      "2020-06-28 20:15:04,671 [denest.simulation] INFO: Finished saving simulation metadata\n"
     ]
    }
   ],
   "source": [
    "sim.save_metadata()"
   ]
  },
  {
   "cell_type": "code",
   "execution_count": 24,
   "metadata": {},
   "outputs": [
    {
     "name": "stdout",
     "output_type": "stream",
     "text": [
      "\u001b[1m\u001b[36mdata\u001b[m\u001b[m               git_hash           parameter_tree.yml session_times.yml\r\n"
     ]
    }
   ],
   "source": [
    "!ls {OUTPUT_DIR}"
   ]
  },
  {
   "cell_type": "code",
   "execution_count": 25,
   "metadata": {},
   "outputs": [
    {
     "name": "stdout",
     "output_type": "stream",
     "text": [
      "00_warmup: !!python/tuple\r\n",
      "- 0.0\r\n",
      "- 100.0\r\n",
      "01_3_spikes: !!python/tuple\r\n",
      "- 100.0\r\n",
      "- 200.0\r\n",
      "02_2_spikes: !!python/tuple\r\n",
      "- 200.0\r\n",
      "- 300.0\r\n",
      "03_3_spikes: !!python/tuple\r\n",
      "- 300.0\r\n",
      "- 400.0\r\n"
     ]
    }
   ],
   "source": [
    "!cat {OUTPUT_DIR/'session_times.yml'}"
   ]
  },
  {
   "cell_type": "code",
   "execution_count": 26,
   "metadata": {},
   "outputs": [
    {
     "name": "stdout",
     "output_type": "stream",
     "text": [
      "my_multimeter_l1_l1_exc-203-0.dat\r\n",
      "my_multimeter_l1_l1_exc.yml\r\n",
      "my_spike_detector_input_layer_parrot_neuron-204-0.gdf\r\n",
      "my_spike_detector_input_layer_parrot_neuron.yml\r\n",
      "weight_recorder_proj_1_AMPA-l1-l1_exc-l1-l1_inh-205-0.csv\r\n",
      "weight_recorder_proj_1_AMPA-l1-l1_exc-l1-l1_inh.yml\r\n"
     ]
    }
   ],
   "source": [
    "!ls {OUTPUT_DIR/'data'}"
   ]
  },
  {
   "cell_type": "markdown",
   "metadata": {},
   "source": [
    "## Replicate the simulation"
   ]
  },
  {
   "cell_type": "code",
   "execution_count": 27,
   "metadata": {},
   "outputs": [
    {
     "data": {
      "text/plain": [
       "ParamsTree(name='None', parent=None)\n",
       "  params: {}\n",
       "  nest_params: {}\n",
       "  kernel:\n",
       "    params:\n",
       "      nest_seed: 10\n",
       "      extension_modules: []\n",
       "    nest_params:\n",
       "      resolution: 0.5\n",
       "      overwrite_files: true\n",
       "  simulation:\n",
       "    params:\n",
       "      output_dir: data/outputs/output\n",
       "      sessions:\n",
       "      - warmup\n",
       "      - 3_spikes\n",
       "  \n",
       "  ... [169 lines] ...\n",
       "\n",
       "        - layers:\n",
       "          - input_layer\n",
       "          populations: null\n",
       "          model: my_spike_detector\n",
       "        projection_recorders:\n",
       "        - source_layers:\n",
       "          - l1\n",
       "          source_population: l1_exc\n",
       "          target_layers:\n",
       "          - l1\n",
       "          target_population: l1_inh\n",
       "          projection_model: proj_1_AMPA\n",
       "          model: weight_recorder\n",
       "      nest_params: {}\n",
       "  "
      ]
     },
     "execution_count": 27,
     "metadata": {},
     "output_type": "execute_result"
    }
   ],
   "source": [
    "params = ParamsTree.read(OUTPUT_DIR/'parameter_tree.yml')\n",
    "params"
   ]
  },
  {
   "cell_type": "code",
   "execution_count": 28,
   "metadata": {},
   "outputs": [
    {
     "name": "stderr",
     "output_type": "stream",
     "text": [
      "2020-06-28 20:15:05,411 [denest.utils.validation] INFO: Object `simulation`: params: using default value for optional parameters:\n",
      "{'input_dir': 'input'}\n",
      "2020-06-28 20:15:05,413 [denest.simulation] INFO: Initializing NEST kernel and seeds...\n",
      "2020-06-28 20:15:05,413 [denest.simulation] INFO:   Resetting NEST kernel...\n",
      "2020-06-28 20:15:05,475 [denest.simulation] INFO:   Setting NEST kernel status...\n",
      "2020-06-28 20:15:05,483 [denest.simulation] INFO:     Calling `nest.SetKernelStatus({'resolution': 0.5, 'overwrite_files': True})`\n",
      "2020-06-28 20:15:05,486 [denest.simulation] INFO:     Calling `nest.SetKernelStatus({'data_path': 'data/outputs/output_replicate/data', 'grng_seed': 11, 'rng_seeds': range(12, 13)})\n",
      "2020-06-28 20:15:05,490 [denest.simulation] INFO:   Finished setting NEST kernel status\n",
      "2020-06-28 20:15:05,492 [denest.simulation] INFO:   Installing external modules...\n",
      "2020-06-28 20:15:05,493 [denest.simulation] INFO:   Finished installing external modules\n",
      "2020-06-28 20:15:05,506 [denest.simulation] INFO: Finished initializing kernel\n",
      "2020-06-28 20:15:05,507 [denest.simulation] INFO: Build N=3 session models\n",
      "2020-06-28 20:15:05,509 [denest.simulation] INFO: Build N=4 sessions\n",
      "2020-06-28 20:15:05,572 [denest.session] INFO: Creating session \"00_warmup\"\n",
      "2020-06-28 20:15:05,579 [denest.utils.validation] INFO: Object `00_warmup`: params: using default value for optional parameters:\n",
      "{'reset_network': False, 'synapse_changes': [], 'unit_changes': []}\n",
      "2020-06-28 20:15:05,581 [denest.session] INFO: Creating session \"01_3_spikes\"\n",
      "2020-06-28 20:15:05,582 [denest.utils.validation] INFO: Object `01_3_spikes`: params: using default value for optional parameters:\n",
      "{'reset_network': False, 'synapse_changes': []}\n",
      "2020-06-28 20:15:05,584 [denest.session] INFO: Creating session \"02_2_spikes\"\n",
      "2020-06-28 20:15:05,586 [denest.utils.validation] INFO: Object `02_2_spikes`: params: using default value for optional parameters:\n",
      "{'reset_network': False, 'synapse_changes': []}\n",
      "2020-06-28 20:15:05,587 [denest.session] INFO: Creating session \"03_3_spikes\"\n",
      "2020-06-28 20:15:05,590 [denest.utils.validation] INFO: Object `03_3_spikes`: params: using default value for optional parameters:\n",
      "{'reset_network': False, 'synapse_changes': []}\n",
      "2020-06-28 20:15:05,592 [denest.simulation] INFO: Sessions: ['00_warmup', '01_3_spikes', '02_2_spikes', '03_3_spikes']\n",
      "2020-06-28 20:15:05,596 [denest.simulation] INFO: Building network.\n",
      "2020-06-28 20:15:05,630 [denest.network] INFO: Build N=2 ``Model`` objects\n",
      "2020-06-28 20:15:05,634 [denest.network] INFO: Build N=2 ``SynapseModel`` objects\n",
      "2020-06-28 20:15:05,637 [denest.network] INFO: Build N=3 ``Model`` objects\n",
      "2020-06-28 20:15:05,644 [denest.network] INFO: Build N=2 ``Layer`` or ``InputLayer`` objects.\n",
      "2020-06-28 20:15:05,648 [denest.utils.validation] INFO: Object `proj_1_AMPA`: params: using default value for optional parameters:\n",
      "{'type': 'topological'}\n",
      "2020-06-28 20:15:05,652 [denest.utils.validation] INFO: Object `proj_2_GABAA`: params: using default value for optional parameters:\n",
      "{'type': 'topological'}\n",
      "2020-06-28 20:15:05,656 [denest.network] INFO: Build N=2 ``ProjectionModel`` objects\n",
      "2020-06-28 20:15:05,662 [denest.network] INFO: Build N=3 ``TopoProjection`` objects\n",
      "2020-06-28 20:15:05,670 [denest.network] INFO: Build N=2 population recorders.\n",
      "2020-06-28 20:15:05,671 [denest.network] INFO: Build N=1 projection recorders.\n",
      "2020-06-28 20:15:05,673 [denest.simulation] INFO: Creating network.\n",
      "2020-06-28 20:15:05,676 [denest.network] INFO: Creating neuron models...\n",
      "100%|██████████| 2/2 [00:00<00:00, 486.01it/s]\n",
      "2020-06-28 20:15:05,697 [denest.network] INFO: Creating synapse models...\n",
      "100%|██████████| 2/2 [00:00<00:00, 1113.43it/s]\n",
      "2020-06-28 20:15:05,705 [denest.network] INFO: Creating recorder models...\n",
      "100%|██████████| 3/3 [00:00<00:00, 2332.76it/s]\n",
      "2020-06-28 20:15:05,720 [denest.network] INFO: Creating layers...\n",
      "100%|██████████| 2/2 [00:00<00:00,  9.46it/s]\n",
      "2020-06-28 20:15:05,943 [denest.network] INFO: Creating population recorders...\n",
      "100%|██████████| 2/2 [00:00<00:00, 38.66it/s]\n",
      "2020-06-28 20:15:06,000 [denest.network] INFO: Creating projection recorders...\n",
      "100%|██████████| 1/1 [00:00<00:00, 72.11it/s]\n",
      "2020-06-28 20:15:06,034 [denest.network] INFO: Connecting layers...\n",
      "100%|██████████| 3/3 [00:00<00:00, 101.39it/s]\n",
      "2020-06-28 20:15:06,085 [denest.network] INFO: Network size (including recorders and parrot neurons):\n",
      "Number of nodes: 206\n",
      "Number of projections: 6650\n",
      "2020-06-28 20:15:06,087 [denest.simulation] INFO: Finished creating network\n",
      "2020-06-28 20:15:06,092 [denest.simulation] INFO: Saving simulation metadata...\n",
      "2020-06-28 20:15:06,093 [denest.simulation] INFO: Creating output directory: data/outputs/output_replicate\n",
      "2020-06-28 20:15:06,096 [denest.io.save] INFO: Clearing directory: data/outputs/output_replicate\n",
      "2020-06-28 20:15:06,103 [denest.io.save] INFO: Clearing directory: data/outputs/output_replicate\n",
      "2020-06-28 20:15:06,108 [denest.io.save] INFO: Clearing directory: data/outputs/output_replicate/data\n",
      "2020-06-28 20:15:06,114 [denest.io.save] INFO: Clearing directory: data/outputs/output_replicate/data\n",
      "2020-06-28 20:15:06,123 [denest.io.save] INFO: Clearing directory: data/outputs/output_replicate/data\n",
      "2020-06-28 20:15:06,126 [denest.io.save] INFO: Clearing directory: data/outputs/output_replicate\n",
      "2020-06-28 20:15:06,289 [denest.simulation] INFO: Finished saving simulation metadata\n",
      "2020-06-28 20:15:06,307 [denest.simulation] INFO: Running 4 sessions...\n",
      "2020-06-28 20:15:06,331 [denest.simulation] INFO: Running session: '00_warmup'...\n",
      "2020-06-28 20:15:06,335 [denest.session] INFO: Initializing session...\n",
      "2020-06-28 20:15:06,357 [denest.network.recorders] INFO:   Setting status for recorder my_multimeter_l1_l1_exc: {'start': 100.0}\n",
      "2020-06-28 20:15:06,361 [denest.network.recorders] INFO:   Setting status for recorder my_spike_detector_input_layer_parrot_neuron: {'start': 100.0}\n",
      "2020-06-28 20:15:06,365 [denest.network.recorders] INFO:   Setting status for recorder weight_recorder_proj_1_AMPA-l1-l1_exc-l1-l1_inh: {'start': 100.0}\n",
      "2020-06-28 20:15:06,372 [denest.session] INFO: Setting `origin` flag to `0.0` for all stimulation devices in ``InputLayers`` for session `00_warmup`\n",
      "2020-06-28 20:15:06,381 [denest.session] INFO: Finished initializing session\n",
      "\n",
      "2020-06-28 20:15:06,383 [denest.session] INFO: Running session '00_warmup' for 100 ms\n",
      "2020-06-28 20:15:06,650 [denest.session] INFO: Finished running session\n",
      "2020-06-28 20:15:06,652 [denest.session] INFO: Session '00_warmup' virtual running time: 100 ms\n",
      "2020-06-28 20:15:06,653 [denest.session] INFO: Session '00_warmup' real running time: 0h:00m:00s\n",
      "2020-06-28 20:15:06,670 [denest.simulation] INFO: Done running session '00_warmup'\n",
      "2020-06-28 20:15:06,672 [denest.simulation] INFO: Running session: '01_3_spikes'...\n",
      "2020-06-28 20:15:06,674 [denest.session] INFO: Initializing session...\n",
      "2020-06-28 20:15:06,676 [denest.session] INFO: Setting `origin` flag to `100.0` for all stimulation devices in ``InputLayers`` for session `01_3_spikes`\n",
      "2020-06-28 20:15:06,695 [denest.utils.validation] INFO: Object `Unit changes dictionary`: params: using default value for optional parameters:\n",
      "{'change_type': 'constant', 'from_array': False}\n",
      "2020-06-28 20:15:06,697 [denest.network.layers] INFO: Layer='input_layer', pop='spike_generator': Applying 'constant' change, param='spike_times', from single value')\n",
      "2020-06-28 20:15:06,832 [denest.session] INFO: Finished initializing session\n",
      "\n",
      "2020-06-28 20:15:06,833 [denest.session] INFO: Running session '01_3_spikes' for 100 ms\n",
      "2020-06-28 20:15:06,976 [denest.session] INFO: Finished running session\n",
      "2020-06-28 20:15:06,977 [denest.session] INFO: Session '01_3_spikes' virtual running time: 100 ms\n",
      "2020-06-28 20:15:06,977 [denest.session] INFO: Session '01_3_spikes' real running time: 0h:00m:00s\n",
      "2020-06-28 20:15:06,978 [denest.simulation] INFO: Done running session '01_3_spikes'\n",
      "2020-06-28 20:15:06,979 [denest.simulation] INFO: Running session: '02_2_spikes'...\n",
      "2020-06-28 20:15:06,982 [denest.session] INFO: Initializing session...\n",
      "2020-06-28 20:15:06,983 [denest.session] INFO: Setting `origin` flag to `200.0` for all stimulation devices in ``InputLayers`` for session `02_2_spikes`\n"
     ]
    },
    {
     "name": "stderr",
     "output_type": "stream",
     "text": [
      "2020-06-28 20:15:06,995 [denest.utils.validation] INFO: Object `Unit changes dictionary`: params: using default value for optional parameters:\n",
      "{'change_type': 'constant', 'from_array': False}\n",
      "2020-06-28 20:15:07,001 [denest.network.layers] INFO: Layer='input_layer', pop='spike_generator': Applying 'constant' change, param='spike_times', from single value')\n",
      "2020-06-28 20:15:07,152 [denest.session] INFO: Finished initializing session\n",
      "\n",
      "2020-06-28 20:15:07,162 [denest.session] INFO: Running session '02_2_spikes' for 100 ms\n",
      "2020-06-28 20:15:07,379 [denest.session] INFO: Finished running session\n",
      "2020-06-28 20:15:07,381 [denest.session] INFO: Session '02_2_spikes' virtual running time: 100 ms\n",
      "2020-06-28 20:15:07,382 [denest.session] INFO: Session '02_2_spikes' real running time: 0h:00m:00s\n",
      "2020-06-28 20:15:07,383 [denest.simulation] INFO: Done running session '02_2_spikes'\n",
      "2020-06-28 20:15:07,384 [denest.simulation] INFO: Running session: '03_3_spikes'...\n",
      "2020-06-28 20:15:07,385 [denest.session] INFO: Initializing session...\n",
      "2020-06-28 20:15:07,395 [denest.session] INFO: Setting `origin` flag to `300.0` for all stimulation devices in ``InputLayers`` for session `03_3_spikes`\n",
      "2020-06-28 20:15:07,415 [denest.utils.validation] INFO: Object `Unit changes dictionary`: params: using default value for optional parameters:\n",
      "{'change_type': 'constant', 'from_array': False}\n",
      "2020-06-28 20:15:07,418 [denest.network.layers] INFO: Layer='input_layer', pop='spike_generator': Applying 'constant' change, param='spike_times', from single value')\n",
      "2020-06-28 20:15:07,526 [denest.session] INFO: Finished initializing session\n",
      "\n",
      "2020-06-28 20:15:07,528 [denest.session] INFO: Running session '03_3_spikes' for 100 ms\n",
      "2020-06-28 20:15:07,630 [denest.session] INFO: Finished running session\n",
      "2020-06-28 20:15:07,631 [denest.session] INFO: Session '03_3_spikes' virtual running time: 100 ms\n",
      "2020-06-28 20:15:07,632 [denest.session] INFO: Session '03_3_spikes' real running time: 0h:00m:00s\n",
      "2020-06-28 20:15:07,634 [denest.simulation] INFO: Done running session '03_3_spikes'\n",
      "2020-06-28 20:15:07,636 [denest.simulation] INFO: Finished running simulation\n"
     ]
    }
   ],
   "source": [
    "sim = denest.Simulation(params, output_dir=DATA_DIR/'output_replicate')\n",
    "sim.run()"
   ]
  },
  {
   "cell_type": "code",
   "execution_count": 30,
   "metadata": {},
   "outputs": [
    {
     "name": "stdout",
     "output_type": "stream",
     "text": [
      "\u001b[1m\u001b[36mdata\u001b[m\u001b[m               git_hash           parameter_tree.yml session_times.yml\r\n"
     ]
    }
   ],
   "source": [
    "!ls {str(DATA_DIR/'output_replicate')} "
   ]
  }
 ],
 "metadata": {
  "kernelspec": {
   "display_name": "nets",
   "language": "python",
   "name": "nets"
  },
  "language_info": {
   "codemirror_mode": {
    "name": "ipython",
    "version": 3
   },
   "file_extension": ".py",
   "mimetype": "text/x-python",
   "name": "python",
   "nbconvert_exporter": "python",
   "pygments_lexer": "ipython3",
   "version": "3.7.5"
  },
  "widgets": {
   "application/vnd.jupyter.widget-state+json": {
    "state": {},
    "version_major": 2,
    "version_minor": 0
   }
  }
 },
 "nbformat": 4,
 "nbformat_minor": 4
}
