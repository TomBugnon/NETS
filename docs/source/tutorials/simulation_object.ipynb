{
 "cells": [
  {
   "cell_type": "markdown",
   "metadata": {},
   "source": [
    "# The `Simulation` object\n",
    "\n",
    "Let's familiarize ourselves with the ``Simulation`` object.\n",
    "\n",
    "In this tutorial we:\n",
    "\n",
    "1. __Initialize an empty `Simulation` object__\n",
    "2. __Initialize the NEST kernel__ (`Simulation.init__kernel`)\n",
    "2. __Create a network__ (`Simulation.create__network`)\n",
    "2. Create sessions:\n",
    "    1. __Build session models__ (`Simulation.build__session__models`)\n",
    "    1. __Build the list of sessions__ from session models (`Simulation.build__sessions`)\n",
    "3. __Run__ the simulation\n",
    "5. __Replicate__ the simulation\n",
    "\n",
    "NB: Usually we'd perform all the steps at once by providing the full simulation tree to the `Simulation` object during initialization"
   ]
  },
  {
   "cell_type": "code",
   "execution_count": 1,
   "metadata": {},
   "outputs": [],
   "source": [
    "import nest\n",
    "import yaml\n",
    "from pathlib import Path\n",
    "from pprint import pprint\n",
    "\n",
    "from denest import *\n",
    "import denest"
   ]
  },
  {
   "cell_type": "code",
   "execution_count": 2,
   "metadata": {},
   "outputs": [],
   "source": [
    "PARAMS_DIR = Path('./data/params')\n",
    "DATA_DIR = Path('./data/outputs')\n",
    "OUTPUT_DIR = DATA_DIR/'output'"
   ]
  },
  {
   "cell_type": "markdown",
   "metadata": {},
   "source": [
    "## Initialize an empty Simulation object\n",
    "\n",
    "Empty network, no kernel initialization, etc..."
   ]
  },
  {
   "cell_type": "code",
   "execution_count": 3,
   "metadata": {},
   "outputs": [
    {
     "name": "stderr",
     "output_type": "stream",
     "text": [
      "2020-06-30 13:52:43,106 [denest.utils.validation] INFO: 'None' tree: adding empty child kernel\n",
      "2020-06-30 13:52:43,107 [denest.utils.validation] INFO: 'None' tree: adding empty child simulation\n",
      "2020-06-30 13:52:43,108 [denest.utils.validation] INFO: 'None' tree: adding empty child session_models\n",
      "2020-06-30 13:52:43,109 [denest.utils.validation] INFO: 'None' tree: adding empty child network\n",
      "2020-06-30 13:52:43,111 [denest.utils.validation] INFO: Object `simulation`: params: using default value for optional parameters:\n",
      "{'input_dir': 'input', 'output_dir': 'output', 'sessions': []}\n",
      "2020-06-30 13:52:43,116 [denest.utils.validation] INFO: Object `kernel`: params: using default value for optional parameters:\n",
      "{'extension_modules': [], 'nest_seed': 1}\n",
      "2020-06-30 13:52:43,118 [denest.simulation] INFO: Initializing NEST kernel and seeds...\n",
      "2020-06-30 13:52:43,119 [denest.simulation] INFO:   Resetting NEST kernel...\n",
      "2020-06-30 13:52:43,142 [denest.simulation] INFO:   Setting NEST kernel status...\n",
      "2020-06-30 13:52:43,146 [denest.simulation] INFO:     Calling `nest.SetKernelStatus({})`\n",
      "2020-06-30 13:52:43,153 [denest.simulation] INFO:     Calling `nest.SetKernelStatus({'data_path': 'data/outputs/output/data', 'grng_seed': 2, 'rng_seeds': range(3, 4)})\n",
      "2020-06-30 13:52:43,168 [denest.simulation] INFO:   Finished setting NEST kernel status\n",
      "2020-06-30 13:52:43,173 [denest.simulation] INFO:   Installing external modules...\n",
      "2020-06-30 13:52:43,179 [denest.simulation] INFO:   Finished installing external modules\n",
      "2020-06-30 13:52:43,189 [denest.simulation] INFO: Finished initializing kernel\n",
      "2020-06-30 13:52:43,193 [denest.simulation] INFO: Build N=0 session models\n",
      "2020-06-30 13:52:43,197 [denest.simulation] INFO: Build N=0 sessions\n",
      "2020-06-30 13:52:43,210 [denest.simulation] INFO: Sessions: []\n",
      "2020-06-30 13:52:43,212 [denest.simulation] INFO: Building network.\n",
      "2020-06-30 13:52:43,219 [denest.utils.validation] INFO: 'None' tree: adding empty child neuron_models\n",
      "2020-06-30 13:52:43,233 [denest.utils.validation] INFO: 'None' tree: adding empty child synapse_models\n",
      "2020-06-30 13:52:43,254 [denest.utils.validation] INFO: 'None' tree: adding empty child layers\n",
      "2020-06-30 13:52:43,272 [denest.utils.validation] INFO: 'None' tree: adding empty child projection_models\n",
      "2020-06-30 13:52:43,285 [denest.utils.validation] INFO: 'None' tree: adding empty child topology\n",
      "2020-06-30 13:52:43,297 [denest.utils.validation] INFO: 'None' tree: adding empty child recorder_models\n",
      "2020-06-30 13:52:43,302 [denest.utils.validation] INFO: 'None' tree: adding empty child recorders\n",
      "2020-06-30 13:52:43,305 [denest.network] INFO: Build N=0 ``Model`` objects\n",
      "2020-06-30 13:52:43,308 [denest.network] INFO: Build N=0 ``SynapseModel`` objects\n",
      "2020-06-30 13:52:43,310 [denest.network] INFO: Build N=0 ``Model`` objects\n",
      "2020-06-30 13:52:43,315 [denest.network] INFO: Build N=0 ``Layer`` or ``InputLayer`` objects.\n",
      "2020-06-30 13:52:43,318 [denest.network] INFO: Build N=0 ``ProjectionModel`` objects\n",
      "2020-06-30 13:52:43,322 [denest.utils.validation] INFO: Object `topology`: params: using default value for optional parameters:\n",
      "{'projections': []}\n",
      "2020-06-30 13:52:43,326 [denest.network] INFO: Build N=0 ``TopoProjection`` objects\n",
      "2020-06-30 13:52:43,329 [denest.utils.validation] INFO: Object `recorders`: params: using default value for optional parameters:\n",
      "{'population_recorders': [], 'projection_recorders': []}\n",
      "2020-06-30 13:52:43,335 [denest.network] INFO: Build N=0 population recorders.\n",
      "2020-06-30 13:52:43,337 [denest.network] INFO: Build N=0 projection recorders.\n",
      "2020-06-30 13:52:43,338 [denest.simulation] INFO: Creating network.\n",
      "2020-06-30 13:52:43,341 [denest.network] INFO: Creating neuron models...\n",
      "0it [00:00, ?it/s]\n",
      "2020-06-30 13:52:43,365 [denest.network] INFO: Creating synapse models...\n",
      "0it [00:00, ?it/s]\n",
      "2020-06-30 13:52:43,378 [denest.network] INFO: Creating recorder models...\n",
      "0it [00:00, ?it/s]\n",
      "2020-06-30 13:52:43,396 [denest.network] INFO: Creating layers...\n",
      "0it [00:00, ?it/s]\n",
      "2020-06-30 13:52:43,404 [denest.network] INFO: Creating population recorders...\n",
      "0it [00:00, ?it/s]\n",
      "2020-06-30 13:52:43,419 [denest.network] INFO: Creating projection recorders...\n",
      "0it [00:00, ?it/s]\n",
      "2020-06-30 13:52:43,426 [denest.network] INFO: Connecting layers...\n",
      "0it [00:00, ?it/s]\n",
      "2020-06-30 13:52:43,442 [denest.network] INFO: Network size (including recorders and parrot neurons):\n",
      "Number of nodes: 1\n",
      "Number of projections: 0\n",
      "2020-06-30 13:52:43,446 [denest.simulation] INFO: Finished creating network\n",
      "2020-06-30 13:52:43,449 [denest.simulation] INFO: Saving simulation metadata...\n",
      "2020-06-30 13:52:43,455 [denest.simulation] INFO: Creating output directory: data/outputs/output\n",
      "2020-06-30 13:52:43,459 [denest.io.save] INFO: Clearing directory: data/outputs/output\n",
      "2020-06-30 13:52:43,475 [denest.io.save] INFO: Clearing directory: data/outputs/output\n",
      "2020-06-30 13:52:43,486 [denest.io.save] INFO: Clearing directory: data/outputs/output/data\n",
      "2020-06-30 13:52:43,494 [denest.io.save] INFO: Clearing directory: data/outputs/output/data\n",
      "2020-06-30 13:52:43,500 [denest.io.save] INFO: Clearing directory: data/outputs/output/data\n",
      "2020-06-30 13:52:43,503 [denest.io.save] INFO: Clearing directory: data/outputs/output\n",
      "2020-06-30 13:52:43,532 [denest.simulation] INFO: Finished saving simulation metadata\n"
     ]
    }
   ],
   "source": [
    "sim = Simulation(output_dir=OUTPUT_DIR)"
   ]
  },
  {
   "cell_type": "markdown",
   "metadata": {},
   "source": [
    "## Initialize the NEST kernel\n",
    "\n",
    "``Simulation.init_kernel??`` for doc"
   ]
  },
  {
   "cell_type": "code",
   "execution_count": 4,
   "metadata": {},
   "outputs": [],
   "source": [
    "kernel_tree = {\n",
    "    'params':\n",
    "        {\n",
    "            'nest_seed': 10,\n",
    "            'extension_modules': [],\n",
    "        },\n",
    "    'nest_params':\n",
    "        {\n",
    "            'resolution': 0.5,\n",
    "            'overwrite_files': True\n",
    "        },\n",
    "}"
   ]
  },
  {
   "cell_type": "code",
   "execution_count": 5,
   "metadata": {},
   "outputs": [
    {
     "name": "stderr",
     "output_type": "stream",
     "text": [
      "2020-06-30 13:52:43,715 [denest.simulation] INFO: Initializing NEST kernel and seeds...\n",
      "2020-06-30 13:52:43,720 [denest.simulation] INFO:   Resetting NEST kernel...\n",
      "2020-06-30 13:52:43,740 [denest.simulation] INFO:   Setting NEST kernel status...\n",
      "2020-06-30 13:52:43,743 [denest.simulation] INFO:     Calling `nest.SetKernelStatus({'resolution': 0.5, 'overwrite_files': True})`\n",
      "2020-06-30 13:52:43,746 [denest.simulation] INFO:     Calling `nest.SetKernelStatus({'data_path': 'data/outputs/output/data', 'grng_seed': 11, 'rng_seeds': range(12, 13)})\n",
      "2020-06-30 13:52:43,750 [denest.simulation] INFO:   Finished setting NEST kernel status\n",
      "2020-06-30 13:52:43,756 [denest.simulation] INFO:   Installing external modules...\n",
      "2020-06-30 13:52:43,784 [denest.simulation] INFO:   Finished installing external modules\n",
      "2020-06-30 13:52:43,785 [denest.simulation] INFO: Finished initializing kernel\n"
     ]
    }
   ],
   "source": [
    "sim.init_kernel(kernel_tree)"
   ]
  },
  {
   "cell_type": "code",
   "execution_count": 6,
   "metadata": {},
   "outputs": [
    {
     "name": "stdout",
     "output_type": "stream",
     "text": [
      "0.5\n",
      "0.0\n"
     ]
    }
   ],
   "source": [
    "# nest_params have been passed to nest.SetKernelStatus\n",
    "print(nest.GetKernelStatus('resolution'))\n",
    "print(nest.GetKernelStatus('time'))"
   ]
  },
  {
   "cell_type": "code",
   "execution_count": 7,
   "metadata": {},
   "outputs": [
    {
     "data": {
      "text/plain": [
       "'data/outputs/output/data'"
      ]
     },
     "execution_count": 7,
     "metadata": {},
     "output_type": "execute_result"
    }
   ],
   "source": [
    "# The raw data will be saved in the output directory\n",
    "nest.GetKernelStatus('data_path')"
   ]
  },
  {
   "cell_type": "code",
   "execution_count": 8,
   "metadata": {},
   "outputs": [
    {
     "data": {
      "text/plain": [
       "ParamsTree(name='None', parent=None)\n",
       "  params: {}\n",
       "  nest_params: {}\n",
       "  kernel:\n",
       "    params:\n",
       "      nest_seed: 10\n",
       "      extension_modules: []\n",
       "    nest_params:\n",
       "      resolution: 0.5\n",
       "      overwrite_files: true\n",
       "  simulation:\n",
       "    params:\n",
       "      output_dir: data/outputs/output\n",
       "      sessions: []\n",
       "    nest_params: {}\n",
       "  session_models:\n",
       "    params: {}\n",
       "    nest_params: {}\n",
       "  network:\n",
       "    params: {}\n",
       "    nest_params: {}\n",
       "  "
      ]
     },
     "execution_count": 8,
     "metadata": {},
     "output_type": "execute_result"
    }
   ],
   "source": [
    "# The kernel params are saved in the simulation's tree\n",
    "sim.tree"
   ]
  },
  {
   "cell_type": "markdown",
   "metadata": {},
   "source": [
    "## Create a network\n",
    "\n",
    "We build and create the same network by passing the network tree,\n",
    "using the ``Simulation.create_network`` method"
   ]
  },
  {
   "cell_type": "code",
   "execution_count": 9,
   "metadata": {},
   "outputs": [],
   "source": [
    "net_tree = ParamsTree.read(PARAMS_DIR/'network/network_tree.yml')"
   ]
  },
  {
   "cell_type": "code",
   "execution_count": 10,
   "metadata": {},
   "outputs": [
    {
     "name": "stderr",
     "output_type": "stream",
     "text": [
      "2020-06-30 13:52:44,151 [denest.simulation] INFO: Building network.\n",
      "2020-06-30 13:52:44,167 [denest.network] INFO: Build N=2 ``Model`` objects\n",
      "2020-06-30 13:52:44,169 [denest.network] INFO: Build N=2 ``SynapseModel`` objects\n",
      "2020-06-30 13:52:44,174 [denest.network] INFO: Build N=3 ``Model`` objects\n",
      "2020-06-30 13:52:44,180 [denest.network] INFO: Build N=2 ``Layer`` or ``InputLayer`` objects.\n",
      "2020-06-30 13:52:44,183 [denest.utils.validation] INFO: Object `proj_1_AMPA`: params: using default value for optional parameters:\n",
      "{'type': 'topological'}\n",
      "2020-06-30 13:52:44,192 [denest.utils.validation] INFO: Object `proj_2_GABAA`: params: using default value for optional parameters:\n",
      "{'type': 'topological'}\n",
      "2020-06-30 13:52:44,198 [denest.network] INFO: Build N=2 ``ProjectionModel`` objects\n",
      "2020-06-30 13:52:44,214 [denest.network] INFO: Build N=3 ``TopoProjection`` objects\n",
      "2020-06-30 13:52:44,232 [denest.network] INFO: Build N=2 population recorders.\n",
      "2020-06-30 13:52:44,239 [denest.network] INFO: Build N=1 projection recorders.\n",
      "2020-06-30 13:52:44,254 [denest.simulation] INFO: Creating network.\n",
      "2020-06-30 13:52:44,272 [denest.network] INFO: Creating neuron models...\n",
      "100%|██████████| 2/2 [00:00<00:00, 299.85it/s]\n",
      "2020-06-30 13:52:44,291 [denest.network] INFO: Creating synapse models...\n",
      "100%|██████████| 2/2 [00:00<00:00, 702.21it/s]\n",
      "2020-06-30 13:52:44,310 [denest.network] INFO: Creating recorder models...\n",
      "100%|██████████| 3/3 [00:00<00:00, 811.28it/s]\n",
      "2020-06-30 13:52:44,322 [denest.network] INFO: Creating layers...\n",
      "  0%|          | 0/2 [00:00<?, ?it/s]/Users/tom/nest/nest-simulator-2.20.0/lib/python3.7/site-packages/nest/lib/hl_api_helper.py:127: UserWarning:\n",
      "GetNodes is deprecated and will be removed in NEST 3.0. Use             GIDCollection instead.\n",
      "100%|██████████| 2/2 [00:00<00:00,  8.14it/s]\n",
      "2020-06-30 13:52:44,577 [denest.network] INFO: Creating population recorders...\n",
      "100%|██████████| 2/2 [00:00<00:00, 42.15it/s]\n",
      "2020-06-30 13:52:44,631 [denest.network] INFO: Creating projection recorders...\n",
      "100%|██████████| 1/1 [00:00<00:00, 74.23it/s]\n",
      "2020-06-30 13:52:44,679 [denest.network] INFO: Connecting layers...\n",
      "100%|██████████| 3/3 [00:00<00:00, 145.55it/s]\n",
      "2020-06-30 13:52:44,736 [denest.network] INFO: Network size (including recorders and parrot neurons):\n",
      "Number of nodes: 206\n",
      "Number of projections: 6650\n",
      "2020-06-30 13:52:44,739 [denest.simulation] INFO: Finished creating network\n"
     ]
    }
   ],
   "source": [
    "sim.create_network(net_tree)"
   ]
  },
  {
   "cell_type": "code",
   "execution_count": 11,
   "metadata": {},
   "outputs": [
    {
     "data": {
      "text/plain": [
       "(52,)"
      ]
     },
     "execution_count": 11,
     "metadata": {},
     "output_type": "execute_result"
    }
   ],
   "source": [
    "# Network object was created and can be accessed as we learnt\n",
    "sim.network.layers['l1'].gid"
   ]
  },
  {
   "cell_type": "code",
   "execution_count": 12,
   "metadata": {},
   "outputs": [
    {
     "data": {
      "text/plain": [
       "ParamsTree(name='None', parent=None)\n",
       "  params: {}\n",
       "  nest_params: {}\n",
       "  kernel:\n",
       "    params:\n",
       "      nest_seed: 10\n",
       "      extension_modules: []\n",
       "    nest_params:\n",
       "      resolution: 0.5\n",
       "      overwrite_files: true\n",
       "  simulation:\n",
       "    params:\n",
       "      output_dir: data/outputs/output\n",
       "      sessions: []\n",
       "    nest_params: {}\n",
       "  session_models:\n",
       "  \n",
       "  ... [135 lines] ...\n",
       "\n",
       "        - layers:\n",
       "          - input_layer\n",
       "          populations: null\n",
       "          model: my_spike_detector\n",
       "        projection_recorders:\n",
       "        - source_layers:\n",
       "          - l1\n",
       "          source_population: l1_exc\n",
       "          target_layers:\n",
       "          - l1\n",
       "          target_population: l1_inh\n",
       "          projection_model: proj_1_AMPA\n",
       "          model: weight_recorder\n",
       "      nest_params: {}\n",
       "  "
      ]
     },
     "execution_count": 12,
     "metadata": {},
     "output_type": "execute_result"
    }
   ],
   "source": [
    "# network tree was saved and can be re-used\n",
    "sim.tree"
   ]
  },
  {
   "cell_type": "markdown",
   "metadata": {},
   "source": [
    "## Create some sessions\n",
    "\n",
    "Sessions allow us to run the network in specific conditions.\n",
    "\n",
    "Session parameters:\n",
    "\n",
    "- ``simulation_time`` (float): Duration of the session in ms.\n",
    "    (mandatory)\n",
    "- ``reset_network`` (bool): If true, ``nest.ResetNetwork()`` is\n",
    "    called during session initialization (default ``False``)\n",
    "- ``record`` (bool): If false, the ``start_time`` field of\n",
    "    recorder nodes in NEST is set to the end time of the\n",
    "    session, so that no data is recorded during the session\n",
    "    (default ``True``)\n",
    "- ``shift_origin`` (bool): If True, the ``origin`` flag of the\n",
    "    stimulation devices of all the network's ``InputLayer``\n",
    "    layers is set to the start of the session during\n",
    "    initialization. Useful to repeat sessions when the\n",
    "    stimulators are eg spike generators.\n",
    "- ``unit_changes`` (list): List describing the changes applied\n",
    "    to certain units before the start of the session.\n",
    "    Passed to ``Network.set_state``.\n",
    "- ``synapse_changes`` (list): List describing the changes\n",
    "    applied to certain synapses before the start of the session.\n",
    "    Passed to ``Network.set_state``. Refer to that\n",
    "    method for a description of how ``synapse_changes`` is\n",
    "    formatted and interpreted. No changes happen if empty.\n",
    "    (default [])\n"
   ]
  },
  {
   "cell_type": "markdown",
   "metadata": {},
   "source": [
    "### Build session models from a tree"
   ]
  },
  {
   "cell_type": "code",
   "execution_count": 13,
   "metadata": {},
   "outputs": [
    {
     "name": "stdout",
     "output_type": "stream",
     "text": [
      "params:\n",
      "  record: true\n",
      "  shift_origin: true\n",
      "  simulation_time: 100.0\n",
      "nest_params: {}\n",
      "warmup:\n",
      "  params:\n",
      "    record: false\n",
      "  nest_params: {}\n",
      "2_spikes:\n",
      "  params:\n",
      "    unit_changes:\n",
      "    - layers:\n",
      "      - input_layer\n",
      "      population_name: spike_generator\n",
      "      nest_params:\n",
      "        spike_times:\n",
      "        - 1.0\n",
      "        - 10.0\n",
      "  nest_params: {}\n",
      "3_spikes:\n",
      "  params:\n",
      "    unit_changes:\n",
      "    - layers:\n",
      "      - input_layer\n",
      "      population_name: spike_generator\n",
      "      nest_params:\n",
      "        spike_times:\n",
      "        - 1.0\n",
      "        - 10.0\n",
      "        - 20.0\n",
      "  nest_params: {}\n",
      "\n"
     ]
    }
   ],
   "source": [
    "# Notice the hierarchical inheritance as before\n",
    "session_models_tree = ParamsTree.read(PARAMS_DIR/'session_models.yml').children['session_models']\n",
    "print(session_models_tree)"
   ]
  },
  {
   "cell_type": "code",
   "execution_count": 14,
   "metadata": {},
   "outputs": [
    {
     "name": "stderr",
     "output_type": "stream",
     "text": [
      "2020-06-30 13:52:44,980 [denest.simulation] INFO: Build N=3 session models\n"
     ]
    }
   ],
   "source": [
    "sim.build_session_models(session_models_tree)"
   ]
  },
  {
   "cell_type": "code",
   "execution_count": 15,
   "metadata": {},
   "outputs": [
    {
     "data": {
      "text/plain": [
       "ParamsTree(name='session_models', parent='None')\n",
       "  params:\n",
       "    record: true\n",
       "    shift_origin: true\n",
       "    simulation_time: 100.0\n",
       "  nest_params: {}\n",
       "  warmup:\n",
       "    params:\n",
       "      record: false\n",
       "    nest_params: {}\n",
       "  2_spikes:\n",
       "    params:\n",
       "      unit_changes:\n",
       "      - layers:\n",
       "        - input_layer\n",
       "        population_name: spike_generator\n",
       "  \n",
       "  ... [3 lines] ...\n",
       "\n",
       "          - 10.0\n",
       "    nest_params: {}\n",
       "  3_spikes:\n",
       "    params:\n",
       "      unit_changes:\n",
       "      - layers:\n",
       "        - input_layer\n",
       "        population_name: spike_generator\n",
       "        nest_params:\n",
       "          spike_times:\n",
       "          - 1.0\n",
       "          - 10.0\n",
       "          - 20.0\n",
       "    nest_params: {}\n",
       "  "
      ]
     },
     "execution_count": 15,
     "metadata": {},
     "output_type": "execute_result"
    }
   ],
   "source": [
    "sim.tree.children['session_models']"
   ]
  },
  {
   "cell_type": "markdown",
   "metadata": {},
   "source": [
    "### Build a list of sessions from the ``session_models`` templates"
   ]
  },
  {
   "cell_type": "code",
   "execution_count": 16,
   "metadata": {},
   "outputs": [],
   "source": [
    "sessions_order =  ['warmup', '3_spikes', '2_spikes', '3_spikes']\n"
   ]
  },
  {
   "cell_type": "code",
   "execution_count": 17,
   "metadata": {},
   "outputs": [
    {
     "name": "stderr",
     "output_type": "stream",
     "text": [
      "2020-06-30 13:52:45,205 [denest.simulation] INFO: Build N=4 sessions\n",
      "2020-06-30 13:52:45,206 [denest.session] INFO: Creating session \"00_warmup\"\n",
      "2020-06-30 13:52:45,208 [denest.utils.validation] INFO: Object `00_warmup`: params: using default value for optional parameters:\n",
      "{'reset_network': False, 'synapse_changes': [], 'unit_changes': []}\n",
      "2020-06-30 13:52:45,212 [denest.session] INFO: Creating session \"01_3_spikes\"\n",
      "2020-06-30 13:52:45,219 [denest.utils.validation] INFO: Object `01_3_spikes`: params: using default value for optional parameters:\n",
      "{'reset_network': False, 'synapse_changes': []}\n",
      "2020-06-30 13:52:45,221 [denest.session] INFO: Creating session \"02_2_spikes\"\n",
      "2020-06-30 13:52:45,223 [denest.utils.validation] INFO: Object `02_2_spikes`: params: using default value for optional parameters:\n",
      "{'reset_network': False, 'synapse_changes': []}\n",
      "2020-06-30 13:52:45,225 [denest.session] INFO: Creating session \"03_3_spikes\"\n",
      "2020-06-30 13:52:45,234 [denest.utils.validation] INFO: Object `03_3_spikes`: params: using default value for optional parameters:\n",
      "{'reset_network': False, 'synapse_changes': []}\n",
      "2020-06-30 13:52:45,239 [denest.simulation] INFO: Sessions: ['00_warmup', '01_3_spikes', '02_2_spikes', '03_3_spikes']\n"
     ]
    }
   ],
   "source": [
    "sim.build_sessions(sessions_order)"
   ]
  },
  {
   "cell_type": "code",
   "execution_count": 18,
   "metadata": {},
   "outputs": [
    {
     "data": {
      "text/plain": [
       "[Session(00_warmup, {'record': False,\n",
       "  'reset_network': False,\n",
       "  'shift_origin': True,\n",
       "  'simulation_time': 100.0,\n",
       "  'synapse_changes': [],\n",
       "  'unit_changes': []}),\n",
       " Session(01_3_spikes, {'record': True,\n",
       "  'reset_network': False,\n",
       "  'shift_origin': True,\n",
       "  'simulation_time': 100.0,\n",
       "  'synapse_changes': [],\n",
       "  'unit_changes': [{'layers': ['input_layer'],\n",
       "                    'nest_params': {'spike_times': [1.0, 10.0, 20.0]},\n",
       "                    'population_name': 'spike_generator'}]}),\n",
       " Session(02_2_spikes, {'record': True,\n",
       "  'reset_network': False,\n",
       "  'shift_origin': True,\n",
       "  'simulation_time': 100.0,\n",
       "  'synapse_changes': [],\n",
       "  'unit_changes': [{'layers': ['input_layer'],\n",
       "                    'nest_params': {'spike_times': [1.0, 10.0]},\n",
       "                    'population_name': 'spike_generator'}]}),\n",
       " Session(03_3_spikes, {'record': True,\n",
       "  'reset_network': False,\n",
       "  'shift_origin': True,\n",
       "  'simulation_time': 100.0,\n",
       "  'synapse_changes': [],\n",
       "  'unit_changes': [{'layers': ['input_layer'],\n",
       "                    'nest_params': {'spike_times': [1.0, 10.0, 20.0]},\n",
       "                    'population_name': 'spike_generator'}]})]"
      ]
     },
     "execution_count": 18,
     "metadata": {},
     "output_type": "execute_result"
    }
   ],
   "source": [
    "# Notice the session names\n",
    "sim.sessions"
   ]
  },
  {
   "cell_type": "code",
   "execution_count": 19,
   "metadata": {},
   "outputs": [
    {
     "data": {
      "text/plain": [
       "ParamsTree(name='simulation', parent='None')\n",
       "  params:\n",
       "    output_dir: data/outputs/output\n",
       "    sessions:\n",
       "    - warmup\n",
       "    - 3_spikes\n",
       "    - 2_spikes\n",
       "    - 3_spikes\n",
       "  nest_params: {}\n",
       "  "
      ]
     },
     "execution_count": 19,
     "metadata": {},
     "output_type": "execute_result"
    }
   ],
   "source": [
    "# The session order is saved in the simulation parameters\n",
    "\n",
    "sim.tree.children['simulation']"
   ]
  },
  {
   "cell_type": "markdown",
   "metadata": {},
   "source": [
    "## Run the simulation"
   ]
  },
  {
   "cell_type": "code",
   "execution_count": 20,
   "metadata": {},
   "outputs": [
    {
     "name": "stdout",
     "output_type": "stream",
     "text": [
      "kernel time:  0.0\n"
     ]
    }
   ],
   "source": [
    "print('kernel time: ', nest.GetKernelStatus('time'))"
   ]
  },
  {
   "cell_type": "code",
   "execution_count": 21,
   "metadata": {},
   "outputs": [
    {
     "name": "stderr",
     "output_type": "stream",
     "text": [
      "2020-06-30 13:52:45,497 [denest.simulation] INFO: Running 4 sessions...\n",
      "2020-06-30 13:52:45,497 [denest.simulation] INFO: Running session: '00_warmup'...\n",
      "2020-06-30 13:52:45,499 [denest.session] INFO: Initializing session...\n",
      "2020-06-30 13:52:45,501 [denest.network.recorders] INFO:   Setting status for recorder my_multimeter_l1_l1_exc: {'start': 100.0}\n",
      "2020-06-30 13:52:45,504 [denest.network.recorders] INFO:   Setting status for recorder my_spike_detector_input_layer_parrot_neuron: {'start': 100.0}\n",
      "2020-06-30 13:52:45,505 [denest.network.recorders] INFO:   Setting status for recorder weight_recorder_proj_1_AMPA-l1-l1_exc-l1-l1_inh: {'start': 100.0}\n",
      "2020-06-30 13:52:45,507 [denest.session] INFO: Setting `origin` flag to `0.0` for all stimulation devices in ``InputLayers`` for session `00_warmup`\n",
      "2020-06-30 13:52:45,523 [denest.session] INFO: Finished initializing session\n",
      "\n",
      "2020-06-30 13:52:45,524 [denest.session] INFO: Running session '00_warmup' for 100 ms\n",
      "2020-06-30 13:52:45,749 [denest.session] INFO: Finished running session\n",
      "2020-06-30 13:52:45,750 [denest.session] INFO: Session '00_warmup' virtual running time: 100 ms\n",
      "2020-06-30 13:52:45,751 [denest.session] INFO: Session '00_warmup' real running time: 0h:00m:00s\n",
      "2020-06-30 13:52:45,806 [denest.simulation] INFO: Done running session '00_warmup'\n",
      "2020-06-30 13:52:45,807 [denest.simulation] INFO: Running session: '01_3_spikes'...\n",
      "2020-06-30 13:52:45,823 [denest.session] INFO: Initializing session...\n",
      "2020-06-30 13:52:45,824 [denest.session] INFO: Setting `origin` flag to `100.0` for all stimulation devices in ``InputLayers`` for session `01_3_spikes`\n",
      "2020-06-30 13:52:45,879 [denest.utils.validation] INFO: Object `Unit changes dictionary`: params: using default value for optional parameters:\n",
      "{'change_type': 'constant', 'from_array': False}\n",
      "2020-06-30 13:52:45,887 [denest.network.layers] INFO: Layer='input_layer', pop='spike_generator': Applying 'constant' change, param='spike_times', from single value')\n",
      "2020-06-30 13:52:46,004 [denest.session] INFO: Finished initializing session\n",
      "\n",
      "2020-06-30 13:52:46,005 [denest.session] INFO: Running session '01_3_spikes' for 100 ms\n",
      "2020-06-30 13:52:46,213 [denest.session] INFO: Finished running session\n",
      "2020-06-30 13:52:46,215 [denest.session] INFO: Session '01_3_spikes' virtual running time: 100 ms\n",
      "2020-06-30 13:52:46,216 [denest.session] INFO: Session '01_3_spikes' real running time: 0h:00m:00s\n",
      "2020-06-30 13:52:46,218 [denest.simulation] INFO: Done running session '01_3_spikes'\n",
      "2020-06-30 13:52:46,219 [denest.simulation] INFO: Running session: '02_2_spikes'...\n",
      "2020-06-30 13:52:46,221 [denest.session] INFO: Initializing session...\n",
      "2020-06-30 13:52:46,222 [denest.session] INFO: Setting `origin` flag to `200.0` for all stimulation devices in ``InputLayers`` for session `02_2_spikes`\n",
      "2020-06-30 13:52:46,226 [denest.utils.validation] INFO: Object `Unit changes dictionary`: params: using default value for optional parameters:\n",
      "{'change_type': 'constant', 'from_array': False}\n",
      "2020-06-30 13:52:46,246 [denest.network.layers] INFO: Layer='input_layer', pop='spike_generator': Applying 'constant' change, param='spike_times', from single value')\n",
      "2020-06-30 13:52:46,371 [denest.session] INFO: Finished initializing session\n",
      "\n",
      "2020-06-30 13:52:46,371 [denest.session] INFO: Running session '02_2_spikes' for 100 ms\n",
      "2020-06-30 13:52:46,653 [denest.session] INFO: Finished running session\n",
      "2020-06-30 13:52:46,654 [denest.session] INFO: Session '02_2_spikes' virtual running time: 100 ms\n",
      "2020-06-30 13:52:46,658 [denest.session] INFO: Session '02_2_spikes' real running time: 0h:00m:00s\n",
      "2020-06-30 13:52:46,660 [denest.simulation] INFO: Done running session '02_2_spikes'\n",
      "2020-06-30 13:52:46,671 [denest.simulation] INFO: Running session: '03_3_spikes'...\n",
      "2020-06-30 13:52:46,673 [denest.session] INFO: Initializing session...\n",
      "2020-06-30 13:52:46,688 [denest.session] INFO: Setting `origin` flag to `300.0` for all stimulation devices in ``InputLayers`` for session `03_3_spikes`\n",
      "2020-06-30 13:52:46,741 [denest.utils.validation] INFO: Object `Unit changes dictionary`: params: using default value for optional parameters:\n",
      "{'change_type': 'constant', 'from_array': False}\n",
      "2020-06-30 13:52:46,745 [denest.network.layers] INFO: Layer='input_layer', pop='spike_generator': Applying 'constant' change, param='spike_times', from single value')\n",
      "2020-06-30 13:52:46,876 [denest.session] INFO: Finished initializing session\n",
      "\n",
      "2020-06-30 13:52:46,877 [denest.session] INFO: Running session '03_3_spikes' for 100 ms\n",
      "2020-06-30 13:52:47,122 [denest.session] INFO: Finished running session\n",
      "2020-06-30 13:52:47,193 [denest.session] INFO: Session '03_3_spikes' virtual running time: 100 ms\n",
      "2020-06-30 13:52:47,227 [denest.session] INFO: Session '03_3_spikes' real running time: 0h:00m:00s\n",
      "2020-06-30 13:52:47,244 [denest.simulation] INFO: Done running session '03_3_spikes'\n",
      "2020-06-30 13:52:47,253 [denest.simulation] INFO: Finished running simulation\n"
     ]
    }
   ],
   "source": [
    "sim.run()"
   ]
  },
  {
   "cell_type": "code",
   "execution_count": 22,
   "metadata": {},
   "outputs": [
    {
     "data": {
      "text/plain": [
       "400.0"
      ]
     },
     "execution_count": 22,
     "metadata": {},
     "output_type": "execute_result"
    }
   ],
   "source": [
    "nest.GetKernelStatus('time')"
   ]
  },
  {
   "cell_type": "markdown",
   "metadata": {},
   "source": [
    "### Since the initialized Simulation object was empty, we need to save the metadata"
   ]
  },
  {
   "cell_type": "code",
   "execution_count": 23,
   "metadata": {},
   "outputs": [
    {
     "name": "stderr",
     "output_type": "stream",
     "text": [
      "2020-06-30 13:52:47,378 [denest.simulation] INFO: Saving simulation metadata...\n",
      "2020-06-30 13:52:47,379 [denest.simulation] INFO: Creating output directory: data/outputs/output\n",
      "2020-06-30 13:52:47,545 [denest.simulation] INFO: Finished saving simulation metadata\n"
     ]
    }
   ],
   "source": [
    "sim.save_metadata()"
   ]
  },
  {
   "cell_type": "code",
   "execution_count": 24,
   "metadata": {},
   "outputs": [
    {
     "name": "stdout",
     "output_type": "stream",
     "text": [
      "\u001b[1m\u001b[36mdata\u001b[m\u001b[m               parameter_tree.yml session_times.yml  versions.txt\r\n"
     ]
    }
   ],
   "source": [
    "!ls {OUTPUT_DIR}"
   ]
  },
  {
   "cell_type": "code",
   "execution_count": 25,
   "metadata": {},
   "outputs": [
    {
     "name": "stdout",
     "output_type": "stream",
     "text": [
      "00_warmup: !!python/tuple\r\n",
      "- 0.0\r\n",
      "- 100.0\r\n",
      "01_3_spikes: !!python/tuple\r\n",
      "- 100.0\r\n",
      "- 200.0\r\n",
      "02_2_spikes: !!python/tuple\r\n",
      "- 200.0\r\n",
      "- 300.0\r\n",
      "03_3_spikes: !!python/tuple\r\n",
      "- 300.0\r\n",
      "- 400.0\r\n"
     ]
    }
   ],
   "source": [
    "!cat {OUTPUT_DIR/'session_times.yml'}"
   ]
  },
  {
   "cell_type": "code",
   "execution_count": 26,
   "metadata": {},
   "outputs": [
    {
     "name": "stdout",
     "output_type": "stream",
     "text": [
      "my_multimeter_l1_l1_exc-203-0.dat\r\n",
      "my_multimeter_l1_l1_exc.yml\r\n",
      "my_spike_detector_input_layer_parrot_neuron-204-0.gdf\r\n",
      "my_spike_detector_input_layer_parrot_neuron.yml\r\n",
      "weight_recorder_proj_1_AMPA-l1-l1_exc-l1-l1_inh-205-0.csv\r\n",
      "weight_recorder_proj_1_AMPA-l1-l1_exc-l1-l1_inh.yml\r\n"
     ]
    }
   ],
   "source": [
    "!ls {OUTPUT_DIR/'data'}"
   ]
  },
  {
   "cell_type": "markdown",
   "metadata": {},
   "source": [
    "## Replicate the simulation"
   ]
  },
  {
   "cell_type": "code",
   "execution_count": 27,
   "metadata": {},
   "outputs": [
    {
     "data": {
      "text/plain": [
       "ParamsTree(name='None', parent=None)\n",
       "  params: {}\n",
       "  nest_params: {}\n",
       "  kernel:\n",
       "    params:\n",
       "      nest_seed: 10\n",
       "      extension_modules: []\n",
       "    nest_params:\n",
       "      resolution: 0.5\n",
       "      overwrite_files: true\n",
       "  simulation:\n",
       "    params:\n",
       "      output_dir: data/outputs/output\n",
       "      sessions:\n",
       "      - warmup\n",
       "      - 3_spikes\n",
       "  \n",
       "  ... [169 lines] ...\n",
       "\n",
       "        - layers:\n",
       "          - input_layer\n",
       "          populations: null\n",
       "          model: my_spike_detector\n",
       "        projection_recorders:\n",
       "        - source_layers:\n",
       "          - l1\n",
       "          source_population: l1_exc\n",
       "          target_layers:\n",
       "          - l1\n",
       "          target_population: l1_inh\n",
       "          projection_model: proj_1_AMPA\n",
       "          model: weight_recorder\n",
       "      nest_params: {}\n",
       "  "
      ]
     },
     "execution_count": 27,
     "metadata": {},
     "output_type": "execute_result"
    }
   ],
   "source": [
    "params = ParamsTree.read(OUTPUT_DIR/'parameter_tree.yml')\n",
    "params"
   ]
  },
  {
   "cell_type": "code",
   "execution_count": 28,
   "metadata": {},
   "outputs": [
    {
     "name": "stderr",
     "output_type": "stream",
     "text": [
      "2020-06-30 13:52:48,433 [denest.utils.validation] INFO: Object `simulation`: params: using default value for optional parameters:\n",
      "{'input_dir': 'input'}\n",
      "2020-06-30 13:52:48,435 [denest.simulation] INFO: Initializing NEST kernel and seeds...\n",
      "2020-06-30 13:52:48,437 [denest.simulation] INFO:   Resetting NEST kernel...\n",
      "2020-06-30 13:52:48,544 [denest.simulation] INFO:   Setting NEST kernel status...\n",
      "2020-06-30 13:52:48,546 [denest.simulation] INFO:     Calling `nest.SetKernelStatus({'resolution': 0.5, 'overwrite_files': True})`\n",
      "2020-06-30 13:52:48,565 [denest.simulation] INFO:     Calling `nest.SetKernelStatus({'data_path': 'data/outputs/output_replicate/data', 'grng_seed': 11, 'rng_seeds': range(12, 13)})\n",
      "2020-06-30 13:52:48,619 [denest.simulation] INFO:   Finished setting NEST kernel status\n",
      "2020-06-30 13:52:48,630 [denest.simulation] INFO:   Installing external modules...\n",
      "2020-06-30 13:52:48,647 [denest.simulation] INFO:   Finished installing external modules\n",
      "2020-06-30 13:52:48,648 [denest.simulation] INFO: Finished initializing kernel\n",
      "2020-06-30 13:52:48,651 [denest.simulation] INFO: Build N=3 session models\n",
      "2020-06-30 13:52:48,653 [denest.simulation] INFO: Build N=4 sessions\n",
      "2020-06-30 13:52:48,655 [denest.session] INFO: Creating session \"00_warmup\"\n",
      "2020-06-30 13:52:48,656 [denest.utils.validation] INFO: Object `00_warmup`: params: using default value for optional parameters:\n",
      "{'reset_network': False, 'synapse_changes': [], 'unit_changes': []}\n",
      "2020-06-30 13:52:48,658 [denest.session] INFO: Creating session \"01_3_spikes\"\n",
      "2020-06-30 13:52:48,660 [denest.utils.validation] INFO: Object `01_3_spikes`: params: using default value for optional parameters:\n",
      "{'reset_network': False, 'synapse_changes': []}\n",
      "2020-06-30 13:52:48,662 [denest.session] INFO: Creating session \"02_2_spikes\"\n",
      "2020-06-30 13:52:48,665 [denest.utils.validation] INFO: Object `02_2_spikes`: params: using default value for optional parameters:\n",
      "{'reset_network': False, 'synapse_changes': []}\n",
      "2020-06-30 13:52:48,668 [denest.session] INFO: Creating session \"03_3_spikes\"\n",
      "2020-06-30 13:52:48,671 [denest.utils.validation] INFO: Object `03_3_spikes`: params: using default value for optional parameters:\n",
      "{'reset_network': False, 'synapse_changes': []}\n",
      "2020-06-30 13:52:48,675 [denest.simulation] INFO: Sessions: ['00_warmup', '01_3_spikes', '02_2_spikes', '03_3_spikes']\n",
      "2020-06-30 13:52:48,680 [denest.simulation] INFO: Building network.\n",
      "2020-06-30 13:52:48,711 [denest.network] INFO: Build N=2 ``Model`` objects\n",
      "2020-06-30 13:52:48,715 [denest.network] INFO: Build N=2 ``SynapseModel`` objects\n",
      "2020-06-30 13:52:48,720 [denest.network] INFO: Build N=3 ``Model`` objects\n",
      "2020-06-30 13:52:48,724 [denest.network] INFO: Build N=2 ``Layer`` or ``InputLayer`` objects.\n",
      "2020-06-30 13:52:48,728 [denest.utils.validation] INFO: Object `proj_1_AMPA`: params: using default value for optional parameters:\n",
      "{'type': 'topological'}\n",
      "2020-06-30 13:52:48,730 [denest.utils.validation] INFO: Object `proj_2_GABAA`: params: using default value for optional parameters:\n",
      "{'type': 'topological'}\n",
      "2020-06-30 13:52:48,735 [denest.network] INFO: Build N=2 ``ProjectionModel`` objects\n",
      "2020-06-30 13:52:48,742 [denest.network] INFO: Build N=3 ``TopoProjection`` objects\n",
      "2020-06-30 13:52:48,751 [denest.network] INFO: Build N=2 population recorders.\n",
      "2020-06-30 13:52:48,757 [denest.network] INFO: Build N=1 projection recorders.\n",
      "2020-06-30 13:52:48,759 [denest.simulation] INFO: Creating network.\n",
      "2020-06-30 13:52:48,763 [denest.network] INFO: Creating neuron models...\n",
      "100%|██████████| 2/2 [00:00<00:00, 197.59it/s]\n",
      "2020-06-30 13:52:48,784 [denest.network] INFO: Creating synapse models...\n",
      "100%|██████████| 2/2 [00:00<00:00, 409.50it/s]\n",
      "2020-06-30 13:52:48,802 [denest.network] INFO: Creating recorder models...\n",
      "100%|██████████| 3/3 [00:00<00:00, 1972.24it/s]\n",
      "2020-06-30 13:52:48,823 [denest.network] INFO: Creating layers...\n",
      "100%|██████████| 2/2 [00:00<00:00,  9.01it/s]\n",
      "2020-06-30 13:52:49,080 [denest.network] INFO: Creating population recorders...\n",
      "100%|██████████| 2/2 [00:00<00:00, 63.84it/s]\n",
      "2020-06-30 13:52:49,120 [denest.network] INFO: Creating projection recorders...\n",
      "100%|██████████| 1/1 [00:00<00:00, 349.44it/s]\n",
      "2020-06-30 13:52:49,130 [denest.network] INFO: Connecting layers...\n",
      "100%|██████████| 3/3 [00:00<00:00, 130.74it/s]\n",
      "2020-06-30 13:52:49,160 [denest.network] INFO: Network size (including recorders and parrot neurons):\n",
      "Number of nodes: 206\n",
      "Number of projections: 6650\n",
      "2020-06-30 13:52:49,164 [denest.simulation] INFO: Finished creating network\n",
      "2020-06-30 13:52:49,166 [denest.simulation] INFO: Saving simulation metadata...\n",
      "2020-06-30 13:52:49,167 [denest.simulation] INFO: Creating output directory: data/outputs/output_replicate\n",
      "2020-06-30 13:52:49,169 [denest.io.save] INFO: Clearing directory: data/outputs/output_replicate\n",
      "2020-06-30 13:52:49,179 [denest.io.save] INFO: Clearing directory: data/outputs/output_replicate\n",
      "2020-06-30 13:52:49,186 [denest.io.save] INFO: Clearing directory: data/outputs/output_replicate/data\n",
      "2020-06-30 13:52:49,189 [denest.io.save] INFO: Clearing directory: data/outputs/output_replicate/data\n",
      "2020-06-30 13:52:49,191 [denest.io.save] INFO: Clearing directory: data/outputs/output_replicate/data\n",
      "2020-06-30 13:52:49,209 [denest.io.save] INFO: Clearing directory: data/outputs/output_replicate\n",
      "2020-06-30 13:52:49,346 [denest.simulation] INFO: Finished saving simulation metadata\n",
      "2020-06-30 13:52:49,347 [denest.simulation] INFO: Running 4 sessions...\n",
      "2020-06-30 13:52:49,350 [denest.simulation] INFO: Running session: '00_warmup'...\n",
      "2020-06-30 13:52:49,352 [denest.session] INFO: Initializing session...\n",
      "2020-06-30 13:52:49,359 [denest.network.recorders] INFO:   Setting status for recorder my_multimeter_l1_l1_exc: {'start': 100.0}\n",
      "2020-06-30 13:52:49,375 [denest.network.recorders] INFO:   Setting status for recorder my_spike_detector_input_layer_parrot_neuron: {'start': 100.0}\n",
      "2020-06-30 13:52:49,379 [denest.network.recorders] INFO:   Setting status for recorder weight_recorder_proj_1_AMPA-l1-l1_exc-l1-l1_inh: {'start': 100.0}\n",
      "2020-06-30 13:52:49,381 [denest.session] INFO: Setting `origin` flag to `0.0` for all stimulation devices in ``InputLayers`` for session `00_warmup`\n",
      "2020-06-30 13:52:49,391 [denest.session] INFO: Finished initializing session\n",
      "\n",
      "2020-06-30 13:52:49,394 [denest.session] INFO: Running session '00_warmup' for 100 ms\n",
      "2020-06-30 13:52:49,737 [denest.session] INFO: Finished running session\n",
      "2020-06-30 13:52:49,738 [denest.session] INFO: Session '00_warmup' virtual running time: 100 ms\n",
      "2020-06-30 13:52:49,739 [denest.session] INFO: Session '00_warmup' real running time: 0h:00m:00s\n",
      "2020-06-30 13:52:49,757 [denest.simulation] INFO: Done running session '00_warmup'\n",
      "2020-06-30 13:52:49,763 [denest.simulation] INFO: Running session: '01_3_spikes'...\n",
      "2020-06-30 13:52:49,784 [denest.session] INFO: Initializing session...\n",
      "2020-06-30 13:52:49,795 [denest.session] INFO: Setting `origin` flag to `100.0` for all stimulation devices in ``InputLayers`` for session `01_3_spikes`\n",
      "2020-06-30 13:52:49,824 [denest.utils.validation] INFO: Object `Unit changes dictionary`: params: using default value for optional parameters:\n",
      "{'change_type': 'constant', 'from_array': False}\n",
      "2020-06-30 13:52:49,831 [denest.network.layers] INFO: Layer='input_layer', pop='spike_generator': Applying 'constant' change, param='spike_times', from single value')\n",
      "2020-06-30 13:52:49,938 [denest.session] INFO: Finished initializing session\n",
      "\n",
      "2020-06-30 13:52:49,939 [denest.session] INFO: Running session '01_3_spikes' for 100 ms\n",
      "2020-06-30 13:52:50,128 [denest.session] INFO: Finished running session\n",
      "2020-06-30 13:52:50,129 [denest.session] INFO: Session '01_3_spikes' virtual running time: 100 ms\n",
      "2020-06-30 13:52:50,130 [denest.session] INFO: Session '01_3_spikes' real running time: 0h:00m:00s\n",
      "2020-06-30 13:52:50,131 [denest.simulation] INFO: Done running session '01_3_spikes'\n",
      "2020-06-30 13:52:50,159 [denest.simulation] INFO: Running session: '02_2_spikes'...\n",
      "2020-06-30 13:52:50,179 [denest.session] INFO: Initializing session...\n",
      "2020-06-30 13:52:50,202 [denest.session] INFO: Setting `origin` flag to `200.0` for all stimulation devices in ``InputLayers`` for session `02_2_spikes`\n"
     ]
    },
    {
     "name": "stderr",
     "output_type": "stream",
     "text": [
      "2020-06-30 13:52:50,230 [denest.utils.validation] INFO: Object `Unit changes dictionary`: params: using default value for optional parameters:\n",
      "{'change_type': 'constant', 'from_array': False}\n",
      "2020-06-30 13:52:50,231 [denest.network.layers] INFO: Layer='input_layer', pop='spike_generator': Applying 'constant' change, param='spike_times', from single value')\n",
      "2020-06-30 13:52:50,321 [denest.session] INFO: Finished initializing session\n",
      "\n",
      "2020-06-30 13:52:50,321 [denest.session] INFO: Running session '02_2_spikes' for 100 ms\n",
      "2020-06-30 13:52:50,620 [denest.session] INFO: Finished running session\n",
      "2020-06-30 13:52:50,622 [denest.session] INFO: Session '02_2_spikes' virtual running time: 100 ms\n",
      "2020-06-30 13:52:50,622 [denest.session] INFO: Session '02_2_spikes' real running time: 0h:00m:00s\n",
      "2020-06-30 13:52:50,623 [denest.simulation] INFO: Done running session '02_2_spikes'\n",
      "2020-06-30 13:52:50,627 [denest.simulation] INFO: Running session: '03_3_spikes'...\n",
      "2020-06-30 13:52:50,629 [denest.session] INFO: Initializing session...\n",
      "2020-06-30 13:52:50,644 [denest.session] INFO: Setting `origin` flag to `300.0` for all stimulation devices in ``InputLayers`` for session `03_3_spikes`\n",
      "2020-06-30 13:52:50,673 [denest.utils.validation] INFO: Object `Unit changes dictionary`: params: using default value for optional parameters:\n",
      "{'change_type': 'constant', 'from_array': False}\n",
      "2020-06-30 13:52:50,674 [denest.network.layers] INFO: Layer='input_layer', pop='spike_generator': Applying 'constant' change, param='spike_times', from single value')\n",
      "2020-06-30 13:52:50,770 [denest.session] INFO: Finished initializing session\n",
      "\n",
      "2020-06-30 13:52:50,771 [denest.session] INFO: Running session '03_3_spikes' for 100 ms\n",
      "2020-06-30 13:52:50,940 [denest.session] INFO: Finished running session\n",
      "2020-06-30 13:52:50,941 [denest.session] INFO: Session '03_3_spikes' virtual running time: 100 ms\n",
      "2020-06-30 13:52:50,943 [denest.session] INFO: Session '03_3_spikes' real running time: 0h:00m:00s\n",
      "2020-06-30 13:52:50,946 [denest.simulation] INFO: Done running session '03_3_spikes'\n",
      "2020-06-30 13:52:50,989 [denest.simulation] INFO: Finished running simulation\n"
     ]
    }
   ],
   "source": [
    "sim = denest.Simulation(params, output_dir=DATA_DIR/'output_replicate')\n",
    "sim.run()"
   ]
  },
  {
   "cell_type": "code",
   "execution_count": 29,
   "metadata": {},
   "outputs": [
    {
     "name": "stdout",
     "output_type": "stream",
     "text": [
      "\u001b[1m\u001b[36mdata\u001b[m\u001b[m               parameter_tree.yml session_times.yml  versions.txt\r\n"
     ]
    }
   ],
   "source": [
    "!ls {str(DATA_DIR/'output_replicate')} "
   ]
  }
 ],
 "metadata": {
  "kernelspec": {
   "display_name": "denest_101",
   "language": "python",
   "name": "denest_101"
  },
  "language_info": {
   "codemirror_mode": {
    "name": "ipython",
    "version": 3
   },
   "file_extension": ".py",
   "mimetype": "text/x-python",
   "name": "python",
   "nbconvert_exporter": "python",
   "pygments_lexer": "ipython3",
   "version": "3.7.5"
  },
  "widgets": {
   "application/vnd.jupyter.widget-state+json": {
    "state": {},
    "version_major": 2,
    "version_minor": 0
   }
  }
 },
 "nbformat": 4,
 "nbformat_minor": 4
}
