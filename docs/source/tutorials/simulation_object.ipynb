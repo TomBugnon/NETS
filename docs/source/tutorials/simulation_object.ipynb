{
 "cells": [
  {
   "cell_type": "markdown",
   "metadata": {},
   "source": [
    "# The `Simulation` object\n",
    "\n",
    "Let's familiarize ourselves with the ``Simulation`` object.\n",
    "\n",
    "In this tutorial we:\n",
    "\n",
    "1. __Initialize an empty `Simulation` object__\n",
    "2. __Initialize the NEST kernel__ (`Simulation.init__kernel`)\n",
    "2. __Create a network__ (`Simulation.create__network`)\n",
    "2. Create sessions:\n",
    "    1. __Build session models__ (`Simulation.build__session__models`)\n",
    "    1. __Build the list of sessions__ from session models (`Simulation.build__sessions`)\n",
    "3. __Run__ the simulation\n",
    "5. __Replicate__ the simulation\n",
    "\n",
    "NB: Usually we'd perform all the steps at once by providing the full simulation tree to the `Simulation` object during initialization"
   ]
  },
  {
   "cell_type": "code",
   "execution_count": 1,
   "metadata": {},
   "outputs": [],
   "source": [
    "import nest\n",
    "import yaml\n",
    "from pathlib import Path\n",
    "from pprint import pprint\n",
    "\n",
    "from denest import *\n",
    "import denest"
   ]
  },
  {
   "cell_type": "code",
   "execution_count": 2,
   "metadata": {},
   "outputs": [],
   "source": [
    "PARAMS_DIR = Path('./data/params')\n",
    "DATA_DIR = Path('./data/outputs')\n",
    "OUTPUT_DIR = DATA_DIR/'output'"
   ]
  },
  {
   "cell_type": "markdown",
   "metadata": {},
   "source": [
    "## Initialize an empty Simulation object\n",
    "\n",
    "Empty network, no kernel initialization, etc..."
   ]
  },
  {
   "cell_type": "code",
   "execution_count": 3,
   "metadata": {},
   "outputs": [
    {
     "name": "stderr",
     "output_type": "stream",
     "text": [
      "2020-06-29 12:31:45,749 [denest.utils.validation] INFO: 'None' tree: adding empty child kernel\n",
      "2020-06-29 12:31:45,751 [denest.utils.validation] INFO: 'None' tree: adding empty child simulation\n",
      "2020-06-29 12:31:45,752 [denest.utils.validation] INFO: 'None' tree: adding empty child session_models\n",
      "2020-06-29 12:31:45,752 [denest.utils.validation] INFO: 'None' tree: adding empty child network\n",
      "2020-06-29 12:31:45,754 [denest.utils.validation] INFO: Object `simulation`: params: using default value for optional parameters:\n",
      "{'input_dir': 'input', 'output_dir': 'output', 'sessions': []}\n",
      "2020-06-29 12:31:45,757 [denest.utils.validation] INFO: Object `kernel`: params: using default value for optional parameters:\n",
      "{'extension_modules': [], 'nest_seed': 1}\n",
      "2020-06-29 12:31:45,759 [denest.simulation] INFO: Initializing NEST kernel and seeds...\n",
      "2020-06-29 12:31:45,762 [denest.simulation] INFO:   Resetting NEST kernel...\n",
      "2020-06-29 12:31:45,774 [denest.simulation] INFO:   Setting NEST kernel status...\n",
      "2020-06-29 12:31:45,776 [denest.simulation] INFO:     Calling `nest.SetKernelStatus({})`\n",
      "2020-06-29 12:31:45,782 [denest.simulation] INFO:     Calling `nest.SetKernelStatus({'data_path': 'data/outputs/output/data', 'grng_seed': 2, 'rng_seeds': range(3, 4)})\n",
      "2020-06-29 12:31:45,785 [denest.simulation] INFO:   Finished setting NEST kernel status\n",
      "2020-06-29 12:31:45,787 [denest.simulation] INFO:   Installing external modules...\n",
      "2020-06-29 12:31:45,792 [denest.simulation] INFO:   Finished installing external modules\n",
      "2020-06-29 12:31:45,794 [denest.simulation] INFO: Finished initializing kernel\n",
      "2020-06-29 12:31:45,797 [denest.simulation] INFO: Build N=0 session models\n",
      "2020-06-29 12:31:45,799 [denest.simulation] INFO: Build N=0 sessions\n",
      "2020-06-29 12:31:45,801 [denest.simulation] INFO: Sessions: []\n",
      "2020-06-29 12:31:45,811 [denest.simulation] INFO: Building network.\n",
      "2020-06-29 12:31:45,815 [denest.utils.validation] INFO: 'None' tree: adding empty child neuron_models\n",
      "2020-06-29 12:31:45,817 [denest.utils.validation] INFO: 'None' tree: adding empty child synapse_models\n",
      "2020-06-29 12:31:45,818 [denest.utils.validation] INFO: 'None' tree: adding empty child layers\n",
      "2020-06-29 12:31:45,819 [denest.utils.validation] INFO: 'None' tree: adding empty child projection_models\n",
      "2020-06-29 12:31:45,821 [denest.utils.validation] INFO: 'None' tree: adding empty child topology\n",
      "2020-06-29 12:31:45,822 [denest.utils.validation] INFO: 'None' tree: adding empty child recorder_models\n",
      "2020-06-29 12:31:45,824 [denest.utils.validation] INFO: 'None' tree: adding empty child recorders\n",
      "2020-06-29 12:31:45,825 [denest.network] INFO: Build N=0 ``Model`` objects\n",
      "2020-06-29 12:31:45,827 [denest.network] INFO: Build N=0 ``SynapseModel`` objects\n",
      "2020-06-29 12:31:45,828 [denest.network] INFO: Build N=0 ``Model`` objects\n",
      "2020-06-29 12:31:45,830 [denest.network] INFO: Build N=0 ``Layer`` or ``InputLayer`` objects.\n",
      "2020-06-29 12:31:45,831 [denest.network] INFO: Build N=0 ``ProjectionModel`` objects\n",
      "2020-06-29 12:31:45,834 [denest.utils.validation] INFO: Object `topology`: params: using default value for optional parameters:\n",
      "{'projections': []}\n",
      "2020-06-29 12:31:45,835 [denest.network] INFO: Build N=0 ``TopoProjection`` objects\n",
      "2020-06-29 12:31:45,837 [denest.utils.validation] INFO: Object `recorders`: params: using default value for optional parameters:\n",
      "{'population_recorders': [], 'projection_recorders': []}\n",
      "2020-06-29 12:31:45,839 [denest.network] INFO: Build N=0 population recorders.\n",
      "2020-06-29 12:31:45,840 [denest.network] INFO: Build N=0 projection recorders.\n",
      "2020-06-29 12:31:45,840 [denest.simulation] INFO: Creating network.\n",
      "2020-06-29 12:31:45,841 [denest.network] INFO: Creating neuron models...\n",
      "0it [00:00, ?it/s]\n",
      "2020-06-29 12:31:45,858 [denest.network] INFO: Creating synapse models...\n",
      "0it [00:00, ?it/s]\n",
      "2020-06-29 12:31:45,865 [denest.network] INFO: Creating recorder models...\n",
      "0it [00:00, ?it/s]\n",
      "2020-06-29 12:31:45,868 [denest.network] INFO: Creating layers...\n",
      "0it [00:00, ?it/s]\n",
      "2020-06-29 12:31:45,873 [denest.network] INFO: Creating population recorders...\n",
      "0it [00:00, ?it/s]\n",
      "2020-06-29 12:31:45,878 [denest.network] INFO: Creating projection recorders...\n",
      "0it [00:00, ?it/s]\n",
      "2020-06-29 12:31:45,884 [denest.network] INFO: Connecting layers...\n",
      "0it [00:00, ?it/s]\n",
      "2020-06-29 12:31:45,890 [denest.network] INFO: Network size (including recorders and parrot neurons):\n",
      "Number of nodes: 1\n",
      "Number of projections: 0\n",
      "2020-06-29 12:31:45,891 [denest.simulation] INFO: Finished creating network\n",
      "2020-06-29 12:31:45,892 [denest.simulation] INFO: Saving simulation metadata...\n",
      "2020-06-29 12:31:45,892 [denest.simulation] INFO: Creating output directory: data/outputs/output\n",
      "2020-06-29 12:31:45,897 [denest.io.save] INFO: Clearing directory: data/outputs/output\n",
      "2020-06-29 12:31:45,901 [denest.io.save] INFO: Clearing directory: data/outputs/output\n",
      "2020-06-29 12:31:45,904 [denest.io.save] INFO: Clearing directory: data/outputs/output/data\n",
      "2020-06-29 12:31:45,909 [denest.io.save] INFO: Clearing directory: data/outputs/output/data\n",
      "2020-06-29 12:31:45,912 [denest.io.save] INFO: Clearing directory: data/outputs/output/data\n",
      "2020-06-29 12:31:45,915 [denest.io.save] INFO: Clearing directory: data/outputs/output\n",
      "2020-06-29 12:31:45,925 [denest.simulation] INFO: Finished saving simulation metadata\n"
     ]
    }
   ],
   "source": [
    "sim = Simulation(output_dir=OUTPUT_DIR)"
   ]
  },
  {
   "cell_type": "markdown",
   "metadata": {},
   "source": [
    "## Initialize the NEST kernel\n",
    "\n",
    "``Simulation.init_kernel??`` for doc"
   ]
  },
  {
   "cell_type": "code",
   "execution_count": 4,
   "metadata": {},
   "outputs": [],
   "source": [
    "kernel_tree = {\n",
    "    'params':\n",
    "        {\n",
    "            'nest_seed': 10,\n",
    "            'extension_modules': [],\n",
    "        },\n",
    "    'nest_params':\n",
    "        {\n",
    "            'resolution': 0.5,\n",
    "            'overwrite_files': True\n",
    "        },\n",
    "}"
   ]
  },
  {
   "cell_type": "code",
   "execution_count": 5,
   "metadata": {},
   "outputs": [
    {
     "name": "stderr",
     "output_type": "stream",
     "text": [
      "2020-06-29 12:31:46,006 [denest.simulation] INFO: Initializing NEST kernel and seeds...\n",
      "2020-06-29 12:31:46,007 [denest.simulation] INFO:   Resetting NEST kernel...\n",
      "2020-06-29 12:31:46,016 [denest.simulation] INFO:   Setting NEST kernel status...\n",
      "2020-06-29 12:31:46,019 [denest.simulation] INFO:     Calling `nest.SetKernelStatus({'resolution': 0.5, 'overwrite_files': True})`\n",
      "2020-06-29 12:31:46,023 [denest.simulation] INFO:     Calling `nest.SetKernelStatus({'data_path': 'data/outputs/output/data', 'grng_seed': 11, 'rng_seeds': range(12, 13)})\n",
      "2020-06-29 12:31:46,027 [denest.simulation] INFO:   Finished setting NEST kernel status\n",
      "2020-06-29 12:31:46,030 [denest.simulation] INFO:   Installing external modules...\n",
      "2020-06-29 12:31:46,035 [denest.simulation] INFO:   Finished installing external modules\n",
      "2020-06-29 12:31:46,038 [denest.simulation] INFO: Finished initializing kernel\n"
     ]
    }
   ],
   "source": [
    "sim.init_kernel(kernel_tree)"
   ]
  },
  {
   "cell_type": "code",
   "execution_count": 6,
   "metadata": {},
   "outputs": [
    {
     "name": "stdout",
     "output_type": "stream",
     "text": [
      "0.5\n",
      "0.0\n"
     ]
    }
   ],
   "source": [
    "# nest_params have been passed to nest.SetKernelStatus\n",
    "print(nest.GetKernelStatus('resolution'))\n",
    "print(nest.GetKernelStatus('time'))"
   ]
  },
  {
   "cell_type": "code",
   "execution_count": 7,
   "metadata": {},
   "outputs": [
    {
     "data": {
      "text/plain": [
       "'data/outputs/output/data'"
      ]
     },
     "execution_count": 7,
     "metadata": {},
     "output_type": "execute_result"
    }
   ],
   "source": [
    "# The raw data will be saved in the output directory\n",
    "nest.GetKernelStatus('data_path')"
   ]
  },
  {
   "cell_type": "code",
   "execution_count": 8,
   "metadata": {},
   "outputs": [
    {
     "data": {
      "text/plain": [
       "ParamsTree(name='None', parent=None)\n",
       "  params: {}\n",
       "  nest_params: {}\n",
       "  kernel:\n",
       "    params:\n",
       "      nest_seed: 10\n",
       "      extension_modules: []\n",
       "    nest_params:\n",
       "      resolution: 0.5\n",
       "      overwrite_files: true\n",
       "  simulation:\n",
       "    params:\n",
       "      output_dir: data/outputs/output\n",
       "      sessions: []\n",
       "    nest_params: {}\n",
       "  session_models:\n",
       "    params: {}\n",
       "    nest_params: {}\n",
       "  network:\n",
       "    params: {}\n",
       "    nest_params: {}\n",
       "  "
      ]
     },
     "execution_count": 8,
     "metadata": {},
     "output_type": "execute_result"
    }
   ],
   "source": [
    "# The kernel params are saved in the simulation's tree\n",
    "sim.tree"
   ]
  },
  {
   "cell_type": "markdown",
   "metadata": {},
   "source": [
    "## Create a network\n",
    "\n",
    "We build and create the same network by passing the network tree,\n",
    "using the ``Simulation.create_network`` method"
   ]
  },
  {
   "cell_type": "code",
   "execution_count": 9,
   "metadata": {},
   "outputs": [],
   "source": [
    "net_tree = ParamsTree.read(PARAMS_DIR/'network/network_tree.yml')"
   ]
  },
  {
   "cell_type": "code",
   "execution_count": 10,
   "metadata": {},
   "outputs": [
    {
     "name": "stderr",
     "output_type": "stream",
     "text": [
      "2020-06-29 12:31:46,227 [denest.simulation] INFO: Building network.\n",
      "2020-06-29 12:31:46,240 [denest.network] INFO: Build N=2 ``Model`` objects\n",
      "2020-06-29 12:31:46,242 [denest.network] INFO: Build N=2 ``SynapseModel`` objects\n",
      "2020-06-29 12:31:46,243 [denest.network] INFO: Build N=3 ``Model`` objects\n",
      "2020-06-29 12:31:46,245 [denest.network] INFO: Build N=2 ``Layer`` or ``InputLayer`` objects.\n",
      "2020-06-29 12:31:46,247 [denest.utils.validation] INFO: Object `proj_1_AMPA`: params: using default value for optional parameters:\n",
      "{'type': 'topological'}\n",
      "2020-06-29 12:31:46,248 [denest.utils.validation] INFO: Object `proj_2_GABAA`: params: using default value for optional parameters:\n",
      "{'type': 'topological'}\n",
      "2020-06-29 12:31:46,251 [denest.network] INFO: Build N=2 ``ProjectionModel`` objects\n",
      "2020-06-29 12:31:46,255 [denest.network] INFO: Build N=3 ``TopoProjection`` objects\n",
      "2020-06-29 12:31:46,258 [denest.network] INFO: Build N=2 population recorders.\n",
      "2020-06-29 12:31:46,260 [denest.network] INFO: Build N=1 projection recorders.\n",
      "2020-06-29 12:31:46,261 [denest.simulation] INFO: Creating network.\n",
      "2020-06-29 12:31:46,263 [denest.network] INFO: Creating neuron models...\n",
      "100%|██████████| 2/2 [00:00<00:00, 2283.24it/s]\n",
      "2020-06-29 12:31:46,269 [denest.network] INFO: Creating synapse models...\n",
      "100%|██████████| 2/2 [00:00<00:00, 1112.40it/s]\n",
      "2020-06-29 12:31:46,275 [denest.network] INFO: Creating recorder models...\n",
      "100%|██████████| 3/3 [00:00<00:00, 1377.29it/s]\n",
      "2020-06-29 12:31:46,281 [denest.network] INFO: Creating layers...\n",
      "  0%|          | 0/2 [00:00<?, ?it/s]/Users/tom/nest/nest-simulator-2.20.0/lib/python3.7/site-packages/nest/lib/hl_api_helper.py:127: UserWarning:\n",
      "GetNodes is deprecated and will be removed in NEST 3.0. Use             GIDCollection instead.\n",
      "100%|██████████| 2/2 [00:00<00:00, 13.49it/s]\n",
      "2020-06-29 12:31:46,434 [denest.network] INFO: Creating population recorders...\n",
      "100%|██████████| 2/2 [00:00<00:00, 136.95it/s]\n",
      "2020-06-29 12:31:46,452 [denest.network] INFO: Creating projection recorders...\n",
      "100%|██████████| 1/1 [00:00<00:00, 402.72it/s]\n",
      "2020-06-29 12:31:46,458 [denest.network] INFO: Connecting layers...\n",
      "100%|██████████| 3/3 [00:00<00:00, 682.11it/s]\n",
      "2020-06-29 12:31:46,467 [denest.network] INFO: Network size (including recorders and parrot neurons):\n",
      "Number of nodes: 206\n",
      "Number of projections: 6650\n",
      "2020-06-29 12:31:46,468 [denest.simulation] INFO: Finished creating network\n"
     ]
    }
   ],
   "source": [
    "sim.create_network(net_tree)"
   ]
  },
  {
   "cell_type": "code",
   "execution_count": 11,
   "metadata": {},
   "outputs": [
    {
     "data": {
      "text/plain": [
       "(52,)"
      ]
     },
     "execution_count": 11,
     "metadata": {},
     "output_type": "execute_result"
    }
   ],
   "source": [
    "# Network object was created and can be accessed as we learnt\n",
    "sim.network.layers['l1'].gid"
   ]
  },
  {
   "cell_type": "code",
   "execution_count": 12,
   "metadata": {},
   "outputs": [
    {
     "data": {
      "text/plain": [
       "ParamsTree(name='None', parent=None)\n",
       "  params: {}\n",
       "  nest_params: {}\n",
       "  kernel:\n",
       "    params:\n",
       "      nest_seed: 10\n",
       "      extension_modules: []\n",
       "    nest_params:\n",
       "      resolution: 0.5\n",
       "      overwrite_files: true\n",
       "  simulation:\n",
       "    params:\n",
       "      output_dir: data/outputs/output\n",
       "      sessions: []\n",
       "    nest_params: {}\n",
       "  session_models:\n",
       "  \n",
       "  ... [135 lines] ...\n",
       "\n",
       "        - layers:\n",
       "          - input_layer\n",
       "          populations: null\n",
       "          model: my_spike_detector\n",
       "        projection_recorders:\n",
       "        - source_layers:\n",
       "          - l1\n",
       "          source_population: l1_exc\n",
       "          target_layers:\n",
       "          - l1\n",
       "          target_population: l1_inh\n",
       "          projection_model: proj_1_AMPA\n",
       "          model: weight_recorder\n",
       "      nest_params: {}\n",
       "  "
      ]
     },
     "execution_count": 12,
     "metadata": {},
     "output_type": "execute_result"
    }
   ],
   "source": [
    "# network tree was saved and can be re-used\n",
    "sim.tree"
   ]
  },
  {
   "cell_type": "markdown",
   "metadata": {},
   "source": [
    "## Create some sessions\n",
    "\n",
    "Sessions allow us to run the network in specific conditions.\n",
    "\n",
    "Session parameters:\n",
    "\n",
    "- ``simulation_time`` (float): Duration of the session in ms.\n",
    "    (mandatory)\n",
    "- ``reset_network`` (bool): If true, ``nest.ResetNetwork()`` is\n",
    "    called during session initialization (default ``False``)\n",
    "- ``record`` (bool): If false, the ``start_time`` field of\n",
    "    recorder nodes in NEST is set to the end time of the\n",
    "    session, so that no data is recorded during the session\n",
    "    (default ``True``)\n",
    "- ``shift_origin`` (bool): If True, the ``origin`` flag of the\n",
    "    stimulation devices of all the network's ``InputLayer``\n",
    "    layers is set to the start of the session during\n",
    "    initialization. Useful to repeat sessions when the\n",
    "    stimulators are eg spike generators.\n",
    "- ``unit_changes`` (list): List describing the changes applied\n",
    "    to certain units before the start of the session.\n",
    "    Passed to ``Network.set_state``.\n",
    "- ``synapse_changes`` (list): List describing the changes\n",
    "    applied to certain synapses before the start of the session.\n",
    "    Passed to ``Network.set_state``. Refer to that\n",
    "    method for a description of how ``synapse_changes`` is\n",
    "    formatted and interpreted. No changes happen if empty.\n",
    "    (default [])\n"
   ]
  },
  {
   "cell_type": "markdown",
   "metadata": {},
   "source": [
    "### Build session models from a tree"
   ]
  },
  {
   "cell_type": "code",
   "execution_count": 13,
   "metadata": {},
   "outputs": [
    {
     "name": "stdout",
     "output_type": "stream",
     "text": [
      "params:\n",
      "  record: true\n",
      "  shift_origin: true\n",
      "  simulation_time: 100.0\n",
      "nest_params: {}\n",
      "warmup:\n",
      "  params:\n",
      "    record: false\n",
      "  nest_params: {}\n",
      "2_spikes:\n",
      "  params:\n",
      "    unit_changes:\n",
      "    - layers:\n",
      "      - input_layer\n",
      "      population_name: spike_generator\n",
      "      nest_params:\n",
      "        spike_times:\n",
      "        - 1.0\n",
      "        - 10.0\n",
      "  nest_params: {}\n",
      "3_spikes:\n",
      "  params:\n",
      "    unit_changes:\n",
      "    - layers:\n",
      "      - input_layer\n",
      "      population_name: spike_generator\n",
      "      nest_params:\n",
      "        spike_times:\n",
      "        - 1.0\n",
      "        - 10.0\n",
      "        - 20.0\n",
      "  nest_params: {}\n",
      "\n"
     ]
    }
   ],
   "source": [
    "# Notice the hierarchical inheritance as before\n",
    "session_models_tree = ParamsTree.read(PARAMS_DIR/'session_models.yml').children['session_models']\n",
    "print(session_models_tree)"
   ]
  },
  {
   "cell_type": "code",
   "execution_count": 14,
   "metadata": {},
   "outputs": [
    {
     "name": "stderr",
     "output_type": "stream",
     "text": [
      "2020-06-29 12:31:46,595 [denest.simulation] INFO: Build N=3 session models\n"
     ]
    }
   ],
   "source": [
    "sim.build_session_models(session_models_tree)"
   ]
  },
  {
   "cell_type": "code",
   "execution_count": 15,
   "metadata": {},
   "outputs": [
    {
     "data": {
      "text/plain": [
       "ParamsTree(name='session_models', parent='None')\n",
       "  params:\n",
       "    record: true\n",
       "    shift_origin: true\n",
       "    simulation_time: 100.0\n",
       "  nest_params: {}\n",
       "  warmup:\n",
       "    params:\n",
       "      record: false\n",
       "    nest_params: {}\n",
       "  2_spikes:\n",
       "    params:\n",
       "      unit_changes:\n",
       "      - layers:\n",
       "        - input_layer\n",
       "        population_name: spike_generator\n",
       "  \n",
       "  ... [3 lines] ...\n",
       "\n",
       "          - 10.0\n",
       "    nest_params: {}\n",
       "  3_spikes:\n",
       "    params:\n",
       "      unit_changes:\n",
       "      - layers:\n",
       "        - input_layer\n",
       "        population_name: spike_generator\n",
       "        nest_params:\n",
       "          spike_times:\n",
       "          - 1.0\n",
       "          - 10.0\n",
       "          - 20.0\n",
       "    nest_params: {}\n",
       "  "
      ]
     },
     "execution_count": 15,
     "metadata": {},
     "output_type": "execute_result"
    }
   ],
   "source": [
    "sim.tree.children['session_models']"
   ]
  },
  {
   "cell_type": "markdown",
   "metadata": {},
   "source": [
    "### Build a list of sessions from the ``session_models`` templates"
   ]
  },
  {
   "cell_type": "code",
   "execution_count": 16,
   "metadata": {},
   "outputs": [],
   "source": [
    "sessions_order =  ['warmup', '3_spikes', '2_spikes', '3_spikes']\n"
   ]
  },
  {
   "cell_type": "code",
   "execution_count": 17,
   "metadata": {},
   "outputs": [
    {
     "name": "stderr",
     "output_type": "stream",
     "text": [
      "2020-06-29 12:31:46,677 [denest.simulation] INFO: Build N=4 sessions\n",
      "2020-06-29 12:31:46,678 [denest.session] INFO: Creating session \"00_warmup\"\n",
      "2020-06-29 12:31:46,679 [denest.utils.validation] INFO: Object `00_warmup`: params: using default value for optional parameters:\n",
      "{'reset_network': False, 'synapse_changes': [], 'unit_changes': []}\n",
      "2020-06-29 12:31:46,680 [denest.session] INFO: Creating session \"01_3_spikes\"\n",
      "2020-06-29 12:31:46,682 [denest.utils.validation] INFO: Object `01_3_spikes`: params: using default value for optional parameters:\n",
      "{'reset_network': False, 'synapse_changes': []}\n",
      "2020-06-29 12:31:46,683 [denest.session] INFO: Creating session \"02_2_spikes\"\n",
      "2020-06-29 12:31:46,684 [denest.utils.validation] INFO: Object `02_2_spikes`: params: using default value for optional parameters:\n",
      "{'reset_network': False, 'synapse_changes': []}\n",
      "2020-06-29 12:31:46,686 [denest.session] INFO: Creating session \"03_3_spikes\"\n",
      "2020-06-29 12:31:46,687 [denest.utils.validation] INFO: Object `03_3_spikes`: params: using default value for optional parameters:\n",
      "{'reset_network': False, 'synapse_changes': []}\n",
      "2020-06-29 12:31:46,689 [denest.simulation] INFO: Sessions: ['00_warmup', '01_3_spikes', '02_2_spikes', '03_3_spikes']\n"
     ]
    }
   ],
   "source": [
    "sim.build_sessions(sessions_order)"
   ]
  },
  {
   "cell_type": "code",
   "execution_count": 18,
   "metadata": {},
   "outputs": [
    {
     "data": {
      "text/plain": [
       "[Session(00_warmup, {'record': False,\n",
       "  'reset_network': False,\n",
       "  'shift_origin': True,\n",
       "  'simulation_time': 100.0,\n",
       "  'synapse_changes': [],\n",
       "  'unit_changes': []}),\n",
       " Session(01_3_spikes, {'record': True,\n",
       "  'reset_network': False,\n",
       "  'shift_origin': True,\n",
       "  'simulation_time': 100.0,\n",
       "  'synapse_changes': [],\n",
       "  'unit_changes': [{'layers': ['input_layer'],\n",
       "                    'nest_params': {'spike_times': [1.0, 10.0, 20.0]},\n",
       "                    'population_name': 'spike_generator'}]}),\n",
       " Session(02_2_spikes, {'record': True,\n",
       "  'reset_network': False,\n",
       "  'shift_origin': True,\n",
       "  'simulation_time': 100.0,\n",
       "  'synapse_changes': [],\n",
       "  'unit_changes': [{'layers': ['input_layer'],\n",
       "                    'nest_params': {'spike_times': [1.0, 10.0]},\n",
       "                    'population_name': 'spike_generator'}]}),\n",
       " Session(03_3_spikes, {'record': True,\n",
       "  'reset_network': False,\n",
       "  'shift_origin': True,\n",
       "  'simulation_time': 100.0,\n",
       "  'synapse_changes': [],\n",
       "  'unit_changes': [{'layers': ['input_layer'],\n",
       "                    'nest_params': {'spike_times': [1.0, 10.0, 20.0]},\n",
       "                    'population_name': 'spike_generator'}]})]"
      ]
     },
     "execution_count": 18,
     "metadata": {},
     "output_type": "execute_result"
    }
   ],
   "source": [
    "# Notice the session names\n",
    "sim.sessions"
   ]
  },
  {
   "cell_type": "code",
   "execution_count": 19,
   "metadata": {},
   "outputs": [
    {
     "data": {
      "text/plain": [
       "ParamsTree(name='simulation', parent='None')\n",
       "  params:\n",
       "    output_dir: data/outputs/output\n",
       "    sessions:\n",
       "    - warmup\n",
       "    - 3_spikes\n",
       "    - 2_spikes\n",
       "    - 3_spikes\n",
       "  nest_params: {}\n",
       "  "
      ]
     },
     "execution_count": 19,
     "metadata": {},
     "output_type": "execute_result"
    }
   ],
   "source": [
    "# The session order is saved in the simulation parameters\n",
    "\n",
    "sim.tree.children['simulation']"
   ]
  },
  {
   "cell_type": "markdown",
   "metadata": {},
   "source": [
    "## Run the simulation"
   ]
  },
  {
   "cell_type": "code",
   "execution_count": 20,
   "metadata": {},
   "outputs": [
    {
     "name": "stdout",
     "output_type": "stream",
     "text": [
      "kernel time:  0.0\n"
     ]
    }
   ],
   "source": [
    "print('kernel time: ', nest.GetKernelStatus('time'))"
   ]
  },
  {
   "cell_type": "code",
   "execution_count": 21,
   "metadata": {},
   "outputs": [
    {
     "name": "stderr",
     "output_type": "stream",
     "text": [
      "2020-06-29 12:31:46,794 [denest.simulation] INFO: Running 4 sessions...\n",
      "2020-06-29 12:31:46,795 [denest.simulation] INFO: Running session: '00_warmup'...\n",
      "2020-06-29 12:31:46,796 [denest.session] INFO: Initializing session...\n",
      "2020-06-29 12:31:46,798 [denest.network.recorders] INFO:   Setting status for recorder my_multimeter_l1_l1_exc: {'start': 100.0}\n",
      "2020-06-29 12:31:46,799 [denest.network.recorders] INFO:   Setting status for recorder my_spike_detector_input_layer_parrot_neuron: {'start': 100.0}\n",
      "2020-06-29 12:31:46,800 [denest.network.recorders] INFO:   Setting status for recorder weight_recorder_proj_1_AMPA-l1-l1_exc-l1-l1_inh: {'start': 100.0}\n",
      "2020-06-29 12:31:46,801 [denest.session] INFO: Setting `origin` flag to `0.0` for all stimulation devices in ``InputLayers`` for session `00_warmup`\n",
      "2020-06-29 12:31:46,808 [denest.session] INFO: Finished initializing session\n",
      "\n",
      "2020-06-29 12:31:46,809 [denest.session] INFO: Running session '00_warmup' for 100 ms\n",
      "2020-06-29 12:31:46,917 [denest.session] INFO: Finished running session\n",
      "2020-06-29 12:31:46,919 [denest.session] INFO: Session '00_warmup' virtual running time: 100 ms\n",
      "2020-06-29 12:31:46,920 [denest.session] INFO: Session '00_warmup' real running time: 0h:00m:00s\n",
      "2020-06-29 12:31:46,921 [denest.simulation] INFO: Done running session '00_warmup'\n",
      "2020-06-29 12:31:46,922 [denest.simulation] INFO: Running session: '01_3_spikes'...\n",
      "2020-06-29 12:31:46,923 [denest.session] INFO: Initializing session...\n",
      "2020-06-29 12:31:46,924 [denest.session] INFO: Setting `origin` flag to `100.0` for all stimulation devices in ``InputLayers`` for session `01_3_spikes`\n",
      "2020-06-29 12:31:46,928 [denest.utils.validation] INFO: Object `Unit changes dictionary`: params: using default value for optional parameters:\n",
      "{'change_type': 'constant', 'from_array': False}\n",
      "2020-06-29 12:31:46,929 [denest.network.layers] INFO: Layer='input_layer', pop='spike_generator': Applying 'constant' change, param='spike_times', from single value')\n",
      "2020-06-29 12:31:47,001 [denest.session] INFO: Finished initializing session\n",
      "\n",
      "2020-06-29 12:31:47,002 [denest.session] INFO: Running session '01_3_spikes' for 100 ms\n",
      "2020-06-29 12:31:47,126 [denest.session] INFO: Finished running session\n",
      "2020-06-29 12:31:47,127 [denest.session] INFO: Session '01_3_spikes' virtual running time: 100 ms\n",
      "2020-06-29 12:31:47,127 [denest.session] INFO: Session '01_3_spikes' real running time: 0h:00m:00s\n",
      "2020-06-29 12:31:47,130 [denest.simulation] INFO: Done running session '01_3_spikes'\n",
      "2020-06-29 12:31:47,132 [denest.simulation] INFO: Running session: '02_2_spikes'...\n",
      "2020-06-29 12:31:47,133 [denest.session] INFO: Initializing session...\n",
      "2020-06-29 12:31:47,135 [denest.session] INFO: Setting `origin` flag to `200.0` for all stimulation devices in ``InputLayers`` for session `02_2_spikes`\n",
      "2020-06-29 12:31:47,141 [denest.utils.validation] INFO: Object `Unit changes dictionary`: params: using default value for optional parameters:\n",
      "{'change_type': 'constant', 'from_array': False}\n",
      "2020-06-29 12:31:47,142 [denest.network.layers] INFO: Layer='input_layer', pop='spike_generator': Applying 'constant' change, param='spike_times', from single value')\n",
      "2020-06-29 12:31:47,202 [denest.session] INFO: Finished initializing session\n",
      "\n",
      "2020-06-29 12:31:47,203 [denest.session] INFO: Running session '02_2_spikes' for 100 ms\n",
      "2020-06-29 12:31:47,378 [denest.session] INFO: Finished running session\n",
      "2020-06-29 12:31:47,378 [denest.session] INFO: Session '02_2_spikes' virtual running time: 100 ms\n",
      "2020-06-29 12:31:47,379 [denest.session] INFO: Session '02_2_spikes' real running time: 0h:00m:00s\n",
      "2020-06-29 12:31:47,380 [denest.simulation] INFO: Done running session '02_2_spikes'\n",
      "2020-06-29 12:31:47,381 [denest.simulation] INFO: Running session: '03_3_spikes'...\n",
      "2020-06-29 12:31:47,382 [denest.session] INFO: Initializing session...\n",
      "2020-06-29 12:31:47,383 [denest.session] INFO: Setting `origin` flag to `300.0` for all stimulation devices in ``InputLayers`` for session `03_3_spikes`\n",
      "2020-06-29 12:31:47,388 [denest.utils.validation] INFO: Object `Unit changes dictionary`: params: using default value for optional parameters:\n",
      "{'change_type': 'constant', 'from_array': False}\n",
      "2020-06-29 12:31:47,390 [denest.network.layers] INFO: Layer='input_layer', pop='spike_generator': Applying 'constant' change, param='spike_times', from single value')\n",
      "2020-06-29 12:31:47,458 [denest.session] INFO: Finished initializing session\n",
      "\n",
      "2020-06-29 12:31:47,459 [denest.session] INFO: Running session '03_3_spikes' for 100 ms\n",
      "2020-06-29 12:31:47,546 [denest.session] INFO: Finished running session\n",
      "2020-06-29 12:31:47,546 [denest.session] INFO: Session '03_3_spikes' virtual running time: 100 ms\n",
      "2020-06-29 12:31:47,547 [denest.session] INFO: Session '03_3_spikes' real running time: 0h:00m:00s\n",
      "2020-06-29 12:31:47,549 [denest.simulation] INFO: Done running session '03_3_spikes'\n",
      "2020-06-29 12:31:47,550 [denest.simulation] INFO: Finished running simulation\n"
     ]
    }
   ],
   "source": [
    "sim.run()"
   ]
  },
  {
   "cell_type": "code",
   "execution_count": 22,
   "metadata": {},
   "outputs": [
    {
     "data": {
      "text/plain": [
       "400.0"
      ]
     },
     "execution_count": 22,
     "metadata": {},
     "output_type": "execute_result"
    }
   ],
   "source": [
    "nest.GetKernelStatus('time')"
   ]
  },
  {
   "cell_type": "markdown",
   "metadata": {},
   "source": [
    "### Since the initialized Simulation object was empty, we need to save the metadata"
   ]
  },
  {
   "cell_type": "code",
   "execution_count": 23,
   "metadata": {},
   "outputs": [
    {
     "name": "stderr",
     "output_type": "stream",
     "text": [
      "2020-06-29 12:31:47,620 [denest.simulation] INFO: Saving simulation metadata...\n",
      "2020-06-29 12:31:47,621 [denest.simulation] INFO: Creating output directory: data/outputs/output\n",
      "2020-06-29 12:31:47,656 [denest.simulation] INFO: Finished saving simulation metadata\n"
     ]
    }
   ],
   "source": [
    "sim.save_metadata()"
   ]
  },
  {
   "cell_type": "code",
   "execution_count": 24,
   "metadata": {},
   "outputs": [
    {
     "name": "stdout",
     "output_type": "stream",
     "text": [
      "\u001b[1m\u001b[36mdata\u001b[m\u001b[m               parameter_tree.yml session_times.yml  versions.txt\r\n"
     ]
    }
   ],
   "source": [
    "!ls {OUTPUT_DIR}"
   ]
  },
  {
   "cell_type": "code",
   "execution_count": 25,
   "metadata": {},
   "outputs": [
    {
     "name": "stdout",
     "output_type": "stream",
     "text": [
      "00_warmup: !!python/tuple\r\n",
      "- 0.0\r\n",
      "- 100.0\r\n",
      "01_3_spikes: !!python/tuple\r\n",
      "- 100.0\r\n",
      "- 200.0\r\n",
      "02_2_spikes: !!python/tuple\r\n",
      "- 200.0\r\n",
      "- 300.0\r\n",
      "03_3_spikes: !!python/tuple\r\n",
      "- 300.0\r\n",
      "- 400.0\r\n"
     ]
    }
   ],
   "source": [
    "!cat {OUTPUT_DIR/'session_times.yml'}"
   ]
  },
  {
   "cell_type": "code",
   "execution_count": 26,
   "metadata": {},
   "outputs": [
    {
     "name": "stdout",
     "output_type": "stream",
     "text": [
      "my_multimeter_l1_l1_exc-203-0.dat\r\n",
      "my_multimeter_l1_l1_exc.yml\r\n",
      "my_spike_detector_input_layer_parrot_neuron-204-0.gdf\r\n",
      "my_spike_detector_input_layer_parrot_neuron.yml\r\n",
      "weight_recorder_proj_1_AMPA-l1-l1_exc-l1-l1_inh-205-0.csv\r\n",
      "weight_recorder_proj_1_AMPA-l1-l1_exc-l1-l1_inh.yml\r\n"
     ]
    }
   ],
   "source": [
    "!ls {OUTPUT_DIR/'data'}"
   ]
  },
  {
   "cell_type": "markdown",
   "metadata": {},
   "source": [
    "## Replicate the simulation"
   ]
  },
  {
   "cell_type": "code",
   "execution_count": 27,
   "metadata": {},
   "outputs": [
    {
     "data": {
      "text/plain": [
       "ParamsTree(name='None', parent=None)\n",
       "  params: {}\n",
       "  nest_params: {}\n",
       "  kernel:\n",
       "    params:\n",
       "      nest_seed: 10\n",
       "      extension_modules: []\n",
       "    nest_params:\n",
       "      resolution: 0.5\n",
       "      overwrite_files: true\n",
       "  simulation:\n",
       "    params:\n",
       "      output_dir: data/outputs/output\n",
       "      sessions:\n",
       "      - warmup\n",
       "      - 3_spikes\n",
       "  \n",
       "  ... [169 lines] ...\n",
       "\n",
       "        - layers:\n",
       "          - input_layer\n",
       "          populations: null\n",
       "          model: my_spike_detector\n",
       "        projection_recorders:\n",
       "        - source_layers:\n",
       "          - l1\n",
       "          source_population: l1_exc\n",
       "          target_layers:\n",
       "          - l1\n",
       "          target_population: l1_inh\n",
       "          projection_model: proj_1_AMPA\n",
       "          model: weight_recorder\n",
       "      nest_params: {}\n",
       "  "
      ]
     },
     "execution_count": 27,
     "metadata": {},
     "output_type": "execute_result"
    }
   ],
   "source": [
    "params = ParamsTree.read(OUTPUT_DIR/'parameter_tree.yml')\n",
    "params"
   ]
  },
  {
   "cell_type": "code",
   "execution_count": 28,
   "metadata": {},
   "outputs": [
    {
     "name": "stderr",
     "output_type": "stream",
     "text": [
      "2020-06-29 12:31:48,345 [denest.utils.validation] INFO: Object `simulation`: params: using default value for optional parameters:\n",
      "{'input_dir': 'input'}\n",
      "2020-06-29 12:31:48,347 [denest.simulation] INFO: Initializing NEST kernel and seeds...\n",
      "2020-06-29 12:31:48,347 [denest.simulation] INFO:   Resetting NEST kernel...\n",
      "2020-06-29 12:31:48,357 [denest.simulation] INFO:   Setting NEST kernel status...\n",
      "2020-06-29 12:31:48,358 [denest.simulation] INFO:     Calling `nest.SetKernelStatus({'resolution': 0.5, 'overwrite_files': True})`\n",
      "2020-06-29 12:31:48,361 [denest.simulation] INFO:     Calling `nest.SetKernelStatus({'data_path': 'data/outputs/output_replicate/data', 'grng_seed': 11, 'rng_seeds': range(12, 13)})\n",
      "2020-06-29 12:31:48,366 [denest.simulation] INFO:   Finished setting NEST kernel status\n",
      "2020-06-29 12:31:48,367 [denest.simulation] INFO:   Installing external modules...\n",
      "2020-06-29 12:31:48,369 [denest.simulation] INFO:   Finished installing external modules\n",
      "2020-06-29 12:31:48,370 [denest.simulation] INFO: Finished initializing kernel\n",
      "2020-06-29 12:31:48,372 [denest.simulation] INFO: Build N=3 session models\n",
      "2020-06-29 12:31:48,374 [denest.simulation] INFO: Build N=4 sessions\n",
      "2020-06-29 12:31:48,376 [denest.session] INFO: Creating session \"00_warmup\"\n",
      "2020-06-29 12:31:48,380 [denest.utils.validation] INFO: Object `00_warmup`: params: using default value for optional parameters:\n",
      "{'reset_network': False, 'synapse_changes': [], 'unit_changes': []}\n",
      "2020-06-29 12:31:48,383 [denest.session] INFO: Creating session \"01_3_spikes\"\n",
      "2020-06-29 12:31:48,390 [denest.utils.validation] INFO: Object `01_3_spikes`: params: using default value for optional parameters:\n",
      "{'reset_network': False, 'synapse_changes': []}\n",
      "2020-06-29 12:31:48,393 [denest.session] INFO: Creating session \"02_2_spikes\"\n",
      "2020-06-29 12:31:48,397 [denest.utils.validation] INFO: Object `02_2_spikes`: params: using default value for optional parameters:\n",
      "{'reset_network': False, 'synapse_changes': []}\n",
      "2020-06-29 12:31:48,400 [denest.session] INFO: Creating session \"03_3_spikes\"\n",
      "2020-06-29 12:31:48,402 [denest.utils.validation] INFO: Object `03_3_spikes`: params: using default value for optional parameters:\n",
      "{'reset_network': False, 'synapse_changes': []}\n",
      "2020-06-29 12:31:48,405 [denest.simulation] INFO: Sessions: ['00_warmup', '01_3_spikes', '02_2_spikes', '03_3_spikes']\n",
      "2020-06-29 12:31:48,408 [denest.simulation] INFO: Building network.\n",
      "2020-06-29 12:31:48,429 [denest.network] INFO: Build N=2 ``Model`` objects\n",
      "2020-06-29 12:31:48,431 [denest.network] INFO: Build N=2 ``SynapseModel`` objects\n",
      "2020-06-29 12:31:48,432 [denest.network] INFO: Build N=3 ``Model`` objects\n",
      "2020-06-29 12:31:48,434 [denest.network] INFO: Build N=2 ``Layer`` or ``InputLayer`` objects.\n",
      "2020-06-29 12:31:48,436 [denest.utils.validation] INFO: Object `proj_1_AMPA`: params: using default value for optional parameters:\n",
      "{'type': 'topological'}\n",
      "2020-06-29 12:31:48,437 [denest.utils.validation] INFO: Object `proj_2_GABAA`: params: using default value for optional parameters:\n",
      "{'type': 'topological'}\n",
      "2020-06-29 12:31:48,438 [denest.network] INFO: Build N=2 ``ProjectionModel`` objects\n",
      "2020-06-29 12:31:48,442 [denest.network] INFO: Build N=3 ``TopoProjection`` objects\n",
      "2020-06-29 12:31:48,445 [denest.network] INFO: Build N=2 population recorders.\n",
      "2020-06-29 12:31:48,446 [denest.network] INFO: Build N=1 projection recorders.\n",
      "2020-06-29 12:31:48,446 [denest.simulation] INFO: Creating network.\n",
      "2020-06-29 12:31:48,447 [denest.network] INFO: Creating neuron models...\n",
      "100%|██████████| 2/2 [00:00<00:00, 1528.82it/s]\n",
      "2020-06-29 12:31:48,453 [denest.network] INFO: Creating synapse models...\n",
      "100%|██████████| 2/2 [00:00<00:00, 1114.17it/s]\n",
      "2020-06-29 12:31:48,459 [denest.network] INFO: Creating recorder models...\n",
      "100%|██████████| 3/3 [00:00<00:00, 1912.01it/s]\n",
      "2020-06-29 12:31:48,463 [denest.network] INFO: Creating layers...\n",
      "100%|██████████| 2/2 [00:00<00:00, 13.50it/s]\n",
      "2020-06-29 12:31:48,617 [denest.network] INFO: Creating population recorders...\n",
      "100%|██████████| 2/2 [00:00<00:00, 138.88it/s]\n",
      "2020-06-29 12:31:48,634 [denest.network] INFO: Creating projection recorders...\n",
      "100%|██████████| 1/1 [00:00<00:00, 325.62it/s]\n",
      "2020-06-29 12:31:48,640 [denest.network] INFO: Connecting layers...\n",
      "100%|██████████| 3/3 [00:00<00:00, 725.16it/s]\n",
      "2020-06-29 12:31:48,648 [denest.network] INFO: Network size (including recorders and parrot neurons):\n",
      "Number of nodes: 206\n",
      "Number of projections: 6650\n",
      "2020-06-29 12:31:48,650 [denest.simulation] INFO: Finished creating network\n",
      "2020-06-29 12:31:48,651 [denest.simulation] INFO: Saving simulation metadata...\n",
      "2020-06-29 12:31:48,653 [denest.simulation] INFO: Creating output directory: data/outputs/output_replicate\n",
      "2020-06-29 12:31:48,655 [denest.io.save] INFO: Clearing directory: data/outputs/output_replicate\n",
      "2020-06-29 12:31:48,659 [denest.io.save] INFO: Clearing directory: data/outputs/output_replicate\n",
      "2020-06-29 12:31:48,660 [denest.io.save] INFO: Clearing directory: data/outputs/output_replicate/data\n",
      "2020-06-29 12:31:48,665 [denest.io.save] INFO: Clearing directory: data/outputs/output_replicate/data\n",
      "2020-06-29 12:31:48,667 [denest.io.save] INFO: Clearing directory: data/outputs/output_replicate/data\n",
      "2020-06-29 12:31:48,667 [denest.io.save] INFO: Clearing directory: data/outputs/output_replicate\n",
      "2020-06-29 12:31:48,789 [denest.simulation] INFO: Finished saving simulation metadata\n",
      "2020-06-29 12:31:48,790 [denest.simulation] INFO: Running 4 sessions...\n",
      "2020-06-29 12:31:48,790 [denest.simulation] INFO: Running session: '00_warmup'...\n",
      "2020-06-29 12:31:48,792 [denest.session] INFO: Initializing session...\n",
      "2020-06-29 12:31:48,850 [denest.network.recorders] INFO:   Setting status for recorder my_multimeter_l1_l1_exc: {'start': 100.0}\n",
      "2020-06-29 12:31:48,859 [denest.network.recorders] INFO:   Setting status for recorder my_spike_detector_input_layer_parrot_neuron: {'start': 100.0}\n",
      "2020-06-29 12:31:48,860 [denest.network.recorders] INFO:   Setting status for recorder weight_recorder_proj_1_AMPA-l1-l1_exc-l1-l1_inh: {'start': 100.0}\n",
      "2020-06-29 12:31:48,863 [denest.session] INFO: Setting `origin` flag to `0.0` for all stimulation devices in ``InputLayers`` for session `00_warmup`\n",
      "2020-06-29 12:31:48,870 [denest.session] INFO: Finished initializing session\n",
      "\n",
      "2020-06-29 12:31:48,880 [denest.session] INFO: Running session '00_warmup' for 100 ms\n",
      "2020-06-29 12:31:49,018 [denest.session] INFO: Finished running session\n",
      "2020-06-29 12:31:49,020 [denest.session] INFO: Session '00_warmup' virtual running time: 100 ms\n",
      "2020-06-29 12:31:49,021 [denest.session] INFO: Session '00_warmup' real running time: 0h:00m:00s\n",
      "2020-06-29 12:31:49,028 [denest.simulation] INFO: Done running session '00_warmup'\n",
      "2020-06-29 12:31:49,046 [denest.simulation] INFO: Running session: '01_3_spikes'...\n",
      "2020-06-29 12:31:49,047 [denest.session] INFO: Initializing session...\n",
      "2020-06-29 12:31:49,048 [denest.session] INFO: Setting `origin` flag to `100.0` for all stimulation devices in ``InputLayers`` for session `01_3_spikes`\n",
      "2020-06-29 12:31:49,057 [denest.utils.validation] INFO: Object `Unit changes dictionary`: params: using default value for optional parameters:\n",
      "{'change_type': 'constant', 'from_array': False}\n",
      "2020-06-29 12:31:49,059 [denest.network.layers] INFO: Layer='input_layer', pop='spike_generator': Applying 'constant' change, param='spike_times', from single value')\n",
      "2020-06-29 12:31:49,119 [denest.session] INFO: Finished initializing session\n",
      "\n",
      "2020-06-29 12:31:49,120 [denest.session] INFO: Running session '01_3_spikes' for 100 ms\n",
      "2020-06-29 12:31:49,245 [denest.session] INFO: Finished running session\n",
      "2020-06-29 12:31:49,246 [denest.session] INFO: Session '01_3_spikes' virtual running time: 100 ms\n",
      "2020-06-29 12:31:49,247 [denest.session] INFO: Session '01_3_spikes' real running time: 0h:00m:00s\n",
      "2020-06-29 12:31:49,248 [denest.simulation] INFO: Done running session '01_3_spikes'\n",
      "2020-06-29 12:31:49,250 [denest.simulation] INFO: Running session: '02_2_spikes'...\n",
      "2020-06-29 12:31:49,251 [denest.session] INFO: Initializing session...\n",
      "2020-06-29 12:31:49,252 [denest.session] INFO: Setting `origin` flag to `200.0` for all stimulation devices in ``InputLayers`` for session `02_2_spikes`\n"
     ]
    },
    {
     "name": "stderr",
     "output_type": "stream",
     "text": [
      "2020-06-29 12:31:49,265 [denest.utils.validation] INFO: Object `Unit changes dictionary`: params: using default value for optional parameters:\n",
      "{'change_type': 'constant', 'from_array': False}\n",
      "2020-06-29 12:31:49,272 [denest.network.layers] INFO: Layer='input_layer', pop='spike_generator': Applying 'constant' change, param='spike_times', from single value')\n",
      "2020-06-29 12:31:49,330 [denest.session] INFO: Finished initializing session\n",
      "\n",
      "2020-06-29 12:31:49,331 [denest.session] INFO: Running session '02_2_spikes' for 100 ms\n",
      "2020-06-29 12:31:49,453 [denest.session] INFO: Finished running session\n",
      "2020-06-29 12:31:49,455 [denest.session] INFO: Session '02_2_spikes' virtual running time: 100 ms\n",
      "2020-06-29 12:31:49,456 [denest.session] INFO: Session '02_2_spikes' real running time: 0h:00m:00s\n",
      "2020-06-29 12:31:49,458 [denest.simulation] INFO: Done running session '02_2_spikes'\n",
      "2020-06-29 12:31:49,462 [denest.simulation] INFO: Running session: '03_3_spikes'...\n",
      "2020-06-29 12:31:49,464 [denest.session] INFO: Initializing session...\n",
      "2020-06-29 12:31:49,475 [denest.session] INFO: Setting `origin` flag to `300.0` for all stimulation devices in ``InputLayers`` for session `03_3_spikes`\n",
      "2020-06-29 12:31:49,483 [denest.utils.validation] INFO: Object `Unit changes dictionary`: params: using default value for optional parameters:\n",
      "{'change_type': 'constant', 'from_array': False}\n",
      "2020-06-29 12:31:49,485 [denest.network.layers] INFO: Layer='input_layer', pop='spike_generator': Applying 'constant' change, param='spike_times', from single value')\n",
      "2020-06-29 12:31:49,548 [denest.session] INFO: Finished initializing session\n",
      "\n",
      "2020-06-29 12:31:49,549 [denest.session] INFO: Running session '03_3_spikes' for 100 ms\n",
      "2020-06-29 12:31:49,643 [denest.session] INFO: Finished running session\n",
      "2020-06-29 12:31:49,643 [denest.session] INFO: Session '03_3_spikes' virtual running time: 100 ms\n",
      "2020-06-29 12:31:49,644 [denest.session] INFO: Session '03_3_spikes' real running time: 0h:00m:00s\n",
      "2020-06-29 12:31:49,646 [denest.simulation] INFO: Done running session '03_3_spikes'\n",
      "2020-06-29 12:31:49,651 [denest.simulation] INFO: Finished running simulation\n"
     ]
    }
   ],
   "source": [
    "sim = denest.Simulation(params, output_dir=DATA_DIR/'output_replicate')\n",
    "sim.run()"
   ]
  },
  {
   "cell_type": "code",
   "execution_count": 29,
   "metadata": {},
   "outputs": [
    {
     "name": "stdout",
     "output_type": "stream",
     "text": [
      "\u001b[1m\u001b[36mdata\u001b[m\u001b[m               parameter_tree.yml session_times.yml  versions.txt\r\n"
     ]
    }
   ],
   "source": [
    "!ls {str(DATA_DIR/'output_replicate')} "
   ]
  }
 ],
 "metadata": {
  "kernelspec": {
   "display_name": "nets",
   "language": "python",
   "name": "nets"
  },
  "language_info": {
   "codemirror_mode": {
    "name": "ipython",
    "version": 3
   },
   "file_extension": ".py",
   "mimetype": "text/x-python",
   "name": "python",
   "nbconvert_exporter": "python",
   "pygments_lexer": "ipython3",
   "version": "3.7.5"
  },
  "widgets": {
   "application/vnd.jupyter.widget-state+json": {
    "state": {},
    "version_major": 2,
    "version_minor": 0
   }
  }
 },
 "nbformat": 4,
 "nbformat_minor": 4
}
