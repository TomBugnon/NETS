{
 "cells": [
  {
   "cell_type": "code",
   "execution_count": 1,
   "metadata": {},
   "outputs": [
    {
     "name": "stdout",
     "output_type": "stream",
     "text": [
      "The autoreload extension is already loaded. To reload it, use:\n",
      "  %reload_ext autoreload\n"
     ]
    }
   ],
   "source": [
    "%load_ext autoreload\n",
    "%autoreload 2\n",
    "\n",
    "import nest\n",
    "import yaml\n",
    "from pathlib import Path\n",
    "from pprint import pprint"
   ]
  },
  {
   "cell_type": "code",
   "execution_count": 2,
   "metadata": {},
   "outputs": [],
   "source": [
    "from denest import *"
   ]
  },
  {
   "cell_type": "code",
   "execution_count": 3,
   "metadata": {},
   "outputs": [],
   "source": [
    "PARAMS_DIR = Path('./params')\n",
    "OUTPUT_DIR = Path('./output')"
   ]
  },
  {
   "cell_type": "markdown",
   "metadata": {},
   "source": [
    "# Let's familiarize ourselves with the ``Network`` object\n",
    "\n",
    "__...by building the elements of the network one by one__\n",
    "\n",
    "In this section we:\n",
    "\n",
    "1. Initialize an empty ``Network`` object\n",
    "2. __Initialize all the elements of the network__ using  the ``Network.build_*`` methods\n",
    "    1. Models (neuron models, recorder models, synapse models\n",
    "    2. Layers\n",
    "    3. Connection models\n",
    "    4. Individual connections\n",
    "    5. Population and connection recorders\n",
    "3. __Create the network__ in NEST\n",
    "4. __Access the network elements__ (GIDs, etc)\n",
    "4. Export and reuse the parameter tree allowing us to __replicate the network__"
   ]
  },
  {
   "cell_type": "markdown",
   "metadata": {},
   "source": [
    "## Initialize an empty network\n",
    "\n",
    "When initialized without argument or with an empty tree as an argument, all the expected subtrees are initialized as empty.\n",
    "\n",
    "When building the elements interactively, the network's parameters are updated"
   ]
  },
  {
   "cell_type": "code",
   "execution_count": 4,
   "metadata": {},
   "outputs": [
    {
     "name": "stderr",
     "output_type": "stream",
     "text": [
      "2020-05-29 08:39:53,969 [denest.utils.validation] INFO: 'None' tree: adding empty child neuron_models\n",
      "2020-05-29 08:39:53,970 [denest.utils.validation] INFO: 'None' tree: adding empty child synapse_models\n",
      "2020-05-29 08:39:53,971 [denest.utils.validation] INFO: 'None' tree: adding empty child layers\n",
      "2020-05-29 08:39:53,972 [denest.utils.validation] INFO: 'None' tree: adding empty child connection_models\n",
      "2020-05-29 08:39:53,973 [denest.utils.validation] INFO: 'None' tree: adding empty child topology\n",
      "2020-05-29 08:39:53,974 [denest.utils.validation] INFO: 'None' tree: adding empty child recorder_models\n",
      "2020-05-29 08:39:53,975 [denest.utils.validation] INFO: 'None' tree: adding empty child recorders\n",
      "2020-05-29 08:39:53,978 [denest.network] INFO: Build N=0 ``Model`` objects\n",
      "2020-05-29 08:39:53,980 [denest.network] INFO: Build N=0 ``SynapseModel`` objects\n",
      "2020-05-29 08:39:53,984 [denest.network] INFO: Build N=0 ``Model`` objects\n",
      "2020-05-29 08:39:53,987 [denest.network] INFO: Build N=0 ``Layer`` or ``InputLayer`` objects.\n",
      "2020-05-29 08:39:53,990 [denest.network] INFO: Build N=0 ``ConnectionModel`` objects\n",
      "2020-05-29 08:39:53,992 [denest.utils.validation] INFO: Object `topology`: params: using default value for optional parameters:\n",
      "{'connections': []}\n",
      "2020-05-29 08:39:53,993 [denest.network] INFO: Build N=0 ``TopoConnection`` objects\n",
      "2020-05-29 08:39:53,995 [denest.utils.validation] INFO: Object `recorders`: params: using default value for optional parameters:\n",
      "{'connection_recorders': [], 'population_recorders': []}\n",
      "2020-05-29 08:39:53,996 [denest.network] INFO: Build N=0 population recorders.\n",
      "2020-05-29 08:39:53,997 [denest.network] INFO: Build N=0 connection recorders.\n",
      "2020-05-29 08:39:53,998 [denest.utils.validation] INFO: Object `topology`: params: using default value for optional parameters:\n",
      "{'connections': []}\n",
      "2020-05-29 08:39:54,000 [denest.network] INFO: Build N=0 ``TopoConnection`` objects\n",
      "2020-05-29 08:39:54,001 [denest.utils.validation] INFO: Object `recorders`: params: using default value for optional parameters:\n",
      "{'connection_recorders': [], 'population_recorders': []}\n",
      "2020-05-29 08:39:54,002 [denest.network] INFO: Build N=0 population recorders.\n",
      "2020-05-29 08:39:54,003 [denest.network] INFO: Build N=0 connection recorders.\n"
     ]
    }
   ],
   "source": [
    "net = Network()"
   ]
  },
  {
   "cell_type": "code",
   "execution_count": 5,
   "metadata": {},
   "outputs": [
    {
     "data": {
      "text/plain": [
       "ParamsTree(name='None', parent=None)\n",
       "  params: {}\n",
       "  nest_params: {}\n",
       "  neuron_models:\n",
       "    params: {}\n",
       "    nest_params: {}\n",
       "  synapse_models:\n",
       "    params: {}\n",
       "    nest_params: {}\n",
       "  layers:\n",
       "    params: {}\n",
       "    nest_params: {}\n",
       "  connection_models:\n",
       "    params: {}\n",
       "    nest_params: {}\n",
       "  topology:\n",
       "    params: {}\n",
       "    nest_params: {}\n",
       "  recorder_models:\n",
       "    params: {}\n",
       "    nest_params: {}\n",
       "  recorders:\n",
       "    params: {}\n",
       "    nest_params: {}\n",
       "  "
      ]
     },
     "execution_count": 5,
     "metadata": {},
     "output_type": "execute_result"
    }
   ],
   "source": [
    "# Network parameter tree is empty:\n",
    "net.tree"
   ]
  },
  {
   "cell_type": "markdown",
   "metadata": {},
   "source": [
    "## Build the network components (models, layers, connections, recorders)\n"
   ]
  },
  {
   "cell_type": "markdown",
   "metadata": {},
   "source": [
    "### Define new models\n",
    "\n",
    "We can define neuron, recorder, stimulator and synapse models with arbitrary parameters from parameter trees.\n",
    "\n",
    "Each leaf corresponds to a new (named) model. Its ``nest_params`` and ``params`` are hierarchically inherited.\n",
    "\n",
    "The ``nest_model`` used is specified in the leaf's ``params``"
   ]
  },
  {
   "cell_type": "markdown",
   "metadata": {},
   "source": [
    "#### ``'neuron_models'`` tree:\n",
    "\n",
    "Initalize ``Network.neuron_models`` with the ``Network.build_neuron_models`` method"
   ]
  },
  {
   "cell_type": "code",
   "execution_count": 6,
   "metadata": {},
   "outputs": [
    {
     "name": "stdout",
     "output_type": "stream",
     "text": [
      "ParamsTree(name='neuron_models', parent='None')\n",
      "  params: {}\n",
      "  nest_params: {}\n",
      "  my_neuron:\n",
      "    params:\n",
      "      nest_model: ht_neuron\n",
      "    nest_params:\n",
      "      g_KL: 1.0\n",
      "      g_NaL: 1.0\n",
      "    l1_exc:\n",
      "      params: {}\n",
      "      nest_params:\n",
      "        V_m: -44.0\n",
      "    l1_inh:\n",
      "      params: {}\n",
      "      nest_params:\n",
      "        V_m: -55.0\n",
      "  \n"
     ]
    }
   ],
   "source": [
    "neuron_models_tree = ParamsTree.read(PARAMS_DIR/'models.yml').children['neuron_models']\n",
    "pprint(neuron_models_tree)"
   ]
  },
  {
   "cell_type": "code",
   "execution_count": 7,
   "metadata": {},
   "outputs": [
    {
     "name": "stderr",
     "output_type": "stream",
     "text": [
      "2020-05-29 08:39:54,182 [denest.network] INFO: Build N=2 ``Model`` objects\n"
     ]
    }
   ],
   "source": [
    "net.build_neuron_models(neuron_models_tree)"
   ]
  },
  {
   "cell_type": "code",
   "execution_count": 8,
   "metadata": {},
   "outputs": [
    {
     "name": "stdout",
     "output_type": "stream",
     "text": [
      "\n",
      "``Network.neuron_models`` :\n",
      "{'l1_exc': Model(l1_exc, {'nest_model': 'ht_neuron'}, {'V_m': -44.0, 'g_KL': 1.0, 'g_NaL': 1.0}),\n",
      " 'l1_inh': Model(l1_inh, {'nest_model': 'ht_neuron'}, {'V_m': -55.0, 'g_KL': 1.0, 'g_NaL': 1.0})}\n"
     ]
    }
   ],
   "source": [
    "# The neuron models are saved as an attribute for the Network object\n",
    "print(\"\\n``Network.neuron_models`` :\")\n",
    "pprint(net.neuron_models)"
   ]
  },
  {
   "cell_type": "code",
   "execution_count": 9,
   "metadata": {},
   "outputs": [
    {
     "name": "stdout",
     "output_type": "stream",
     "text": [
      "Model(l1_exc, {'nest_model': 'ht_neuron'}, {'V_m': -44.0, 'g_KL': 1.0, 'g_NaL': 1.0})\n",
      "{'nest_model': 'ht_neuron'}\n",
      "{'V_m': -44.0, 'g_KL': 1.0, 'g_NaL': 1.0}\n"
     ]
    }
   ],
   "source": [
    "pprint(net.neuron_models['l1_exc'])\n",
    "pprint(net.neuron_models['l1_exc'].params)\n",
    "pprint(net.neuron_models['l1_exc'].nest_params)"
   ]
  },
  {
   "cell_type": "markdown",
   "metadata": {},
   "source": [
    "#### ``'recorder_models'`` tree:\n",
    "\n",
    "Initalize ``Network.recorder_models`` with the ``Network.build_recorder_models`` method\n",
    "\n",
    "-> Same thing as for neuron models"
   ]
  },
  {
   "cell_type": "code",
   "execution_count": 10,
   "metadata": {},
   "outputs": [
    {
     "data": {
      "text/plain": [
       "ParamsTree(name='recorder_models', parent='None')\n",
       "  params: {}\n",
       "  nest_params:\n",
       "    record_to:\n",
       "    - memory\n",
       "    - file\n",
       "  weight_recorder:\n",
       "    params:\n",
       "      nest_model: weight_recorder\n",
       "    nest_params: {}\n",
       "  my_multimeter:\n",
       "    params:\n",
       "      nest_model: multimeter\n",
       "    nest_params:\n",
       "      record_from:\n",
       "      - V_m\n",
       "  "
      ]
     },
     "execution_count": 10,
     "metadata": {},
     "output_type": "execute_result"
    }
   ],
   "source": [
    "# ``Network.build_*`` methods accept as argument ``ParamsTree`` objects, but also tree-like dictionaries \n",
    "recorder_models_tree = ParamsTree.read(PARAMS_DIR/'models.yml').children['recorder_models']\n",
    "recorder_models_tree"
   ]
  },
  {
   "cell_type": "code",
   "execution_count": 11,
   "metadata": {},
   "outputs": [
    {
     "data": {
      "text/plain": [
       "{'params': {},\n",
       " 'nest_params': {'record_to': ['memory', 'file']},\n",
       " 'weight_recorder': {'params': {'nest_model': 'weight_recorder'},\n",
       "  'nest_params': {}},\n",
       " 'my_multimeter': {'params': {'nest_model': 'multimeter'},\n",
       "  'nest_params': {'record_from': ['V_m']}}}"
      ]
     },
     "execution_count": 11,
     "metadata": {},
     "output_type": "execute_result"
    }
   ],
   "source": [
    "# ``Network.build_*`` methods accept as argument ``ParamsTree`` objects, but also tree-like dictionaries \n",
    "recorder_models_tree = recorder_models_tree.asdict()\n",
    "recorder_models_tree"
   ]
  },
  {
   "cell_type": "code",
   "execution_count": 12,
   "metadata": {},
   "outputs": [
    {
     "name": "stderr",
     "output_type": "stream",
     "text": [
      "2020-05-29 08:39:54,522 [denest.network] INFO: Build N=2 ``Model`` objects\n"
     ]
    }
   ],
   "source": [
    "net.build_recorder_models(recorder_models_tree)"
   ]
  },
  {
   "cell_type": "code",
   "execution_count": 13,
   "metadata": {},
   "outputs": [
    {
     "name": "stdout",
     "output_type": "stream",
     "text": [
      "\n",
      "``Network.recorder_models`` :\n",
      "{'my_multimeter': Model(my_multimeter, {'nest_model': 'multimeter'}, {'record_from': ['V_m'], 'record_to': ['memory', 'file']}),\n",
      " 'weight_recorder': Model(weight_recorder, {'nest_model': 'weight_recorder'}, {'record_to': ['memory', 'file']})}\n"
     ]
    }
   ],
   "source": [
    "print(\"\\n``Network.recorder_models`` :\")\n",
    "pprint(net.recorder_models)"
   ]
  },
  {
   "cell_type": "markdown",
   "metadata": {},
   "source": [
    "#### ``'synapse_model'`` tree:\n",
    "\n",
    "Initalize ``Network.synapse_models`` with the ``Network.build_synapse_model`` method\n",
    "\n",
    "-> Same thing as for neuron models, with as a bonus a convenient way of specifying the receptor type of the synapse\n",
    "\n",
    "-> If specifying the ``receptor_type`` and ``target_model`` in the ``SynapseModel`` params, the corresponding port is determined automatically"
   ]
  },
  {
   "cell_type": "code",
   "execution_count": 14,
   "metadata": {},
   "outputs": [
    {
     "data": {
      "text/plain": [
       "ParamsTree(name='synapse_models', parent='None')\n",
       "  params: {}\n",
       "  nest_params: {}\n",
       "  my_AMPA_synapse:\n",
       "    params:\n",
       "      nest_model: ht_synapse\n",
       "      receptor_type: AMPA\n",
       "      target_neuron: ht_neuron\n",
       "    nest_params: {}\n",
       "  my_GABAA_synapse:\n",
       "    params:\n",
       "      nest_model: ht_synapse\n",
       "      receptor_type: GABA_A\n",
       "      target_neuron: ht_neuron\n",
       "    nest_params: {}\n",
       "  "
      ]
     },
     "execution_count": 14,
     "metadata": {},
     "output_type": "execute_result"
    }
   ],
   "source": [
    "synapse_models_tree = ParamsTree.read(PARAMS_DIR/'models.yml').children['synapse_models']\n",
    "synapse_models_tree"
   ]
  },
  {
   "cell_type": "code",
   "execution_count": 15,
   "metadata": {},
   "outputs": [
    {
     "name": "stderr",
     "output_type": "stream",
     "text": [
      "2020-05-29 08:39:54,688 [denest.network] INFO: Build N=2 ``SynapseModel`` objects\n"
     ]
    }
   ],
   "source": [
    "net.build_synapse_models(synapse_models_tree)"
   ]
  },
  {
   "cell_type": "code",
   "execution_count": 16,
   "metadata": {},
   "outputs": [
    {
     "name": "stdout",
     "output_type": "stream",
     "text": [
      "\n",
      "``Network.synapse_models`` :\n",
      "{'my_AMPA_synapse': SynapseModel(my_AMPA_synapse, {'nest_model': 'ht_synapse'}, {'receptor_type': 1}),\n",
      " 'my_GABAA_synapse': SynapseModel(my_GABAA_synapse, {'nest_model': 'ht_synapse'}, {'receptor_type': 3})}\n"
     ]
    }
   ],
   "source": [
    "print(\"\\n``Network.synapse_models`` :\")\n",
    "pprint(net.synapse_models)"
   ]
  },
  {
   "cell_type": "markdown",
   "metadata": {},
   "source": [
    "Note that the ``receptor_type`` nest_parameter was inferred"
   ]
  },
  {
   "cell_type": "markdown",
   "metadata": {},
   "source": [
    "### Define layers\n",
    "\n",
    "As for models, we can create ``nest.Topology`` layers from the leaves of a tree.\n",
    "\n",
    "The elements can be nest models with their default parameters, or the ones we just created with custom params\n",
    "\n",
    "For layers of stimulator devices, we can use the ``InputLayer`` object, which can automatically create paired parrot neurons for each stimulator units, by adding ``type: 'InputLayer'``\n",
    "to the params\n"
   ]
  },
  {
   "cell_type": "markdown",
   "metadata": {},
   "source": [
    "#### ``'layers'`` tree:\n"
   ]
  },
  {
   "cell_type": "code",
   "execution_count": 17,
   "metadata": {},
   "outputs": [
    {
     "data": {
      "text/plain": [
       "ParamsTree(name='None', parent=None)\n",
       "  params: {}\n",
       "  nest_params: {}\n",
       "  layers:\n",
       "    params:\n",
       "      type: null\n",
       "    nest_params:\n",
       "      rows: 5\n",
       "      columns: 5\n",
       "      extent:\n",
       "      - 5.0\n",
       "      - 5.0\n",
       "      edge_wrap: true\n",
       "    input_layer:\n",
       "      params:\n",
       "        type: InputLayer\n",
       "        populations:\n",
       "          poisson_generator: 1\n",
       "      nest_params: {}\n",
       "    l1:\n",
       "      params:\n",
       "        populations:\n",
       "          l1_exc: 4\n",
       "          l1_inh: 2\n",
       "      nest_params: {}\n",
       "  "
      ]
     },
     "execution_count": 17,
     "metadata": {},
     "output_type": "execute_result"
    }
   ],
   "source": [
    "layer_tree = ParamsTree.read(PARAMS_DIR/'layers.yml')\n",
    "layer_tree"
   ]
  },
  {
   "cell_type": "code",
   "execution_count": 18,
   "metadata": {},
   "outputs": [
    {
     "name": "stderr",
     "output_type": "stream",
     "text": [
      "2020-05-29 08:39:54,851 [denest.network] INFO: Build N=2 ``Layer`` or ``InputLayer`` objects.\n"
     ]
    }
   ],
   "source": [
    "net.build_layers(layer_tree)"
   ]
  },
  {
   "cell_type": "code",
   "execution_count": 19,
   "metadata": {},
   "outputs": [
    {
     "name": "stdout",
     "output_type": "stream",
     "text": [
      "{'input_layer': InputLayer(input_layer, {'populations': {'parrot_neuron': 1, 'poisson_generator': 1},\n",
      " 'type': 'InputLayer'}, {'columns': 5,\n",
      " 'edge_wrap': True,\n",
      " 'elements': ('poisson_generator', 1, 'parrot_neuron', 1),\n",
      " 'extent': [5.0, 5.0],\n",
      " 'rows': 5}),\n",
      " 'l1': Layer(l1, {'populations': {'l1_exc': 4, 'l1_inh': 2}, 'type': None}, {'columns': 5,\n",
      " 'edge_wrap': True,\n",
      " 'elements': ('l1_exc', 4, 'l1_inh', 2),\n",
      " 'extent': [5.0, 5.0],\n",
      " 'rows': 5})}\n"
     ]
    }
   ],
   "source": [
    "pprint(net.layers)"
   ]
  },
  {
   "cell_type": "code",
   "execution_count": 20,
   "metadata": {},
   "outputs": [
    {
     "name": "stdout",
     "output_type": "stream",
     "text": [
      "'l1' layer\n",
      "{'populations': {'l1_exc': 4, 'l1_inh': 2}, 'type': None}\n",
      "{'columns': 5,\n",
      " 'edge_wrap': True,\n",
      " 'elements': ('l1_exc', 4, 'l1_inh', 2),\n",
      " 'extent': [5.0, 5.0],\n",
      " 'rows': 5}\n"
     ]
    }
   ],
   "source": [
    "print(\"'l1' layer\")\n",
    "pprint(net.layers['l1'].params)\n",
    "pprint(net.layers['l1'].nest_params)"
   ]
  },
  {
   "cell_type": "markdown",
   "metadata": {},
   "source": [
    "### Define connections\n",
    "\n",
    "We create connections using a two step process:\n",
    "\n",
    "1. Create ``ConnectionModel`` objects from a tree. Each named leaf will define a template from which individual connections can inherit their parameters\n",
    "2. Create ``Connection`` objects from a list, specifying for each item the source layer x population, target layer x population and the connection model to inherit parameters from"
   ]
  },
  {
   "cell_type": "markdown",
   "metadata": {},
   "source": [
    "#### 1- Define templates from the `connection_models` tree\n",
    "\n"
   ]
  },
  {
   "cell_type": "code",
   "execution_count": 21,
   "metadata": {},
   "outputs": [
    {
     "data": {
      "text/plain": [
       "ParamsTree(name='connection_models', parent='None')\n",
       "  params: {}\n",
       "  nest_params:\n",
       "    connection_type: divergent\n",
       "    mask:\n",
       "      circular:\n",
       "        radius: 2.0\n",
       "    kernel: 1.0\n",
       "  conn_1_AMPA:\n",
       "    params: {}\n",
       "    nest_params:\n",
       "      synapse_model: my_AMPA_synapse\n",
       "      weights: 1.0\n",
       "  conn_2_GABAA:\n",
       "    params: {}\n",
       "    nest_params:\n",
       "      synapse_model: my_GABAA_synapse\n",
       "      weights: 2.0\n",
       "  "
      ]
     },
     "execution_count": 21,
     "metadata": {},
     "output_type": "execute_result"
    }
   ],
   "source": [
    "conn_model_tree = ParamsTree.read(PARAMS_DIR/'connections.yml').children['connection_models']\n",
    "conn_model_tree"
   ]
  },
  {
   "cell_type": "code",
   "execution_count": 22,
   "metadata": {},
   "outputs": [
    {
     "name": "stderr",
     "output_type": "stream",
     "text": [
      "2020-05-29 08:39:55,085 [denest.utils.validation] INFO: Object `conn_1_AMPA`: params: using default value for optional parameters:\n",
      "{'type': 'topological'}\n",
      "2020-05-29 08:39:55,088 [denest.utils.validation] INFO: Object `conn_2_GABAA`: params: using default value for optional parameters:\n",
      "{'type': 'topological'}\n",
      "2020-05-29 08:39:55,091 [denest.network] INFO: Build N=2 ``ConnectionModel`` objects\n"
     ]
    }
   ],
   "source": [
    "net.build_connection_models(conn_model_tree)"
   ]
  },
  {
   "cell_type": "code",
   "execution_count": 23,
   "metadata": {},
   "outputs": [
    {
     "data": {
      "text/plain": [
       "{'conn_1_AMPA': ConnectionModel(conn_1_AMPA, \n",
       "  {'type': 'topological'}{'connection_type': 'divergent',\n",
       "   'mask': {'circular': {'radius': 2.0}},\n",
       "   'kernel': 1.0,\n",
       "   'synapse_model': 'my_AMPA_synapse',\n",
       "   'weights': 1.0}),\n",
       " 'conn_2_GABAA': ConnectionModel(conn_2_GABAA, \n",
       "  {'type': 'topological'}{'connection_type': 'divergent',\n",
       "   'mask': {'circular': {'radius': 2.0}},\n",
       "   'kernel': 1.0,\n",
       "   'synapse_model': 'my_GABAA_synapse',\n",
       "   'weights': 2.0})}"
      ]
     },
     "execution_count": 23,
     "metadata": {},
     "output_type": "execute_result"
    }
   ],
   "source": [
    "net.connection_models"
   ]
  },
  {
   "cell_type": "markdown",
   "metadata": {},
   "source": [
    "### 2- Define individual connections from the `topology` tree\n",
    "\n",
    "The list of connections is defined in the `connections` params of the `topology` tree\n",
    "\n",
    "Check out the doc of `Network.build_connections` for expected formatting"
   ]
  },
  {
   "cell_type": "code",
   "execution_count": 24,
   "metadata": {},
   "outputs": [
    {
     "data": {
      "text/plain": [
       "ParamsTree(name='topology', parent='None')\n",
       "  params:\n",
       "    connections:\n",
       "    - source_layers:\n",
       "      - input_layer\n",
       "      source_population: parrot_neuron\n",
       "      target_layers:\n",
       "      - l1\n",
       "      target_population: l1_exc\n",
       "      connection_model: conn_1_AMPA\n",
       "    - source_layers:\n",
       "      - l1\n",
       "      source_population: l1_exc\n",
       "      target_layers:\n",
       "      - l1\n",
       "      target_population: l1_inh\n",
       "      connection_model: conn_1_AMPA\n",
       "    - source_layers:\n",
       "      - l1\n",
       "      source_population: l1_inh\n",
       "      target_layers:\n",
       "      - l1\n",
       "      target_population: l1_exc\n",
       "      connection_model: conn_2_GABAA\n",
       "  nest_params: {}\n",
       "  "
      ]
     },
     "execution_count": 24,
     "metadata": {},
     "output_type": "execute_result"
    }
   ],
   "source": [
    "conns_tree = ParamsTree.read(PARAMS_DIR/'connections.yml').children['topology']\n",
    "conns_tree"
   ]
  },
  {
   "cell_type": "code",
   "execution_count": 25,
   "metadata": {},
   "outputs": [
    {
     "data": {
      "text/plain": [
       "{'conn_1_AMPA': ConnectionModel(conn_1_AMPA, \n",
       "  {'type': 'topological'}{'connection_type': 'divergent',\n",
       "   'mask': {'circular': {'radius': 2.0}},\n",
       "   'kernel': 1.0,\n",
       "   'synapse_model': 'my_AMPA_synapse',\n",
       "   'weights': 1.0}),\n",
       " 'conn_2_GABAA': ConnectionModel(conn_2_GABAA, \n",
       "  {'type': 'topological'}{'connection_type': 'divergent',\n",
       "   'mask': {'circular': {'radius': 2.0}},\n",
       "   'kernel': 1.0,\n",
       "   'synapse_model': 'my_GABAA_synapse',\n",
       "   'weights': 2.0})}"
      ]
     },
     "execution_count": 25,
     "metadata": {},
     "output_type": "execute_result"
    }
   ],
   "source": [
    "net.connection_models"
   ]
  },
  {
   "cell_type": "code",
   "execution_count": 26,
   "metadata": {},
   "outputs": [
    {
     "name": "stderr",
     "output_type": "stream",
     "text": [
      "2020-05-29 08:39:55,303 [denest.network] INFO: Build N=3 ``TopoConnection`` objects\n"
     ]
    }
   ],
   "source": [
    "net.build_connections(conns_tree)"
   ]
  },
  {
   "cell_type": "code",
   "execution_count": 27,
   "metadata": {},
   "outputs": [
    {
     "data": {
      "text/plain": [
       "[TopoConnection(conn_1_AMPA-input_layer-parrot_neuron-l1-l1_exc, \n",
       "  {'type': 'topological'}{'connection_type': 'divergent',\n",
       "   'mask': {'circular': {'radius': 2.0}},\n",
       "   'kernel': 1.0,\n",
       "   'synapse_model': 'my_AMPA_synapse',\n",
       "   'weights': 1.0,\n",
       "   'sources': {'model': 'parrot_neuron'},\n",
       "   'targets': {'model': 'l1_exc'}}),\n",
       " TopoConnection(conn_1_AMPA-l1-l1_exc-l1-l1_inh, \n",
       "  {'type': 'topological'}{'connection_type': 'divergent',\n",
       "   'mask': {'circular': {'radius': 2.0}},\n",
       "   'kernel': 1.0,\n",
       "   'synapse_model': 'my_AMPA_synapse',\n",
       "   'weights': 1.0,\n",
       "   'sources': {'model': 'l1_exc'},\n",
       "   'targets': {'model': 'l1_inh'}}),\n",
       " TopoConnection(conn_2_GABAA-l1-l1_inh-l1-l1_exc, \n",
       "  {'type': 'topological'}{'connection_type': 'divergent',\n",
       "   'mask': {'circular': {'radius': 2.0}},\n",
       "   'kernel': 1.0,\n",
       "   'synapse_model': 'my_GABAA_synapse',\n",
       "   'weights': 2.0,\n",
       "   'sources': {'model': 'l1_inh'},\n",
       "   'targets': {'model': 'l1_exc'}})]"
      ]
     },
     "execution_count": 27,
     "metadata": {},
     "output_type": "execute_result"
    }
   ],
   "source": [
    "net.connections"
   ]
  },
  {
   "cell_type": "markdown",
   "metadata": {},
   "source": [
    "## Define recorders from the `recorders` tree\n",
    "\n",
    "Similarly to the `topology` tree, recorders are defined from lists.\n",
    "\n",
    "\n",
    "We separate recorders connected to synapses (eg weight recorder) and those connected to units (eg spike detectors),\n",
    "which are defined in the `connection_recorders` and `population_recorders` params (resp.) of the `recorders` tree.\n",
    "\n",
    "\n",
    "Check out the doc of the ``Network.build_recorders``, ``Network.build_population_recorders`` and\n",
    "``Network.build_connection_recorders`` methods for expected formatting\n",
    "\n",
    "The parameters of the recorders can be changed by using custom recorder models (in the `recorder_models` tree, see above) "
   ]
  },
  {
   "cell_type": "code",
   "execution_count": 28,
   "metadata": {},
   "outputs": [
    {
     "data": {
      "text/plain": [
       "ParamsTree(name='recorders', parent='None')\n",
       "  params:\n",
       "    population_recorders:\n",
       "    - layers:\n",
       "      - l1\n",
       "      populations:\n",
       "      - l1_exc\n",
       "      model: my_multimeter\n",
       "    connection_recorders:\n",
       "    - source_layers:\n",
       "      - l1\n",
       "      source_population: l1_exc\n",
       "      target_layers:\n",
       "      - l1\n",
       "      target_population: l1_inh\n",
       "      connection_model: conn_1_AMPA\n",
       "      model: weight_recorder\n",
       "  nest_params: {}\n",
       "  "
      ]
     },
     "execution_count": 28,
     "metadata": {},
     "output_type": "execute_result"
    }
   ],
   "source": [
    "recorders_tree = ParamsTree.read(PARAMS_DIR/'recorders.yml').children['recorders']\n",
    "recorders_tree"
   ]
  },
  {
   "cell_type": "code",
   "execution_count": 29,
   "metadata": {},
   "outputs": [
    {
     "name": "stderr",
     "output_type": "stream",
     "text": [
      "2020-05-29 08:39:55,471 [denest.network] INFO: Build N=1 population recorders.\n",
      "2020-05-29 08:39:55,484 [denest.network] INFO: Build N=1 connection recorders.\n"
     ]
    }
   ],
   "source": [
    "net.build_recorders(recorders_tree)"
   ]
  },
  {
   "cell_type": "code",
   "execution_count": 30,
   "metadata": {},
   "outputs": [
    {
     "data": {
      "text/plain": [
       "[PopulationRecorder(my_multimeter_l1_l1_exc,  {}{})]"
      ]
     },
     "execution_count": 30,
     "metadata": {},
     "output_type": "execute_result"
    }
   ],
   "source": [
    "net.population_recorders"
   ]
  },
  {
   "cell_type": "code",
   "execution_count": 31,
   "metadata": {},
   "outputs": [
    {
     "data": {
      "text/plain": [
       "[ConnectionRecorder(weight_recorder_conn_1_AMPA-l1-l1_exc-l1-l1_inh,  {}{})]"
      ]
     },
     "execution_count": 31,
     "metadata": {},
     "output_type": "execute_result"
    }
   ],
   "source": [
    "net.connection_recorders"
   ]
  },
  {
   "cell_type": "markdown",
   "metadata": {},
   "source": [
    "## Create the network"
   ]
  },
  {
   "cell_type": "code",
   "execution_count": 32,
   "metadata": {},
   "outputs": [],
   "source": [
    "nest.ResetKernel()"
   ]
  },
  {
   "cell_type": "code",
   "execution_count": 33,
   "metadata": {},
   "outputs": [
    {
     "name": "stderr",
     "output_type": "stream",
     "text": [
      "2020-05-29 08:39:55,686 [denest.network] INFO: Creating neuron models...\n",
      "100%|██████████| 2/2 [00:00<00:00, 1480.52it/s]\n",
      "2020-05-29 08:39:55,716 [denest.network] INFO: Creating synapse models...\n",
      "100%|██████████| 2/2 [00:00<00:00, 951.41it/s]\n",
      "2020-05-29 08:39:55,725 [denest.network] INFO: Creating recorder models...\n",
      "100%|██████████| 2/2 [00:00<00:00, 1098.27it/s]\n",
      "2020-05-29 08:39:55,732 [denest.network] INFO: Creating layers...\n",
      "100%|██████████| 2/2 [00:00<00:00,  9.94it/s]\n",
      "2020-05-29 08:39:55,941 [denest.network] INFO: Creating population recorders...\n",
      "100%|██████████| 1/1 [00:00<00:00, 34.10it/s]\n",
      "2020-05-29 08:39:55,976 [denest.network] INFO: Creating connection recorders...\n",
      "100%|██████████| 1/1 [00:00<00:00, 86.22it/s]\n",
      "2020-05-29 08:39:56,050 [denest.network] INFO: Connecting layers...\n",
      "100%|██████████| 3/3 [00:00<00:00, 359.58it/s]\n",
      "2020-05-29 08:39:56,134 [denest.network] INFO: Network size (including recorders and parrot neurons):\n",
      "Number of nodes: 205\n",
      "Number of connections: 6625\n"
     ]
    }
   ],
   "source": [
    "net.create()"
   ]
  },
  {
   "cell_type": "markdown",
   "metadata": {},
   "source": [
    "## Examine the network\n",
    "\n",
    "denest provides convenient ways of accessing the objects in nest"
   ]
  },
  {
   "cell_type": "markdown",
   "metadata": {},
   "source": [
    "### Check the defaults of the created models"
   ]
  },
  {
   "cell_type": "code",
   "execution_count": 34,
   "metadata": {},
   "outputs": [
    {
     "name": "stdout",
     "output_type": "stream",
     "text": [
      "`l1_exc` neuron models `nest_params`:  {'g_KL': 1.0, 'g_NaL': 1.0, 'V_m': -44.0}\n"
     ]
    }
   ],
   "source": [
    "print(\"`l1_exc` neuron models `nest_params`: \", net.neuron_models['l1_exc'].nest_params)"
   ]
  },
  {
   "cell_type": "code",
   "execution_count": 35,
   "metadata": {},
   "outputs": [
    {
     "name": "stdout",
     "output_type": "stream",
     "text": [
      "Corresponding params of the `l1_exc` model in nest: (1.0, 1.0, -44.0)\n"
     ]
    }
   ],
   "source": [
    "print('Corresponding params of the `l1_exc` model in nest:', nest.GetDefaults('l1_exc', list(net.neuron_models['l1_exc'].nest_params.keys())))"
   ]
  },
  {
   "cell_type": "markdown",
   "metadata": {},
   "source": [
    "### Access the layers' units"
   ]
  },
  {
   "cell_type": "code",
   "execution_count": 36,
   "metadata": {},
   "outputs": [
    {
     "data": {
      "text/plain": [
       "[53, 78, 103, 128]"
      ]
     },
     "execution_count": 36,
     "metadata": {},
     "output_type": "execute_result"
    }
   ],
   "source": [
    "net.layers['l1'].gids(location=(0, 0), population='l1_exc')"
   ]
  },
  {
   "cell_type": "markdown",
   "metadata": {},
   "source": [
    "### Access the connections created in NEST"
   ]
  },
  {
   "cell_type": "code",
   "execution_count": 37,
   "metadata": {},
   "outputs": [
    {
     "data": {
      "text/plain": [
       "TopoConnection(conn_1_AMPA-input_layer-parrot_neuron-l1-l1_exc, \n",
       "{'type': 'topological'}{'connection_type': 'divergent',\n",
       " 'mask': {'circular': {'radius': 2.0}},\n",
       " 'kernel': 1.0,\n",
       " 'synapse_model': 'my_AMPA_synapse',\n",
       " 'weights': 1.0,\n",
       " 'sources': {'model': 'parrot_neuron'},\n",
       " 'targets': {'model': 'l1_exc'}})"
      ]
     },
     "execution_count": 37,
     "metadata": {},
     "output_type": "execute_result"
    }
   ],
   "source": [
    "conn = net.connections[0]\n",
    "conn"
   ]
  },
  {
   "cell_type": "code",
   "execution_count": 38,
   "metadata": {},
   "outputs": [
    {
     "data": {
      "text/plain": [
       "(array('l', [27, 53, 0, 68, 0]),\n",
       " array('l', [27, 88, 0, 68, 1]),\n",
       " array('l', [27, 83, 0, 68, 2]),\n",
       " array('l', [27, 152, 0, 68, 3]),\n",
       " array('l', [27, 84, 0, 68, 4]))"
      ]
     },
     "execution_count": 38,
     "metadata": {},
     "output_type": "execute_result"
    }
   ],
   "source": [
    "nest_conns = nest.GetConnections(\n",
    "    source=conn.source.gids(conn.source_population),\n",
    "    target=conn.target.gids(conn.target_population),\n",
    "    synapse_model=conn.nest_params['synapse_model']\n",
    ")\n",
    "nest_conns[0:5]"
   ]
  },
  {
   "cell_type": "markdown",
   "metadata": {},
   "source": [
    "### Access the recorders"
   ]
  },
  {
   "cell_type": "code",
   "execution_count": 39,
   "metadata": {},
   "outputs": [
    {
     "name": "stdout",
     "output_type": "stream",
     "text": [
      "my_multimeter_l1_l1_exc (203,) my_multimeter l1 l1_exc\n"
     ]
    }
   ],
   "source": [
    "rec = net.population_recorders[0]\n",
    "print(rec, rec.gid, rec.model, rec.layer, rec.population_name)"
   ]
  },
  {
   "cell_type": "code",
   "execution_count": 40,
   "metadata": {},
   "outputs": [
    {
     "name": "stdout",
     "output_type": "stream",
     "text": [
      "weight_recorder_conn_1_AMPA-l1-l1_exc-l1-l1_inh (204,) weight_recorder\n"
     ]
    }
   ],
   "source": [
    "connrec = net.connection_recorders[0]\n",
    "print(connrec, connrec.gid, connrec.model)"
   ]
  },
  {
   "cell_type": "markdown",
   "metadata": {},
   "source": [
    "## Save and recreate the network\n",
    "\n",
    "When building each of the network's elements using the `Network.build_*` methods, the `Network.tree` ParamsTree was updated"
   ]
  },
  {
   "cell_type": "code",
   "execution_count": 41,
   "metadata": {},
   "outputs": [
    {
     "data": {
      "text/plain": [
       "ParamsTree(name='None', parent=None)\n",
       "  params: {}\n",
       "  nest_params: {}\n",
       "  neuron_models:\n",
       "    params: {}\n",
       "    nest_params: {}\n",
       "    my_neuron:\n",
       "      params:\n",
       "        nest_model: ht_neuron\n",
       "      nest_params:\n",
       "        g_KL: 1.0\n",
       "        g_NaL: 1.0\n",
       "      l1_exc:\n",
       "        params: {}\n",
       "        nest_params:\n",
       "          V_m: -44.0\n",
       "  \n",
       "  ... [107 lines] ...\n",
       "\n",
       "        - l1\n",
       "        populations:\n",
       "        - l1_exc\n",
       "        model: my_multimeter\n",
       "      connection_recorders:\n",
       "      - source_layers:\n",
       "        - l1\n",
       "        source_population: l1_exc\n",
       "        target_layers:\n",
       "        - l1\n",
       "        target_population: l1_inh\n",
       "        connection_model: conn_1_AMPA\n",
       "        model: weight_recorder\n",
       "    nest_params: {}\n",
       "  "
      ]
     },
     "execution_count": 41,
     "metadata": {},
     "output_type": "execute_result"
    }
   ],
   "source": [
    "net.tree"
   ]
  },
  {
   "cell_type": "markdown",
   "metadata": {},
   "source": [
    "#### We can save the parameter tree defining the whole network..."
   ]
  },
  {
   "cell_type": "code",
   "execution_count": 42,
   "metadata": {},
   "outputs": [
    {
     "data": {
      "text/plain": [
       "PosixPath('params/network_tree.yml')"
      ]
     },
     "execution_count": 42,
     "metadata": {},
     "output_type": "execute_result"
    }
   ],
   "source": [
    "net.tree.write(PARAMS_DIR/'network_tree.yml')"
   ]
  },
  {
   "cell_type": "markdown",
   "metadata": {},
   "source": [
    "#### And use it to recreate another identical network"
   ]
  },
  {
   "cell_type": "code",
   "execution_count": 47,
   "metadata": {},
   "outputs": [
    {
     "name": "stderr",
     "output_type": "stream",
     "text": [
      "2020-05-29 08:40:27,959 [denest.network] INFO: Build N=2 ``Model`` objects\n",
      "2020-05-29 08:40:27,960 [denest.network] INFO: Build N=2 ``SynapseModel`` objects\n",
      "2020-05-29 08:40:27,961 [denest.network] INFO: Build N=2 ``Model`` objects\n",
      "2020-05-29 08:40:27,962 [denest.network] INFO: Build N=2 ``Layer`` or ``InputLayer`` objects.\n",
      "2020-05-29 08:40:27,964 [denest.utils.validation] INFO: Object `conn_1_AMPA`: params: using default value for optional parameters:\n",
      "{'type': 'topological'}\n",
      "2020-05-29 08:40:27,966 [denest.utils.validation] INFO: Object `conn_2_GABAA`: params: using default value for optional parameters:\n",
      "{'type': 'topological'}\n",
      "2020-05-29 08:40:27,967 [denest.network] INFO: Build N=2 ``ConnectionModel`` objects\n",
      "2020-05-29 08:40:27,970 [denest.network] INFO: Build N=3 ``TopoConnection`` objects\n",
      "2020-05-29 08:40:27,974 [denest.network] INFO: Build N=1 population recorders.\n",
      "2020-05-29 08:40:27,976 [denest.network] INFO: Build N=1 connection recorders.\n",
      "2020-05-29 08:40:27,981 [denest.network] INFO: Build N=3 ``TopoConnection`` objects\n",
      "2020-05-29 08:40:27,985 [denest.network] INFO: Build N=1 population recorders.\n",
      "2020-05-29 08:40:27,988 [denest.network] INFO: Build N=1 connection recorders.\n"
     ]
    }
   ],
   "source": [
    "net2 = Network(ParamsTree.read(PARAMS_DIR/'network_tree.yml'))"
   ]
  },
  {
   "cell_type": "markdown",
   "metadata": {},
   "source": [
    "# Change the network's state"
   ]
  },
  {
   "cell_type": "markdown",
   "metadata": {},
   "source": [
    "# Let's familiarize ourselves with the ``Simulation`` object\n"
   ]
  },
  {
   "cell_type": "markdown",
   "metadata": {},
   "source": [
    "## Initialize an empty Simulation object\n",
    "\n",
    "Empty network, no kernel initialization, etc..."
   ]
  },
  {
   "cell_type": "code",
   "execution_count": 48,
   "metadata": {},
   "outputs": [
    {
     "name": "stderr",
     "output_type": "stream",
     "text": [
      "2020-05-29 08:40:30,128 [denest.utils.validation] INFO: 'None' tree: adding empty child kernel\n",
      "2020-05-29 08:40:30,130 [denest.utils.validation] INFO: 'None' tree: adding empty child simulation\n",
      "2020-05-29 08:40:30,131 [denest.utils.validation] INFO: 'None' tree: adding empty child session_models\n",
      "2020-05-29 08:40:30,132 [denest.utils.validation] INFO: 'None' tree: adding empty child network\n",
      "2020-05-29 08:40:30,135 [denest.utils.validation] INFO: Object `simulation`: params: using default value for optional parameters:\n",
      "{'input_dir': 'input', 'output_dir': 'output', 'sessions': []}\n",
      "2020-05-29 08:40:30,137 [denest.utils.validation] INFO: Object `kernel`: params: using default value for optional parameters:\n",
      "{'extension_modules': [], 'nest_seed': 1, 'python_seed': 1}\n",
      "2020-05-29 08:40:30,139 [denest.simulation] INFO: Initializing NEST kernel and seeds...\n",
      "2020-05-29 08:40:30,140 [denest.simulation] INFO:   Resetting NEST kernel...\n",
      "2020-05-29 08:40:30,151 [denest.simulation] INFO:   Setting NEST kernel status...\n",
      "2020-05-29 08:40:30,152 [denest.simulation] INFO:     Calling `nest.SetKernelStatus({})`\n",
      "2020-05-29 08:40:30,155 [denest.simulation] INFO:     Calling `nest.SetKernelStatus({'data_path': 'output/data', 'grng_seed': 2, 'rng_seeds': range(3, 4)})\n",
      "2020-05-29 08:40:30,156 [denest.simulation] INFO:   Finished setting NEST kernel status\n",
      "2020-05-29 08:40:30,157 [denest.simulation] INFO:   Installing external modules...\n",
      "2020-05-29 08:40:30,158 [denest.simulation] INFO:   Finished installing external modules\n",
      "2020-05-29 08:40:30,160 [denest.simulation] INFO:   Setting Python seed: 1\n",
      "2020-05-29 08:40:30,161 [denest.simulation] INFO: Finished initializing kernel\n",
      "2020-05-29 08:40:30,163 [denest.simulation] INFO: Build N=1 session models\n",
      "2020-05-29 08:40:30,164 [denest.simulation] INFO: Build N=0 sessions\n",
      "2020-05-29 08:40:30,166 [denest.simulation] INFO: Sessions: []\n",
      "2020-05-29 08:40:30,168 [denest.simulation] INFO: Building network.\n",
      "2020-05-29 08:40:30,170 [denest.utils.validation] INFO: 'None' tree: adding empty child neuron_models\n",
      "2020-05-29 08:40:30,171 [denest.utils.validation] INFO: 'None' tree: adding empty child synapse_models\n",
      "2020-05-29 08:40:30,172 [denest.utils.validation] INFO: 'None' tree: adding empty child layers\n",
      "2020-05-29 08:40:30,174 [denest.utils.validation] INFO: 'None' tree: adding empty child connection_models\n",
      "2020-05-29 08:40:30,175 [denest.utils.validation] INFO: 'None' tree: adding empty child topology\n",
      "2020-05-29 08:40:30,176 [denest.utils.validation] INFO: 'None' tree: adding empty child recorder_models\n",
      "2020-05-29 08:40:30,177 [denest.utils.validation] INFO: 'None' tree: adding empty child recorders\n",
      "2020-05-29 08:40:30,178 [denest.network] INFO: Build N=0 ``Model`` objects\n",
      "2020-05-29 08:40:30,179 [denest.network] INFO: Build N=0 ``SynapseModel`` objects\n",
      "2020-05-29 08:40:30,181 [denest.network] INFO: Build N=0 ``Model`` objects\n",
      "2020-05-29 08:40:30,182 [denest.network] INFO: Build N=0 ``Layer`` or ``InputLayer`` objects.\n",
      "2020-05-29 08:40:30,183 [denest.network] INFO: Build N=0 ``ConnectionModel`` objects\n",
      "2020-05-29 08:40:30,188 [denest.utils.validation] INFO: Object `topology`: params: using default value for optional parameters:\n",
      "{'connections': []}\n",
      "2020-05-29 08:40:30,189 [denest.network] INFO: Build N=0 ``TopoConnection`` objects\n",
      "2020-05-29 08:40:30,191 [denest.utils.validation] INFO: Object `recorders`: params: using default value for optional parameters:\n",
      "{'connection_recorders': [], 'population_recorders': []}\n",
      "2020-05-29 08:40:30,192 [denest.network] INFO: Build N=0 population recorders.\n",
      "2020-05-29 08:40:30,193 [denest.network] INFO: Build N=0 connection recorders.\n",
      "2020-05-29 08:40:30,194 [denest.utils.validation] INFO: Object `topology`: params: using default value for optional parameters:\n",
      "{'connections': []}\n",
      "2020-05-29 08:40:30,196 [denest.network] INFO: Build N=0 ``TopoConnection`` objects\n",
      "2020-05-29 08:40:30,198 [denest.utils.validation] INFO: Object `recorders`: params: using default value for optional parameters:\n",
      "{'connection_recorders': [], 'population_recorders': []}\n",
      "2020-05-29 08:40:30,199 [denest.network] INFO: Build N=0 population recorders.\n",
      "2020-05-29 08:40:30,202 [denest.network] INFO: Build N=0 connection recorders.\n",
      "2020-05-29 08:40:30,204 [denest.simulation] INFO: Creating network.\n",
      "2020-05-29 08:40:30,207 [denest.network] INFO: Creating neuron models...\n",
      "0it [00:00, ?it/s]\n",
      "2020-05-29 08:40:30,211 [denest.network] INFO: Creating synapse models...\n",
      "0it [00:00, ?it/s]\n",
      "2020-05-29 08:40:30,217 [denest.network] INFO: Creating recorder models...\n",
      "0it [00:00, ?it/s]\n",
      "2020-05-29 08:40:30,222 [denest.network] INFO: Creating layers...\n",
      "0it [00:00, ?it/s]\n",
      "2020-05-29 08:40:30,227 [denest.network] INFO: Creating population recorders...\n",
      "0it [00:00, ?it/s]\n",
      "2020-05-29 08:40:30,246 [denest.network] INFO: Creating connection recorders...\n",
      "0it [00:00, ?it/s]\n",
      "2020-05-29 08:40:30,253 [denest.network] INFO: Connecting layers...\n",
      "0it [00:00, ?it/s]\n",
      "2020-05-29 08:40:30,258 [denest.network] INFO: Network size (including recorders and parrot neurons):\n",
      "Number of nodes: 1\n",
      "Number of connections: 0\n",
      "2020-05-29 08:40:30,260 [denest.simulation] INFO: Finished creating network\n",
      "2020-05-29 08:40:30,262 [denest.simulation] INFO: Saving simulation metadata...\n",
      "2020-05-29 08:40:30,266 [denest.simulation] INFO: Creating output directory: output\n",
      "2020-05-29 08:40:30,269 [denest.io.save] INFO: Clearing directory: output\n",
      "2020-05-29 08:40:30,274 [denest.io.save] INFO: Clearing directory: output\n",
      "2020-05-29 08:40:30,285 [denest.io.save] INFO: Clearing directory: output/data\n",
      "2020-05-29 08:40:30,290 [denest.io.save] INFO: Clearing directory: output/data\n",
      "2020-05-29 08:40:30,293 [denest.io.save] INFO: Clearing directory: output/data\n",
      "2020-05-29 08:40:30,295 [denest.io.save] INFO: Clearing directory: output\n",
      "2020-05-29 08:40:30,383 [denest.simulation] INFO: Finished saving simulation metadata\n"
     ]
    }
   ],
   "source": [
    "sim = Simulation(output_dir=OUTPUT_DIR)"
   ]
  },
  {
   "cell_type": "code",
   "execution_count": 49,
   "metadata": {},
   "outputs": [
    {
     "name": "stdout",
     "output_type": "stream",
     "text": [
      "\u001b[1m\u001b[36mdata\u001b[m\u001b[m               git_hash           parameter_tree.yml session_times.yml\r\n"
     ]
    }
   ],
   "source": [
    "# The data and metadata is saved there. For now it's all empty\n",
    "!ls {OUTPUT_DIR}"
   ]
  },
  {
   "cell_type": "markdown",
   "metadata": {},
   "source": [
    "## Initialize the NEST kernel\n",
    "\n",
    "``Simulation.init_kernel??`` for doc"
   ]
  },
  {
   "cell_type": "code",
   "execution_count": 50,
   "metadata": {},
   "outputs": [],
   "source": [
    "kernel_tree = {\n",
    "    'params':\n",
    "        {\n",
    "            'nest_seed': 10,\n",
    "            'extension_modules': [],\n",
    "        },\n",
    "    'nest_params':\n",
    "        {\n",
    "            'resolution': 0.5,\n",
    "        },\n",
    "}"
   ]
  },
  {
   "cell_type": "code",
   "execution_count": 51,
   "metadata": {},
   "outputs": [
    {
     "name": "stderr",
     "output_type": "stream",
     "text": [
      "2020-05-29 08:40:31,035 [denest.utils.validation] INFO: Object `kernel`: params: using default value for optional parameters:\n",
      "{'python_seed': 1}\n",
      "2020-05-29 08:40:31,039 [denest.simulation] INFO: Initializing NEST kernel and seeds...\n",
      "2020-05-29 08:40:31,041 [denest.simulation] INFO:   Resetting NEST kernel...\n",
      "2020-05-29 08:40:31,048 [denest.simulation] INFO:   Setting NEST kernel status...\n",
      "2020-05-29 08:40:31,049 [denest.simulation] INFO:     Calling `nest.SetKernelStatus({'resolution': 0.5})`\n",
      "2020-05-29 08:40:31,051 [denest.simulation] INFO:     Calling `nest.SetKernelStatus({'data_path': 'output/data', 'grng_seed': 11, 'rng_seeds': range(12, 13)})\n",
      "2020-05-29 08:40:31,053 [denest.simulation] INFO:   Finished setting NEST kernel status\n",
      "2020-05-29 08:40:31,055 [denest.simulation] INFO:   Installing external modules...\n",
      "2020-05-29 08:40:31,056 [denest.simulation] INFO:   Finished installing external modules\n",
      "2020-05-29 08:40:31,057 [denest.simulation] INFO:   Setting Python seed: 1\n",
      "2020-05-29 08:40:31,058 [denest.simulation] INFO: Finished initializing kernel\n"
     ]
    }
   ],
   "source": [
    "sim.init_kernel(kernel_tree)"
   ]
  },
  {
   "cell_type": "code",
   "execution_count": 52,
   "metadata": {},
   "outputs": [
    {
     "data": {
      "text/plain": [
       "0.5"
      ]
     },
     "execution_count": 52,
     "metadata": {},
     "output_type": "execute_result"
    }
   ],
   "source": [
    "# nest_params have been passed to nest.SetKernelStatus\n",
    "nest.GetKernelStatus('resolution')"
   ]
  },
  {
   "cell_type": "code",
   "execution_count": 53,
   "metadata": {},
   "outputs": [
    {
     "data": {
      "text/plain": [
       "'output/data'"
      ]
     },
     "execution_count": 53,
     "metadata": {},
     "output_type": "execute_result"
    }
   ],
   "source": [
    "# The raw data will be saved in the output directory\n",
    "nest.GetKernelStatus('data_path')"
   ]
  },
  {
   "cell_type": "code",
   "execution_count": 54,
   "metadata": {},
   "outputs": [
    {
     "data": {
      "text/plain": [
       "ParamsTree(name='kernel', parent='None')\n",
       "  params:\n",
       "    nest_seed: 10\n",
       "    extension_modules: []\n",
       "  nest_params:\n",
       "    resolution: 0.5\n",
       "  "
      ]
     },
     "execution_count": 54,
     "metadata": {},
     "output_type": "execute_result"
    }
   ],
   "source": [
    "# The kernel params are saved in the simulation's tree\n",
    "sim.tree.children['kernel']"
   ]
  },
  {
   "cell_type": "markdown",
   "metadata": {},
   "source": [
    "## Create a network\n",
    "\n",
    "We build and create the same network by passing the network tree,\n",
    "using the ``Simulation.create_network`` method"
   ]
  },
  {
   "cell_type": "code",
   "execution_count": 55,
   "metadata": {},
   "outputs": [],
   "source": [
    "net_tree = ParamsTree.read(PARAMS_DIR/'network_tree.yml')"
   ]
  },
  {
   "cell_type": "code",
   "execution_count": 56,
   "metadata": {},
   "outputs": [
    {
     "name": "stderr",
     "output_type": "stream",
     "text": [
      "2020-05-29 08:40:33,350 [denest.simulation] INFO: Building network.\n",
      "2020-05-29 08:40:33,381 [denest.network] INFO: Build N=2 ``Model`` objects\n",
      "2020-05-29 08:40:33,382 [denest.network] INFO: Build N=2 ``SynapseModel`` objects\n",
      "2020-05-29 08:40:33,386 [denest.network] INFO: Build N=2 ``Model`` objects\n",
      "2020-05-29 08:40:33,388 [denest.network] INFO: Build N=2 ``Layer`` or ``InputLayer`` objects.\n",
      "2020-05-29 08:40:33,389 [denest.utils.validation] INFO: Object `conn_1_AMPA`: params: using default value for optional parameters:\n",
      "{'type': 'topological'}\n",
      "2020-05-29 08:40:33,392 [denest.utils.validation] INFO: Object `conn_2_GABAA`: params: using default value for optional parameters:\n",
      "{'type': 'topological'}\n",
      "2020-05-29 08:40:33,393 [denest.network] INFO: Build N=2 ``ConnectionModel`` objects\n",
      "2020-05-29 08:40:33,396 [denest.network] INFO: Build N=3 ``TopoConnection`` objects\n",
      "2020-05-29 08:40:33,401 [denest.network] INFO: Build N=1 population recorders.\n",
      "2020-05-29 08:40:33,403 [denest.network] INFO: Build N=1 connection recorders.\n",
      "2020-05-29 08:40:33,408 [denest.network] INFO: Build N=3 ``TopoConnection`` objects\n",
      "2020-05-29 08:40:33,412 [denest.network] INFO: Build N=1 population recorders.\n",
      "2020-05-29 08:40:33,414 [denest.network] INFO: Build N=1 connection recorders.\n",
      "2020-05-29 08:40:33,415 [denest.simulation] INFO: Creating network.\n",
      "2020-05-29 08:40:33,417 [denest.network] INFO: Creating neuron models...\n",
      "100%|██████████| 2/2 [00:00<00:00, 3104.59it/s]\n",
      "2020-05-29 08:40:33,426 [denest.network] INFO: Creating synapse models...\n",
      "100%|██████████| 2/2 [00:00<00:00, 1247.56it/s]\n",
      "2020-05-29 08:40:33,432 [denest.network] INFO: Creating recorder models...\n",
      "100%|██████████| 2/2 [00:00<00:00, 1676.38it/s]\n",
      "2020-05-29 08:40:33,439 [denest.network] INFO: Creating layers...\n",
      "100%|██████████| 2/2 [00:00<00:00,  7.53it/s]\n",
      "2020-05-29 08:40:33,711 [denest.network] INFO: Creating population recorders...\n",
      "100%|██████████| 1/1 [00:00<00:00, 36.65it/s]\n",
      "2020-05-29 08:40:33,751 [denest.network] INFO: Creating connection recorders...\n",
      "100%|██████████| 1/1 [00:00<00:00, 400.49it/s]\n",
      "2020-05-29 08:40:33,759 [denest.network] INFO: Connecting layers...\n",
      "100%|██████████| 3/3 [00:00<00:00, 110.51it/s]\n",
      "2020-05-29 08:40:33,795 [denest.network] INFO: Network size (including recorders and parrot neurons):\n",
      "Number of nodes: 205\n",
      "Number of connections: 6625\n",
      "2020-05-29 08:40:33,798 [denest.simulation] INFO: Finished creating network\n"
     ]
    }
   ],
   "source": [
    "sim.create_network(net_tree)"
   ]
  },
  {
   "cell_type": "code",
   "execution_count": 57,
   "metadata": {},
   "outputs": [
    {
     "data": {
      "text/plain": [
       "(52,)"
      ]
     },
     "execution_count": 57,
     "metadata": {},
     "output_type": "execute_result"
    }
   ],
   "source": [
    "# Network object was created and can be accessed as we learnt\n",
    "sim.network.layers['l1'].gid"
   ]
  },
  {
   "cell_type": "code",
   "execution_count": 58,
   "metadata": {},
   "outputs": [
    {
     "data": {
      "text/plain": [
       "ParamsTree(name='network', parent='None')\n",
       "  params: {}\n",
       "  nest_params: {}\n",
       "  neuron_models:\n",
       "    params: {}\n",
       "    nest_params: {}\n",
       "    my_neuron:\n",
       "      params:\n",
       "        nest_model: ht_neuron\n",
       "      nest_params:\n",
       "        g_KL: 1.0\n",
       "        g_NaL: 1.0\n",
       "      l1_exc:\n",
       "        params: {}\n",
       "        nest_params:\n",
       "          V_m: -44.0\n",
       "  \n",
       "  ... [107 lines] ...\n",
       "\n",
       "        - l1\n",
       "        populations:\n",
       "        - l1_exc\n",
       "        model: my_multimeter\n",
       "      connection_recorders:\n",
       "      - source_layers:\n",
       "        - l1\n",
       "        source_population: l1_exc\n",
       "        target_layers:\n",
       "        - l1\n",
       "        target_population: l1_inh\n",
       "        connection_model: conn_1_AMPA\n",
       "        model: weight_recorder\n",
       "    nest_params: {}\n",
       "  "
      ]
     },
     "execution_count": 58,
     "metadata": {},
     "output_type": "execute_result"
    }
   ],
   "source": [
    "# network tree was saved and can be re-used\n",
    "sim.tree.children['network']"
   ]
  },
  {
   "cell_type": "markdown",
   "metadata": {},
   "source": [
    "## Create some sessions\n",
    "\n",
    "### so we can run the network in specific conditions"
   ]
  },
  {
   "cell_type": "markdown",
   "metadata": {},
   "source": [
    "### Build session models from a tree"
   ]
  },
  {
   "cell_type": "code",
   "execution_count": 59,
   "metadata": {},
   "outputs": [
    {
     "name": "stdout",
     "output_type": "stream",
     "text": [
      "params:\n",
      "  record: true\n",
      "  simulation_time: 100.0\n",
      "nest_params: {}\n",
      "warmup:\n",
      "  params:\n",
      "    record: false\n",
      "  nest_params: {}\n",
      "high_input:\n",
      "  params:\n",
      "    unit_changes:\n",
      "    - layers:\n",
      "      - input_layer\n",
      "      population: poisson_generator\n",
      "      params:\n",
      "        rate: 100.0\n",
      "  nest_params: {}\n",
      "low_input:\n",
      "  params:\n",
      "    unit_changes:\n",
      "    - layers:\n",
      "      - input_layer\n",
      "      population: poisson_generator\n",
      "      params:\n",
      "        rate: 50.0\n",
      "  nest_params: {}\n",
      "\n"
     ]
    }
   ],
   "source": [
    "# Notice the hierarchical inheritance as before\n",
    "session_models_tree = ParamsTree.read(PARAMS_DIR/'session_models.yml').children['session_models']\n",
    "print(session_models_tree)"
   ]
  },
  {
   "cell_type": "code",
   "execution_count": 60,
   "metadata": {},
   "outputs": [
    {
     "name": "stderr",
     "output_type": "stream",
     "text": [
      "2020-05-29 08:40:35,702 [denest.simulation] INFO: Build N=3 session models\n"
     ]
    }
   ],
   "source": [
    "sim.build_session_models(session_models_tree)"
   ]
  },
  {
   "cell_type": "code",
   "execution_count": 61,
   "metadata": {},
   "outputs": [
    {
     "data": {
      "text/plain": [
       "{'warmup': ParamsTree(name='warmup', parent='session_models')\n",
       "   params:\n",
       "     record: false\n",
       "   nest_params: {}\n",
       "   ,\n",
       " 'high_input': ParamsTree(name='high_input', parent='session_models')\n",
       "   params:\n",
       "     unit_changes:\n",
       "     - layers:\n",
       "       - input_layer\n",
       "       population: poisson_generator\n",
       "       params:\n",
       "         rate: 100.0\n",
       "   nest_params: {}\n",
       "   ,\n",
       " 'low_input': ParamsTree(name='low_input', parent='session_models')\n",
       "   params:\n",
       "     unit_changes:\n",
       "     - layers:\n",
       "       - input_layer\n",
       "       population: poisson_generator\n",
       "       params:\n",
       "         rate: 50.0\n",
       "   nest_params: {}\n",
       "   }"
      ]
     },
     "execution_count": 61,
     "metadata": {},
     "output_type": "execute_result"
    }
   ],
   "source": [
    "sim.session_models"
   ]
  },
  {
   "cell_type": "markdown",
   "metadata": {},
   "source": [
    "### Build a list of sessions from the ``session_models`` templates"
   ]
  },
  {
   "cell_type": "code",
   "execution_count": 62,
   "metadata": {},
   "outputs": [],
   "source": [
    "sessions_order = ['warmup', 'high_input', 'low_input', 'high_input', 'low_input']"
   ]
  },
  {
   "cell_type": "code",
   "execution_count": 63,
   "metadata": {},
   "outputs": [
    {
     "name": "stderr",
     "output_type": "stream",
     "text": [
      "2020-05-29 08:40:37,572 [denest.simulation] INFO: Build N=5 sessions\n",
      "2020-05-29 08:40:37,580 [denest.session] INFO: Creating session \"00_warmup\"\n",
      "2020-05-29 08:40:37,583 [denest.utils.validation] INFO: Object `00_warmup`: params: using default value for optional parameters:\n",
      "{'inputs': {},\n",
      " 'reset_network': False,\n",
      " 'synapse_changes': [],\n",
      " 'unit_changes': []}\n",
      "2020-05-29 08:40:37,586 [denest.session] INFO: Creating session \"01_high_input\"\n",
      "2020-05-29 08:40:37,590 [denest.utils.validation] INFO: Object `01_high_input`: params: using default value for optional parameters:\n",
      "{'inputs': {}, 'reset_network': False, 'synapse_changes': []}\n",
      "2020-05-29 08:40:37,592 [denest.session] INFO: Creating session \"02_low_input\"\n",
      "2020-05-29 08:40:37,595 [denest.utils.validation] INFO: Object `02_low_input`: params: using default value for optional parameters:\n",
      "{'inputs': {}, 'reset_network': False, 'synapse_changes': []}\n",
      "2020-05-29 08:40:37,600 [denest.session] INFO: Creating session \"03_high_input\"\n",
      "2020-05-29 08:40:37,602 [denest.utils.validation] INFO: Object `03_high_input`: params: using default value for optional parameters:\n",
      "{'inputs': {}, 'reset_network': False, 'synapse_changes': []}\n",
      "2020-05-29 08:40:37,605 [denest.session] INFO: Creating session \"04_low_input\"\n",
      "2020-05-29 08:40:37,607 [denest.utils.validation] INFO: Object `04_low_input`: params: using default value for optional parameters:\n",
      "{'inputs': {}, 'reset_network': False, 'synapse_changes': []}\n",
      "2020-05-29 08:40:37,609 [denest.simulation] INFO: Sessions: ['00_warmup', '01_high_input', '02_low_input', '03_high_input', '04_low_input']\n"
     ]
    }
   ],
   "source": [
    "sim.build_sessions(sessions_order)"
   ]
  },
  {
   "cell_type": "code",
   "execution_count": 64,
   "metadata": {},
   "outputs": [
    {
     "data": {
      "text/plain": [
       "[Session(00_warmup, {'inputs': {},\n",
       "  'record': False,\n",
       "  'reset_network': False,\n",
       "  'simulation_time': 100.0,\n",
       "  'synapse_changes': [],\n",
       "  'unit_changes': []}),\n",
       " Session(01_high_input, {'inputs': {},\n",
       "  'record': True,\n",
       "  'reset_network': False,\n",
       "  'simulation_time': 100.0,\n",
       "  'synapse_changes': [],\n",
       "  'unit_changes': [{'layers': ['input_layer'],\n",
       "                    'params': {'rate': 100.0},\n",
       "                    'population': 'poisson_generator'}]}),\n",
       " Session(02_low_input, {'inputs': {},\n",
       "  'record': True,\n",
       "  'reset_network': False,\n",
       "  'simulation_time': 100.0,\n",
       "  'synapse_changes': [],\n",
       "  'unit_changes': [{'layers': ['input_layer'],\n",
       "                    'params': {'rate': 50.0},\n",
       "                    'population': 'poisson_generator'}]}),\n",
       " Session(03_high_input, {'inputs': {},\n",
       "  'record': True,\n",
       "  'reset_network': False,\n",
       "  'simulation_time': 100.0,\n",
       "  'synapse_changes': [],\n",
       "  'unit_changes': [{'layers': ['input_layer'],\n",
       "                    'params': {'rate': 100.0},\n",
       "                    'population': 'poisson_generator'}]}),\n",
       " Session(04_low_input, {'inputs': {},\n",
       "  'record': True,\n",
       "  'reset_network': False,\n",
       "  'simulation_time': 100.0,\n",
       "  'synapse_changes': [],\n",
       "  'unit_changes': [{'layers': ['input_layer'],\n",
       "                    'params': {'rate': 50.0},\n",
       "                    'population': 'poisson_generator'}]})]"
      ]
     },
     "execution_count": 64,
     "metadata": {},
     "output_type": "execute_result"
    }
   ],
   "source": [
    "# Notice the session names\n",
    "sim.sessions"
   ]
  },
  {
   "cell_type": "markdown",
   "metadata": {},
   "source": [
    "### Run all the sessions"
   ]
  },
  {
   "cell_type": "code",
   "execution_count": 65,
   "metadata": {},
   "outputs": [
    {
     "name": "stdout",
     "output_type": "stream",
     "text": [
      "kernel time:  0.0\n"
     ]
    }
   ],
   "source": [
    "print('kernel time: ', nest.GetKernelStatus('time'))"
   ]
  },
  {
   "cell_type": "code",
   "execution_count": 66,
   "metadata": {},
   "outputs": [
    {
     "name": "stderr",
     "output_type": "stream",
     "text": [
      "2020-05-29 08:40:38,811 [denest.simulation] INFO: Running 5 sessions...\n",
      "2020-05-29 08:40:38,811 [denest.simulation] INFO: Running session: '00_warmup'...\n",
      "2020-05-29 08:40:38,813 [denest.session] INFO: Initializing session...\n",
      "-> Changing synapses's state.: 0it [00:00, ?it/s]\n",
      "2020-05-29 08:40:38,821 [denest.network.recorders] INFO:   Setting status for recorder my_multimeter_l1_l1_exc: {'start': 100.0}\n",
      "2020-05-29 08:40:38,822 [denest.network.recorders] INFO:   Setting status for recorder weight_recorder_conn_1_AMPA-l1-l1_exc-l1-l1_inh: {'start': 100.0}\n",
      "2020-05-29 08:40:38,824 [denest.session] INFO: Finished initializing session\n",
      "\n",
      "2020-05-29 08:40:38,825 [denest.session] INFO: Running session '00_warmup' for 100 ms\n",
      "2020-05-29 08:40:38,954 [denest.session] INFO: Finished running session\n",
      "2020-05-29 08:40:38,956 [denest.session] INFO: Session '00_warmup' virtual running time: 100 ms\n",
      "2020-05-29 08:40:38,960 [denest.session] INFO: Session '00_warmup' real running time: 0h:00m:00s\n",
      "2020-05-29 08:40:38,964 [denest.simulation] INFO: Done running session '00_warmup'\n",
      "2020-05-29 08:40:38,965 [denest.simulation] INFO: Running session: '01_high_input'...\n",
      "2020-05-29 08:40:38,966 [denest.session] INFO: Initializing session...\n",
      "-> Changing synapses's state.: 0it [00:00, ?it/s]\n",
      "---> Apply change dict on layers:   0%|          | 0/1 [00:00<?, ?it/s]2020-05-29 08:40:38,976 [denest.network.layers] INFO:     Apply \"constant\" parameter changes on 25/25 units (layer=input_layer, population=poisson_generator)\n",
      "---> Apply change dict on layers: 100%|██████████| 1/1 [00:00<00:00, 130.18it/s]\n",
      "2020-05-29 08:40:38,982 [denest.session] INFO: Finished initializing session\n",
      "\n",
      "2020-05-29 08:40:38,983 [denest.session] INFO: Running session '01_high_input' for 100 ms\n",
      "2020-05-29 08:40:39,370 [denest.session] INFO: Finished running session\n",
      "2020-05-29 08:40:39,372 [denest.session] INFO: Session '01_high_input' virtual running time: 100 ms\n",
      "2020-05-29 08:40:39,374 [denest.session] INFO: Session '01_high_input' real running time: 0h:00m:00s\n",
      "2020-05-29 08:40:39,390 [denest.simulation] INFO: Done running session '01_high_input'\n",
      "2020-05-29 08:40:39,396 [denest.simulation] INFO: Running session: '02_low_input'...\n",
      "2020-05-29 08:40:39,399 [denest.session] INFO: Initializing session...\n",
      "-> Changing synapses's state.: 0it [00:00, ?it/s]\n",
      "---> Apply change dict on layers:   0%|          | 0/1 [00:00<?, ?it/s]2020-05-29 08:40:39,417 [denest.network.layers] INFO:     Apply \"constant\" parameter changes on 25/25 units (layer=input_layer, population=poisson_generator)\n",
      "---> Apply change dict on layers: 100%|██████████| 1/1 [00:00<00:00, 98.00it/s]\n",
      "2020-05-29 08:40:39,421 [denest.session] INFO: Finished initializing session\n",
      "\n",
      "2020-05-29 08:40:39,422 [denest.session] INFO: Running session '02_low_input' for 100 ms\n",
      "2020-05-29 08:40:39,659 [denest.session] INFO: Finished running session\n",
      "2020-05-29 08:40:39,659 [denest.session] INFO: Session '02_low_input' virtual running time: 100 ms\n",
      "2020-05-29 08:40:39,660 [denest.session] INFO: Session '02_low_input' real running time: 0h:00m:00s\n",
      "2020-05-29 08:40:39,665 [denest.simulation] INFO: Done running session '02_low_input'\n",
      "2020-05-29 08:40:39,666 [denest.simulation] INFO: Running session: '03_high_input'...\n",
      "2020-05-29 08:40:39,667 [denest.session] INFO: Initializing session...\n",
      "-> Changing synapses's state.: 0it [00:00, ?it/s]\n",
      "---> Apply change dict on layers:   0%|          | 0/1 [00:00<?, ?it/s]2020-05-29 08:40:39,682 [denest.network.layers] INFO:     Apply \"constant\" parameter changes on 25/25 units (layer=input_layer, population=poisson_generator)\n",
      "---> Apply change dict on layers: 100%|██████████| 1/1 [00:00<00:00, 135.61it/s]\n",
      "2020-05-29 08:40:39,687 [denest.session] INFO: Finished initializing session\n",
      "\n",
      "2020-05-29 08:40:39,688 [denest.session] INFO: Running session '03_high_input' for 100 ms\n",
      "2020-05-29 08:40:39,870 [denest.session] INFO: Finished running session\n",
      "2020-05-29 08:40:39,871 [denest.session] INFO: Session '03_high_input' virtual running time: 100 ms\n",
      "2020-05-29 08:40:39,871 [denest.session] INFO: Session '03_high_input' real running time: 0h:00m:00s\n",
      "2020-05-29 08:40:39,872 [denest.simulation] INFO: Done running session '03_high_input'\n",
      "2020-05-29 08:40:39,873 [denest.simulation] INFO: Running session: '04_low_input'...\n",
      "2020-05-29 08:40:39,875 [denest.session] INFO: Initializing session...\n",
      "-> Changing synapses's state.: 0it [00:00, ?it/s]\n",
      "---> Apply change dict on layers:   0%|          | 0/1 [00:00<?, ?it/s]2020-05-29 08:40:39,891 [denest.network.layers] INFO:     Apply \"constant\" parameter changes on 25/25 units (layer=input_layer, population=poisson_generator)\n",
      "---> Apply change dict on layers: 100%|██████████| 1/1 [00:00<00:00, 228.88it/s]\n",
      "2020-05-29 08:40:39,894 [denest.session] INFO: Finished initializing session\n",
      "\n",
      "2020-05-29 08:40:39,895 [denest.session] INFO: Running session '04_low_input' for 100 ms\n",
      "2020-05-29 08:40:40,198 [denest.session] INFO: Finished running session\n",
      "2020-05-29 08:40:40,200 [denest.session] INFO: Session '04_low_input' virtual running time: 100 ms\n",
      "2020-05-29 08:40:40,201 [denest.session] INFO: Session '04_low_input' real running time: 0h:00m:00s\n",
      "2020-05-29 08:40:40,204 [denest.simulation] INFO: Done running session '04_low_input'\n",
      "2020-05-29 08:40:40,205 [denest.simulation] INFO: Finished running simulation\n"
     ]
    }
   ],
   "source": [
    "sim.run()"
   ]
  },
  {
   "cell_type": "code",
   "execution_count": 67,
   "metadata": {},
   "outputs": [
    {
     "name": "stdout",
     "output_type": "stream",
     "text": [
      "kernel time:  500.0\n"
     ]
    }
   ],
   "source": [
    "print('kernel time: ', nest.GetKernelStatus('time'))"
   ]
  },
  {
   "cell_type": "markdown",
   "metadata": {},
   "source": [
    "### Save the simulation metadata"
   ]
  },
  {
   "cell_type": "code",
   "execution_count": 68,
   "metadata": {},
   "outputs": [
    {
     "name": "stderr",
     "output_type": "stream",
     "text": [
      "2020-05-29 08:40:40,529 [denest.simulation] INFO: Saving simulation metadata...\n",
      "2020-05-29 08:40:40,542 [denest.simulation] INFO: Creating output directory: output\n",
      "2020-05-29 08:40:40,546 [denest.io.save] INFO: Clearing directory: output\n",
      "2020-05-29 08:40:40,549 [denest.io.save] INFO: Clearing directory: output\n",
      "2020-05-29 08:40:40,552 [denest.io.save] INFO: Clearing directory: output/data\n",
      "2020-05-29 08:40:40,557 [denest.io.save] INFO: Clearing directory: output/data\n",
      "2020-05-29 08:40:40,561 [denest.io.save] INFO: Clearing directory: output/data\n",
      "2020-05-29 08:40:40,565 [denest.io.save] INFO: Clearing directory: output\n",
      "2020-05-29 08:40:40,758 [denest.simulation] INFO: Finished saving simulation metadata\n"
     ]
    }
   ],
   "source": [
    "sim.save_metadata()"
   ]
  },
  {
   "cell_type": "code",
   "execution_count": 69,
   "metadata": {},
   "outputs": [
    {
     "name": "stdout",
     "output_type": "stream",
     "text": [
      "\u001b[1m\u001b[36mdata\u001b[m\u001b[m               git_hash           parameter_tree.yml session_times.yml\r\n"
     ]
    }
   ],
   "source": [
    "!ls {OUTPUT_DIR}"
   ]
  },
  {
   "cell_type": "code",
   "execution_count": 70,
   "metadata": {},
   "outputs": [
    {
     "name": "stdout",
     "output_type": "stream",
     "text": [
      "00_warmup: !!python/tuple\r\n",
      "- 0.0\r\n",
      "- 100.0\r\n",
      "01_high_input: !!python/tuple\r\n",
      "- 100.0\r\n",
      "- 200.0\r\n",
      "02_low_input: !!python/tuple\r\n",
      "- 200.0\r\n",
      "- 300.0\r\n",
      "03_high_input: !!python/tuple\r\n",
      "- 300.0\r\n",
      "- 400.0\r\n",
      "04_low_input: !!python/tuple\r\n",
      "- 400.0\r\n",
      "- 500.0\r\n"
     ]
    }
   ],
   "source": [
    "!cat {OUTPUT_DIR/'session_times.yml'}"
   ]
  },
  {
   "cell_type": "code",
   "execution_count": 71,
   "metadata": {},
   "outputs": [
    {
     "name": "stdout",
     "output_type": "stream",
     "text": [
      "my_multimeter_l1_l1_exc.yml\r\n",
      "weight_recorder_conn_1_AMPA-l1-l1_exc-l1-l1_inh.yml\r\n"
     ]
    }
   ],
   "source": [
    "!ls {OUTPUT_DIR/'data'}"
   ]
  },
  {
   "cell_type": "markdown",
   "metadata": {},
   "source": [
    "## Load simulation outputs"
   ]
  },
  {
   "cell_type": "code",
   "execution_count": null,
   "metadata": {},
   "outputs": [],
   "source": [
    "import denest.io.load\n",
    "from pathlib import Path\n",
    "\n",
    "OUTPUT_DIR = Path(sim.output_dir)"
   ]
  },
  {
   "cell_type": "code",
   "execution_count": null,
   "metadata": {},
   "outputs": [],
   "source": [
    "# Load the start and end time for each session\n",
    "session_times = denest.io.load.load_session_times(OUTPUT_DIR) \n",
    "print(session_times)  # {<session_name>: (<session_start>, <session_end>)}"
   ]
  },
  {
   "cell_type": "code",
   "execution_count": null,
   "metadata": {},
   "outputs": [],
   "source": [
    "## Load data from a specific recorder.\n",
    "\n",
    "recorder_metadata_path = OUTPUT_DIR/'data/multimeter_l1_l1_exc.yml'\n",
    "\n",
    "# All relevant information about this recorder and the population it's\n",
    "# connected to are contained in its metadata file\n",
    "recorder_metadata = denest.io.load.load_yaml(recorder_metadata_path)\n",
    "print(f'Metadata keys: {recorder_metadata.keys()}')"
   ]
  },
  {
   "cell_type": "code",
   "execution_count": null,
   "metadata": {},
   "outputs": [],
   "source": [
    "# We can load the raw data as pandas dataframe\n",
    "df = denest.io.load.load(recorder_metadata_path)\n",
    "print(df[0:5])"
   ]
  },
  {
   "cell_type": "code",
   "execution_count": null,
   "metadata": {},
   "outputs": [],
   "source": [
    "all_recorder_metadata_paths = denest.io.load.metadata_paths(OUTPUT_DIR)\n",
    "print(all_recorder_metadata_paths)"
   ]
  },
  {
   "cell_type": "code",
   "execution_count": null,
   "metadata": {},
   "outputs": [],
   "source": [
    "for metadata_path in all_recorder_metadata_paths:\n",
    "  print(f'Recorder: {metadata_path.name}')\n",
    "  print(f'{denest.io.load.load(metadata_path)[0:5]}\\n')"
   ]
  },
  {
   "cell_type": "markdown",
   "metadata": {},
   "source": [
    "## Replicate the simulation"
   ]
  },
  {
   "cell_type": "code",
   "execution_count": null,
   "metadata": {},
   "outputs": [],
   "source": [
    "params = ParamsTree.read(OUTPUT_DIR/'parameter_tree.yml')"
   ]
  },
  {
   "cell_type": "code",
   "execution_count": null,
   "metadata": {},
   "outputs": [],
   "source": [
    "# sim = denest.Simulation(params)\n",
    "# sim.run()"
   ]
  }
 ],
 "metadata": {
  "kernelspec": {
   "display_name": "denest",
   "language": "python",
   "name": "denest"
  },
  "language_info": {
   "codemirror_mode": {
    "name": "ipython",
    "version": 3
   },
   "file_extension": ".py",
   "mimetype": "text/x-python",
   "name": "python",
   "nbconvert_exporter": "python",
   "pygments_lexer": "ipython3",
   "version": "3.7.5"
  }
 },
 "nbformat": 4,
 "nbformat_minor": 4
}
