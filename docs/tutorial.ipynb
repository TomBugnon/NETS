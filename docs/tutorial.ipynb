{
 "cells": [
  {
   "cell_type": "code",
   "execution_count": 1,
   "metadata": {},
   "outputs": [
    {
     "name": "stdout",
     "output_type": "stream",
     "text": [
      "The autoreload extension is already loaded. To reload it, use:\n",
      "  %reload_ext autoreload\n"
     ]
    }
   ],
   "source": [
    "%load_ext autoreload\n",
    "%autoreload 2\n",
    "\n",
    "import nest\n",
    "import yaml\n",
    "from pathlib import Path\n",
    "from pprint import pprint"
   ]
  },
  {
   "cell_type": "code",
   "execution_count": 2,
   "metadata": {},
   "outputs": [],
   "source": [
    "from denest import *\n",
    "import denest"
   ]
  },
  {
   "cell_type": "code",
   "execution_count": 3,
   "metadata": {},
   "outputs": [],
   "source": [
    "PARAMS_DIR = Path('./params')\n",
    "OUTPUT_DIR = Path('./output')"
   ]
  },
  {
   "cell_type": "markdown",
   "metadata": {},
   "source": [
    "# Let's familiarize ourselves with the ``Network`` object\n",
    "\n",
    "__...by building the elements of the network one by one__\n",
    "\n",
    "In this section we:\n",
    "\n",
    "1. Initialize an empty ``Network`` object\n",
    "2. __Initialize all the elements of the network__ using  the ``Network.build_*`` methods\n",
    "    1. Models (neuron models, recorder models, synapse models\n",
    "    2. Layers\n",
    "    3. Connection models\n",
    "    4. Individual connections\n",
    "    5. Population and connection recorders\n",
    "3. __Create the network__ in NEST\n",
    "4. __Access the network elements__ (GIDs, etc)\n",
    "4. Export and reuse the parameter tree allowing us to __replicate the network__"
   ]
  },
  {
   "cell_type": "markdown",
   "metadata": {},
   "source": [
    "## Initialize an empty network\n",
    "\n",
    "When initialized without argument or with an empty tree as an argument, all the expected subtrees are initialized as empty.\n",
    "\n",
    "When building the elements interactively, the network's parameters are updated"
   ]
  },
  {
   "cell_type": "code",
   "execution_count": 75,
   "metadata": {},
   "outputs": [
    {
     "name": "stderr",
     "output_type": "stream",
     "text": [
      "2020-06-19 21:44:11,113 [denest.utils.validation] INFO: 'None' tree: adding empty child neuron_models\n",
      "2020-06-19 21:44:11,118 [denest.utils.validation] INFO: 'None' tree: adding empty child synapse_models\n",
      "2020-06-19 21:44:11,120 [denest.utils.validation] INFO: 'None' tree: adding empty child layers\n",
      "2020-06-19 21:44:11,126 [denest.utils.validation] INFO: 'None' tree: adding empty child connection_models\n",
      "2020-06-19 21:44:11,128 [denest.utils.validation] INFO: 'None' tree: adding empty child topology\n",
      "2020-06-19 21:44:11,131 [denest.utils.validation] INFO: 'None' tree: adding empty child recorder_models\n",
      "2020-06-19 21:44:11,134 [denest.utils.validation] INFO: 'None' tree: adding empty child recorders\n",
      "2020-06-19 21:44:11,139 [denest.network] INFO: Build N=0 ``Model`` objects\n",
      "2020-06-19 21:44:11,141 [denest.network] INFO: Build N=0 ``SynapseModel`` objects\n",
      "2020-06-19 21:44:11,143 [denest.network] INFO: Build N=0 ``Model`` objects\n",
      "2020-06-19 21:44:11,147 [denest.network] INFO: Build N=0 ``Layer`` or ``InputLayer`` objects.\n",
      "2020-06-19 21:44:11,148 [denest.network] INFO: Build N=0 ``ConnectionModel`` objects\n",
      "2020-06-19 21:44:11,151 [denest.utils.validation] INFO: Object `topology`: params: using default value for optional parameters:\n",
      "{'connections': []}\n",
      "2020-06-19 21:44:11,155 [denest.network] INFO: Build N=0 ``TopoConnection`` objects\n",
      "2020-06-19 21:44:11,159 [denest.utils.validation] INFO: Object `recorders`: params: using default value for optional parameters:\n",
      "{'connection_recorders': [], 'population_recorders': []}\n",
      "2020-06-19 21:44:11,165 [denest.network] INFO: Build N=0 population recorders.\n",
      "2020-06-19 21:44:11,168 [denest.network] INFO: Build N=0 connection recorders.\n",
      "2020-06-19 21:44:11,177 [denest.utils.validation] INFO: Object `topology`: params: using default value for optional parameters:\n",
      "{'connections': []}\n",
      "2020-06-19 21:44:11,180 [denest.network] INFO: Build N=0 ``TopoConnection`` objects\n",
      "2020-06-19 21:44:11,185 [denest.utils.validation] INFO: Object `recorders`: params: using default value for optional parameters:\n",
      "{'connection_recorders': [], 'population_recorders': []}\n",
      "2020-06-19 21:44:11,191 [denest.network] INFO: Build N=0 population recorders.\n",
      "2020-06-19 21:44:11,193 [denest.network] INFO: Build N=0 connection recorders.\n"
     ]
    }
   ],
   "source": [
    "net = Network()"
   ]
  },
  {
   "cell_type": "code",
   "execution_count": 76,
   "metadata": {},
   "outputs": [
    {
     "data": {
      "text/plain": [
       "ParamsTree(name='None', parent=None)\n",
       "  params: {}\n",
       "  nest_params: {}\n",
       "  neuron_models:\n",
       "    params: {}\n",
       "    nest_params: {}\n",
       "  synapse_models:\n",
       "    params: {}\n",
       "    nest_params: {}\n",
       "  layers:\n",
       "    params: {}\n",
       "    nest_params: {}\n",
       "  connection_models:\n",
       "    params: {}\n",
       "    nest_params: {}\n",
       "  topology:\n",
       "    params: {}\n",
       "    nest_params: {}\n",
       "  recorder_models:\n",
       "    params: {}\n",
       "    nest_params: {}\n",
       "  recorders:\n",
       "    params: {}\n",
       "    nest_params: {}\n",
       "  "
      ]
     },
     "execution_count": 76,
     "metadata": {},
     "output_type": "execute_result"
    }
   ],
   "source": [
    "# Network parameter tree is empty:\n",
    "net.tree"
   ]
  },
  {
   "cell_type": "markdown",
   "metadata": {},
   "source": [
    "## Build the network components (models, layers, connections, recorders)\n"
   ]
  },
  {
   "cell_type": "markdown",
   "metadata": {},
   "source": [
    "### Define new models\n",
    "\n",
    "We can define neuron, recorder, stimulator and synapse models with arbitrary parameters from parameter trees.\n",
    "\n",
    "Each leaf corresponds to a new (named) model. Its ``nest_params`` and ``params`` are hierarchically inherited.\n",
    "\n",
    "The ``nest_model`` used is specified in the leaf's ``params``"
   ]
  },
  {
   "cell_type": "markdown",
   "metadata": {},
   "source": [
    "#### ``'neuron_models'`` tree:\n",
    "\n",
    "Initalize ``Network.neuron_models`` with the ``Network.build_neuron_models`` method"
   ]
  },
  {
   "cell_type": "code",
   "execution_count": 77,
   "metadata": {},
   "outputs": [
    {
     "name": "stdout",
     "output_type": "stream",
     "text": [
      "ParamsTree(name='neuron_models', parent='None')\n",
      "  params: {}\n",
      "  nest_params: {}\n",
      "  my_neuron:\n",
      "    params:\n",
      "      nest_model: ht_neuron\n",
      "    nest_params:\n",
      "      g_KL: 1.0\n",
      "      g_NaL: 1.0\n",
      "    l1_exc:\n",
      "      params: {}\n",
      "      nest_params:\n",
      "        V_m: -44.0\n",
      "    l1_inh:\n",
      "      params: {}\n",
      "      nest_params:\n",
      "        V_m: -55.0\n",
      "  \n"
     ]
    }
   ],
   "source": [
    "neuron_models_tree = ParamsTree.read(PARAMS_DIR/'models.yml').children['neuron_models']\n",
    "pprint(neuron_models_tree)"
   ]
  },
  {
   "cell_type": "code",
   "execution_count": 78,
   "metadata": {},
   "outputs": [
    {
     "name": "stderr",
     "output_type": "stream",
     "text": [
      "2020-06-19 21:44:11,383 [denest.network] INFO: Build N=2 ``Model`` objects\n"
     ]
    }
   ],
   "source": [
    "net.build_neuron_models(neuron_models_tree)"
   ]
  },
  {
   "cell_type": "code",
   "execution_count": 79,
   "metadata": {},
   "outputs": [
    {
     "name": "stdout",
     "output_type": "stream",
     "text": [
      "\n",
      "``Network.neuron_models`` :\n",
      "{'l1_exc': Model(l1_exc, {'nest_model': 'ht_neuron'}, {'V_m': -44.0, 'g_KL': 1.0, 'g_NaL': 1.0}),\n",
      " 'l1_inh': Model(l1_inh, {'nest_model': 'ht_neuron'}, {'V_m': -55.0, 'g_KL': 1.0, 'g_NaL': 1.0})}\n"
     ]
    }
   ],
   "source": [
    "# The neuron models are saved as an attribute for the Network object\n",
    "print(\"\\n``Network.neuron_models`` :\")\n",
    "pprint(net.neuron_models)"
   ]
  },
  {
   "cell_type": "code",
   "execution_count": 80,
   "metadata": {},
   "outputs": [
    {
     "name": "stdout",
     "output_type": "stream",
     "text": [
      "Model(l1_exc, {'nest_model': 'ht_neuron'}, {'V_m': -44.0, 'g_KL': 1.0, 'g_NaL': 1.0})\n",
      "{'nest_model': 'ht_neuron'}\n",
      "{'V_m': -44.0, 'g_KL': 1.0, 'g_NaL': 1.0}\n"
     ]
    }
   ],
   "source": [
    "pprint(net.neuron_models['l1_exc'])\n",
    "pprint(net.neuron_models['l1_exc'].params)\n",
    "pprint(net.neuron_models['l1_exc'].nest_params)"
   ]
  },
  {
   "cell_type": "markdown",
   "metadata": {},
   "source": [
    "#### ``'recorder_models'`` tree:\n",
    "\n",
    "Initalize ``Network.recorder_models`` with the ``Network.build_recorder_models`` method\n",
    "\n",
    "-> Same thing as for neuron models"
   ]
  },
  {
   "cell_type": "code",
   "execution_count": 81,
   "metadata": {},
   "outputs": [
    {
     "data": {
      "text/plain": [
       "ParamsTree(name='recorder_models', parent='None')\n",
       "  params: {}\n",
       "  nest_params:\n",
       "    record_to:\n",
       "    - memory\n",
       "    - file\n",
       "  weight_recorder:\n",
       "    params:\n",
       "      nest_model: weight_recorder\n",
       "    nest_params: {}\n",
       "  my_multimeter:\n",
       "    params:\n",
       "      nest_model: multimeter\n",
       "    nest_params:\n",
       "      record_from:\n",
       "      - V_m\n",
       "  "
      ]
     },
     "execution_count": 81,
     "metadata": {},
     "output_type": "execute_result"
    }
   ],
   "source": [
    "# ``Network.build_*`` methods accept as argument ``ParamsTree`` objects, but also tree-like dictionaries \n",
    "recorder_models_tree = ParamsTree.read(PARAMS_DIR/'models.yml').children['recorder_models']\n",
    "recorder_models_tree"
   ]
  },
  {
   "cell_type": "code",
   "execution_count": 82,
   "metadata": {},
   "outputs": [
    {
     "data": {
      "text/plain": [
       "{'params': {},\n",
       " 'nest_params': {'record_to': ['memory', 'file']},\n",
       " 'weight_recorder': {'params': {'nest_model': 'weight_recorder'},\n",
       "  'nest_params': {}},\n",
       " 'my_multimeter': {'params': {'nest_model': 'multimeter'},\n",
       "  'nest_params': {'record_from': ['V_m']}}}"
      ]
     },
     "execution_count": 82,
     "metadata": {},
     "output_type": "execute_result"
    }
   ],
   "source": [
    "# ``Network.build_*`` methods accept as argument ``ParamsTree`` objects, but also tree-like dictionaries \n",
    "recorder_models_tree = recorder_models_tree.asdict()\n",
    "recorder_models_tree"
   ]
  },
  {
   "cell_type": "code",
   "execution_count": 83,
   "metadata": {},
   "outputs": [
    {
     "name": "stderr",
     "output_type": "stream",
     "text": [
      "2020-06-19 21:44:11,734 [denest.network] INFO: Build N=2 ``Model`` objects\n"
     ]
    }
   ],
   "source": [
    "net.build_recorder_models(recorder_models_tree)"
   ]
  },
  {
   "cell_type": "code",
   "execution_count": 84,
   "metadata": {},
   "outputs": [
    {
     "name": "stdout",
     "output_type": "stream",
     "text": [
      "\n",
      "``Network.recorder_models`` :\n",
      "{'my_multimeter': Model(my_multimeter, {'nest_model': 'multimeter'}, {'record_from': ['V_m'], 'record_to': ['memory', 'file']}),\n",
      " 'weight_recorder': Model(weight_recorder, {'nest_model': 'weight_recorder'}, {'record_to': ['memory', 'file']})}\n"
     ]
    }
   ],
   "source": [
    "print(\"\\n``Network.recorder_models`` :\")\n",
    "pprint(net.recorder_models)"
   ]
  },
  {
   "cell_type": "markdown",
   "metadata": {},
   "source": [
    "#### ``'synapse_model'`` tree:\n",
    "\n",
    "Initalize ``Network.synapse_models`` with the ``Network.build_synapse_model`` method\n",
    "\n",
    "-> Same thing as for neuron models, with as a bonus a convenient way of specifying the receptor type of the synapse\n",
    "\n",
    "-> If specifying the ``receptor_type`` and ``target_model`` in the ``SynapseModel`` params, the corresponding port is determined automatically"
   ]
  },
  {
   "cell_type": "code",
   "execution_count": 85,
   "metadata": {},
   "outputs": [
    {
     "data": {
      "text/plain": [
       "ParamsTree(name='synapse_models', parent='None')\n",
       "  params: {}\n",
       "  nest_params: {}\n",
       "  my_AMPA_synapse:\n",
       "    params:\n",
       "      nest_model: ht_synapse\n",
       "      receptor_type: AMPA\n",
       "      target_neuron: ht_neuron\n",
       "    nest_params: {}\n",
       "  my_GABAA_synapse:\n",
       "    params:\n",
       "      nest_model: ht_synapse\n",
       "      receptor_type: GABA_A\n",
       "      target_neuron: ht_neuron\n",
       "    nest_params: {}\n",
       "  "
      ]
     },
     "execution_count": 85,
     "metadata": {},
     "output_type": "execute_result"
    }
   ],
   "source": [
    "synapse_models_tree = ParamsTree.read(PARAMS_DIR/'models.yml').children['synapse_models']\n",
    "synapse_models_tree"
   ]
  },
  {
   "cell_type": "code",
   "execution_count": 86,
   "metadata": {},
   "outputs": [
    {
     "name": "stderr",
     "output_type": "stream",
     "text": [
      "2020-06-19 21:44:11,938 [denest.network] INFO: Build N=2 ``SynapseModel`` objects\n"
     ]
    }
   ],
   "source": [
    "net.build_synapse_models(synapse_models_tree)"
   ]
  },
  {
   "cell_type": "code",
   "execution_count": 87,
   "metadata": {},
   "outputs": [
    {
     "name": "stdout",
     "output_type": "stream",
     "text": [
      "\n",
      "``Network.synapse_models`` :\n",
      "{'my_AMPA_synapse': SynapseModel(my_AMPA_synapse, {'nest_model': 'ht_synapse'}, {'receptor_type': 1}),\n",
      " 'my_GABAA_synapse': SynapseModel(my_GABAA_synapse, {'nest_model': 'ht_synapse'}, {'receptor_type': 3})}\n"
     ]
    }
   ],
   "source": [
    "print(\"\\n``Network.synapse_models`` :\")\n",
    "pprint(net.synapse_models)"
   ]
  },
  {
   "cell_type": "markdown",
   "metadata": {},
   "source": [
    "Note that the ``receptor_type`` nest_parameter was inferred"
   ]
  },
  {
   "cell_type": "markdown",
   "metadata": {},
   "source": [
    "### Define layers\n",
    "\n",
    "As for models, we can create ``nest.Topology`` layers from the leaves of a tree.\n",
    "\n",
    "The elements can be nest models with their default parameters, or the ones we just created with custom params\n",
    "\n",
    "For layers of stimulator devices, we can use the ``InputLayer`` object, which can automatically create paired parrot neurons for each stimulator units, by adding ``type: 'InputLayer'``\n",
    "to the params\n"
   ]
  },
  {
   "cell_type": "markdown",
   "metadata": {},
   "source": [
    "#### ``'layers'`` tree:\n"
   ]
  },
  {
   "cell_type": "code",
   "execution_count": 88,
   "metadata": {},
   "outputs": [
    {
     "data": {
      "text/plain": [
       "ParamsTree(name='None', parent=None)\n",
       "  params: {}\n",
       "  nest_params: {}\n",
       "  layers:\n",
       "    params:\n",
       "      type: null\n",
       "    nest_params:\n",
       "      rows: 5\n",
       "      columns: 5\n",
       "      extent:\n",
       "      - 5.0\n",
       "      - 5.0\n",
       "      edge_wrap: true\n",
       "    input_layer:\n",
       "      params:\n",
       "        type: InputLayer\n",
       "        populations:\n",
       "          spike_generator: 1\n",
       "      nest_params: {}\n",
       "    l1:\n",
       "      params:\n",
       "        populations:\n",
       "          l1_exc: 4\n",
       "          l1_inh: 2\n",
       "      nest_params: {}\n",
       "  "
      ]
     },
     "execution_count": 88,
     "metadata": {},
     "output_type": "execute_result"
    }
   ],
   "source": [
    "layer_tree = ParamsTree.read(PARAMS_DIR/'layers.yml')\n",
    "layer_tree"
   ]
  },
  {
   "cell_type": "code",
   "execution_count": 89,
   "metadata": {},
   "outputs": [
    {
     "name": "stderr",
     "output_type": "stream",
     "text": [
      "2020-06-19 21:44:12,127 [denest.network] INFO: Build N=2 ``Layer`` or ``InputLayer`` objects.\n"
     ]
    }
   ],
   "source": [
    "net.build_layers(layer_tree)"
   ]
  },
  {
   "cell_type": "code",
   "execution_count": 90,
   "metadata": {},
   "outputs": [
    {
     "name": "stdout",
     "output_type": "stream",
     "text": [
      "{'input_layer': InputLayer(input_layer, {'populations': {'parrot_neuron': 1, 'spike_generator': 1},\n",
      " 'type': 'InputLayer'}, {'columns': 5,\n",
      " 'edge_wrap': True,\n",
      " 'elements': ('spike_generator', 1, 'parrot_neuron', 1),\n",
      " 'extent': [5.0, 5.0],\n",
      " 'rows': 5}),\n",
      " 'l1': Layer(l1, {'populations': {'l1_exc': 4, 'l1_inh': 2}, 'type': None}, {'columns': 5,\n",
      " 'edge_wrap': True,\n",
      " 'elements': ('l1_exc', 4, 'l1_inh', 2),\n",
      " 'extent': [5.0, 5.0],\n",
      " 'rows': 5})}\n"
     ]
    }
   ],
   "source": [
    "pprint(net.layers)"
   ]
  },
  {
   "cell_type": "code",
   "execution_count": 91,
   "metadata": {},
   "outputs": [
    {
     "name": "stdout",
     "output_type": "stream",
     "text": [
      "'l1' layer\n",
      "{'populations': {'l1_exc': 4, 'l1_inh': 2}, 'type': None}\n",
      "{'columns': 5,\n",
      " 'edge_wrap': True,\n",
      " 'elements': ('l1_exc', 4, 'l1_inh', 2),\n",
      " 'extent': [5.0, 5.0],\n",
      " 'rows': 5}\n"
     ]
    }
   ],
   "source": [
    "print(\"'l1' layer\")\n",
    "pprint(net.layers['l1'].params)\n",
    "pprint(net.layers['l1'].nest_params)"
   ]
  },
  {
   "cell_type": "markdown",
   "metadata": {},
   "source": [
    "### Define connections\n",
    "\n",
    "We create connections using a two step process:\n",
    "\n",
    "1. Create ``ConnectionModel`` objects from a tree. Each named leaf will define a template from which individual connections can inherit their parameters\n",
    "2. Create ``Connection`` objects from a list, specifying for each item the source layer x population, target layer x population and the connection model to inherit parameters from"
   ]
  },
  {
   "cell_type": "markdown",
   "metadata": {},
   "source": [
    "#### 1- Define templates from the `connection_models` tree\n",
    "\n"
   ]
  },
  {
   "cell_type": "code",
   "execution_count": 92,
   "metadata": {},
   "outputs": [
    {
     "data": {
      "text/plain": [
       "ParamsTree(name='connection_models', parent='None')\n",
       "  params: {}\n",
       "  nest_params:\n",
       "    connection_type: divergent\n",
       "    mask:\n",
       "      circular:\n",
       "        radius: 2.0\n",
       "    kernel: 1.0\n",
       "  conn_1_AMPA:\n",
       "    params: {}\n",
       "    nest_params:\n",
       "      synapse_model: my_AMPA_synapse\n",
       "      weights: 1.0\n",
       "  conn_2_GABAA:\n",
       "    params: {}\n",
       "    nest_params:\n",
       "      synapse_model: my_GABAA_synapse\n",
       "      weights: 2.0\n",
       "  "
      ]
     },
     "execution_count": 92,
     "metadata": {},
     "output_type": "execute_result"
    }
   ],
   "source": [
    "conn_model_tree = ParamsTree.read(PARAMS_DIR/'connections.yml').children['connection_models']\n",
    "conn_model_tree"
   ]
  },
  {
   "cell_type": "code",
   "execution_count": 93,
   "metadata": {},
   "outputs": [
    {
     "name": "stderr",
     "output_type": "stream",
     "text": [
      "2020-06-19 21:44:12,521 [denest.utils.validation] INFO: Object `conn_1_AMPA`: params: using default value for optional parameters:\n",
      "{'type': 'topological'}\n",
      "2020-06-19 21:44:12,524 [denest.utils.validation] INFO: Object `conn_2_GABAA`: params: using default value for optional parameters:\n",
      "{'type': 'topological'}\n",
      "2020-06-19 21:44:12,528 [denest.network] INFO: Build N=2 ``ConnectionModel`` objects\n"
     ]
    }
   ],
   "source": [
    "net.build_connection_models(conn_model_tree)"
   ]
  },
  {
   "cell_type": "code",
   "execution_count": 94,
   "metadata": {},
   "outputs": [
    {
     "data": {
      "text/plain": [
       "{'conn_1_AMPA': ConnectionModel(conn_1_AMPA, \n",
       "  {'type': 'topological'}{'connection_type': 'divergent',\n",
       "   'mask': {'circular': {'radius': 2.0}},\n",
       "   'kernel': 1.0,\n",
       "   'synapse_model': 'my_AMPA_synapse',\n",
       "   'weights': 1.0}),\n",
       " 'conn_2_GABAA': ConnectionModel(conn_2_GABAA, \n",
       "  {'type': 'topological'}{'connection_type': 'divergent',\n",
       "   'mask': {'circular': {'radius': 2.0}},\n",
       "   'kernel': 1.0,\n",
       "   'synapse_model': 'my_GABAA_synapse',\n",
       "   'weights': 2.0})}"
      ]
     },
     "execution_count": 94,
     "metadata": {},
     "output_type": "execute_result"
    }
   ],
   "source": [
    "net.connection_models"
   ]
  },
  {
   "cell_type": "markdown",
   "metadata": {},
   "source": [
    "### 2- Define individual connections from the `topology` tree\n",
    "\n",
    "The list of connections is defined in the `connections` params of the `topology` tree\n",
    "\n",
    "Check out the doc of `Network.build_connections` for expected formatting"
   ]
  },
  {
   "cell_type": "code",
   "execution_count": 95,
   "metadata": {},
   "outputs": [
    {
     "data": {
      "text/plain": [
       "ParamsTree(name='topology', parent='None')\n",
       "  params:\n",
       "    connections:\n",
       "    - source_layers:\n",
       "      - input_layer\n",
       "      source_population: parrot_neuron\n",
       "      target_layers:\n",
       "      - l1\n",
       "      target_population: l1_exc\n",
       "      connection_model: conn_1_AMPA\n",
       "    - source_layers:\n",
       "      - l1\n",
       "      source_population: l1_exc\n",
       "      target_layers:\n",
       "      - l1\n",
       "      target_population: l1_inh\n",
       "      connection_model: conn_1_AMPA\n",
       "    - source_layers:\n",
       "      - l1\n",
       "      source_population: l1_inh\n",
       "      target_layers:\n",
       "      - l1\n",
       "      target_population: l1_exc\n",
       "      connection_model: conn_2_GABAA\n",
       "  nest_params: {}\n",
       "  "
      ]
     },
     "execution_count": 95,
     "metadata": {},
     "output_type": "execute_result"
    }
   ],
   "source": [
    "conns_tree = ParamsTree.read(PARAMS_DIR/'connections.yml').children['topology']\n",
    "conns_tree"
   ]
  },
  {
   "cell_type": "code",
   "execution_count": 96,
   "metadata": {},
   "outputs": [
    {
     "data": {
      "text/plain": [
       "{'conn_1_AMPA': ConnectionModel(conn_1_AMPA, \n",
       "  {'type': 'topological'}{'connection_type': 'divergent',\n",
       "   'mask': {'circular': {'radius': 2.0}},\n",
       "   'kernel': 1.0,\n",
       "   'synapse_model': 'my_AMPA_synapse',\n",
       "   'weights': 1.0}),\n",
       " 'conn_2_GABAA': ConnectionModel(conn_2_GABAA, \n",
       "  {'type': 'topological'}{'connection_type': 'divergent',\n",
       "   'mask': {'circular': {'radius': 2.0}},\n",
       "   'kernel': 1.0,\n",
       "   'synapse_model': 'my_GABAA_synapse',\n",
       "   'weights': 2.0})}"
      ]
     },
     "execution_count": 96,
     "metadata": {},
     "output_type": "execute_result"
    }
   ],
   "source": [
    "net.connection_models"
   ]
  },
  {
   "cell_type": "code",
   "execution_count": 97,
   "metadata": {},
   "outputs": [
    {
     "name": "stderr",
     "output_type": "stream",
     "text": [
      "2020-06-19 21:44:12,912 [denest.network] INFO: Build N=3 ``TopoConnection`` objects\n"
     ]
    }
   ],
   "source": [
    "net.build_connections(conns_tree)"
   ]
  },
  {
   "cell_type": "code",
   "execution_count": 98,
   "metadata": {},
   "outputs": [
    {
     "data": {
      "text/plain": [
       "[TopoConnection(conn_1_AMPA-input_layer-parrot_neuron-l1-l1_exc, \n",
       "  {'type': 'topological'}{'connection_type': 'divergent',\n",
       "   'mask': {'circular': {'radius': 2.0}},\n",
       "   'kernel': 1.0,\n",
       "   'synapse_model': 'my_AMPA_synapse',\n",
       "   'weights': 1.0,\n",
       "   'sources': {'model': 'parrot_neuron'},\n",
       "   'targets': {'model': 'l1_exc'}}),\n",
       " TopoConnection(conn_1_AMPA-l1-l1_exc-l1-l1_inh, \n",
       "  {'type': 'topological'}{'connection_type': 'divergent',\n",
       "   'mask': {'circular': {'radius': 2.0}},\n",
       "   'kernel': 1.0,\n",
       "   'synapse_model': 'my_AMPA_synapse',\n",
       "   'weights': 1.0,\n",
       "   'sources': {'model': 'l1_exc'},\n",
       "   'targets': {'model': 'l1_inh'}}),\n",
       " TopoConnection(conn_2_GABAA-l1-l1_inh-l1-l1_exc, \n",
       "  {'type': 'topological'}{'connection_type': 'divergent',\n",
       "   'mask': {'circular': {'radius': 2.0}},\n",
       "   'kernel': 1.0,\n",
       "   'synapse_model': 'my_GABAA_synapse',\n",
       "   'weights': 2.0,\n",
       "   'sources': {'model': 'l1_inh'},\n",
       "   'targets': {'model': 'l1_exc'}})]"
      ]
     },
     "execution_count": 98,
     "metadata": {},
     "output_type": "execute_result"
    }
   ],
   "source": [
    "net.connections"
   ]
  },
  {
   "cell_type": "markdown",
   "metadata": {},
   "source": [
    "## Define recorders from the `recorders` tree\n",
    "\n",
    "Similarly to the `topology` tree, recorders are defined from lists.\n",
    "\n",
    "\n",
    "We separate recorders connected to synapses (eg weight recorder) and those connected to units (eg spike detectors),\n",
    "which are defined in the `connection_recorders` and `population_recorders` params (resp.) of the `recorders` tree.\n",
    "\n",
    "\n",
    "Check out the doc of the ``Network.build_recorders``, ``Network.build_population_recorders`` and\n",
    "``Network.build_connection_recorders`` methods for expected formatting\n",
    "\n",
    "The parameters of the recorders can be changed by using custom recorder models (in the `recorder_models` tree, see above) "
   ]
  },
  {
   "cell_type": "code",
   "execution_count": 99,
   "metadata": {},
   "outputs": [
    {
     "data": {
      "text/plain": [
       "ParamsTree(name='recorders', parent='None')\n",
       "  params:\n",
       "    population_recorders:\n",
       "    - layers:\n",
       "      - l1\n",
       "      populations:\n",
       "      - l1_exc\n",
       "      model: my_multimeter\n",
       "    connection_recorders:\n",
       "    - source_layers:\n",
       "      - l1\n",
       "      source_population: l1_exc\n",
       "      target_layers:\n",
       "      - l1\n",
       "      target_population: l1_inh\n",
       "      connection_model: conn_1_AMPA\n",
       "      model: weight_recorder\n",
       "  nest_params: {}\n",
       "  "
      ]
     },
     "execution_count": 99,
     "metadata": {},
     "output_type": "execute_result"
    }
   ],
   "source": [
    "recorders_tree = ParamsTree.read(PARAMS_DIR/'recorders.yml').children['recorders']\n",
    "recorders_tree"
   ]
  },
  {
   "cell_type": "code",
   "execution_count": 100,
   "metadata": {},
   "outputs": [
    {
     "name": "stderr",
     "output_type": "stream",
     "text": [
      "2020-06-19 21:44:13,106 [denest.network] INFO: Build N=1 population recorders.\n",
      "2020-06-19 21:44:13,111 [denest.network] INFO: Build N=1 connection recorders.\n"
     ]
    }
   ],
   "source": [
    "net.build_recorders(recorders_tree)"
   ]
  },
  {
   "cell_type": "code",
   "execution_count": 101,
   "metadata": {},
   "outputs": [
    {
     "data": {
      "text/plain": [
       "[PopulationRecorder(my_multimeter_l1_l1_exc,  {}{})]"
      ]
     },
     "execution_count": 101,
     "metadata": {},
     "output_type": "execute_result"
    }
   ],
   "source": [
    "net.population_recorders"
   ]
  },
  {
   "cell_type": "code",
   "execution_count": 102,
   "metadata": {},
   "outputs": [
    {
     "data": {
      "text/plain": [
       "[ConnectionRecorder(weight_recorder_conn_1_AMPA-l1-l1_exc-l1-l1_inh,  {}{})]"
      ]
     },
     "execution_count": 102,
     "metadata": {},
     "output_type": "execute_result"
    }
   ],
   "source": [
    "net.connection_recorders"
   ]
  },
  {
   "cell_type": "markdown",
   "metadata": {},
   "source": [
    "## Create the network"
   ]
  },
  {
   "cell_type": "code",
   "execution_count": 103,
   "metadata": {},
   "outputs": [],
   "source": [
    "nest.ResetKernel()"
   ]
  },
  {
   "cell_type": "code",
   "execution_count": 104,
   "metadata": {},
   "outputs": [
    {
     "name": "stderr",
     "output_type": "stream",
     "text": [
      "2020-06-19 21:44:13,440 [denest.network] INFO: Creating neuron models...\n",
      "100%|██████████| 2/2 [00:00<00:00, 155.17it/s]\n",
      "2020-06-19 21:44:13,462 [denest.network] INFO: Creating synapse models...\n",
      "100%|██████████| 2/2 [00:00<00:00, 1605.48it/s]\n",
      "2020-06-19 21:44:13,492 [denest.network] INFO: Creating recorder models...\n",
      "100%|██████████| 2/2 [00:00<00:00, 159.55it/s]\n",
      "2020-06-19 21:44:13,523 [denest.network] INFO: Creating layers...\n",
      "100%|██████████| 2/2 [00:00<00:00,  5.97it/s]\n",
      "2020-06-19 21:44:13,866 [denest.network] INFO: Creating population recorders...\n",
      "100%|██████████| 1/1 [00:00<00:00, 24.64it/s]\n",
      "2020-06-19 21:44:13,910 [denest.network] INFO: Creating connection recorders...\n",
      "100%|██████████| 1/1 [00:00<00:00, 134.61it/s]\n",
      "2020-06-19 21:44:13,935 [denest.network] INFO: Connecting layers...\n",
      "100%|██████████| 3/3 [00:00<00:00, 335.38it/s]\n",
      "2020-06-19 21:44:13,951 [denest.network] INFO: Network size (including recorders and parrot neurons):\n",
      "Number of nodes: 205\n",
      "Number of connections: 6625\n"
     ]
    }
   ],
   "source": [
    "net.create()"
   ]
  },
  {
   "cell_type": "markdown",
   "metadata": {},
   "source": [
    "## Examine the network\n",
    "\n",
    "denest provides convenient ways of accessing the objects in NEST"
   ]
  },
  {
   "cell_type": "markdown",
   "metadata": {},
   "source": [
    "### Check the defaults of the created models"
   ]
  },
  {
   "cell_type": "code",
   "execution_count": 105,
   "metadata": {},
   "outputs": [
    {
     "name": "stdout",
     "output_type": "stream",
     "text": [
      "`l1_exc` neuron models `nest_params`:  {'g_KL': 1.0, 'g_NaL': 1.0, 'V_m': -44.0}\n"
     ]
    }
   ],
   "source": [
    "print(\"`l1_exc` neuron models `nest_params`: \", net.neuron_models['l1_exc'].nest_params)"
   ]
  },
  {
   "cell_type": "code",
   "execution_count": 106,
   "metadata": {},
   "outputs": [
    {
     "name": "stdout",
     "output_type": "stream",
     "text": [
      "Corresponding params of the `l1_exc` model in nest: (1.0, 1.0, -44.0)\n"
     ]
    }
   ],
   "source": [
    "print('Corresponding params of the `l1_exc` model in nest:', nest.GetDefaults('l1_exc', list(net.neuron_models['l1_exc'].nest_params.keys())))"
   ]
  },
  {
   "cell_type": "markdown",
   "metadata": {},
   "source": [
    "### Access the layers' units"
   ]
  },
  {
   "cell_type": "code",
   "execution_count": 107,
   "metadata": {},
   "outputs": [
    {
     "name": "stdout",
     "output_type": "stream",
     "text": [
      "Layer `l1` shape:  (5, 5)\n",
      "Population shapes:  {'l1_exc': (5, 5, 4), 'l1_inh': (5, 5, 2)}\n"
     ]
    }
   ],
   "source": [
    "print('Layer `l1` shape: ', net.layers['l1'].layer_shape)\n",
    "print('Population shapes: ', net.layers['l1'].population_shape)"
   ]
  },
  {
   "cell_type": "code",
   "execution_count": 108,
   "metadata": {},
   "outputs": [
    {
     "data": {
      "text/plain": [
       "[53, 78, 103, 128]"
      ]
     },
     "execution_count": 108,
     "metadata": {},
     "output_type": "execute_result"
    }
   ],
   "source": [
    "net.layers['l1'].gids(location=(0, 0), population='l1_exc')"
   ]
  },
  {
   "cell_type": "markdown",
   "metadata": {},
   "source": [
    "### Access the connections created in NEST"
   ]
  },
  {
   "cell_type": "code",
   "execution_count": 109,
   "metadata": {},
   "outputs": [
    {
     "data": {
      "text/plain": [
       "TopoConnection(conn_1_AMPA-input_layer-parrot_neuron-l1-l1_exc, \n",
       "{'type': 'topological'}{'connection_type': 'divergent',\n",
       " 'mask': {'circular': {'radius': 2.0}},\n",
       " 'kernel': 1.0,\n",
       " 'synapse_model': 'my_AMPA_synapse',\n",
       " 'weights': 1.0,\n",
       " 'sources': {'model': 'parrot_neuron'},\n",
       " 'targets': {'model': 'l1_exc'}})"
      ]
     },
     "execution_count": 109,
     "metadata": {},
     "output_type": "execute_result"
    }
   ],
   "source": [
    "conn = net.connections[0]\n",
    "conn"
   ]
  },
  {
   "cell_type": "code",
   "execution_count": 110,
   "metadata": {},
   "outputs": [
    {
     "data": {
      "text/plain": [
       "(array('l', [27, 53, 0, 68, 0]),\n",
       " array('l', [27, 88, 0, 68, 1]),\n",
       " array('l', [27, 83, 0, 68, 2]),\n",
       " array('l', [27, 152, 0, 68, 3]),\n",
       " array('l', [27, 84, 0, 68, 4]))"
      ]
     },
     "execution_count": 110,
     "metadata": {},
     "output_type": "execute_result"
    }
   ],
   "source": [
    "nest_conns = nest.GetConnections(\n",
    "    source=conn.source.gids(conn.source_population),\n",
    "    target=conn.target.gids(conn.target_population),\n",
    "    synapse_model=conn.nest_params['synapse_model']\n",
    ")\n",
    "nest_conns[0:5]"
   ]
  },
  {
   "cell_type": "markdown",
   "metadata": {},
   "source": [
    "### Access the recorders"
   ]
  },
  {
   "cell_type": "code",
   "execution_count": 111,
   "metadata": {},
   "outputs": [
    {
     "name": "stdout",
     "output_type": "stream",
     "text": [
      "my_multimeter_l1_l1_exc (203,) my_multimeter l1 l1_exc\n"
     ]
    }
   ],
   "source": [
    "rec = net.population_recorders[0]\n",
    "print(rec, rec.gid, rec.model, rec.layer, rec.population_name)"
   ]
  },
  {
   "cell_type": "code",
   "execution_count": 112,
   "metadata": {},
   "outputs": [
    {
     "name": "stdout",
     "output_type": "stream",
     "text": [
      "weight_recorder_conn_1_AMPA-l1-l1_exc-l1-l1_inh (204,) weight_recorder\n"
     ]
    }
   ],
   "source": [
    "connrec = net.connection_recorders[0]\n",
    "print(connrec, connrec.gid, connrec.model)"
   ]
  },
  {
   "cell_type": "markdown",
   "metadata": {},
   "source": [
    "## Save and recreate the network\n",
    "\n",
    "When building each of the network's elements using the `Network.build_*` methods, the `Network.tree` ParamsTree was updated"
   ]
  },
  {
   "cell_type": "code",
   "execution_count": 113,
   "metadata": {},
   "outputs": [
    {
     "data": {
      "text/plain": [
       "ParamsTree(name='None', parent=None)\n",
       "  params: {}\n",
       "  nest_params: {}\n",
       "  neuron_models:\n",
       "    params: {}\n",
       "    nest_params: {}\n",
       "    my_neuron:\n",
       "      params:\n",
       "        nest_model: ht_neuron\n",
       "      nest_params:\n",
       "        g_KL: 1.0\n",
       "        g_NaL: 1.0\n",
       "      l1_exc:\n",
       "        params: {}\n",
       "        nest_params:\n",
       "          V_m: -44.0\n",
       "  \n",
       "  ... [107 lines] ...\n",
       "\n",
       "        - l1\n",
       "        populations:\n",
       "        - l1_exc\n",
       "        model: my_multimeter\n",
       "      connection_recorders:\n",
       "      - source_layers:\n",
       "        - l1\n",
       "        source_population: l1_exc\n",
       "        target_layers:\n",
       "        - l1\n",
       "        target_population: l1_inh\n",
       "        connection_model: conn_1_AMPA\n",
       "        model: weight_recorder\n",
       "    nest_params: {}\n",
       "  "
      ]
     },
     "execution_count": 113,
     "metadata": {},
     "output_type": "execute_result"
    }
   ],
   "source": [
    "net.tree"
   ]
  },
  {
   "cell_type": "markdown",
   "metadata": {},
   "source": [
    "#### We can save the parameter tree defining the whole network..."
   ]
  },
  {
   "cell_type": "code",
   "execution_count": 114,
   "metadata": {},
   "outputs": [
    {
     "data": {
      "text/plain": [
       "PosixPath('params/network_tree.yml')"
      ]
     },
     "execution_count": 114,
     "metadata": {},
     "output_type": "execute_result"
    }
   ],
   "source": [
    "net.tree.write(PARAMS_DIR/'network_tree.yml')"
   ]
  },
  {
   "cell_type": "markdown",
   "metadata": {},
   "source": [
    "#### And use it to recreate another identical network"
   ]
  },
  {
   "cell_type": "code",
   "execution_count": 115,
   "metadata": {},
   "outputs": [
    {
     "name": "stderr",
     "output_type": "stream",
     "text": [
      "2020-06-19 21:44:15,085 [denest.network] INFO: Build N=2 ``Model`` objects\n",
      "2020-06-19 21:44:15,109 [denest.network] INFO: Build N=2 ``SynapseModel`` objects\n",
      "2020-06-19 21:44:15,116 [denest.network] INFO: Build N=2 ``Model`` objects\n",
      "2020-06-19 21:44:15,118 [denest.network] INFO: Build N=2 ``Layer`` or ``InputLayer`` objects.\n",
      "2020-06-19 21:44:15,132 [denest.utils.validation] INFO: Object `conn_1_AMPA`: params: using default value for optional parameters:\n",
      "{'type': 'topological'}\n",
      "2020-06-19 21:44:15,136 [denest.utils.validation] INFO: Object `conn_2_GABAA`: params: using default value for optional parameters:\n",
      "{'type': 'topological'}\n",
      "2020-06-19 21:44:15,143 [denest.network] INFO: Build N=2 ``ConnectionModel`` objects\n",
      "2020-06-19 21:44:15,159 [denest.network] INFO: Build N=3 ``TopoConnection`` objects\n",
      "2020-06-19 21:44:15,165 [denest.network] INFO: Build N=1 population recorders.\n",
      "2020-06-19 21:44:15,170 [denest.network] INFO: Build N=1 connection recorders.\n",
      "2020-06-19 21:44:15,177 [denest.network] INFO: Build N=3 ``TopoConnection`` objects\n",
      "2020-06-19 21:44:15,188 [denest.network] INFO: Build N=1 population recorders.\n",
      "2020-06-19 21:44:15,191 [denest.network] INFO: Build N=1 connection recorders.\n"
     ]
    }
   ],
   "source": [
    "net2 = Network(ParamsTree.read(PARAMS_DIR/'network_tree.yml'))"
   ]
  },
  {
   "cell_type": "markdown",
   "metadata": {},
   "source": [
    "# Change the network's state\n",
    "\n",
    "deNEST provides a convenient way of modifying the state of some units within the network with the `Layer.set_state` and `Network.set_state` methods\n",
    "\n",
    "\n",
    "- `Network.set_state` and `Layer.set_state` support __constant__, __multiplicative__ or __additive__ changes (`change_type` parameter)\n",
    "- We can apply the same change for all units of the layer/population, or provide an array the same shape as the population to perform arbitrary changes (`from_array` parameter). The array can be directly provided or loaded from file"
   ]
  },
  {
   "cell_type": "markdown",
   "metadata": {},
   "source": [
    "## Change the state of units within a population: `Layer.set_state`\n",
    "\n"
   ]
  },
  {
   "cell_type": "code",
   "execution_count": 4,
   "metadata": {},
   "outputs": [
    {
     "name": "stderr",
     "output_type": "stream",
     "text": [
      "2020-06-19 22:01:04,150 [denest.network] INFO: Build N=2 ``Model`` objects\n",
      "2020-06-19 22:01:04,152 [denest.network] INFO: Build N=2 ``SynapseModel`` objects\n",
      "2020-06-19 22:01:04,154 [denest.network] INFO: Build N=2 ``Model`` objects\n",
      "2020-06-19 22:01:04,155 [denest.network] INFO: Build N=2 ``Layer`` or ``InputLayer`` objects.\n",
      "2020-06-19 22:01:04,158 [denest.utils.validation] INFO: Object `conn_1_AMPA`: params: using default value for optional parameters:\n",
      "{'type': 'topological'}\n",
      "2020-06-19 22:01:04,160 [denest.utils.validation] INFO: Object `conn_2_GABAA`: params: using default value for optional parameters:\n",
      "{'type': 'topological'}\n",
      "2020-06-19 22:01:04,162 [denest.network] INFO: Build N=2 ``ConnectionModel`` objects\n",
      "2020-06-19 22:01:04,170 [denest.network] INFO: Build N=3 ``TopoConnection`` objects\n",
      "2020-06-19 22:01:04,180 [denest.network] INFO: Build N=1 population recorders.\n",
      "2020-06-19 22:01:04,183 [denest.network] INFO: Build N=1 connection recorders.\n",
      "2020-06-19 22:01:04,188 [denest.network] INFO: Build N=3 ``TopoConnection`` objects\n",
      "2020-06-19 22:01:04,192 [denest.network] INFO: Build N=1 population recorders.\n",
      "2020-06-19 22:01:04,195 [denest.network] INFO: Build N=1 connection recorders.\n",
      "2020-06-19 22:01:04,198 [denest.network] INFO: Creating neuron models...\n",
      "100%|██████████| 2/2 [00:00<00:00, 2885.66it/s]\n",
      "2020-06-19 22:01:04,222 [denest.network] INFO: Creating synapse models...\n",
      "100%|██████████| 2/2 [00:00<00:00, 231.14it/s]\n",
      "2020-06-19 22:01:04,241 [denest.network] INFO: Creating recorder models...\n",
      "100%|██████████| 2/2 [00:00<00:00, 453.19it/s]\n",
      "2020-06-19 22:01:04,252 [denest.network] INFO: Creating layers...\n",
      "  0%|          | 0/2 [00:00<?, ?it/s]/Users/tom/nest/nest-simulator-2.20.0/lib/python3.7/site-packages/nest/lib/hl_api_helper.py:127: UserWarning:\n",
      "GetNodes is deprecated and will be removed in NEST 3.0. Use             GIDCollection instead.\n",
      "100%|██████████| 2/2 [00:00<00:00,  5.19it/s]\n",
      "2020-06-19 22:01:04,647 [denest.network] INFO: Creating population recorders...\n",
      "100%|██████████| 1/1 [00:00<00:00,  9.98it/s]\n",
      "2020-06-19 22:01:04,759 [denest.network] INFO: Creating connection recorders...\n",
      "100%|██████████| 1/1 [00:00<00:00, 134.80it/s]\n",
      "2020-06-19 22:01:04,784 [denest.network] INFO: Connecting layers...\n",
      "100%|██████████| 3/3 [00:00<00:00, 333.41it/s]\n",
      "2020-06-19 22:01:04,800 [denest.network] INFO: Network size (including recorders and parrot neurons):\n",
      "Number of nodes: 205\n",
      "Number of connections: 6625\n"
     ]
    }
   ],
   "source": [
    "nest.ResetKernel()\n",
    "net = Network(ParamsTree.read(PARAMS_DIR/'network_tree.yml'))\n",
    "net.create()"
   ]
  },
  {
   "cell_type": "code",
   "execution_count": 5,
   "metadata": {},
   "outputs": [
    {
     "name": "stdout",
     "output_type": "stream",
     "text": [
      "layer shape:  (5, 5)\n",
      "population shapes:  {'l1_exc': (5, 5, 4), 'l1_inh': (5, 5, 2)}\n"
     ]
    }
   ],
   "source": [
    "layer_name = 'l1'\n",
    "population_name = 'l1_exc'\n",
    "\n",
    "layer = net.layers['l1']\n",
    "\n",
    "print('layer shape: ', layer.shape)\n",
    "print('population shapes: ', layer.population_shape)"
   ]
  },
  {
   "cell_type": "markdown",
   "metadata": {},
   "source": [
    "### Option 1: provide a single value, used to change the state of all units of a layer or population\n",
    "\n",
    "`'from_array'==False` in in `Layer.set_state`"
   ]
  },
  {
   "cell_type": "markdown",
   "metadata": {},
   "source": [
    "#### \"constant\" change type"
   ]
  },
  {
   "cell_type": "code",
   "execution_count": 119,
   "metadata": {},
   "outputs": [],
   "source": [
    "nest_params = {\n",
    "    'V_m': -69.0,\n",
    "    'g_peak_AMPA': 0.2,\n",
    "}"
   ]
  },
  {
   "cell_type": "code",
   "execution_count": 120,
   "metadata": {},
   "outputs": [
    {
     "name": "stdout",
     "output_type": "stream",
     "text": [
      "Unique values for l1_exc:  {'V_m': {-44.0}, 'g_peak_AMPA': {0.1}}\n",
      "Unique values for l1_inh:  {'V_m': {-55.0}, 'g_peak_AMPA': {0.1}}\n"
     ]
    }
   ],
   "source": [
    "print('Unique values for l1_exc: ', { param: set(nest.GetStatus(layer.gids(population='l1_exc'), param)) for param in nest_params.keys()} )\n",
    "print('Unique values for l1_inh: ', { param: set(nest.GetStatus(layer.gids(population='l1_inh'), param)) for param in nest_params.keys()} )"
   ]
  },
  {
   "cell_type": "code",
   "execution_count": 121,
   "metadata": {},
   "outputs": [
    {
     "name": "stderr",
     "output_type": "stream",
     "text": [
      "2020-06-19 21:44:48,388 [denest.network.layers] INFO: Layer='l1', pop='l1_exc': Applying 'constant' change, param='V_m', from single value')\n",
      "2020-06-19 21:44:49,388 [denest.network.layers] INFO: Layer='l1', pop='l1_exc': Applying 'constant' change, param='g_peak_AMPA', from single value')\n"
     ]
    }
   ],
   "source": [
    "# Change param for a single population\n",
    "\n",
    "layer.set_state(\n",
    "    nest_params=nest_params,\n",
    "    population_name='l1_exc',\n",
    "    change_type='constant',\n",
    "    from_array=False,\n",
    ")"
   ]
  },
  {
   "cell_type": "code",
   "execution_count": 122,
   "metadata": {},
   "outputs": [
    {
     "name": "stdout",
     "output_type": "stream",
     "text": [
      "Unique values for l1_exc:  {'V_m': {-69.0}, 'g_peak_AMPA': {0.2}}\n",
      "Unique values for l1_inh:  {'V_m': {-55.0}, 'g_peak_AMPA': {0.1}}\n"
     ]
    }
   ],
   "source": [
    "print('Unique values for l1_exc: ', { param: set(nest.GetStatus(layer.gids(population='l1_exc'), param)) for param in nest_params.keys()} )\n",
    "print('Unique values for l1_inh: ', { param: set(nest.GetStatus(layer.gids(population='l1_inh'), param)) for param in nest_params.keys()} )"
   ]
  },
  {
   "cell_type": "code",
   "execution_count": 123,
   "metadata": {},
   "outputs": [
    {
     "name": "stderr",
     "output_type": "stream",
     "text": [
      "2020-06-19 21:44:50,752 [denest.network.layers] INFO: Layer='l1', pop='l1_exc': Applying 'constant' change, param='V_m', from single value')\n",
      "2020-06-19 21:44:51,880 [denest.network.layers] INFO: Layer='l1', pop='l1_exc': Applying 'constant' change, param='g_peak_AMPA', from single value')\n",
      "2020-06-19 21:44:52,884 [denest.network.layers] INFO: Layer='l1', pop='l1_inh': Applying 'constant' change, param='V_m', from single value')\n",
      "2020-06-19 21:44:53,397 [denest.network.layers] INFO: Layer='l1', pop='l1_inh': Applying 'constant' change, param='g_peak_AMPA', from single value')\n"
     ]
    }
   ],
   "source": [
    "# Change param for  all populations\n",
    "\n",
    "layer.set_state(\n",
    "    nest_params=nest_params,\n",
    "    population_name=None,\n",
    "#     population_name='l1_inh',\n",
    "    change_type='constant',\n",
    "    from_array=False,\n",
    ")"
   ]
  },
  {
   "cell_type": "code",
   "execution_count": 124,
   "metadata": {},
   "outputs": [
    {
     "name": "stdout",
     "output_type": "stream",
     "text": [
      "Unique values for l1_exc:  {'V_m': {-69.0}, 'g_peak_AMPA': {0.2}}\n",
      "Unique values for l1_inh:  {'V_m': {-69.0}, 'g_peak_AMPA': {0.2}}\n"
     ]
    }
   ],
   "source": [
    "print('Unique values for l1_exc: ', { param: set(nest.GetStatus(layer.gids(population='l1_exc'), param)) for param in nest_params.keys()} )\n",
    "print('Unique values for l1_inh: ', { param: set(nest.GetStatus(layer.gids(population='l1_inh'), param)) for param in nest_params.keys()} )"
   ]
  },
  {
   "cell_type": "markdown",
   "metadata": {},
   "source": [
    "#### \"multiplicative\" change "
   ]
  },
  {
   "cell_type": "code",
   "execution_count": 125,
   "metadata": {},
   "outputs": [],
   "source": [
    "# Double the value\n",
    "nest_params = {\n",
    "    'g_peak_AMPA': 2.0,\n",
    "}"
   ]
  },
  {
   "cell_type": "code",
   "execution_count": 126,
   "metadata": {},
   "outputs": [
    {
     "name": "stdout",
     "output_type": "stream",
     "text": [
      "Unique values for l1_exc:  {'g_peak_AMPA': {0.2}}\n",
      "Unique values for l1_inh:  {'g_peak_AMPA': {0.2}}\n"
     ]
    }
   ],
   "source": [
    "print('Unique values for l1_exc: ', { param: set(nest.GetStatus(layer.gids(population='l1_exc'), param)) for param in nest_params.keys()} )\n",
    "print('Unique values for l1_inh: ', { param: set(nest.GetStatus(layer.gids(population='l1_inh'), param)) for param in nest_params.keys()} )"
   ]
  },
  {
   "cell_type": "code",
   "execution_count": 127,
   "metadata": {},
   "outputs": [
    {
     "name": "stderr",
     "output_type": "stream",
     "text": [
      "2020-06-19 21:44:54,273 [denest.network.layers] INFO: Layer='l1', pop='l1_exc': Applying 'multiplicative' change, param='g_peak_AMPA', from single value')\n",
      "2020-06-19 21:44:55,317 [denest.network.layers] INFO: Layer='l1', pop='l1_inh': Applying 'multiplicative' change, param='g_peak_AMPA', from single value')\n"
     ]
    }
   ],
   "source": [
    "# Change param for a single population\n",
    "\n",
    "layer.set_state(\n",
    "    nest_params=nest_params,\n",
    "    population_name=None,\n",
    "    change_type='multiplicative',\n",
    "    from_array=False,\n",
    ")"
   ]
  },
  {
   "cell_type": "code",
   "execution_count": 128,
   "metadata": {},
   "outputs": [
    {
     "name": "stdout",
     "output_type": "stream",
     "text": [
      "Unique values for l1_exc:  {'g_peak_AMPA': {0.4}}\n",
      "Unique values for l1_inh:  {'g_peak_AMPA': {0.4}}\n"
     ]
    }
   ],
   "source": [
    "print('Unique values for l1_exc: ', { param: set(nest.GetStatus(layer.gids(population='l1_exc'), param)) for param in nest_params.keys()} )\n",
    "print('Unique values for l1_inh: ', { param: set(nest.GetStatus(layer.gids(population='l1_inh'), param)) for param in nest_params.keys()} )"
   ]
  },
  {
   "cell_type": "markdown",
   "metadata": {},
   "source": [
    "#### \"additive\" change "
   ]
  },
  {
   "cell_type": "code",
   "execution_count": 129,
   "metadata": {},
   "outputs": [],
   "source": [
    "# Double the value\n",
    "nest_params = {\n",
    "    'V_m': 5.0,\n",
    "}"
   ]
  },
  {
   "cell_type": "code",
   "execution_count": 130,
   "metadata": {},
   "outputs": [
    {
     "name": "stdout",
     "output_type": "stream",
     "text": [
      "Unique values for l1_exc:  {'V_m': {-69.0}}\n",
      "Unique values for l1_inh:  {'V_m': {-69.0}}\n"
     ]
    }
   ],
   "source": [
    "print('Unique values for l1_exc: ', { param: set(nest.GetStatus(layer.gids(population='l1_exc'), param)) for param in nest_params.keys()} )\n",
    "print('Unique values for l1_inh: ', { param: set(nest.GetStatus(layer.gids(population='l1_inh'), param)) for param in nest_params.keys()} )"
   ]
  },
  {
   "cell_type": "code",
   "execution_count": 131,
   "metadata": {},
   "outputs": [
    {
     "name": "stderr",
     "output_type": "stream",
     "text": [
      "2020-06-19 21:44:56,060 [denest.network.layers] INFO: Layer='l1', pop='l1_exc': Applying 'additive' change, param='V_m', from single value')\n",
      "2020-06-19 21:44:57,007 [denest.network.layers] INFO: Layer='l1', pop='l1_inh': Applying 'additive' change, param='V_m', from single value')\n"
     ]
    }
   ],
   "source": [
    "# Change param for a single population\n",
    "\n",
    "layer.set_state(\n",
    "    nest_params=nest_params,\n",
    "    population_name=None,\n",
    "    change_type='additive',\n",
    "    from_array=False,\n",
    ")"
   ]
  },
  {
   "cell_type": "code",
   "execution_count": 132,
   "metadata": {},
   "outputs": [
    {
     "name": "stdout",
     "output_type": "stream",
     "text": [
      "Unique values for l1_exc:  {'V_m': {-64.0}}\n",
      "Unique values for l1_inh:  {'V_m': {-64.0}}\n"
     ]
    }
   ],
   "source": [
    "print('Unique values for l1_exc: ', { param: set(nest.GetStatus(layer.gids(population='l1_exc'), param)) for param in nest_params.keys()} )\n",
    "print('Unique values for l1_inh: ', { param: set(nest.GetStatus(layer.gids(population='l1_inh'), param)) for param in nest_params.keys()} )"
   ]
  },
  {
   "cell_type": "markdown",
   "metadata": {},
   "source": [
    "### Option 2: provide an array the same shape as the population\n",
    "\n",
    "`'from_array'==True` in in `Layer.set_state`"
   ]
  },
  {
   "cell_type": "markdown",
   "metadata": {},
   "source": [
    "#### We can provide the array directly"
   ]
  },
  {
   "cell_type": "code",
   "execution_count": 133,
   "metadata": {},
   "outputs": [],
   "source": [
    "# Set V_m=-70 for all units except those at location [0, 0]\n",
    "\n",
    "pop_shape = layer.population_shapes['l1_exc']\n",
    "V_m_array = -70.0 * np.ones(pop_shape)\n",
    "V_m_array[0, 0, :] = -60"
   ]
  },
  {
   "cell_type": "markdown",
   "metadata": {},
   "source": [
    "#### or loading the array from file\n",
    "\n",
    "The 'input_dir' kwarg sets the directory from which arrays are loaded"
   ]
  },
  {
   "cell_type": "code",
   "execution_count": 134,
   "metadata": {},
   "outputs": [
    {
     "data": {
      "text/plain": [
       "(5, 5, 4)"
      ]
     },
     "execution_count": 134,
     "metadata": {},
     "output_type": "execute_result"
    }
   ],
   "source": [
    "# Set g_peak_AMPA=0.33 for all units except those at location [0, 0]\n",
    "g_peak_AMPA_array = 0.33 * np.ones(pop_shape)\n",
    "g_peak_AMPA_array[0, 0, :] = 1.0\n",
    "\n",
    "#  save the array to file\n",
    "INPUT_DIR = Path('./input')\n",
    "os.makedirs(INPUT_DIR, exist_ok=True)\n",
    "array_path = INPUT_DIR/'g_peak_AMPA_array'\n",
    "np.save(INPUT_DIR/'g_peak_AMPA_array', g_peak_AMPA_array)\n",
    "\n",
    "np.load(INPUT_DIR/'g_peak_AMPA_array.npy').shape"
   ]
  },
  {
   "cell_type": "code",
   "execution_count": 135,
   "metadata": {},
   "outputs": [],
   "source": [
    "# We provide either the array or the path to an array, relative to the 'input_dir' directory\n",
    "\n",
    "nest_params = {\n",
    "    'V_m': V_m_array,\n",
    "    'g_peak_AMPA': Path('./g_peak_AMPA_array.npy'),\n",
    "}"
   ]
  },
  {
   "cell_type": "code",
   "execution_count": 136,
   "metadata": {},
   "outputs": [
    {
     "name": "stdout",
     "output_type": "stream",
     "text": [
      "Unique values for l1_exc:  {'V_m': {-64.0}, 'g_peak_AMPA': {0.4}}\n"
     ]
    }
   ],
   "source": [
    "print('Unique values for l1_exc: ', { param: set(nest.GetStatus(layer.gids(population='l1_exc'), param)) for param in nest_params.keys()} )"
   ]
  },
  {
   "cell_type": "code",
   "execution_count": 137,
   "metadata": {},
   "outputs": [
    {
     "name": "stderr",
     "output_type": "stream",
     "text": [
      "2020-06-19 21:44:58,751 [denest.network.layers] INFO: Layer='l1', pop='l1_exc': Applying 'constant' change, param='V_m', from array')\n",
      "2020-06-19 21:44:59,739 [denest.network.layers] INFO: Layer='l1', pop='l1_exc': Applying 'constant' change, param='g_peak_AMPA', from array')\n"
     ]
    }
   ],
   "source": [
    "# Change param for a single population\n",
    "\n",
    "layer.set_state(\n",
    "    nest_params=nest_params,\n",
    "    input_dir=INPUT_DIR,\n",
    "    population_name='l1_exc',\n",
    "    change_type='constant',\n",
    "    from_array=True,\n",
    ")"
   ]
  },
  {
   "cell_type": "code",
   "execution_count": 138,
   "metadata": {},
   "outputs": [
    {
     "name": "stdout",
     "output_type": "stream",
     "text": [
      "Unique values for l1_exc at location [0, 0]:  {'V_m': {-60.0}, 'g_peak_AMPA': {1.0}}\n",
      "Unique values for l1_exc at all locations:  {'V_m': {-70.0, -60.0}, 'g_peak_AMPA': {0.33, 1.0}}\n"
     ]
    }
   ],
   "source": [
    "print('Unique values for l1_exc at location [0, 0]: ', { param: set(nest.GetStatus(layer.gids(population='l1_exc', location=(0, 0)), param)) for param in nest_params.keys()} )\n",
    "print('Unique values for l1_exc at all locations: ', { param: set(nest.GetStatus(layer.gids(population='l1_exc'), param)) for param in nest_params.keys()} )"
   ]
  },
  {
   "cell_type": "markdown",
   "metadata": {},
   "source": [
    "## Change the state of units throughout the Network: `Network.set_state`\n",
    "\n",
    "We can specify multiple modifications at once"
   ]
  },
  {
   "cell_type": "code",
   "execution_count": 8,
   "metadata": {},
   "outputs": [
    {
     "name": "stderr",
     "output_type": "stream",
     "text": [
      "2020-06-19 22:02:22,096 [denest.network.layers] INFO: Layer='input_layer', pop='spike_generator': Applying 'constant' change, param='spike_times', from single value')\n",
      "2020-06-19 22:02:22,247 [denest.network.layers] INFO: Layer='l1', pop='l1_exc': Applying 'constant' change, param='V_m', from single value')\n",
      "2020-06-19 22:02:23,274 [denest.network.layers] INFO: Layer='l1', pop='l1_inh': Applying 'constant' change, param='V_m', from single value')\n"
     ]
    }
   ],
   "source": [
    "net.set_state(\n",
    "    [\n",
    "        {\n",
    "            'layers': ['l1'],\n",
    "            'population_name': None,\n",
    "            'change_type': 'constant',\n",
    "            'from_array': False,\n",
    "            'nest_params': {\n",
    "                'V_m': -70.0\n",
    "            }\n",
    "            \n",
    "        },\n",
    "        {\n",
    "            'layers': ['input_layer'],\n",
    "            'population_name': 'spike_generator',\n",
    "            'change_type': 'constant',\n",
    "            'from_array': False,\n",
    "            'nest_params': {\n",
    "                'spike_times': [1.0, 2.0]\n",
    "            }\n",
    "            \n",
    "        },\n",
    "        \n",
    "    ]\n",
    ")"
   ]
  },
  {
   "cell_type": "markdown",
   "metadata": {},
   "source": [
    "# Let's familiarize ourselves with the ``Simulation`` object\n"
   ]
  },
  {
   "cell_type": "markdown",
   "metadata": {},
   "source": [
    "## Initialize an empty Simulation object\n",
    "\n",
    "Empty network, no kernel initialization, etc..."
   ]
  },
  {
   "cell_type": "code",
   "execution_count": 147,
   "metadata": {},
   "outputs": [
    {
     "name": "stderr",
     "output_type": "stream",
     "text": [
      "2020-06-19 21:55:57,858 [denest.utils.validation] INFO: 'None' tree: adding empty child kernel\n",
      "2020-06-19 21:55:57,864 [denest.utils.validation] INFO: 'None' tree: adding empty child simulation\n",
      "2020-06-19 21:55:57,865 [denest.utils.validation] INFO: 'None' tree: adding empty child session_models\n",
      "2020-06-19 21:55:57,868 [denest.utils.validation] INFO: 'None' tree: adding empty child network\n",
      "2020-06-19 21:55:57,877 [denest.utils.validation] INFO: Object `simulation`: params: using default value for optional parameters:\n",
      "{'input_dir': 'input', 'output_dir': 'output', 'sessions': []}\n",
      "2020-06-19 21:55:57,884 [denest.utils.validation] INFO: Object `kernel`: params: using default value for optional parameters:\n",
      "{'extension_modules': [], 'nest_seed': 1, 'python_seed': 1}\n",
      "2020-06-19 21:55:57,885 [denest.simulation] INFO: Initializing NEST kernel and seeds...\n",
      "2020-06-19 21:55:57,893 [denest.simulation] INFO:   Resetting NEST kernel...\n",
      "2020-06-19 21:55:57,905 [denest.simulation] INFO:   Setting NEST kernel status...\n",
      "2020-06-19 21:55:57,907 [denest.simulation] INFO:     Calling `nest.SetKernelStatus({})`\n",
      "2020-06-19 21:55:57,909 [denest.simulation] INFO:     Calling `nest.SetKernelStatus({'data_path': 'output/data', 'grng_seed': 2, 'rng_seeds': range(3, 4)})\n",
      "2020-06-19 21:55:57,917 [denest.simulation] INFO:   Finished setting NEST kernel status\n",
      "2020-06-19 21:55:57,918 [denest.simulation] INFO:   Installing external modules...\n",
      "2020-06-19 21:55:57,924 [denest.simulation] INFO:   Finished installing external modules\n",
      "2020-06-19 21:55:57,929 [denest.simulation] INFO:   Setting Python seed: 1\n",
      "2020-06-19 21:55:57,933 [denest.simulation] INFO: Finished initializing kernel\n",
      "2020-06-19 21:55:57,935 [denest.simulation] INFO: Build N=1 session models\n",
      "2020-06-19 21:55:57,942 [denest.simulation] INFO: Build N=0 sessions\n",
      "2020-06-19 21:55:57,945 [denest.simulation] INFO: Sessions: []\n",
      "2020-06-19 21:55:57,948 [denest.simulation] INFO: Building network.\n",
      "2020-06-19 21:55:57,949 [denest.utils.validation] INFO: 'None' tree: adding empty child neuron_models\n",
      "2020-06-19 21:55:57,954 [denest.utils.validation] INFO: 'None' tree: adding empty child synapse_models\n",
      "2020-06-19 21:55:57,957 [denest.utils.validation] INFO: 'None' tree: adding empty child layers\n",
      "2020-06-19 21:55:57,958 [denest.utils.validation] INFO: 'None' tree: adding empty child connection_models\n",
      "2020-06-19 21:55:57,960 [denest.utils.validation] INFO: 'None' tree: adding empty child topology\n",
      "2020-06-19 21:55:57,964 [denest.utils.validation] INFO: 'None' tree: adding empty child recorder_models\n",
      "2020-06-19 21:55:57,968 [denest.utils.validation] INFO: 'None' tree: adding empty child recorders\n",
      "2020-06-19 21:55:57,969 [denest.network] INFO: Build N=0 ``Model`` objects\n",
      "2020-06-19 21:55:57,970 [denest.network] INFO: Build N=0 ``SynapseModel`` objects\n",
      "2020-06-19 21:55:57,971 [denest.network] INFO: Build N=0 ``Model`` objects\n",
      "2020-06-19 21:55:57,973 [denest.network] INFO: Build N=0 ``Layer`` or ``InputLayer`` objects.\n",
      "2020-06-19 21:55:57,974 [denest.network] INFO: Build N=0 ``ConnectionModel`` objects\n",
      "2020-06-19 21:55:57,977 [denest.utils.validation] INFO: Object `topology`: params: using default value for optional parameters:\n",
      "{'connections': []}\n",
      "2020-06-19 21:55:57,978 [denest.network] INFO: Build N=0 ``TopoConnection`` objects\n",
      "2020-06-19 21:55:57,980 [denest.utils.validation] INFO: Object `recorders`: params: using default value for optional parameters:\n",
      "{'connection_recorders': [], 'population_recorders': []}\n",
      "2020-06-19 21:55:57,982 [denest.network] INFO: Build N=0 population recorders.\n",
      "2020-06-19 21:55:57,984 [denest.network] INFO: Build N=0 connection recorders.\n",
      "2020-06-19 21:55:57,987 [denest.utils.validation] INFO: Object `topology`: params: using default value for optional parameters:\n",
      "{'connections': []}\n",
      "2020-06-19 21:55:57,989 [denest.network] INFO: Build N=0 ``TopoConnection`` objects\n",
      "2020-06-19 21:55:57,992 [denest.utils.validation] INFO: Object `recorders`: params: using default value for optional parameters:\n",
      "{'connection_recorders': [], 'population_recorders': []}\n",
      "2020-06-19 21:55:57,996 [denest.network] INFO: Build N=0 population recorders.\n",
      "2020-06-19 21:55:57,998 [denest.network] INFO: Build N=0 connection recorders.\n",
      "2020-06-19 21:55:57,999 [denest.simulation] INFO: Creating network.\n",
      "2020-06-19 21:55:58,002 [denest.network] INFO: Creating neuron models...\n",
      "0it [00:00, ?it/s]\n",
      "2020-06-19 21:55:58,009 [denest.network] INFO: Creating synapse models...\n",
      "0it [00:00, ?it/s]\n",
      "2020-06-19 21:55:58,020 [denest.network] INFO: Creating recorder models...\n",
      "0it [00:00, ?it/s]\n",
      "2020-06-19 21:55:58,035 [denest.network] INFO: Creating layers...\n",
      "0it [00:00, ?it/s]\n",
      "2020-06-19 21:55:58,045 [denest.network] INFO: Creating population recorders...\n",
      "0it [00:00, ?it/s]\n",
      "2020-06-19 21:55:58,052 [denest.network] INFO: Creating connection recorders...\n",
      "0it [00:00, ?it/s]\n",
      "2020-06-19 21:55:58,063 [denest.network] INFO: Connecting layers...\n",
      "0it [00:00, ?it/s]\n",
      "2020-06-19 21:55:58,077 [denest.network] INFO: Network size (including recorders and parrot neurons):\n",
      "Number of nodes: 1\n",
      "Number of connections: 0\n",
      "2020-06-19 21:55:58,079 [denest.simulation] INFO: Finished creating network\n",
      "2020-06-19 21:55:58,084 [denest.simulation] INFO: Saving simulation metadata...\n",
      "2020-06-19 21:55:58,086 [denest.simulation] INFO: Creating output directory: output\n",
      "2020-06-19 21:55:58,088 [denest.io.save] INFO: Clearing directory: output\n",
      "2020-06-19 21:55:58,098 [denest.io.save] INFO: Clearing directory: output\n",
      "2020-06-19 21:55:58,101 [denest.io.save] INFO: Clearing directory: output/data\n",
      "2020-06-19 21:55:58,104 [denest.io.save] INFO: Clearing directory: output/data\n",
      "2020-06-19 21:55:58,107 [denest.io.save] INFO: Clearing directory: output/data\n",
      "2020-06-19 21:55:58,115 [denest.io.save] INFO: Clearing directory: output\n",
      "2020-06-19 21:55:58,176 [denest.simulation] INFO: Finished saving simulation metadata\n"
     ]
    }
   ],
   "source": [
    "sim = Simulation(output_dir=OUTPUT_DIR)"
   ]
  },
  {
   "cell_type": "markdown",
   "metadata": {},
   "source": [
    "## Initialize the NEST kernel\n",
    "\n",
    "``Simulation.init_kernel??`` for doc"
   ]
  },
  {
   "cell_type": "code",
   "execution_count": 48,
   "metadata": {},
   "outputs": [],
   "source": [
    "kernel_tree = {\n",
    "    'params':\n",
    "        {\n",
    "            'nest_seed': 10,\n",
    "            'extension_modules': [],\n",
    "        },\n",
    "    'nest_params':\n",
    "        {\n",
    "            'resolution': 0.5,\n",
    "        },\n",
    "}"
   ]
  },
  {
   "cell_type": "code",
   "execution_count": 49,
   "metadata": {},
   "outputs": [
    {
     "name": "stderr",
     "output_type": "stream",
     "text": [
      "2020-06-19 20:13:40,847 [denest.utils.validation] INFO: Object `kernel`: params: using default value for optional parameters:\n",
      "{'python_seed': 1}\n",
      "2020-06-19 20:13:40,848 [denest.simulation] INFO: Initializing NEST kernel and seeds...\n",
      "2020-06-19 20:13:40,849 [denest.simulation] INFO:   Resetting NEST kernel...\n",
      "2020-06-19 20:13:40,857 [denest.simulation] INFO:   Setting NEST kernel status...\n",
      "2020-06-19 20:13:40,866 [denest.simulation] INFO:     Calling `nest.SetKernelStatus({'resolution': 0.5})`\n",
      "2020-06-19 20:13:40,868 [denest.simulation] INFO:     Calling `nest.SetKernelStatus({'data_path': 'output/data', 'grng_seed': 11, 'rng_seeds': range(12, 13)})\n",
      "2020-06-19 20:13:40,870 [denest.simulation] INFO:   Finished setting NEST kernel status\n",
      "2020-06-19 20:13:40,871 [denest.simulation] INFO:   Installing external modules...\n",
      "2020-06-19 20:13:40,872 [denest.simulation] INFO:   Finished installing external modules\n",
      "2020-06-19 20:13:40,873 [denest.simulation] INFO:   Setting Python seed: 1\n",
      "2020-06-19 20:13:40,875 [denest.simulation] INFO: Finished initializing kernel\n"
     ]
    }
   ],
   "source": [
    "sim.init_kernel(kernel_tree)"
   ]
  },
  {
   "cell_type": "code",
   "execution_count": 50,
   "metadata": {},
   "outputs": [
    {
     "data": {
      "text/plain": [
       "0.5"
      ]
     },
     "execution_count": 50,
     "metadata": {},
     "output_type": "execute_result"
    }
   ],
   "source": [
    "# nest_params have been passed to nest.SetKernelStatus\n",
    "nest.GetKernelStatus('resolution')"
   ]
  },
  {
   "cell_type": "code",
   "execution_count": 51,
   "metadata": {},
   "outputs": [
    {
     "data": {
      "text/plain": [
       "'output/data'"
      ]
     },
     "execution_count": 51,
     "metadata": {},
     "output_type": "execute_result"
    }
   ],
   "source": [
    "# The raw data will be saved in the output directory\n",
    "nest.GetKernelStatus('data_path')"
   ]
  },
  {
   "cell_type": "code",
   "execution_count": 52,
   "metadata": {},
   "outputs": [
    {
     "data": {
      "text/plain": [
       "ParamsTree(name='kernel', parent='None')\n",
       "  params:\n",
       "    nest_seed: 10\n",
       "    extension_modules: []\n",
       "  nest_params:\n",
       "    resolution: 0.5\n",
       "  "
      ]
     },
     "execution_count": 52,
     "metadata": {},
     "output_type": "execute_result"
    }
   ],
   "source": [
    "# The kernel params are saved in the simulation's tree\n",
    "sim.tree.children['kernel']"
   ]
  },
  {
   "cell_type": "markdown",
   "metadata": {},
   "source": [
    "## Create a network\n",
    "\n",
    "We build and create the same network by passing the network tree,\n",
    "using the ``Simulation.create_network`` method"
   ]
  },
  {
   "cell_type": "code",
   "execution_count": 53,
   "metadata": {},
   "outputs": [],
   "source": [
    "net_tree = ParamsTree.read(PARAMS_DIR/'network_tree.yml')"
   ]
  },
  {
   "cell_type": "code",
   "execution_count": 54,
   "metadata": {},
   "outputs": [
    {
     "name": "stderr",
     "output_type": "stream",
     "text": [
      "2020-06-19 20:13:50,361 [denest.simulation] INFO: Building network.\n",
      "2020-06-19 20:13:50,374 [denest.network] INFO: Build N=2 ``Model`` objects\n",
      "2020-06-19 20:13:50,377 [denest.network] INFO: Build N=2 ``SynapseModel`` objects\n",
      "2020-06-19 20:13:50,378 [denest.network] INFO: Build N=2 ``Model`` objects\n",
      "2020-06-19 20:13:50,381 [denest.network] INFO: Build N=2 ``Layer`` or ``InputLayer`` objects.\n",
      "2020-06-19 20:13:50,383 [denest.utils.validation] INFO: Object `conn_1_AMPA`: params: using default value for optional parameters:\n",
      "{'type': 'topological'}\n",
      "2020-06-19 20:13:50,386 [denest.utils.validation] INFO: Object `conn_2_GABAA`: params: using default value for optional parameters:\n",
      "{'type': 'topological'}\n",
      "2020-06-19 20:13:50,388 [denest.network] INFO: Build N=2 ``ConnectionModel`` objects\n",
      "2020-06-19 20:13:50,393 [denest.network] INFO: Build N=3 ``TopoConnection`` objects\n",
      "2020-06-19 20:13:50,397 [denest.network] INFO: Build N=1 population recorders.\n",
      "2020-06-19 20:13:50,398 [denest.network] INFO: Build N=1 connection recorders.\n",
      "2020-06-19 20:13:50,404 [denest.network] INFO: Build N=3 ``TopoConnection`` objects\n",
      "2020-06-19 20:13:50,407 [denest.network] INFO: Build N=1 population recorders.\n",
      "2020-06-19 20:13:50,409 [denest.network] INFO: Build N=1 connection recorders.\n",
      "2020-06-19 20:13:50,409 [denest.simulation] INFO: Creating network.\n",
      "2020-06-19 20:13:50,411 [denest.network] INFO: Creating neuron models...\n",
      "100%|██████████| 2/2 [00:00<00:00, 1640.96it/s]\n",
      "2020-06-19 20:13:50,416 [denest.network] INFO: Creating synapse models...\n",
      "100%|██████████| 2/2 [00:00<00:00, 1372.71it/s]\n",
      "2020-06-19 20:13:50,421 [denest.network] INFO: Creating recorder models...\n",
      "100%|██████████| 2/2 [00:00<00:00, 177.70it/s]\n",
      "2020-06-19 20:13:50,464 [denest.network] INFO: Creating layers...\n",
      "100%|██████████| 2/2 [00:00<00:00,  8.87it/s]\n",
      "2020-06-19 20:13:50,701 [denest.network] INFO: Creating population recorders...\n",
      "100%|██████████| 1/1 [00:00<00:00, 33.59it/s]\n",
      "2020-06-19 20:13:50,738 [denest.network] INFO: Creating connection recorders...\n",
      "100%|██████████| 1/1 [00:00<00:00, 280.97it/s]\n",
      "2020-06-19 20:13:50,748 [denest.network] INFO: Connecting layers...\n",
      "100%|██████████| 3/3 [00:00<00:00, 572.65it/s]\n",
      "2020-06-19 20:13:50,762 [denest.network] INFO: Network size (including recorders and parrot neurons):\n",
      "Number of nodes: 205\n",
      "Number of connections: 6625\n",
      "2020-06-19 20:13:50,763 [denest.simulation] INFO: Finished creating network\n"
     ]
    }
   ],
   "source": [
    "sim.create_network(net_tree)"
   ]
  },
  {
   "cell_type": "code",
   "execution_count": 55,
   "metadata": {},
   "outputs": [
    {
     "data": {
      "text/plain": [
       "(52,)"
      ]
     },
     "execution_count": 55,
     "metadata": {},
     "output_type": "execute_result"
    }
   ],
   "source": [
    "# Network object was created and can be accessed as we learnt\n",
    "sim.network.layers['l1'].gid"
   ]
  },
  {
   "cell_type": "code",
   "execution_count": 56,
   "metadata": {},
   "outputs": [
    {
     "data": {
      "text/plain": [
       "ParamsTree(name='network', parent='None')\n",
       "  params: {}\n",
       "  nest_params: {}\n",
       "  neuron_models:\n",
       "    params: {}\n",
       "    nest_params: {}\n",
       "    my_neuron:\n",
       "      params:\n",
       "        nest_model: ht_neuron\n",
       "      nest_params:\n",
       "        g_KL: 1.0\n",
       "        g_NaL: 1.0\n",
       "      l1_exc:\n",
       "        params: {}\n",
       "        nest_params:\n",
       "          V_m: -44.0\n",
       "  \n",
       "  ... [107 lines] ...\n",
       "\n",
       "        - l1\n",
       "        populations:\n",
       "        - l1_exc\n",
       "        model: my_multimeter\n",
       "      connection_recorders:\n",
       "      - source_layers:\n",
       "        - l1\n",
       "        source_population: l1_exc\n",
       "        target_layers:\n",
       "        - l1\n",
       "        target_population: l1_inh\n",
       "        connection_model: conn_1_AMPA\n",
       "        model: weight_recorder\n",
       "    nest_params: {}\n",
       "  "
      ]
     },
     "execution_count": 56,
     "metadata": {},
     "output_type": "execute_result"
    }
   ],
   "source": [
    "# network tree was saved and can be re-used\n",
    "sim.tree.children['network']"
   ]
  },
  {
   "cell_type": "markdown",
   "metadata": {},
   "source": [
    "## Create some sessions\n",
    "\n",
    "### so we can run the network in specific conditions"
   ]
  },
  {
   "cell_type": "markdown",
   "metadata": {},
   "source": [
    "### Build session models from a tree"
   ]
  },
  {
   "cell_type": "code",
   "execution_count": 57,
   "metadata": {},
   "outputs": [
    {
     "name": "stdout",
     "output_type": "stream",
     "text": [
      "params:\n",
      "  record: true\n",
      "  simulation_time: 100.0\n",
      "nest_params: {}\n",
      "warmup:\n",
      "  params:\n",
      "    record: false\n",
      "  nest_params: {}\n",
      "high_input:\n",
      "  params:\n",
      "    unit_changes:\n",
      "    - layers:\n",
      "      - input_layer\n",
      "      population: poisson_generator\n",
      "      params:\n",
      "        rate: 100.0\n",
      "  nest_params: {}\n",
      "low_input:\n",
      "  params:\n",
      "    unit_changes:\n",
      "    - layers:\n",
      "      - input_layer\n",
      "      population: poisson_generator\n",
      "      params:\n",
      "        rate: 50.0\n",
      "  nest_params: {}\n",
      "\n"
     ]
    }
   ],
   "source": [
    "# Notice the hierarchical inheritance as before\n",
    "session_models_tree = ParamsTree.read(PARAMS_DIR/'session_models.yml').children['session_models']\n",
    "print(session_models_tree)"
   ]
  },
  {
   "cell_type": "code",
   "execution_count": 60,
   "metadata": {},
   "outputs": [
    {
     "name": "stderr",
     "output_type": "stream",
     "text": [
      "2020-05-29 08:40:35,702 [denest.simulation] INFO: Build N=3 session models\n"
     ]
    }
   ],
   "source": [
    "sim.build_session_models(session_models_tree)"
   ]
  },
  {
   "cell_type": "code",
   "execution_count": 61,
   "metadata": {},
   "outputs": [
    {
     "data": {
      "text/plain": [
       "{'warmup': ParamsTree(name='warmup', parent='session_models')\n",
       "   params:\n",
       "     record: false\n",
       "   nest_params: {}\n",
       "   ,\n",
       " 'high_input': ParamsTree(name='high_input', parent='session_models')\n",
       "   params:\n",
       "     unit_changes:\n",
       "     - layers:\n",
       "       - input_layer\n",
       "       population: poisson_generator\n",
       "       params:\n",
       "         rate: 100.0\n",
       "   nest_params: {}\n",
       "   ,\n",
       " 'low_input': ParamsTree(name='low_input', parent='session_models')\n",
       "   params:\n",
       "     unit_changes:\n",
       "     - layers:\n",
       "       - input_layer\n",
       "       population: poisson_generator\n",
       "       params:\n",
       "         rate: 50.0\n",
       "   nest_params: {}\n",
       "   }"
      ]
     },
     "execution_count": 61,
     "metadata": {},
     "output_type": "execute_result"
    }
   ],
   "source": [
    "sim.session_models"
   ]
  },
  {
   "cell_type": "markdown",
   "metadata": {},
   "source": [
    "### Build a list of sessions from the ``session_models`` templates"
   ]
  },
  {
   "cell_type": "code",
   "execution_count": 62,
   "metadata": {},
   "outputs": [],
   "source": [
    "sessions_order = ['warmup', 'high_input', 'low_input', 'high_input', 'low_input']"
   ]
  },
  {
   "cell_type": "code",
   "execution_count": 63,
   "metadata": {},
   "outputs": [
    {
     "name": "stderr",
     "output_type": "stream",
     "text": [
      "2020-05-29 08:40:37,572 [denest.simulation] INFO: Build N=5 sessions\n",
      "2020-05-29 08:40:37,580 [denest.session] INFO: Creating session \"00_warmup\"\n",
      "2020-05-29 08:40:37,583 [denest.utils.validation] INFO: Object `00_warmup`: params: using default value for optional parameters:\n",
      "{'inputs': {},\n",
      " 'reset_network': False,\n",
      " 'synapse_changes': [],\n",
      " 'unit_changes': []}\n",
      "2020-05-29 08:40:37,586 [denest.session] INFO: Creating session \"01_high_input\"\n",
      "2020-05-29 08:40:37,590 [denest.utils.validation] INFO: Object `01_high_input`: params: using default value for optional parameters:\n",
      "{'inputs': {}, 'reset_network': False, 'synapse_changes': []}\n",
      "2020-05-29 08:40:37,592 [denest.session] INFO: Creating session \"02_low_input\"\n",
      "2020-05-29 08:40:37,595 [denest.utils.validation] INFO: Object `02_low_input`: params: using default value for optional parameters:\n",
      "{'inputs': {}, 'reset_network': False, 'synapse_changes': []}\n",
      "2020-05-29 08:40:37,600 [denest.session] INFO: Creating session \"03_high_input\"\n",
      "2020-05-29 08:40:37,602 [denest.utils.validation] INFO: Object `03_high_input`: params: using default value for optional parameters:\n",
      "{'inputs': {}, 'reset_network': False, 'synapse_changes': []}\n",
      "2020-05-29 08:40:37,605 [denest.session] INFO: Creating session \"04_low_input\"\n",
      "2020-05-29 08:40:37,607 [denest.utils.validation] INFO: Object `04_low_input`: params: using default value for optional parameters:\n",
      "{'inputs': {}, 'reset_network': False, 'synapse_changes': []}\n",
      "2020-05-29 08:40:37,609 [denest.simulation] INFO: Sessions: ['00_warmup', '01_high_input', '02_low_input', '03_high_input', '04_low_input']\n"
     ]
    }
   ],
   "source": [
    "sim.build_sessions(sessions_order)"
   ]
  },
  {
   "cell_type": "code",
   "execution_count": 64,
   "metadata": {},
   "outputs": [
    {
     "data": {
      "text/plain": [
       "[Session(00_warmup, {'inputs': {},\n",
       "  'record': False,\n",
       "  'reset_network': False,\n",
       "  'simulation_time': 100.0,\n",
       "  'synapse_changes': [],\n",
       "  'unit_changes': []}),\n",
       " Session(01_high_input, {'inputs': {},\n",
       "  'record': True,\n",
       "  'reset_network': False,\n",
       "  'simulation_time': 100.0,\n",
       "  'synapse_changes': [],\n",
       "  'unit_changes': [{'layers': ['input_layer'],\n",
       "                    'params': {'rate': 100.0},\n",
       "                    'population': 'poisson_generator'}]}),\n",
       " Session(02_low_input, {'inputs': {},\n",
       "  'record': True,\n",
       "  'reset_network': False,\n",
       "  'simulation_time': 100.0,\n",
       "  'synapse_changes': [],\n",
       "  'unit_changes': [{'layers': ['input_layer'],\n",
       "                    'params': {'rate': 50.0},\n",
       "                    'population': 'poisson_generator'}]}),\n",
       " Session(03_high_input, {'inputs': {},\n",
       "  'record': True,\n",
       "  'reset_network': False,\n",
       "  'simulation_time': 100.0,\n",
       "  'synapse_changes': [],\n",
       "  'unit_changes': [{'layers': ['input_layer'],\n",
       "                    'params': {'rate': 100.0},\n",
       "                    'population': 'poisson_generator'}]}),\n",
       " Session(04_low_input, {'inputs': {},\n",
       "  'record': True,\n",
       "  'reset_network': False,\n",
       "  'simulation_time': 100.0,\n",
       "  'synapse_changes': [],\n",
       "  'unit_changes': [{'layers': ['input_layer'],\n",
       "                    'params': {'rate': 50.0},\n",
       "                    'population': 'poisson_generator'}]})]"
      ]
     },
     "execution_count": 64,
     "metadata": {},
     "output_type": "execute_result"
    }
   ],
   "source": [
    "# Notice the session names\n",
    "sim.sessions"
   ]
  },
  {
   "cell_type": "markdown",
   "metadata": {},
   "source": [
    "### Run all the sessions"
   ]
  },
  {
   "cell_type": "code",
   "execution_count": 65,
   "metadata": {},
   "outputs": [
    {
     "name": "stdout",
     "output_type": "stream",
     "text": [
      "kernel time:  0.0\n"
     ]
    }
   ],
   "source": [
    "print('kernel time: ', nest.GetKernelStatus('time'))"
   ]
  },
  {
   "cell_type": "code",
   "execution_count": 66,
   "metadata": {},
   "outputs": [
    {
     "name": "stderr",
     "output_type": "stream",
     "text": [
      "2020-05-29 08:40:38,811 [denest.simulation] INFO: Running 5 sessions...\n",
      "2020-05-29 08:40:38,811 [denest.simulation] INFO: Running session: '00_warmup'...\n",
      "2020-05-29 08:40:38,813 [denest.session] INFO: Initializing session...\n",
      "-> Changing synapses's state.: 0it [00:00, ?it/s]\n",
      "2020-05-29 08:40:38,821 [denest.network.recorders] INFO:   Setting status for recorder my_multimeter_l1_l1_exc: {'start': 100.0}\n",
      "2020-05-29 08:40:38,822 [denest.network.recorders] INFO:   Setting status for recorder weight_recorder_conn_1_AMPA-l1-l1_exc-l1-l1_inh: {'start': 100.0}\n",
      "2020-05-29 08:40:38,824 [denest.session] INFO: Finished initializing session\n",
      "\n",
      "2020-05-29 08:40:38,825 [denest.session] INFO: Running session '00_warmup' for 100 ms\n",
      "2020-05-29 08:40:38,954 [denest.session] INFO: Finished running session\n",
      "2020-05-29 08:40:38,956 [denest.session] INFO: Session '00_warmup' virtual running time: 100 ms\n",
      "2020-05-29 08:40:38,960 [denest.session] INFO: Session '00_warmup' real running time: 0h:00m:00s\n",
      "2020-05-29 08:40:38,964 [denest.simulation] INFO: Done running session '00_warmup'\n",
      "2020-05-29 08:40:38,965 [denest.simulation] INFO: Running session: '01_high_input'...\n",
      "2020-05-29 08:40:38,966 [denest.session] INFO: Initializing session...\n",
      "-> Changing synapses's state.: 0it [00:00, ?it/s]\n",
      "---> Apply change dict on layers:   0%|          | 0/1 [00:00<?, ?it/s]2020-05-29 08:40:38,976 [denest.network.layers] INFO:     Apply \"constant\" parameter changes on 25/25 units (layer=input_layer, population=poisson_generator)\n",
      "---> Apply change dict on layers: 100%|██████████| 1/1 [00:00<00:00, 130.18it/s]\n",
      "2020-05-29 08:40:38,982 [denest.session] INFO: Finished initializing session\n",
      "\n",
      "2020-05-29 08:40:38,983 [denest.session] INFO: Running session '01_high_input' for 100 ms\n",
      "2020-05-29 08:40:39,370 [denest.session] INFO: Finished running session\n",
      "2020-05-29 08:40:39,372 [denest.session] INFO: Session '01_high_input' virtual running time: 100 ms\n",
      "2020-05-29 08:40:39,374 [denest.session] INFO: Session '01_high_input' real running time: 0h:00m:00s\n",
      "2020-05-29 08:40:39,390 [denest.simulation] INFO: Done running session '01_high_input'\n",
      "2020-05-29 08:40:39,396 [denest.simulation] INFO: Running session: '02_low_input'...\n",
      "2020-05-29 08:40:39,399 [denest.session] INFO: Initializing session...\n",
      "-> Changing synapses's state.: 0it [00:00, ?it/s]\n",
      "---> Apply change dict on layers:   0%|          | 0/1 [00:00<?, ?it/s]2020-05-29 08:40:39,417 [denest.network.layers] INFO:     Apply \"constant\" parameter changes on 25/25 units (layer=input_layer, population=poisson_generator)\n",
      "---> Apply change dict on layers: 100%|██████████| 1/1 [00:00<00:00, 98.00it/s]\n",
      "2020-05-29 08:40:39,421 [denest.session] INFO: Finished initializing session\n",
      "\n",
      "2020-05-29 08:40:39,422 [denest.session] INFO: Running session '02_low_input' for 100 ms\n",
      "2020-05-29 08:40:39,659 [denest.session] INFO: Finished running session\n",
      "2020-05-29 08:40:39,659 [denest.session] INFO: Session '02_low_input' virtual running time: 100 ms\n",
      "2020-05-29 08:40:39,660 [denest.session] INFO: Session '02_low_input' real running time: 0h:00m:00s\n",
      "2020-05-29 08:40:39,665 [denest.simulation] INFO: Done running session '02_low_input'\n",
      "2020-05-29 08:40:39,666 [denest.simulation] INFO: Running session: '03_high_input'...\n",
      "2020-05-29 08:40:39,667 [denest.session] INFO: Initializing session...\n",
      "-> Changing synapses's state.: 0it [00:00, ?it/s]\n",
      "---> Apply change dict on layers:   0%|          | 0/1 [00:00<?, ?it/s]2020-05-29 08:40:39,682 [denest.network.layers] INFO:     Apply \"constant\" parameter changes on 25/25 units (layer=input_layer, population=poisson_generator)\n",
      "---> Apply change dict on layers: 100%|██████████| 1/1 [00:00<00:00, 135.61it/s]\n",
      "2020-05-29 08:40:39,687 [denest.session] INFO: Finished initializing session\n",
      "\n",
      "2020-05-29 08:40:39,688 [denest.session] INFO: Running session '03_high_input' for 100 ms\n",
      "2020-05-29 08:40:39,870 [denest.session] INFO: Finished running session\n",
      "2020-05-29 08:40:39,871 [denest.session] INFO: Session '03_high_input' virtual running time: 100 ms\n",
      "2020-05-29 08:40:39,871 [denest.session] INFO: Session '03_high_input' real running time: 0h:00m:00s\n",
      "2020-05-29 08:40:39,872 [denest.simulation] INFO: Done running session '03_high_input'\n",
      "2020-05-29 08:40:39,873 [denest.simulation] INFO: Running session: '04_low_input'...\n",
      "2020-05-29 08:40:39,875 [denest.session] INFO: Initializing session...\n",
      "-> Changing synapses's state.: 0it [00:00, ?it/s]\n",
      "---> Apply change dict on layers:   0%|          | 0/1 [00:00<?, ?it/s]2020-05-29 08:40:39,891 [denest.network.layers] INFO:     Apply \"constant\" parameter changes on 25/25 units (layer=input_layer, population=poisson_generator)\n",
      "---> Apply change dict on layers: 100%|██████████| 1/1 [00:00<00:00, 228.88it/s]\n",
      "2020-05-29 08:40:39,894 [denest.session] INFO: Finished initializing session\n",
      "\n",
      "2020-05-29 08:40:39,895 [denest.session] INFO: Running session '04_low_input' for 100 ms\n",
      "2020-05-29 08:40:40,198 [denest.session] INFO: Finished running session\n",
      "2020-05-29 08:40:40,200 [denest.session] INFO: Session '04_low_input' virtual running time: 100 ms\n",
      "2020-05-29 08:40:40,201 [denest.session] INFO: Session '04_low_input' real running time: 0h:00m:00s\n",
      "2020-05-29 08:40:40,204 [denest.simulation] INFO: Done running session '04_low_input'\n",
      "2020-05-29 08:40:40,205 [denest.simulation] INFO: Finished running simulation\n"
     ]
    }
   ],
   "source": [
    "sim.run()"
   ]
  },
  {
   "cell_type": "code",
   "execution_count": 67,
   "metadata": {},
   "outputs": [
    {
     "name": "stdout",
     "output_type": "stream",
     "text": [
      "kernel time:  500.0\n"
     ]
    }
   ],
   "source": [
    "print('kernel time: ', nest.GetKernelStatus('time'))"
   ]
  },
  {
   "cell_type": "markdown",
   "metadata": {},
   "source": [
    "### Save the simulation metadata"
   ]
  },
  {
   "cell_type": "code",
   "execution_count": 68,
   "metadata": {},
   "outputs": [
    {
     "name": "stderr",
     "output_type": "stream",
     "text": [
      "2020-05-29 08:40:40,529 [denest.simulation] INFO: Saving simulation metadata...\n",
      "2020-05-29 08:40:40,542 [denest.simulation] INFO: Creating output directory: output\n",
      "2020-05-29 08:40:40,546 [denest.io.save] INFO: Clearing directory: output\n",
      "2020-05-29 08:40:40,549 [denest.io.save] INFO: Clearing directory: output\n",
      "2020-05-29 08:40:40,552 [denest.io.save] INFO: Clearing directory: output/data\n",
      "2020-05-29 08:40:40,557 [denest.io.save] INFO: Clearing directory: output/data\n",
      "2020-05-29 08:40:40,561 [denest.io.save] INFO: Clearing directory: output/data\n",
      "2020-05-29 08:40:40,565 [denest.io.save] INFO: Clearing directory: output\n",
      "2020-05-29 08:40:40,758 [denest.simulation] INFO: Finished saving simulation metadata\n"
     ]
    }
   ],
   "source": [
    "sim.save_metadata()"
   ]
  },
  {
   "cell_type": "code",
   "execution_count": 69,
   "metadata": {},
   "outputs": [
    {
     "name": "stdout",
     "output_type": "stream",
     "text": [
      "\u001b[1m\u001b[36mdata\u001b[m\u001b[m               git_hash           parameter_tree.yml session_times.yml\r\n"
     ]
    }
   ],
   "source": [
    "!ls {OUTPUT_DIR}"
   ]
  },
  {
   "cell_type": "code",
   "execution_count": 70,
   "metadata": {},
   "outputs": [
    {
     "name": "stdout",
     "output_type": "stream",
     "text": [
      "00_warmup: !!python/tuple\r\n",
      "- 0.0\r\n",
      "- 100.0\r\n",
      "01_high_input: !!python/tuple\r\n",
      "- 100.0\r\n",
      "- 200.0\r\n",
      "02_low_input: !!python/tuple\r\n",
      "- 200.0\r\n",
      "- 300.0\r\n",
      "03_high_input: !!python/tuple\r\n",
      "- 300.0\r\n",
      "- 400.0\r\n",
      "04_low_input: !!python/tuple\r\n",
      "- 400.0\r\n",
      "- 500.0\r\n"
     ]
    }
   ],
   "source": [
    "!cat {OUTPUT_DIR/'session_times.yml'}"
   ]
  },
  {
   "cell_type": "code",
   "execution_count": 71,
   "metadata": {},
   "outputs": [
    {
     "name": "stdout",
     "output_type": "stream",
     "text": [
      "my_multimeter_l1_l1_exc.yml\r\n",
      "weight_recorder_conn_1_AMPA-l1-l1_exc-l1-l1_inh.yml\r\n"
     ]
    }
   ],
   "source": [
    "!ls {OUTPUT_DIR/'data'}"
   ]
  },
  {
   "cell_type": "markdown",
   "metadata": {},
   "source": [
    "## Load simulation outputs"
   ]
  },
  {
   "cell_type": "code",
   "execution_count": null,
   "metadata": {},
   "outputs": [],
   "source": [
    "import denest.io.load\n",
    "from pathlib import Path\n",
    "\n",
    "OUTPUT_DIR = Path(sim.output_dir)"
   ]
  },
  {
   "cell_type": "code",
   "execution_count": null,
   "metadata": {},
   "outputs": [],
   "source": [
    "# Load the start and end time for each session\n",
    "session_times = denest.io.load.load_session_times(OUTPUT_DIR) \n",
    "print(session_times)  # {<session_name>: (<session_start>, <session_end>)}"
   ]
  },
  {
   "cell_type": "code",
   "execution_count": null,
   "metadata": {},
   "outputs": [],
   "source": [
    "## Load data from a specific recorder.\n",
    "\n",
    "recorder_metadata_path = OUTPUT_DIR/'data/multimeter_l1_l1_exc.yml'\n",
    "\n",
    "# All relevant information about this recorder and the population it's\n",
    "# connected to are contained in its metadata file\n",
    "recorder_metadata = denest.io.load.load_yaml(recorder_metadata_path)\n",
    "print(f'Metadata keys: {recorder_metadata.keys()}')"
   ]
  },
  {
   "cell_type": "code",
   "execution_count": null,
   "metadata": {},
   "outputs": [],
   "source": [
    "# We can load the raw data as pandas dataframe\n",
    "df = denest.io.load.load(recorder_metadata_path)\n",
    "print(df[0:5])"
   ]
  },
  {
   "cell_type": "code",
   "execution_count": null,
   "metadata": {},
   "outputs": [],
   "source": [
    "all_recorder_metadata_paths = denest.io.load.metadata_paths(OUTPUT_DIR)\n",
    "print(all_recorder_metadata_paths)"
   ]
  },
  {
   "cell_type": "code",
   "execution_count": null,
   "metadata": {},
   "outputs": [],
   "source": [
    "for metadata_path in all_recorder_metadata_paths:\n",
    "  print(f'Recorder: {metadata_path.name}')\n",
    "  print(f'{denest.io.load.load(metadata_path)[0:5]}\\n')"
   ]
  },
  {
   "cell_type": "markdown",
   "metadata": {},
   "source": [
    "## Replicate the simulation"
   ]
  },
  {
   "cell_type": "code",
   "execution_count": null,
   "metadata": {},
   "outputs": [],
   "source": [
    "params = ParamsTree.read(OUTPUT_DIR/'parameter_tree.yml')"
   ]
  },
  {
   "cell_type": "code",
   "execution_count": null,
   "metadata": {},
   "outputs": [],
   "source": [
    "# sim = denest.Simulation(params)\n",
    "# sim.run()"
   ]
  }
 ],
 "metadata": {
  "kernelspec": {
   "display_name": "nets",
   "language": "python",
   "name": "nets"
  },
  "language_info": {
   "codemirror_mode": {
    "name": "ipython",
    "version": 3
   },
   "file_extension": ".py",
   "mimetype": "text/x-python",
   "name": "python",
   "nbconvert_exporter": "python",
   "pygments_lexer": "ipython3",
   "version": "3.7.5"
  }
 },
 "nbformat": 4,
 "nbformat_minor": 4
}
