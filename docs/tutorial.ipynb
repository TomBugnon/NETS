{
 "cells": [
  {
   "cell_type": "code",
   "execution_count": 1,
   "metadata": {},
   "outputs": [
    {
     "name": "stdout",
     "output_type": "stream",
     "text": [
      "The autoreload extension is already loaded. To reload it, use:\n",
      "  %reload_ext autoreload\n"
     ]
    }
   ],
   "source": [
    "%load_ext autoreload\n",
    "%autoreload 2\n",
    "\n",
    "import nest\n",
    "import yaml\n",
    "from pathlib import Path\n",
    "from pprint import pprint"
   ]
  },
  {
   "cell_type": "code",
   "execution_count": 2,
   "metadata": {},
   "outputs": [],
   "source": [
    "from nets import *"
   ]
  },
  {
   "cell_type": "code",
   "execution_count": 4,
   "metadata": {},
   "outputs": [],
   "source": [
    "PARAMS_DIR = Path('./params')\n",
    "OUTPUT_DIR = Path('./output')"
   ]
  },
  {
   "cell_type": "markdown",
   "metadata": {},
   "source": [
    "# Let's familiarize ourselves with the ``Network`` object\n",
    "\n",
    "__...by building the elements of the network one by one__\n",
    "\n",
    "In this section we:\n",
    "\n",
    "1. Initialize an empty ``Network`` object\n",
    "2. __Initialize all the elements of the network__ using  the ``Network.build_*`` methods\n",
    "    1. Models (neuron models, recorder models, synapse models\n",
    "    2. Layers\n",
    "    3. Connection models\n",
    "    4. Individual connections\n",
    "    5. Population and connection recorders\n",
    "3. __Create the network__ in NEST\n",
    "4. __Access the network elements__ (GIDs, etc)\n",
    "4. Export and reuse the parameter tree allowing us to __replicate the network__"
   ]
  },
  {
   "cell_type": "markdown",
   "metadata": {},
   "source": [
    "## Initialize an empty network\n",
    "\n",
    "When initialized without argument or with an empty tree as an argument, all the expected subtrees are initialized as empty.\n",
    "\n",
    "When building the elements interactively, the network's parameters are updated"
   ]
  },
  {
   "cell_type": "code",
   "execution_count": null,
   "metadata": {},
   "outputs": [],
   "source": [
    "net = Network()"
   ]
  },
  {
   "cell_type": "code",
   "execution_count": null,
   "metadata": {},
   "outputs": [],
   "source": [
    "# Network parameter tree is empty:\n",
    "net.tree"
   ]
  },
  {
   "cell_type": "markdown",
   "metadata": {},
   "source": [
    "## Build the network components (models, layers, connections, recorders)\n"
   ]
  },
  {
   "cell_type": "markdown",
   "metadata": {},
   "source": [
    "### Define new models\n",
    "\n",
    "We can define neuron, recorder, stimulator and synapse models with arbitrary parameters from parameter trees.\n",
    "\n",
    "Each leaf corresponds to a new (named) model. Its ``nest_params`` and ``params`` are hierarchically inherited.\n",
    "\n",
    "The ``nest_model`` used is specified in the leaf's ``params``"
   ]
  },
  {
   "cell_type": "markdown",
   "metadata": {},
   "source": [
    "#### ``'neuron_models'`` tree:\n",
    "\n",
    "Initalize ``Network.neuron_models`` with the ``Network.build_neuron_models`` method"
   ]
  },
  {
   "cell_type": "code",
   "execution_count": null,
   "metadata": {},
   "outputs": [],
   "source": [
    "neuron_models_tree = ParamsTree.read(PARAMS_DIR/'models.yml').children['neuron_models']\n",
    "pprint(neuron_models_tree)"
   ]
  },
  {
   "cell_type": "code",
   "execution_count": null,
   "metadata": {},
   "outputs": [],
   "source": [
    "net.build_neuron_models(neuron_models_tree)"
   ]
  },
  {
   "cell_type": "code",
   "execution_count": null,
   "metadata": {},
   "outputs": [],
   "source": [
    "# The neuron models are saved as an attribute for the Network object\n",
    "print(\"\\n``Network.neuron_models`` :\")\n",
    "pprint(net.neuron_models)"
   ]
  },
  {
   "cell_type": "code",
   "execution_count": null,
   "metadata": {},
   "outputs": [],
   "source": [
    "pprint(net.neuron_models['l1_exc'])\n",
    "pprint(net.neuron_models['l1_exc'].params)\n",
    "pprint(net.neuron_models['l1_exc'].nest_params)"
   ]
  },
  {
   "cell_type": "markdown",
   "metadata": {},
   "source": [
    "#### ``'recorder_models'`` tree:\n",
    "\n",
    "Initalize ``Network.recorder_models`` with the ``Network.build_recorder_models`` method\n",
    "\n",
    "-> Same thing as for neuron models"
   ]
  },
  {
   "cell_type": "code",
   "execution_count": null,
   "metadata": {},
   "outputs": [],
   "source": [
    "# ``Network.build_*`` methods accept as argument ``ParamsTree`` objects, but also tree-like dictionaries \n",
    "recorder_models_tree = ParamsTree.read(PARAMS_DIR/'models.yml').children['recorder_models']\n",
    "recorder_models_tree"
   ]
  },
  {
   "cell_type": "code",
   "execution_count": null,
   "metadata": {},
   "outputs": [],
   "source": [
    "# ``Network.build_*`` methods accept as argument ``ParamsTree`` objects, but also tree-like dictionaries \n",
    "recorder_models_tree = recorder_models_tree.asdict()\n",
    "recorder_models_tree"
   ]
  },
  {
   "cell_type": "code",
   "execution_count": null,
   "metadata": {},
   "outputs": [],
   "source": [
    "net.build_recorder_models(recorder_models_tree)"
   ]
  },
  {
   "cell_type": "code",
   "execution_count": null,
   "metadata": {},
   "outputs": [],
   "source": [
    "print(\"\\n``Network.recorder_models`` :\")\n",
    "pprint(net.recorder_models)"
   ]
  },
  {
   "cell_type": "markdown",
   "metadata": {},
   "source": [
    "#### ``'synapse_model'`` tree:\n",
    "\n",
    "Initalize ``Network.synapse_models`` with the ``Network.build_synapse_model`` method\n",
    "\n",
    "-> Same thing as for neuron models, with as a bonus a convenient way of specifying the receptor type of the synapse\n",
    "\n",
    "-> If specifying the ``receptor_type`` and ``target_model`` in the ``SynapseModel`` params, the corresponding port is determined automatically"
   ]
  },
  {
   "cell_type": "code",
   "execution_count": null,
   "metadata": {},
   "outputs": [],
   "source": [
    "synapse_models_tree = ParamsTree.read(PARAMS_DIR/'models.yml').children['synapse_models']\n",
    "synapse_models_tree"
   ]
  },
  {
   "cell_type": "code",
   "execution_count": null,
   "metadata": {},
   "outputs": [],
   "source": [
    "net.build_synapse_models(synapse_models_tree)"
   ]
  },
  {
   "cell_type": "code",
   "execution_count": null,
   "metadata": {},
   "outputs": [],
   "source": [
    "print(\"\\n``Network.synapse_models`` :\")\n",
    "pprint(net.synapse_models)"
   ]
  },
  {
   "cell_type": "markdown",
   "metadata": {},
   "source": [
    "Note that the ``receptor_type`` nest_parameter was inferred"
   ]
  },
  {
   "cell_type": "markdown",
   "metadata": {},
   "source": [
    "### Define layers\n",
    "\n",
    "As for models, we can create ``nest.Topology`` layers from the leaves of a tree.\n",
    "\n",
    "The elements can be nest models with their default parameters, or the ones we just created with custom params\n",
    "\n",
    "For layers of stimulator devices, we can use the ``InputLayer`` object, which can automatically create paired parrot neurons for each stimulator units, by adding ``type: 'InputLayer'``\n",
    "to the params\n"
   ]
  },
  {
   "cell_type": "markdown",
   "metadata": {},
   "source": [
    "#### ``'layers'`` tree:\n"
   ]
  },
  {
   "cell_type": "code",
   "execution_count": null,
   "metadata": {},
   "outputs": [],
   "source": [
    "layer_tree = ParamsTree.read(PARAMS_DIR/'layers.yml')\n",
    "layer_tree"
   ]
  },
  {
   "cell_type": "code",
   "execution_count": null,
   "metadata": {},
   "outputs": [],
   "source": [
    "net.build_layers(layer_tree)"
   ]
  },
  {
   "cell_type": "code",
   "execution_count": null,
   "metadata": {},
   "outputs": [],
   "source": [
    "pprint(net.layers)"
   ]
  },
  {
   "cell_type": "code",
   "execution_count": null,
   "metadata": {},
   "outputs": [],
   "source": [
    "print(\"'l1' layer\")\n",
    "pprint(net.layers['l1'].params)\n",
    "pprint(net.layers['l1'].nest_params)"
   ]
  },
  {
   "cell_type": "markdown",
   "metadata": {},
   "source": [
    "### Define connections\n",
    "\n",
    "We create connections using a two step process:\n",
    "\n",
    "1. Create ``ConnectionModel`` objects from a tree. Each named leaf will define a template from which individual connections can inherit their parameters\n",
    "2. Create ``Connection`` objects from a list, specifying for each item the source layer x population, target layer x population and the connection model to inherit parameters from"
   ]
  },
  {
   "cell_type": "markdown",
   "metadata": {},
   "source": [
    "#### 1- Define templates from the `connection_models` tree\n",
    "\n"
   ]
  },
  {
   "cell_type": "code",
   "execution_count": null,
   "metadata": {},
   "outputs": [],
   "source": [
    "conn_model_tree = ParamsTree.read(PARAMS_DIR/'connections.yml').children['connection_models']\n",
    "conn_model_tree"
   ]
  },
  {
   "cell_type": "code",
   "execution_count": null,
   "metadata": {},
   "outputs": [],
   "source": [
    "net.build_connection_models(conn_model_tree)"
   ]
  },
  {
   "cell_type": "code",
   "execution_count": null,
   "metadata": {},
   "outputs": [],
   "source": [
    "net.connection_models"
   ]
  },
  {
   "cell_type": "markdown",
   "metadata": {},
   "source": [
    "### 2- Define individual connections from the `topology` tree\n",
    "\n",
    "The list of connections is defined in the `connections` params of the `topology` tree\n",
    "\n",
    "Check out the doc of `Network.build_connections` for expected formatting"
   ]
  },
  {
   "cell_type": "code",
   "execution_count": null,
   "metadata": {},
   "outputs": [],
   "source": [
    "conns_tree = ParamsTree.read(PARAMS_DIR/'connections.yml').children['topology']\n",
    "conns_tree"
   ]
  },
  {
   "cell_type": "code",
   "execution_count": null,
   "metadata": {},
   "outputs": [],
   "source": [
    "net.connection_models"
   ]
  },
  {
   "cell_type": "code",
   "execution_count": null,
   "metadata": {},
   "outputs": [],
   "source": [
    "net.build_connections(conns_tree)"
   ]
  },
  {
   "cell_type": "code",
   "execution_count": null,
   "metadata": {},
   "outputs": [],
   "source": [
    "net.connections"
   ]
  },
  {
   "cell_type": "markdown",
   "metadata": {},
   "source": [
    "## Define recorders from the `recorders` tree\n",
    "\n",
    "Similarly to the `topology` tree, recorders are defined from lists.\n",
    "\n",
    "\n",
    "We separate recorders connected to synapses (eg weight recorder) and those connected to units (eg spike detectors),\n",
    "which are defined in the `connection_recorders` and `population_recorders` params (resp.) of the `recorders` tree.\n",
    "\n",
    "\n",
    "Check out the doc of the ``Network.build_recorders``, ``Network.build_population_recorders`` and\n",
    "``Network.build_connection_recorders`` methods for expected formatting\n",
    "\n",
    "The parameters of the recorders can be changed by using custom recorder models (in the `recorder_models` tree, see above) "
   ]
  },
  {
   "cell_type": "code",
   "execution_count": null,
   "metadata": {},
   "outputs": [],
   "source": [
    "recorders_tree = ParamsTree.read(PARAMS_DIR/'recorders.yml').children['recorders']\n",
    "recorders_tree"
   ]
  },
  {
   "cell_type": "code",
   "execution_count": null,
   "metadata": {},
   "outputs": [],
   "source": [
    "net.build_recorders(recorders_tree)"
   ]
  },
  {
   "cell_type": "code",
   "execution_count": null,
   "metadata": {},
   "outputs": [],
   "source": [
    "net.population_recorders"
   ]
  },
  {
   "cell_type": "code",
   "execution_count": null,
   "metadata": {},
   "outputs": [],
   "source": [
    "net.connection_recorders"
   ]
  },
  {
   "cell_type": "markdown",
   "metadata": {},
   "source": [
    "## Create the network"
   ]
  },
  {
   "cell_type": "code",
   "execution_count": null,
   "metadata": {},
   "outputs": [],
   "source": [
    "nest.ResetKernel()"
   ]
  },
  {
   "cell_type": "code",
   "execution_count": null,
   "metadata": {},
   "outputs": [],
   "source": [
    "net.create()"
   ]
  },
  {
   "cell_type": "markdown",
   "metadata": {},
   "source": [
    "## Examine the network\n",
    "\n",
    "nets provides convenient ways of accessing the objects in nest"
   ]
  },
  {
   "cell_type": "markdown",
   "metadata": {},
   "source": [
    "### Check the defaults of the created models"
   ]
  },
  {
   "cell_type": "code",
   "execution_count": null,
   "metadata": {},
   "outputs": [],
   "source": [
    "print(\"`l1_exc` neuron models `nest_params`: \", net.neuron_models['l1_exc'].nest_params)"
   ]
  },
  {
   "cell_type": "code",
   "execution_count": null,
   "metadata": {},
   "outputs": [],
   "source": [
    "print('Corresponding params of the `l1_exc` model in nest:', nest.GetDefaults('l1_exc', list(net.neuron_models['l1_exc'].nest_params.keys())))"
   ]
  },
  {
   "cell_type": "markdown",
   "metadata": {},
   "source": [
    "### Access the layers' units"
   ]
  },
  {
   "cell_type": "code",
   "execution_count": null,
   "metadata": {},
   "outputs": [],
   "source": [
    "net.layers['l1'].gids(location=(0, 0), population='l1_exc')"
   ]
  },
  {
   "cell_type": "markdown",
   "metadata": {},
   "source": [
    "### Access the connections created in NEST"
   ]
  },
  {
   "cell_type": "code",
   "execution_count": null,
   "metadata": {},
   "outputs": [],
   "source": [
    "conn = net.connections[0]\n",
    "conn"
   ]
  },
  {
   "cell_type": "code",
   "execution_count": null,
   "metadata": {},
   "outputs": [],
   "source": [
    "nest_conns = nest.GetConnections(\n",
    "    source=conn.source.gids(conn.source_population),\n",
    "    target=conn.target.gids(conn.target_population),\n",
    "    synapse_model=conn.nest_params['synapse_model']\n",
    ")\n",
    "nest_conns[0:5]"
   ]
  },
  {
   "cell_type": "markdown",
   "metadata": {},
   "source": [
    "### Access the recorders"
   ]
  },
  {
   "cell_type": "code",
   "execution_count": null,
   "metadata": {},
   "outputs": [],
   "source": [
    "rec = net.population_recorders[0]\n",
    "print(rec, rec.gid, rec.model, rec.layer, rec.population_name)"
   ]
  },
  {
   "cell_type": "code",
   "execution_count": null,
   "metadata": {},
   "outputs": [],
   "source": [
    "connrec = net.connection_recorders[0]\n",
    "print(connrec, connrec.gid, connrec.model)"
   ]
  },
  {
   "cell_type": "markdown",
   "metadata": {},
   "source": [
    "## Save and recreate the network\n",
    "\n",
    "When building each of the network's elements using the `Network.build_*` methods, the `Network.tree` ParamsTree was updated"
   ]
  },
  {
   "cell_type": "code",
   "execution_count": null,
   "metadata": {},
   "outputs": [],
   "source": [
    "net.tree"
   ]
  },
  {
   "cell_type": "markdown",
   "metadata": {},
   "source": [
    "#### We can save the parameter tree defining the whole network..."
   ]
  },
  {
   "cell_type": "code",
   "execution_count": null,
   "metadata": {},
   "outputs": [],
   "source": [
    "net.tree.write(PARAMS_DIR/'network_tree.yml')"
   ]
  },
  {
   "cell_type": "markdown",
   "metadata": {},
   "source": [
    "#### And use it to recreate another identical network"
   ]
  },
  {
   "cell_type": "code",
   "execution_count": null,
   "metadata": {},
   "outputs": [],
   "source": [
    "net2 = Network(ParamsTree.read(PARAMS_DIR/'network_tree.yml'))"
   ]
  },
  {
   "cell_type": "markdown",
   "metadata": {},
   "source": [
    "# Change the network's state"
   ]
  },
  {
   "cell_type": "markdown",
   "metadata": {},
   "source": [
    "# Run a single session"
   ]
  },
  {
   "cell_type": "code",
   "execution_count": null,
   "metadata": {},
   "outputs": [],
   "source": [
    "session_params = {\n",
    "    'simulation_time': 1000.0,\n",
    "    'reset_network': False,\n",
    "    'record': True,\n",
    "    'unit_changes': [\n",
    "        {\n",
    "            'layers': ['input_layer'],\n",
    "            'population': 'poisson_generator',\n",
    "            'proportion': 1.0,\n",
    "            'params': {\n",
    "                'rate': 100.0\n",
    "            }\n",
    "        }\n",
    "    ]\n",
    "}"
   ]
  },
  {
   "cell_type": "code",
   "execution_count": null,
   "metadata": {},
   "outputs": [],
   "source": [
    "session_1 = Session(\n",
    "    'session_1',\n",
    "    session_params,\n",
    ")"
   ]
  },
  {
   "cell_type": "code",
   "execution_count": null,
   "metadata": {},
   "outputs": [],
   "source": [
    "session_1.run(net)"
   ]
  },
  {
   "cell_type": "code",
   "execution_count": null,
   "metadata": {},
   "outputs": [],
   "source": [
    "session_1.duration"
   ]
  },
  {
   "cell_type": "markdown",
   "metadata": {},
   "source": [
    "# Let's familiarize ourselves with the ``Simulation`` object\n"
   ]
  },
  {
   "cell_type": "markdown",
   "metadata": {},
   "source": [
    "## Initialize an empty Simulation object\n",
    "\n",
    "Empty network, no kernel initialization, etc..."
   ]
  },
  {
   "cell_type": "code",
   "execution_count": 5,
   "metadata": {},
   "outputs": [
    {
     "name": "stderr",
     "output_type": "stream",
     "text": [
      "2020-05-28 17:22:35,352 [nets.utils.validation] INFO: 'None' tree: adding empty child kernel\n",
      "2020-05-28 17:22:35,358 [nets.utils.validation] INFO: 'None' tree: adding empty child simulation\n",
      "2020-05-28 17:22:35,361 [nets.utils.validation] INFO: 'None' tree: adding empty child session_models\n",
      "2020-05-28 17:22:35,362 [nets.utils.validation] INFO: 'None' tree: adding empty child network\n",
      "2020-05-28 17:22:35,366 [nets.utils.validation] INFO: Object `simulation`: params: using default value for optional parameters:\n",
      "{'input_dir': 'input', 'output_dir': 'output', 'sessions': []}\n",
      "2020-05-28 17:22:35,368 [nets.utils.validation] INFO: Object `kernel`: params: using default value for optional parameters:\n",
      "{'extension_modules': [], 'nest_seed': 1, 'python_seed': 1}\n",
      "2020-05-28 17:22:35,369 [nets.simulation] INFO: Initializing NEST kernel and seeds...\n",
      "2020-05-28 17:22:35,370 [nets.simulation] INFO:   Resetting NEST kernel...\n",
      "2020-05-28 17:22:35,377 [nets.simulation] INFO:   Setting NEST kernel status...\n",
      "2020-05-28 17:22:35,378 [nets.simulation] INFO:     Calling `nest.SetKernelStatus({})`\n",
      "2020-05-28 17:22:35,380 [nets.simulation] INFO:     Calling `nest.SetKernelStatus({'data_path': 'output/data', 'grng_seed': 2, 'rng_seeds': range(3, 4)})\n",
      "2020-05-28 17:22:35,381 [nets.simulation] INFO:   Finished setting NEST kernel status\n",
      "2020-05-28 17:22:35,382 [nets.simulation] INFO:   Installing external modules...\n",
      "2020-05-28 17:22:35,383 [nets.simulation] INFO:   Finished installing external modules\n",
      "2020-05-28 17:22:35,383 [nets.simulation] INFO:   Setting Python seed: 1\n",
      "2020-05-28 17:22:35,384 [nets.simulation] INFO: Finished initializing kernel\n",
      "2020-05-28 17:22:35,385 [nets.simulation] INFO: Build N=1 session models\n",
      "2020-05-28 17:22:35,386 [nets.simulation] INFO: Build N=0 sessions\n",
      "2020-05-28 17:22:35,388 [nets.simulation] INFO: Sessions: []\n",
      "2020-05-28 17:22:35,389 [nets.simulation] INFO: Building network.\n",
      "2020-05-28 17:22:35,391 [nets.utils.validation] INFO: 'None' tree: adding empty child neuron_models\n",
      "2020-05-28 17:22:35,392 [nets.utils.validation] INFO: 'None' tree: adding empty child synapse_models\n",
      "2020-05-28 17:22:35,392 [nets.utils.validation] INFO: 'None' tree: adding empty child layers\n",
      "2020-05-28 17:22:35,393 [nets.utils.validation] INFO: 'None' tree: adding empty child connection_models\n",
      "2020-05-28 17:22:35,396 [nets.utils.validation] INFO: 'None' tree: adding empty child topology\n",
      "2020-05-28 17:22:35,397 [nets.utils.validation] INFO: 'None' tree: adding empty child recorder_models\n",
      "2020-05-28 17:22:35,398 [nets.utils.validation] INFO: 'None' tree: adding empty child recorders\n",
      "2020-05-28 17:22:35,399 [nets.network] INFO: Build N=0 ``Model`` objects\n",
      "2020-05-28 17:22:35,400 [nets.network] INFO: Build N=0 ``SynapseModel`` objects\n",
      "2020-05-28 17:22:35,401 [nets.network] INFO: Build N=0 ``Model`` objects\n",
      "2020-05-28 17:22:35,401 [nets.network] INFO: Build N=0 ``Layer`` or ``InputLayer`` objects.\n",
      "2020-05-28 17:22:35,402 [nets.network] INFO: Build N=0 ``ConnectionModel`` objects\n",
      "2020-05-28 17:22:35,404 [nets.utils.validation] INFO: Object `topology`: params: using default value for optional parameters:\n",
      "{'connections': []}\n",
      "2020-05-28 17:22:35,406 [nets.network] INFO: Build N=0 ``TopoConnection`` objects\n",
      "2020-05-28 17:22:35,408 [nets.utils.validation] INFO: Object `recorders`: params: using default value for optional parameters:\n",
      "{'connection_recorders': [], 'population_recorders': []}\n",
      "2020-05-28 17:22:35,409 [nets.network] INFO: Build N=0 population recorders.\n",
      "2020-05-28 17:22:35,411 [nets.network] INFO: Build N=0 connection recorders.\n",
      "2020-05-28 17:22:35,413 [nets.utils.validation] INFO: Object `topology`: params: using default value for optional parameters:\n",
      "{'connections': []}\n",
      "2020-05-28 17:22:35,414 [nets.network] INFO: Build N=0 ``TopoConnection`` objects\n",
      "2020-05-28 17:22:35,416 [nets.utils.validation] INFO: Object `recorders`: params: using default value for optional parameters:\n",
      "{'connection_recorders': [], 'population_recorders': []}\n",
      "2020-05-28 17:22:35,417 [nets.network] INFO: Build N=0 population recorders.\n",
      "2020-05-28 17:22:35,418 [nets.network] INFO: Build N=0 connection recorders.\n",
      "2020-05-28 17:22:35,420 [nets.simulation] INFO: Creating network.\n",
      "2020-05-28 17:22:35,421 [nets.network] INFO: Creating neuron models...\n",
      "0it [00:00, ?it/s]\n",
      "2020-05-28 17:22:35,436 [nets.network] INFO: Creating synapse models...\n",
      "0it [00:00, ?it/s]\n",
      "2020-05-28 17:22:35,441 [nets.network] INFO: Creating recorder models...\n",
      "0it [00:00, ?it/s]\n",
      "2020-05-28 17:22:35,446 [nets.network] INFO: Creating layers...\n",
      "0it [00:00, ?it/s]\n",
      "2020-05-28 17:22:35,452 [nets.network] INFO: Creating population recorders...\n",
      "0it [00:00, ?it/s]\n",
      "2020-05-28 17:22:35,461 [nets.network] INFO: Creating connection recorders...\n",
      "0it [00:00, ?it/s]\n",
      "2020-05-28 17:22:35,468 [nets.network] INFO: Connecting layers...\n",
      "0it [00:00, ?it/s]\n",
      "2020-05-28 17:22:35,477 [nets.network] INFO: Network size (including recorders and parrot neurons):\n",
      "Number of nodes: 1\n",
      "Number of connections: 0\n",
      "2020-05-28 17:22:35,478 [nets.simulation] INFO: Finished creating network\n",
      "2020-05-28 17:22:35,480 [nets.simulation] INFO: Saving simulation metadata...\n",
      "2020-05-28 17:22:35,482 [nets.simulation] INFO: Creating output directory: output\n",
      "2020-05-28 17:22:35,484 [nets.io.save] INFO: Clearing directory: output\n",
      "2020-05-28 17:22:35,486 [nets.io.save] INFO: Clearing directory: output\n",
      "2020-05-28 17:22:35,491 [nets.io.save] INFO: Clearing directory: output/data\n",
      "2020-05-28 17:22:35,493 [nets.io.save] INFO: Clearing directory: output/data\n",
      "2020-05-28 17:22:35,495 [nets.io.save] INFO: Clearing directory: output/data\n",
      "2020-05-28 17:22:35,497 [nets.io.save] INFO: Clearing directory: output\n",
      "2020-05-28 17:22:35,574 [nets.simulation] INFO: Finished saving simulation metadata\n"
     ]
    }
   ],
   "source": [
    "sim = Simulation(output_dir=OUTPUT_DIR)"
   ]
  },
  {
   "cell_type": "code",
   "execution_count": 6,
   "metadata": {},
   "outputs": [
    {
     "name": "stdout",
     "output_type": "stream",
     "text": [
      "\u001b[1m\u001b[36mdata\u001b[m\u001b[m               git_hash           parameter_tree.yml session_times.yml\r\n"
     ]
    }
   ],
   "source": [
    "# The data and metadata is saved there. For now it's all empty\n",
    "!ls {OUTPUT_DIR}"
   ]
  },
  {
   "cell_type": "markdown",
   "metadata": {},
   "source": [
    "## Initialize the NEST kernel\n",
    "\n",
    "``Simulation.init_kernel??`` for doc"
   ]
  },
  {
   "cell_type": "code",
   "execution_count": 7,
   "metadata": {},
   "outputs": [],
   "source": [
    "kernel_tree = {\n",
    "    'params':\n",
    "        {\n",
    "            'nest_seed': 10,\n",
    "            'extension_modules': [],\n",
    "        },\n",
    "    'nest_params':\n",
    "        {\n",
    "            'resolution': 0.5,\n",
    "        },\n",
    "}"
   ]
  },
  {
   "cell_type": "code",
   "execution_count": 8,
   "metadata": {},
   "outputs": [
    {
     "name": "stderr",
     "output_type": "stream",
     "text": [
      "2020-05-28 17:22:50,630 [nets.utils.validation] INFO: Object `kernel`: params: using default value for optional parameters:\n",
      "{'python_seed': 1}\n",
      "2020-05-28 17:22:50,631 [nets.simulation] INFO: Initializing NEST kernel and seeds...\n",
      "2020-05-28 17:22:50,632 [nets.simulation] INFO:   Resetting NEST kernel...\n",
      "2020-05-28 17:22:50,641 [nets.simulation] INFO:   Setting NEST kernel status...\n",
      "2020-05-28 17:22:50,644 [nets.simulation] INFO:     Calling `nest.SetKernelStatus({'resolution': 0.5})`\n",
      "2020-05-28 17:22:50,645 [nets.simulation] INFO:     Calling `nest.SetKernelStatus({'data_path': 'output/data', 'grng_seed': 11, 'rng_seeds': range(12, 13)})\n",
      "2020-05-28 17:22:50,647 [nets.simulation] INFO:   Finished setting NEST kernel status\n",
      "2020-05-28 17:22:50,648 [nets.simulation] INFO:   Installing external modules...\n",
      "2020-05-28 17:22:50,648 [nets.simulation] INFO:   Finished installing external modules\n",
      "2020-05-28 17:22:50,649 [nets.simulation] INFO:   Setting Python seed: 1\n",
      "2020-05-28 17:22:50,650 [nets.simulation] INFO: Finished initializing kernel\n"
     ]
    }
   ],
   "source": [
    "sim.init_kernel(kernel_tree)"
   ]
  },
  {
   "cell_type": "code",
   "execution_count": 9,
   "metadata": {},
   "outputs": [
    {
     "data": {
      "text/plain": [
       "0.5"
      ]
     },
     "execution_count": 9,
     "metadata": {},
     "output_type": "execute_result"
    }
   ],
   "source": [
    "# nest_params have been passed to nest.SetKernelStatus\n",
    "nest.GetKernelStatus('resolution')"
   ]
  },
  {
   "cell_type": "code",
   "execution_count": 12,
   "metadata": {},
   "outputs": [
    {
     "data": {
      "text/plain": [
       "'output/data'"
      ]
     },
     "execution_count": 12,
     "metadata": {},
     "output_type": "execute_result"
    }
   ],
   "source": [
    "# The raw data will be saved in the output directory\n",
    "nest.GetKernelStatus('data_path')"
   ]
  },
  {
   "cell_type": "code",
   "execution_count": 10,
   "metadata": {},
   "outputs": [
    {
     "data": {
      "text/plain": [
       "ParamsTree(name='kernel', parent='None')\n",
       "  params:\n",
       "    nest_seed: 10\n",
       "    extension_modules: []\n",
       "  nest_params:\n",
       "    resolution: 0.5\n",
       "  "
      ]
     },
     "execution_count": 10,
     "metadata": {},
     "output_type": "execute_result"
    }
   ],
   "source": [
    "# The kernel params are saved in the simulation's tree\n",
    "sim.tree.children['kernel']"
   ]
  },
  {
   "cell_type": "markdown",
   "metadata": {},
   "source": [
    "## Create a network\n",
    "\n",
    "We build and create the same network by passing the network tree,\n",
    "using the ``Simulation.create_network`` method"
   ]
  },
  {
   "cell_type": "code",
   "execution_count": 13,
   "metadata": {},
   "outputs": [],
   "source": [
    "net_tree = ParamsTree.read(PARAMS_DIR/'network_tree.yml')"
   ]
  },
  {
   "cell_type": "code",
   "execution_count": 14,
   "metadata": {},
   "outputs": [
    {
     "name": "stderr",
     "output_type": "stream",
     "text": [
      "2020-05-28 17:23:28,322 [nets.simulation] INFO: Building network.\n",
      "2020-05-28 17:23:28,334 [nets.network] INFO: Build N=2 ``Model`` objects\n",
      "2020-05-28 17:23:28,335 [nets.network] INFO: Build N=2 ``SynapseModel`` objects\n",
      "2020-05-28 17:23:28,338 [nets.network] INFO: Build N=2 ``Model`` objects\n",
      "2020-05-28 17:23:28,340 [nets.network] INFO: Build N=2 ``Layer`` or ``InputLayer`` objects.\n",
      "2020-05-28 17:23:28,341 [nets.utils.validation] INFO: Object `conn_1_AMPA`: params: using default value for optional parameters:\n",
      "{'type': 'topological'}\n",
      "2020-05-28 17:23:28,342 [nets.utils.validation] INFO: Object `conn_2_GABAA`: params: using default value for optional parameters:\n",
      "{'type': 'topological'}\n",
      "2020-05-28 17:23:28,343 [nets.network] INFO: Build N=2 ``ConnectionModel`` objects\n",
      "2020-05-28 17:23:28,348 [nets.network] INFO: Build N=3 ``TopoConnection`` objects\n",
      "2020-05-28 17:23:28,352 [nets.network] INFO: Build N=1 population recorders.\n",
      "2020-05-28 17:23:28,354 [nets.network] INFO: Build N=1 connection recorders.\n",
      "2020-05-28 17:23:28,358 [nets.network] INFO: Build N=3 ``TopoConnection`` objects\n",
      "2020-05-28 17:23:28,362 [nets.network] INFO: Build N=1 population recorders.\n",
      "2020-05-28 17:23:28,363 [nets.network] INFO: Build N=1 connection recorders.\n",
      "2020-05-28 17:23:28,364 [nets.simulation] INFO: Creating network.\n",
      "2020-05-28 17:23:28,365 [nets.network] INFO: Creating neuron models...\n",
      "100%|██████████| 2/2 [00:00<00:00, 1503.60it/s]\n",
      "2020-05-28 17:23:28,372 [nets.network] INFO: Creating synapse models...\n",
      "100%|██████████| 2/2 [00:00<00:00, 1287.19it/s]\n",
      "2020-05-28 17:23:28,381 [nets.network] INFO: Creating recorder models...\n",
      "100%|██████████| 2/2 [00:00<00:00, 3145.33it/s]\n",
      "2020-05-28 17:23:28,389 [nets.network] INFO: Creating layers...\n",
      "100%|██████████| 2/2 [00:00<00:00, 10.35it/s]\n",
      "2020-05-28 17:23:28,587 [nets.network] INFO: Creating population recorders...\n",
      "100%|██████████| 1/1 [00:00<00:00, 52.14it/s]\n",
      "2020-05-28 17:23:28,611 [nets.network] INFO: Creating connection recorders...\n",
      "100%|██████████| 1/1 [00:00<00:00, 342.45it/s]\n",
      "2020-05-28 17:23:28,623 [nets.network] INFO: Connecting layers...\n",
      "100%|██████████| 3/3 [00:00<00:00, 413.06it/s]\n",
      "2020-05-28 17:23:28,641 [nets.network] INFO: Network size (including recorders and parrot neurons):\n",
      "Number of nodes: 205\n",
      "Number of connections: 6625\n",
      "2020-05-28 17:23:28,643 [nets.simulation] INFO: Finished creating network\n"
     ]
    }
   ],
   "source": [
    "sim.create_network(net_tree)"
   ]
  },
  {
   "cell_type": "code",
   "execution_count": 15,
   "metadata": {},
   "outputs": [
    {
     "data": {
      "text/plain": [
       "(52,)"
      ]
     },
     "execution_count": 15,
     "metadata": {},
     "output_type": "execute_result"
    }
   ],
   "source": [
    "# Network object was created and can be accessed as we learnt\n",
    "sim.network.layers['l1'].gid"
   ]
  },
  {
   "cell_type": "code",
   "execution_count": 16,
   "metadata": {},
   "outputs": [
    {
     "data": {
      "text/plain": [
       "ParamsTree(name='network', parent='None')\n",
       "  params: {}\n",
       "  nest_params: {}\n",
       "  neuron_models:\n",
       "    params: {}\n",
       "    nest_params: {}\n",
       "    my_neuron:\n",
       "      params:\n",
       "        nest_model: ht_neuron\n",
       "      nest_params:\n",
       "        g_KL: 1.0\n",
       "        g_NaL: 1.0\n",
       "      l1_exc:\n",
       "        params: {}\n",
       "        nest_params:\n",
       "          V_m: -44.0\n",
       "  \n",
       "  ... [107 lines] ...\n",
       "\n",
       "        - l1\n",
       "        populations:\n",
       "        - l1_exc\n",
       "        model: my_multimeter\n",
       "      connection_recorders:\n",
       "      - source_layers:\n",
       "        - l1\n",
       "        source_population: l1_exc\n",
       "        target_layers:\n",
       "        - l1\n",
       "        target_population: l1_inh\n",
       "        connection_model: conn_1_AMPA\n",
       "        model: weight_recorder\n",
       "    nest_params: {}\n",
       "  "
      ]
     },
     "execution_count": 16,
     "metadata": {},
     "output_type": "execute_result"
    }
   ],
   "source": [
    "# network tree was saved and can be re-used\n",
    "sim.tree.children['network']"
   ]
  },
  {
   "cell_type": "markdown",
   "metadata": {},
   "source": [
    "## Create some sessions\n",
    "\n",
    "### so we can run the network in specific conditions"
   ]
  },
  {
   "cell_type": "markdown",
   "metadata": {},
   "source": [
    "### Build session models from a tree"
   ]
  },
  {
   "cell_type": "code",
   "execution_count": 17,
   "metadata": {},
   "outputs": [
    {
     "name": "stdout",
     "output_type": "stream",
     "text": [
      "params:\n",
      "  record: true\n",
      "  simulation_time: 100.0\n",
      "nest_params: {}\n",
      "warmup:\n",
      "  params:\n",
      "    record: false\n",
      "  nest_params: {}\n",
      "high_input:\n",
      "  params:\n",
      "    unit_changes:\n",
      "    - layers:\n",
      "      - input_layer\n",
      "      population: poisson_generator\n",
      "      params:\n",
      "        rate: 100.0\n",
      "  nest_params: {}\n",
      "low_input:\n",
      "  params:\n",
      "    unit_changes:\n",
      "    - layers:\n",
      "      - input_layer\n",
      "      population: poisson_generator\n",
      "      params:\n",
      "        rate: 50.0\n",
      "  nest_params: {}\n",
      "\n"
     ]
    }
   ],
   "source": [
    "# Notice the hierarchical inheritance as before\n",
    "session_models_tree = ParamsTree.read(PARAMS_DIR/'session_models.yml').children['session_models']\n",
    "print(session_models_tree)"
   ]
  },
  {
   "cell_type": "code",
   "execution_count": 18,
   "metadata": {},
   "outputs": [
    {
     "name": "stderr",
     "output_type": "stream",
     "text": [
      "2020-05-28 17:23:35,793 [nets.simulation] INFO: Build N=3 session models\n"
     ]
    }
   ],
   "source": [
    "sim.build_session_models(session_models_tree)"
   ]
  },
  {
   "cell_type": "code",
   "execution_count": 19,
   "metadata": {},
   "outputs": [
    {
     "data": {
      "text/plain": [
       "{'warmup': ParamsTree(name='warmup', parent='session_models')\n",
       "   params:\n",
       "     record: false\n",
       "   nest_params: {}\n",
       "   ,\n",
       " 'high_input': ParamsTree(name='high_input', parent='session_models')\n",
       "   params:\n",
       "     unit_changes:\n",
       "     - layers:\n",
       "       - input_layer\n",
       "       population: poisson_generator\n",
       "       params:\n",
       "         rate: 100.0\n",
       "   nest_params: {}\n",
       "   ,\n",
       " 'low_input': ParamsTree(name='low_input', parent='session_models')\n",
       "   params:\n",
       "     unit_changes:\n",
       "     - layers:\n",
       "       - input_layer\n",
       "       population: poisson_generator\n",
       "       params:\n",
       "         rate: 50.0\n",
       "   nest_params: {}\n",
       "   }"
      ]
     },
     "execution_count": 19,
     "metadata": {},
     "output_type": "execute_result"
    }
   ],
   "source": [
    "sim.session_models"
   ]
  },
  {
   "cell_type": "markdown",
   "metadata": {},
   "source": [
    "### Build a list of sessions from the ``session_models`` templates"
   ]
  },
  {
   "cell_type": "code",
   "execution_count": 20,
   "metadata": {},
   "outputs": [],
   "source": [
    "sessions_order = ['warmup', 'high_input', 'low_input', 'high_input', 'low_input']"
   ]
  },
  {
   "cell_type": "code",
   "execution_count": 21,
   "metadata": {},
   "outputs": [
    {
     "name": "stderr",
     "output_type": "stream",
     "text": [
      "2020-05-28 17:23:38,184 [nets.simulation] INFO: Build N=5 sessions\n",
      "2020-05-28 17:23:38,188 [nets.session] INFO: Creating session \"00_warmup\"\n",
      "2020-05-28 17:23:38,189 [nets.utils.validation] INFO: Object `00_warmup`: params: using default value for optional parameters:\n",
      "{'inputs': {},\n",
      " 'reset_network': False,\n",
      " 'synapse_changes': [],\n",
      " 'unit_changes': []}\n",
      "2020-05-28 17:23:38,191 [nets.session] INFO: Creating session \"01_high_input\"\n",
      "2020-05-28 17:23:38,193 [nets.utils.validation] INFO: Object `01_high_input`: params: using default value for optional parameters:\n",
      "{'inputs': {}, 'reset_network': False, 'synapse_changes': []}\n",
      "2020-05-28 17:23:38,193 [nets.session] INFO: Creating session \"02_low_input\"\n",
      "2020-05-28 17:23:38,196 [nets.utils.validation] INFO: Object `02_low_input`: params: using default value for optional parameters:\n",
      "{'inputs': {}, 'reset_network': False, 'synapse_changes': []}\n",
      "2020-05-28 17:23:38,198 [nets.session] INFO: Creating session \"03_high_input\"\n",
      "2020-05-28 17:23:38,199 [nets.utils.validation] INFO: Object `03_high_input`: params: using default value for optional parameters:\n",
      "{'inputs': {}, 'reset_network': False, 'synapse_changes': []}\n",
      "2020-05-28 17:23:38,200 [nets.session] INFO: Creating session \"04_low_input\"\n",
      "2020-05-28 17:23:38,201 [nets.utils.validation] INFO: Object `04_low_input`: params: using default value for optional parameters:\n",
      "{'inputs': {}, 'reset_network': False, 'synapse_changes': []}\n",
      "2020-05-28 17:23:38,202 [nets.simulation] INFO: Sessions: ['00_warmup', '01_high_input', '02_low_input', '03_high_input', '04_low_input']\n"
     ]
    }
   ],
   "source": [
    "sim.build_sessions(sessions_order)"
   ]
  },
  {
   "cell_type": "code",
   "execution_count": 22,
   "metadata": {},
   "outputs": [
    {
     "data": {
      "text/plain": [
       "[Session(00_warmup, {'inputs': {},\n",
       "  'record': False,\n",
       "  'reset_network': False,\n",
       "  'simulation_time': 100.0,\n",
       "  'synapse_changes': [],\n",
       "  'unit_changes': []}),\n",
       " Session(01_high_input, {'inputs': {},\n",
       "  'record': True,\n",
       "  'reset_network': False,\n",
       "  'simulation_time': 100.0,\n",
       "  'synapse_changes': [],\n",
       "  'unit_changes': [{'layers': ['input_layer'],\n",
       "                    'params': {'rate': 100.0},\n",
       "                    'population': 'poisson_generator'}]}),\n",
       " Session(02_low_input, {'inputs': {},\n",
       "  'record': True,\n",
       "  'reset_network': False,\n",
       "  'simulation_time': 100.0,\n",
       "  'synapse_changes': [],\n",
       "  'unit_changes': [{'layers': ['input_layer'],\n",
       "                    'params': {'rate': 50.0},\n",
       "                    'population': 'poisson_generator'}]}),\n",
       " Session(03_high_input, {'inputs': {},\n",
       "  'record': True,\n",
       "  'reset_network': False,\n",
       "  'simulation_time': 100.0,\n",
       "  'synapse_changes': [],\n",
       "  'unit_changes': [{'layers': ['input_layer'],\n",
       "                    'params': {'rate': 100.0},\n",
       "                    'population': 'poisson_generator'}]}),\n",
       " Session(04_low_input, {'inputs': {},\n",
       "  'record': True,\n",
       "  'reset_network': False,\n",
       "  'simulation_time': 100.0,\n",
       "  'synapse_changes': [],\n",
       "  'unit_changes': [{'layers': ['input_layer'],\n",
       "                    'params': {'rate': 50.0},\n",
       "                    'population': 'poisson_generator'}]})]"
      ]
     },
     "execution_count": 22,
     "metadata": {},
     "output_type": "execute_result"
    }
   ],
   "source": [
    "# Notice the session names\n",
    "sim.sessions"
   ]
  },
  {
   "cell_type": "markdown",
   "metadata": {},
   "source": [
    "### Run all the sessions"
   ]
  },
  {
   "cell_type": "code",
   "execution_count": 23,
   "metadata": {},
   "outputs": [
    {
     "name": "stdout",
     "output_type": "stream",
     "text": [
      "kernel time:  0.0\n"
     ]
    }
   ],
   "source": [
    "print('kernel time: ', nest.GetKernelStatus('time'))"
   ]
  },
  {
   "cell_type": "code",
   "execution_count": 24,
   "metadata": {},
   "outputs": [
    {
     "name": "stderr",
     "output_type": "stream",
     "text": [
      "2020-05-28 17:23:43,384 [nets.simulation] INFO: Running 5 sessions...\n",
      "2020-05-28 17:23:43,384 [nets.simulation] INFO: Running session: '00_warmup'...\n",
      "2020-05-28 17:23:43,386 [nets.session] INFO: Initializing session...\n",
      "-> Changing synapses's state.: 0it [00:00, ?it/s]\n",
      "2020-05-28 17:23:43,393 [nets.network.recorders] INFO:   Setting status for recorder my_multimeter_l1_l1_exc: {'start': 100.0}\n",
      "2020-05-28 17:23:43,394 [nets.network.recorders] INFO:   Setting status for recorder weight_recorder_conn_1_AMPA-l1-l1_exc-l1-l1_inh: {'start': 100.0}\n",
      "2020-05-28 17:23:43,397 [nets.session] INFO: Finished initializing session\n",
      "\n",
      "2020-05-28 17:23:43,399 [nets.session] INFO: Running session '00_warmup' for 100 ms\n",
      "2020-05-28 17:23:43,554 [nets.session] INFO: Finished running session\n",
      "2020-05-28 17:23:43,557 [nets.session] INFO: Session '00_warmup' virtual running time: 100 ms\n",
      "2020-05-28 17:23:43,559 [nets.session] INFO: Session '00_warmup' real running time: 0h:00m:00s\n",
      "2020-05-28 17:23:43,560 [nets.simulation] INFO: Done running session '00_warmup'\n",
      "2020-05-28 17:23:43,572 [nets.simulation] INFO: Running session: '01_high_input'...\n",
      "2020-05-28 17:23:43,573 [nets.session] INFO: Initializing session...\n",
      "-> Changing synapses's state.: 0it [00:00, ?it/s]\n",
      "---> Apply change dict on layers:   0%|          | 0/1 [00:00<?, ?it/s]2020-05-28 17:23:43,608 [nets.network.layers] INFO:     Apply \"constant\" parameter changes on 25/25 units (layer=input_layer, population=poisson_generator)\n",
      "---> Apply change dict on layers: 100%|██████████| 1/1 [00:00<00:00, 147.12it/s]\n",
      "2020-05-28 17:23:43,615 [nets.session] INFO: Finished initializing session\n",
      "\n",
      "2020-05-28 17:23:43,616 [nets.session] INFO: Running session '01_high_input' for 100 ms\n",
      "2020-05-28 17:23:43,837 [nets.session] INFO: Finished running session\n",
      "2020-05-28 17:23:43,839 [nets.session] INFO: Session '01_high_input' virtual running time: 100 ms\n",
      "2020-05-28 17:23:43,840 [nets.session] INFO: Session '01_high_input' real running time: 0h:00m:00s\n",
      "2020-05-28 17:23:43,842 [nets.simulation] INFO: Done running session '01_high_input'\n",
      "2020-05-28 17:23:43,843 [nets.simulation] INFO: Running session: '02_low_input'...\n",
      "2020-05-28 17:23:43,844 [nets.session] INFO: Initializing session...\n",
      "-> Changing synapses's state.: 0it [00:00, ?it/s]\n",
      "---> Apply change dict on layers:   0%|          | 0/1 [00:00<?, ?it/s]2020-05-28 17:23:43,872 [nets.network.layers] INFO:     Apply \"constant\" parameter changes on 25/25 units (layer=input_layer, population=poisson_generator)\n",
      "---> Apply change dict on layers: 100%|██████████| 1/1 [00:00<00:00, 92.29it/s]\n",
      "2020-05-28 17:23:43,885 [nets.session] INFO: Finished initializing session\n",
      "\n",
      "2020-05-28 17:23:43,885 [nets.session] INFO: Running session '02_low_input' for 100 ms\n",
      "2020-05-28 17:23:44,199 [nets.session] INFO: Finished running session\n",
      "2020-05-28 17:23:44,201 [nets.session] INFO: Session '02_low_input' virtual running time: 100 ms\n",
      "2020-05-28 17:23:44,202 [nets.session] INFO: Session '02_low_input' real running time: 0h:00m:00s\n",
      "2020-05-28 17:23:44,206 [nets.simulation] INFO: Done running session '02_low_input'\n",
      "2020-05-28 17:23:44,207 [nets.simulation] INFO: Running session: '03_high_input'...\n",
      "2020-05-28 17:23:44,209 [nets.session] INFO: Initializing session...\n",
      "-> Changing synapses's state.: 0it [00:00, ?it/s]\n",
      "---> Apply change dict on layers:   0%|          | 0/1 [00:00<?, ?it/s]2020-05-28 17:23:44,235 [nets.network.layers] INFO:     Apply \"constant\" parameter changes on 25/25 units (layer=input_layer, population=poisson_generator)\n",
      "---> Apply change dict on layers: 100%|██████████| 1/1 [00:00<00:00, 66.49it/s]\n",
      "2020-05-28 17:23:44,240 [nets.session] INFO: Finished initializing session\n",
      "\n",
      "2020-05-28 17:23:44,242 [nets.session] INFO: Running session '03_high_input' for 100 ms\n",
      "2020-05-28 17:23:44,410 [nets.session] INFO: Finished running session\n",
      "2020-05-28 17:23:44,410 [nets.session] INFO: Session '03_high_input' virtual running time: 100 ms\n",
      "2020-05-28 17:23:44,411 [nets.session] INFO: Session '03_high_input' real running time: 0h:00m:00s\n",
      "2020-05-28 17:23:44,412 [nets.simulation] INFO: Done running session '03_high_input'\n",
      "2020-05-28 17:23:44,413 [nets.simulation] INFO: Running session: '04_low_input'...\n",
      "2020-05-28 17:23:44,416 [nets.session] INFO: Initializing session...\n",
      "-> Changing synapses's state.: 0it [00:00, ?it/s]\n",
      "---> Apply change dict on layers:   0%|          | 0/1 [00:00<?, ?it/s]2020-05-28 17:23:44,432 [nets.network.layers] INFO:     Apply \"constant\" parameter changes on 25/25 units (layer=input_layer, population=poisson_generator)\n",
      "---> Apply change dict on layers: 100%|██████████| 1/1 [00:00<00:00, 115.97it/s]\n",
      "2020-05-28 17:23:44,549 [nets.session] INFO: Finished initializing session\n",
      "\n",
      "2020-05-28 17:23:44,551 [nets.session] INFO: Running session '04_low_input' for 100 ms\n",
      "2020-05-28 17:23:44,811 [nets.session] INFO: Finished running session\n",
      "2020-05-28 17:23:44,812 [nets.session] INFO: Session '04_low_input' virtual running time: 100 ms\n",
      "2020-05-28 17:23:44,814 [nets.session] INFO: Session '04_low_input' real running time: 0h:00m:00s\n",
      "2020-05-28 17:23:44,817 [nets.simulation] INFO: Done running session '04_low_input'\n",
      "2020-05-28 17:23:44,822 [nets.simulation] INFO: Finished running simulation\n"
     ]
    }
   ],
   "source": [
    "sim.run()"
   ]
  },
  {
   "cell_type": "code",
   "execution_count": 25,
   "metadata": {},
   "outputs": [
    {
     "name": "stdout",
     "output_type": "stream",
     "text": [
      "kernel time:  500.0\n"
     ]
    }
   ],
   "source": [
    "print('kernel time: ', nest.GetKernelStatus('time'))"
   ]
  },
  {
   "cell_type": "markdown",
   "metadata": {},
   "source": [
    "### Save the simulation metadata"
   ]
  },
  {
   "cell_type": "code",
   "execution_count": 26,
   "metadata": {},
   "outputs": [
    {
     "name": "stderr",
     "output_type": "stream",
     "text": [
      "2020-05-28 17:24:00,870 [nets.simulation] INFO: Saving simulation metadata...\n",
      "2020-05-28 17:24:00,871 [nets.simulation] INFO: Creating output directory: output\n",
      "2020-05-28 17:24:00,873 [nets.io.save] INFO: Clearing directory: output\n",
      "2020-05-28 17:24:00,875 [nets.io.save] INFO: Clearing directory: output\n",
      "2020-05-28 17:24:00,879 [nets.io.save] INFO: Clearing directory: output/data\n",
      "2020-05-28 17:24:00,883 [nets.io.save] INFO: Clearing directory: output/data\n",
      "2020-05-28 17:24:00,885 [nets.io.save] INFO: Clearing directory: output/data\n",
      "2020-05-28 17:24:00,887 [nets.io.save] INFO: Clearing directory: output\n",
      "2020-05-28 17:24:01,048 [nets.simulation] INFO: Finished saving simulation metadata\n"
     ]
    }
   ],
   "source": [
    "sim.save_metadata()"
   ]
  },
  {
   "cell_type": "code",
   "execution_count": null,
   "metadata": {},
   "outputs": [],
   "source": [
    "!ls {OUTPUT_DIR}"
   ]
  },
  {
   "cell_type": "code",
   "execution_count": null,
   "metadata": {},
   "outputs": [],
   "source": [
    "!cat {OUTPUT_DIR/'session_times.yml'}"
   ]
  },
  {
   "cell_type": "code",
   "execution_count": null,
   "metadata": {},
   "outputs": [],
   "source": [
    "!ls {OUTPUT_DIR/'data'}"
   ]
  },
  {
   "cell_type": "markdown",
   "metadata": {},
   "source": [
    "## Load simulation outputs"
   ]
  },
  {
   "cell_type": "code",
   "execution_count": null,
   "metadata": {},
   "outputs": [],
   "source": [
    "import nets.io.load\n",
    "from pathlib import Path\n",
    "\n",
    "OUTPUT_DIR = Path(sim.output_dir)"
   ]
  },
  {
   "cell_type": "code",
   "execution_count": null,
   "metadata": {},
   "outputs": [],
   "source": [
    "# Load the start and end time for each session\n",
    "session_times = nets.io.load.load_session_times(OUTPUT_DIR) \n",
    "print(session_times)  # {<session_name>: (<session_start>, <session_end>)}"
   ]
  },
  {
   "cell_type": "code",
   "execution_count": null,
   "metadata": {},
   "outputs": [],
   "source": [
    "## Load data from a specific recorder.\n",
    "\n",
    "recorder_metadata_path = OUTPUT_DIR/'data/multimeter_l1_l1_exc.yml'\n",
    "\n",
    "# All relevant information about this recorder and the population it's\n",
    "# connected to are contained in its metadata file\n",
    "recorder_metadata = nets.io.load.load_yaml(recorder_metadata_path)\n",
    "print(f'Metadata keys: {recorder_metadata.keys()}')"
   ]
  },
  {
   "cell_type": "code",
   "execution_count": null,
   "metadata": {},
   "outputs": [],
   "source": [
    "# We can load the raw data as pandas dataframe\n",
    "df = nets.io.load.load(recorder_metadata_path)\n",
    "print(df[0:5])"
   ]
  },
  {
   "cell_type": "code",
   "execution_count": null,
   "metadata": {},
   "outputs": [],
   "source": [
    "all_recorder_metadata_paths = nets.io.load.metadata_paths(OUTPUT_DIR)\n",
    "print(all_recorder_metadata_paths)"
   ]
  },
  {
   "cell_type": "code",
   "execution_count": null,
   "metadata": {},
   "outputs": [],
   "source": [
    "for metadata_path in all_recorder_metadata_paths:\n",
    "  print(f'Recorder: {metadata_path.name}')\n",
    "  print(f'{nets.io.load.load(metadata_path)[0:5]}\\n')"
   ]
  },
  {
   "cell_type": "markdown",
   "metadata": {},
   "source": [
    "## Replicate the simulation"
   ]
  },
  {
   "cell_type": "code",
   "execution_count": null,
   "metadata": {},
   "outputs": [],
   "source": [
    "params = ParamsTree.read(OUTPUT_DIR/'parameter_tree.yml')"
   ]
  },
  {
   "cell_type": "code",
   "execution_count": null,
   "metadata": {},
   "outputs": [],
   "source": [
    "# sim = nets.Simulation(params)\n",
    "# sim.run()"
   ]
  }
 ],
 "metadata": {
  "kernelspec": {
   "display_name": "nets",
   "language": "python",
   "name": "nets"
  },
  "language_info": {
   "codemirror_mode": {
    "name": "ipython",
    "version": 3
   },
   "file_extension": ".py",
   "mimetype": "text/x-python",
   "name": "python",
   "nbconvert_exporter": "python",
   "pygments_lexer": "ipython3",
   "version": "3.7.5"
  }
 },
 "nbformat": 4,
 "nbformat_minor": 4
}
