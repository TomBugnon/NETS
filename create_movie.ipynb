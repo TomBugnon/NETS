{
 "cells": [
  {
   "cell_type": "code",
   "execution_count": 4,
   "metadata": {
    "collapsed": true
   },
   "outputs": [],
   "source": [
    "import numpy as np\n",
    "import spiking_visnet as sv\n",
    "import spiking_visnet.utils.generate_inputs as gen\n",
    "import spiking_visnet.plot as plot\n",
    "\n",
    "import numpy as np\n",
    "from bokeh import palettes\n",
    "from bokeh.io import output_notebook, push_notebook, show \n",
    "from bokeh.plotting import figure \n",
    "\n",
    "from os.path import join\n",
    "from user_config import INPUT_DIR"
   ]
  },
  {
   "cell_type": "code",
   "execution_count": null,
   "metadata": {
    "collapsed": true
   },
   "outputs": [],
   "source": [
    "# Show the different stimuli\n",
    "tee = gen.vertical_tee(vsize = 9, hsize=9, width=3)\n",
    "cross = gen.vertical_cross(vsize=9, hsize=9, width=3)\n",
    "plot.show_im(tee)\n",
    "plot.show_im(cross)"
   ]
  },
  {
   "cell_type": "code",
   "execution_count": 6,
   "metadata": {
    "collapsed": true,
    "scrolled": false
   },
   "outputs": [],
   "source": [
    "### Create and save a movie\n",
    "\n",
    "# USER: Size of the stims (resolution should be greater than the network's input layer size)\n",
    "res = (120,120) # Resolution of each frame\n",
    "t = 500 # Number of frames\n",
    "    # NB: for res=120*120 and t=500, the uncompressed file weights 55mB\n",
    "\n",
    "\n",
    "### USER: specify your input directory in user_config.py\n",
    "raw_input_dir = join(INPUT_DIR, 'raw_input')\n",
    "\n",
    "\n",
    "# Create a 'tee' movie\n",
    "stim_type = 'vertical_tee'\n",
    "mv_tee = gen.create_movie(raw_input_dir, res, t, stim_type, save=True) # Create and save the movie\n",
    "# Create a 'cross' movie\n",
    "stim_type = 'vertical_cross'\n",
    "mv_cross = gen.create_movie(raw_input_dir, res, t, stim_type, save=True) # Create and save the movie"
   ]
  },
  {
   "cell_type": "code",
   "execution_count": null,
   "metadata": {
    "collapsed": true
   },
   "outputs": [],
   "source": [
    "### Plot the created movie\n",
    "\n",
    "f = plot.init()\n",
    "# pyplot for one frame\n",
    "plot.show_im(mv_tee[:,:,1]) \n",
    "# fancy video (NB: Shows weirdly with high resolution -because of bokeh-)\n",
    "plot.animate(f, mv_tee, fps=5, t=0, T=0) "
   ]
  }
 ],
 "metadata": {
  "kernelspec": {
   "display_name": "Python 3",
   "language": "python",
   "name": "python3"
  },
  "language_info": {
   "codemirror_mode": {
    "name": "ipython",
    "version": 3
   },
   "file_extension": ".py",
   "mimetype": "text/x-python",
   "name": "python",
   "nbconvert_exporter": "python",
   "pygments_lexer": "ipython3",
   "version": "3.6.1"
  }
 },
 "nbformat": 4,
 "nbformat_minor": 2
}
